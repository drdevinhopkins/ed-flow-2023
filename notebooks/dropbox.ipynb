{
 "cells": [
  {
   "cell_type": "code",
   "execution_count": null,
   "metadata": {},
   "outputs": [],
   "source": [
    "import os\n",
    "import dropbox\n",
    "# import datetime\n",
    "# import time\n",
    "# import utils\n",
    "from dotenv import load_dotenv\n",
    "\n",
    "load_dotenv()"
   ]
  },
  {
   "cell_type": "code",
   "execution_count": null,
   "metadata": {},
   "outputs": [],
   "source": [
    "# dropbox_access_token = os.environ.get(\"DROPBOX_ACCESS_TOKEN\")"
   ]
  },
  {
   "cell_type": "code",
   "execution_count": null,
   "metadata": {},
   "outputs": [],
   "source": [
    "# def upload(dbx, fullname, folder, subfolder, name, overwrite=False):\n",
    "#     \"\"\"Upload a file.\n",
    "#     Return the request response, or None in case of error.\n",
    "#     \"\"\"\n",
    "#     path = '/%s/%s/%s' % (folder, subfolder.replace(os.path.sep, '/'), name)\n",
    "#     while '//' in path:\n",
    "#         path = path.replace('//', '/')\n",
    "#     mode = (dropbox.files.WriteMode.overwrite\n",
    "#             if overwrite\n",
    "#             else dropbox.files.WriteMode.add)\n",
    "#     mtime = os.path.getmtime(fullname)\n",
    "#     with open(fullname, 'rb') as f:\n",
    "#         data = f.read()\n",
    "#     # with stopwatch('upload %d bytes' % len(data)):\n",
    "#     try:\n",
    "#         res = dbx.files_upload(\n",
    "#             data, path, mode,\n",
    "#             client_modified=datetime.datetime(*time.gmtime(mtime)[:6]),\n",
    "#             mute=True)\n",
    "#     except dropbox.exceptions.ApiError as err:\n",
    "#         print('*** API error', err)\n",
    "#         return None\n",
    "#     print('uploaded as', res.name.encode('utf8'))\n",
    "#     return res\n"
   ]
  },
  {
   "cell_type": "code",
   "execution_count": null,
   "metadata": {},
   "outputs": [],
   "source": [
    "from utils import upload\n",
    "\n",
    "upload(dbx, 'hourlyreporttest.pdf', '', '',\n",
    "           'hourlyreporttest.pdf', overwrite=True)\n",
    "\n",
    "# upload(dbx, 'current.csv', '', '',\n",
    "#            'current.csv', overwrite=True)"
   ]
  },
  {
   "cell_type": "code",
   "execution_count": null,
   "metadata": {},
   "outputs": [],
   "source": []
  },
  {
   "cell_type": "code",
   "execution_count": null,
   "metadata": {},
   "outputs": [],
   "source": [
    "from utils import upload\n",
    "import dropbox\n",
    "\n",
    "dropbox_access_token = os.environ.get(\"DROPBOX_ACCESS_TOKEN\")\n",
    "dbx = dropbox.Dropbox(dropbox_access_token)\n",
    "\n",
    "upload(dbx, 'hourlyreport.pdf', '', '',\n",
    "           'hourlyreport.pdf', overwrite=True)\n"
   ]
  },
  {
   "cell_type": "code",
   "execution_count": null,
   "metadata": {},
   "outputs": [],
   "source": [
    "import requests\n",
    "\n",
    "dropbox_app_key = os.environ.get(\"DROPBOX_APP_KEY\")\n",
    "dropbox_app_secret = os.environ.get(\"DROPBOX_APP_SECRET\")\n",
    "\n",
    "# build the authorization URL:\n",
    "authorization_url = \"https://www.dropbox.com/oauth2/authorize?client_id=%s&token_access_type=offline&response_type=code\" % app_key\n",
    "\n",
    "# send the user to the authorization URL:\n",
    "print('Go to the following URL and allow access:')\n",
    "print(authorization_url)\n",
    "\n",
    "# get the authorization code from the user:\n",
    "# authorization_code = input('Enter the code:\\n')\n",
    "\n"
   ]
  },
  {
   "cell_type": "code",
   "execution_count": null,
   "metadata": {},
   "outputs": [],
   "source": [
    "authorization_code = \"\"\n",
    "dropbox_app_key = os.environ.get(\"DROPBOX_APP_KEY\")\n",
    "dropbox_app_secret = os.environ.get(\"DROPBOX_APP_SECRET\")\n",
    "\n",
    "# exchange the authorization code for an access token:\n",
    "token_url = \"https://api.dropboxapi.com/oauth2/token\"\n",
    "params = {\n",
    "    \"code\": authorization_code,\n",
    "    \"grant_type\": \"authorization_code\",\n",
    "    \"client_id\": dropbox_app_key,\n",
    "    \"client_secret\": dropbox_app_secret\n",
    "}\n",
    "r = requests.post(token_url, data=params)\n",
    "print(r.text)"
   ]
  },
  {
   "cell_type": "code",
   "execution_count": null,
   "metadata": {},
   "outputs": [],
   "source": [
    "import os\n",
    "import requests\n",
    "import dropbox\n",
    "from dotenv import load_dotenv\n",
    "\n",
    "load_dotenv()\n",
    "\n",
    "dropbox_app_key = os.environ.get(\"DROPBOX_APP_KEY\")\n",
    "dropbox_app_secret = os.environ.get(\"DROPBOX_APP_SECRET\")\n",
    "dropbox_refresh_token = os.environ.get(\"DROPBOX_REFRESH_TOKEN\")\n",
    "\n",
    "# exchange the authorization code for an access token:\n",
    "token_url = \"https://api.dropboxapi.com/oauth2/token\"\n",
    "params = {\n",
    "    \"grant_type\": \"refresh_token\",\n",
    "    \"refresh_token\": dropbox_refresh_token,\n",
    "    \"client_id\": dropbox_app_key,\n",
    "    \"client_secret\": dropbox_app_secret\n",
    "}\n",
    "r = requests.post(token_url, data=params)\n",
    "# print(r.text)\n",
    "\n",
    "dropbox_access_token = r.json()['access_token']\n",
    "\n",
    "dbx = dropbox.Dropbox(dropbox_access_token)\n",
    "# dbx.users_get_current_account()"
   ]
  },
  {
   "cell_type": "code",
   "execution_count": null,
   "metadata": {},
   "outputs": [],
   "source": []
  }
 ],
 "metadata": {
  "kernelspec": {
   "display_name": "ed-flow-2023",
   "language": "python",
   "name": "python3"
  },
  "language_info": {
   "codemirror_mode": {
    "name": "ipython",
    "version": 3
   },
   "file_extension": ".py",
   "mimetype": "text/x-python",
   "name": "python",
   "nbconvert_exporter": "python",
   "pygments_lexer": "ipython3",
   "version": "3.10.13"
  }
 },
 "nbformat": 4,
 "nbformat_minor": 2
}
