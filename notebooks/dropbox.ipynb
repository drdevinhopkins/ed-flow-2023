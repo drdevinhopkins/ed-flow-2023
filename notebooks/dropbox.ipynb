{
 "cells": [
  {
   "cell_type": "code",
   "execution_count": null,
   "metadata": {},
   "outputs": [],
   "source": []
  },
  {
   "cell_type": "code",
   "execution_count": 2,
   "metadata": {},
   "outputs": [
    {
     "data": {
      "text/plain": [
       "True"
      ]
     },
     "execution_count": 2,
     "metadata": {},
     "output_type": "execute_result"
    }
   ],
   "source": [
    "import os\n",
    "import dropbox\n",
    "# import datetime\n",
    "# import time\n",
    "# import utils\n",
    "from dotenv import load_dotenv\n",
    "\n",
    "load_dotenv()"
   ]
  },
  {
   "cell_type": "code",
   "execution_count": 3,
   "metadata": {},
   "outputs": [],
   "source": [
    "dropbox_access_token = os.environ.get(\"DROPBOX_ACCESS_TOKEN\")"
   ]
  },
  {
   "cell_type": "code",
   "execution_count": 4,
   "metadata": {},
   "outputs": [],
   "source": [
    "# def upload(dbx, fullname, folder, subfolder, name, overwrite=False):\n",
    "#     \"\"\"Upload a file.\n",
    "#     Return the request response, or None in case of error.\n",
    "#     \"\"\"\n",
    "#     path = '/%s/%s/%s' % (folder, subfolder.replace(os.path.sep, '/'), name)\n",
    "#     while '//' in path:\n",
    "#         path = path.replace('//', '/')\n",
    "#     mode = (dropbox.files.WriteMode.overwrite\n",
    "#             if overwrite\n",
    "#             else dropbox.files.WriteMode.add)\n",
    "#     mtime = os.path.getmtime(fullname)\n",
    "#     with open(fullname, 'rb') as f:\n",
    "#         data = f.read()\n",
    "#     # with stopwatch('upload %d bytes' % len(data)):\n",
    "#     try:\n",
    "#         res = dbx.files_upload(\n",
    "#             data, path, mode,\n",
    "#             client_modified=datetime.datetime(*time.gmtime(mtime)[:6]),\n",
    "#             mute=True)\n",
    "#     except dropbox.exceptions.ApiError as err:\n",
    "#         print('*** API error', err)\n",
    "#         return None\n",
    "#     print('uploaded as', res.name.encode('utf8'))\n",
    "#     return res\n"
   ]
  },
  {
   "cell_type": "code",
   "execution_count": 5,
   "metadata": {},
   "outputs": [],
   "source": [
    "dbx = dropbox.Dropbox(dropbox_access_token)\n",
    "# dbx.users_get_current_account()\n",
    "# print('connected to dropbox')"
   ]
  },
  {
   "cell_type": "code",
   "execution_count": 9,
   "metadata": {},
   "outputs": [
    {
     "name": "stdout",
     "output_type": "stream",
     "text": [
      "uploaded as b'hourlyreport.pdf'\n",
      "uploaded as b'current.csv'\n"
     ]
    },
    {
     "data": {
      "text/plain": [
       "FileMetadata(client_modified=datetime.datetime(2023, 11, 23, 1, 42, 42), content_hash='909f9a12b3383a766b7f9fdb1b02844b552f06e604328ebd7babe8246479fb45', export_info=NOT_SET, file_lock_info=NOT_SET, has_explicit_shared_members=NOT_SET, id='id:oNSmVCFixyQAAAAAAAAABw', is_downloadable=True, media_info=NOT_SET, name='current.csv', parent_shared_folder_id=NOT_SET, path_display='/current.csv', path_lower='/current.csv', preview_url=NOT_SET, property_groups=NOT_SET, rev='60b544c0abcb27a19c0a3', server_modified=datetime.datetime(2023, 11, 30, 1, 9, 1), sharing_info=NOT_SET, size=4540, symlink_info=NOT_SET)"
      ]
     },
     "execution_count": 9,
     "metadata": {},
     "output_type": "execute_result"
    }
   ],
   "source": [
    "from utils import upload\n",
    "\n",
    "upload(dbx, 'hourlyreport.pdf', '', '',\n",
    "           'hourlyreport.pdf', overwrite=True)\n",
    "\n",
    "upload(dbx, 'current.csv', '', '',\n",
    "           'current.csv', overwrite=True)"
   ]
  },
  {
   "cell_type": "code",
   "execution_count": null,
   "metadata": {},
   "outputs": [],
   "source": [
    "from utils import upload\n",
    "import dropbox\n",
    "\n",
    "dropbox_access_token = os.environ.get(\"DROPBOX_ACCESS_TOKEN\")\n",
    "dbx = dropbox.Dropbox(dropbox_access_token)\n",
    "\n",
    "upload(dbx, 'hourlyreport.pdf', '', '',\n",
    "           'hourlyreport.pdf', overwrite=True)\n"
   ]
  }
 ],
 "metadata": {
  "kernelspec": {
   "display_name": "ed-flow-2023",
   "language": "python",
   "name": "python3"
  },
  "language_info": {
   "codemirror_mode": {
    "name": "ipython",
    "version": 3
   },
   "file_extension": ".py",
   "mimetype": "text/x-python",
   "name": "python",
   "nbconvert_exporter": "python",
   "pygments_lexer": "ipython3",
   "version": "3.10.13"
  }
 },
 "nbformat": 4,
 "nbformat_minor": 2
}
