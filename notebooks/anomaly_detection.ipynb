{
 "cells": [
  {
   "cell_type": "code",
   "execution_count": 1,
   "metadata": {},
   "outputs": [
    {
     "data": {
      "text/html": [
       "<div>\n",
       "<style scoped>\n",
       "    .dataframe tbody tr th:only-of-type {\n",
       "        vertical-align: middle;\n",
       "    }\n",
       "\n",
       "    .dataframe tbody tr th {\n",
       "        vertical-align: top;\n",
       "    }\n",
       "\n",
       "    .dataframe thead th {\n",
       "        text-align: right;\n",
       "    }\n",
       "</style>\n",
       "<table border=\"1\" class=\"dataframe\">\n",
       "  <thead>\n",
       "    <tr style=\"text-align: right;\">\n",
       "      <th></th>\n",
       "      <th>ds</th>\n",
       "      <th>INFLOW_STRETCHER</th>\n",
       "      <th>Infl_Stretcher_cum</th>\n",
       "      <th>INFLOW_AMBULATORY</th>\n",
       "      <th>Infl_Ambulatory_cum</th>\n",
       "      <th>Inflow_Total</th>\n",
       "      <th>Inflow_Cum_Total</th>\n",
       "      <th>INFLOW_AMBULANCES</th>\n",
       "      <th>Infl_Ambulances_cum</th>\n",
       "      <th>FLS</th>\n",
       "      <th>...</th>\n",
       "      <th>AMBVERT1</th>\n",
       "      <th>AMBVERTTBS</th>\n",
       "      <th>QTrack_TBS</th>\n",
       "      <th>Garage_TBS</th>\n",
       "      <th>RAZ_CONS_MORE2H</th>\n",
       "      <th>RAZ_IMCONS_MORE4H</th>\n",
       "      <th>RAZ_XRAY_MORE2H</th>\n",
       "      <th>RAZ_CT_MORE2H1</th>\n",
       "      <th>PSYCH1</th>\n",
       "      <th>PSYCH_WAITINGADM</th>\n",
       "    </tr>\n",
       "  </thead>\n",
       "  <tbody>\n",
       "    <tr>\n",
       "      <th>0</th>\n",
       "      <td>2021-01-01 01:00:00</td>\n",
       "      <td>1</td>\n",
       "      <td>1</td>\n",
       "      <td>1</td>\n",
       "      <td>1</td>\n",
       "      <td>2</td>\n",
       "      <td>2</td>\n",
       "      <td>0</td>\n",
       "      <td>0</td>\n",
       "      <td>0</td>\n",
       "      <td>...</td>\n",
       "      <td>0</td>\n",
       "      <td>0</td>\n",
       "      <td>0.0</td>\n",
       "      <td>0.0</td>\n",
       "      <td>1</td>\n",
       "      <td>0</td>\n",
       "      <td>0</td>\n",
       "      <td>0</td>\n",
       "      <td>3</td>\n",
       "      <td>3</td>\n",
       "    </tr>\n",
       "    <tr>\n",
       "      <th>1</th>\n",
       "      <td>2021-01-01 02:00:00</td>\n",
       "      <td>2</td>\n",
       "      <td>3</td>\n",
       "      <td>1</td>\n",
       "      <td>2</td>\n",
       "      <td>3</td>\n",
       "      <td>5</td>\n",
       "      <td>1</td>\n",
       "      <td>1</td>\n",
       "      <td>0</td>\n",
       "      <td>...</td>\n",
       "      <td>2</td>\n",
       "      <td>2</td>\n",
       "      <td>0.0</td>\n",
       "      <td>0.0</td>\n",
       "      <td>1</td>\n",
       "      <td>1</td>\n",
       "      <td>0</td>\n",
       "      <td>0</td>\n",
       "      <td>3</td>\n",
       "      <td>3</td>\n",
       "    </tr>\n",
       "    <tr>\n",
       "      <th>2</th>\n",
       "      <td>2021-01-01 03:00:00</td>\n",
       "      <td>0</td>\n",
       "      <td>3</td>\n",
       "      <td>1</td>\n",
       "      <td>3</td>\n",
       "      <td>1</td>\n",
       "      <td>6</td>\n",
       "      <td>0</td>\n",
       "      <td>1</td>\n",
       "      <td>0</td>\n",
       "      <td>...</td>\n",
       "      <td>2</td>\n",
       "      <td>1</td>\n",
       "      <td>0.0</td>\n",
       "      <td>0.0</td>\n",
       "      <td>0</td>\n",
       "      <td>0</td>\n",
       "      <td>0</td>\n",
       "      <td>0</td>\n",
       "      <td>3</td>\n",
       "      <td>3</td>\n",
       "    </tr>\n",
       "    <tr>\n",
       "      <th>3</th>\n",
       "      <td>2021-01-01 04:00:00</td>\n",
       "      <td>1</td>\n",
       "      <td>4</td>\n",
       "      <td>0</td>\n",
       "      <td>3</td>\n",
       "      <td>1</td>\n",
       "      <td>7</td>\n",
       "      <td>1</td>\n",
       "      <td>2</td>\n",
       "      <td>0</td>\n",
       "      <td>...</td>\n",
       "      <td>2</td>\n",
       "      <td>0</td>\n",
       "      <td>0.0</td>\n",
       "      <td>0.0</td>\n",
       "      <td>0</td>\n",
       "      <td>0</td>\n",
       "      <td>0</td>\n",
       "      <td>0</td>\n",
       "      <td>4</td>\n",
       "      <td>3</td>\n",
       "    </tr>\n",
       "    <tr>\n",
       "      <th>4</th>\n",
       "      <td>2021-01-01 05:00:00</td>\n",
       "      <td>1</td>\n",
       "      <td>5</td>\n",
       "      <td>1</td>\n",
       "      <td>4</td>\n",
       "      <td>2</td>\n",
       "      <td>9</td>\n",
       "      <td>1</td>\n",
       "      <td>3</td>\n",
       "      <td>0</td>\n",
       "      <td>...</td>\n",
       "      <td>1</td>\n",
       "      <td>1</td>\n",
       "      <td>0.0</td>\n",
       "      <td>0.0</td>\n",
       "      <td>0</td>\n",
       "      <td>0</td>\n",
       "      <td>0</td>\n",
       "      <td>0</td>\n",
       "      <td>4</td>\n",
       "      <td>3</td>\n",
       "    </tr>\n",
       "    <tr>\n",
       "      <th>...</th>\n",
       "      <td>...</td>\n",
       "      <td>...</td>\n",
       "      <td>...</td>\n",
       "      <td>...</td>\n",
       "      <td>...</td>\n",
       "      <td>...</td>\n",
       "      <td>...</td>\n",
       "      <td>...</td>\n",
       "      <td>...</td>\n",
       "      <td>...</td>\n",
       "      <td>...</td>\n",
       "      <td>...</td>\n",
       "      <td>...</td>\n",
       "      <td>...</td>\n",
       "      <td>...</td>\n",
       "      <td>...</td>\n",
       "      <td>...</td>\n",
       "      <td>...</td>\n",
       "      <td>...</td>\n",
       "      <td>...</td>\n",
       "      <td>...</td>\n",
       "    </tr>\n",
       "    <tr>\n",
       "      <th>26348</th>\n",
       "      <td>2023-11-29 12:00:00</td>\n",
       "      <td>8</td>\n",
       "      <td>51</td>\n",
       "      <td>8</td>\n",
       "      <td>47</td>\n",
       "      <td>16</td>\n",
       "      <td>98</td>\n",
       "      <td>2</td>\n",
       "      <td>16</td>\n",
       "      <td>0</td>\n",
       "      <td>...</td>\n",
       "      <td>13</td>\n",
       "      <td>6</td>\n",
       "      <td>2.0</td>\n",
       "      <td>0.0</td>\n",
       "      <td>7</td>\n",
       "      <td>1</td>\n",
       "      <td>0</td>\n",
       "      <td>3</td>\n",
       "      <td>20</td>\n",
       "      <td>19</td>\n",
       "    </tr>\n",
       "    <tr>\n",
       "      <th>26349</th>\n",
       "      <td>2023-11-29 12:00:00</td>\n",
       "      <td>10</td>\n",
       "      <td>55</td>\n",
       "      <td>6</td>\n",
       "      <td>43</td>\n",
       "      <td>16</td>\n",
       "      <td>98</td>\n",
       "      <td>3</td>\n",
       "      <td>17</td>\n",
       "      <td>0</td>\n",
       "      <td>...</td>\n",
       "      <td>13</td>\n",
       "      <td>6</td>\n",
       "      <td>2.0</td>\n",
       "      <td>0.0</td>\n",
       "      <td>7</td>\n",
       "      <td>1</td>\n",
       "      <td>0</td>\n",
       "      <td>3</td>\n",
       "      <td>20</td>\n",
       "      <td>19</td>\n",
       "    </tr>\n",
       "    <tr>\n",
       "      <th>26350</th>\n",
       "      <td>2023-11-29 13:00:00</td>\n",
       "      <td>11</td>\n",
       "      <td>69</td>\n",
       "      <td>4</td>\n",
       "      <td>44</td>\n",
       "      <td>15</td>\n",
       "      <td>113</td>\n",
       "      <td>1</td>\n",
       "      <td>18</td>\n",
       "      <td>0</td>\n",
       "      <td>...</td>\n",
       "      <td>10</td>\n",
       "      <td>6</td>\n",
       "      <td>1.0</td>\n",
       "      <td>0.0</td>\n",
       "      <td>13</td>\n",
       "      <td>0</td>\n",
       "      <td>2</td>\n",
       "      <td>3</td>\n",
       "      <td>20</td>\n",
       "      <td>19</td>\n",
       "    </tr>\n",
       "    <tr>\n",
       "      <th>26351</th>\n",
       "      <td>2023-11-29 13:00:00</td>\n",
       "      <td>10</td>\n",
       "      <td>65</td>\n",
       "      <td>5</td>\n",
       "      <td>48</td>\n",
       "      <td>15</td>\n",
       "      <td>113</td>\n",
       "      <td>1</td>\n",
       "      <td>18</td>\n",
       "      <td>0</td>\n",
       "      <td>...</td>\n",
       "      <td>10</td>\n",
       "      <td>6</td>\n",
       "      <td>1.0</td>\n",
       "      <td>0.0</td>\n",
       "      <td>13</td>\n",
       "      <td>0</td>\n",
       "      <td>2</td>\n",
       "      <td>3</td>\n",
       "      <td>20</td>\n",
       "      <td>19</td>\n",
       "    </tr>\n",
       "    <tr>\n",
       "      <th>26352</th>\n",
       "      <td>2023-11-29 14:00:00</td>\n",
       "      <td>15</td>\n",
       "      <td>84</td>\n",
       "      <td>9</td>\n",
       "      <td>53</td>\n",
       "      <td>24</td>\n",
       "      <td>137</td>\n",
       "      <td>6</td>\n",
       "      <td>24</td>\n",
       "      <td>0</td>\n",
       "      <td>...</td>\n",
       "      <td>10</td>\n",
       "      <td>7</td>\n",
       "      <td>3.0</td>\n",
       "      <td>0.0</td>\n",
       "      <td>10</td>\n",
       "      <td>0</td>\n",
       "      <td>1</td>\n",
       "      <td>5</td>\n",
       "      <td>21</td>\n",
       "      <td>18</td>\n",
       "    </tr>\n",
       "  </tbody>\n",
       "</table>\n",
       "<p>26353 rows × 46 columns</p>\n",
       "</div>"
      ],
      "text/plain": [
       "                       ds  INFLOW_STRETCHER  Infl_Stretcher_cum  \\\n",
       "0     2021-01-01 01:00:00                 1                   1   \n",
       "1     2021-01-01 02:00:00                 2                   3   \n",
       "2     2021-01-01 03:00:00                 0                   3   \n",
       "3     2021-01-01 04:00:00                 1                   4   \n",
       "4     2021-01-01 05:00:00                 1                   5   \n",
       "...                   ...               ...                 ...   \n",
       "26348 2023-11-29 12:00:00                 8                  51   \n",
       "26349 2023-11-29 12:00:00                10                  55   \n",
       "26350 2023-11-29 13:00:00                11                  69   \n",
       "26351 2023-11-29 13:00:00                10                  65   \n",
       "26352 2023-11-29 14:00:00                15                  84   \n",
       "\n",
       "       INFLOW_AMBULATORY  Infl_Ambulatory_cum  Inflow_Total  Inflow_Cum_Total  \\\n",
       "0                      1                    1             2                 2   \n",
       "1                      1                    2             3                 5   \n",
       "2                      1                    3             1                 6   \n",
       "3                      0                    3             1                 7   \n",
       "4                      1                    4             2                 9   \n",
       "...                  ...                  ...           ...               ...   \n",
       "26348                  8                   47            16                98   \n",
       "26349                  6                   43            16                98   \n",
       "26350                  4                   44            15               113   \n",
       "26351                  5                   48            15               113   \n",
       "26352                  9                   53            24               137   \n",
       "\n",
       "       INFLOW_AMBULANCES  Infl_Ambulances_cum  FLS  ...  AMBVERT1  AMBVERTTBS  \\\n",
       "0                      0                    0    0  ...         0           0   \n",
       "1                      1                    1    0  ...         2           2   \n",
       "2                      0                    1    0  ...         2           1   \n",
       "3                      1                    2    0  ...         2           0   \n",
       "4                      1                    3    0  ...         1           1   \n",
       "...                  ...                  ...  ...  ...       ...         ...   \n",
       "26348                  2                   16    0  ...        13           6   \n",
       "26349                  3                   17    0  ...        13           6   \n",
       "26350                  1                   18    0  ...        10           6   \n",
       "26351                  1                   18    0  ...        10           6   \n",
       "26352                  6                   24    0  ...        10           7   \n",
       "\n",
       "       QTrack_TBS  Garage_TBS  RAZ_CONS_MORE2H  RAZ_IMCONS_MORE4H  \\\n",
       "0             0.0         0.0                1                  0   \n",
       "1             0.0         0.0                1                  1   \n",
       "2             0.0         0.0                0                  0   \n",
       "3             0.0         0.0                0                  0   \n",
       "4             0.0         0.0                0                  0   \n",
       "...           ...         ...              ...                ...   \n",
       "26348         2.0         0.0                7                  1   \n",
       "26349         2.0         0.0                7                  1   \n",
       "26350         1.0         0.0               13                  0   \n",
       "26351         1.0         0.0               13                  0   \n",
       "26352         3.0         0.0               10                  0   \n",
       "\n",
       "       RAZ_XRAY_MORE2H  RAZ_CT_MORE2H1  PSYCH1  PSYCH_WAITINGADM  \n",
       "0                    0               0       3                 3  \n",
       "1                    0               0       3                 3  \n",
       "2                    0               0       3                 3  \n",
       "3                    0               0       4                 3  \n",
       "4                    0               0       4                 3  \n",
       "...                ...             ...     ...               ...  \n",
       "26348                0               3      20                19  \n",
       "26349                0               3      20                19  \n",
       "26350                2               3      20                19  \n",
       "26351                2               3      20                19  \n",
       "26352                1               5      21                18  \n",
       "\n",
       "[26353 rows x 46 columns]"
      ]
     },
     "execution_count": 1,
     "metadata": {},
     "output_type": "execute_result"
    }
   ],
   "source": [
    "import pandas as pd\n",
    "allData = pd.read_csv('https://drive.deta.sh/v1/b0x22rtxtdf/data/files/download?name=allData.csv', storage_options={'X-API-Key':'b0x22rtxtdf_f8bXt7oLpBgNQ8Att6FeFfYNyFXgHxWc'})\n",
    "allData.ds = pd.to_datetime(allData.ds)\n",
    "allData"
   ]
  },
  {
   "cell_type": "code",
   "execution_count": 2,
   "metadata": {},
   "outputs": [
    {
     "data": {
      "text/html": [
       "<div>\n",
       "<style scoped>\n",
       "    .dataframe tbody tr th:only-of-type {\n",
       "        vertical-align: middle;\n",
       "    }\n",
       "\n",
       "    .dataframe tbody tr th {\n",
       "        vertical-align: top;\n",
       "    }\n",
       "\n",
       "    .dataframe thead th {\n",
       "        text-align: right;\n",
       "    }\n",
       "</style>\n",
       "<table border=\"1\" class=\"dataframe\">\n",
       "  <thead>\n",
       "    <tr style=\"text-align: right;\">\n",
       "      <th></th>\n",
       "      <th>ds</th>\n",
       "      <th>INFLOW_STRETCHER</th>\n",
       "      <th>Infl_Stretcher_cum</th>\n",
       "      <th>INFLOW_AMBULATORY</th>\n",
       "      <th>Infl_Ambulatory_cum</th>\n",
       "      <th>Inflow_Total</th>\n",
       "      <th>Inflow_Cum_Total</th>\n",
       "      <th>INFLOW_AMBULANCES</th>\n",
       "      <th>Infl_Ambulances_cum</th>\n",
       "      <th>FLS</th>\n",
       "      <th>...</th>\n",
       "      <th>AMBVERT1</th>\n",
       "      <th>AMBVERTTBS</th>\n",
       "      <th>QTrack_TBS</th>\n",
       "      <th>Garage_TBS</th>\n",
       "      <th>RAZ_CONS_MORE2H</th>\n",
       "      <th>RAZ_IMCONS_MORE4H</th>\n",
       "      <th>RAZ_XRAY_MORE2H</th>\n",
       "      <th>RAZ_CT_MORE2H1</th>\n",
       "      <th>PSYCH1</th>\n",
       "      <th>PSYCH_WAITINGADM</th>\n",
       "    </tr>\n",
       "  </thead>\n",
       "  <tbody>\n",
       "    <tr>\n",
       "      <th>26348</th>\n",
       "      <td>2023-11-29 12:00:00</td>\n",
       "      <td>8</td>\n",
       "      <td>51</td>\n",
       "      <td>8</td>\n",
       "      <td>47</td>\n",
       "      <td>16</td>\n",
       "      <td>98</td>\n",
       "      <td>2</td>\n",
       "      <td>16</td>\n",
       "      <td>0</td>\n",
       "      <td>...</td>\n",
       "      <td>13</td>\n",
       "      <td>6</td>\n",
       "      <td>2.0</td>\n",
       "      <td>0.0</td>\n",
       "      <td>7</td>\n",
       "      <td>1</td>\n",
       "      <td>0</td>\n",
       "      <td>3</td>\n",
       "      <td>20</td>\n",
       "      <td>19</td>\n",
       "    </tr>\n",
       "    <tr>\n",
       "      <th>26349</th>\n",
       "      <td>2023-11-29 12:00:00</td>\n",
       "      <td>10</td>\n",
       "      <td>55</td>\n",
       "      <td>6</td>\n",
       "      <td>43</td>\n",
       "      <td>16</td>\n",
       "      <td>98</td>\n",
       "      <td>3</td>\n",
       "      <td>17</td>\n",
       "      <td>0</td>\n",
       "      <td>...</td>\n",
       "      <td>13</td>\n",
       "      <td>6</td>\n",
       "      <td>2.0</td>\n",
       "      <td>0.0</td>\n",
       "      <td>7</td>\n",
       "      <td>1</td>\n",
       "      <td>0</td>\n",
       "      <td>3</td>\n",
       "      <td>20</td>\n",
       "      <td>19</td>\n",
       "    </tr>\n",
       "    <tr>\n",
       "      <th>26350</th>\n",
       "      <td>2023-11-29 13:00:00</td>\n",
       "      <td>11</td>\n",
       "      <td>69</td>\n",
       "      <td>4</td>\n",
       "      <td>44</td>\n",
       "      <td>15</td>\n",
       "      <td>113</td>\n",
       "      <td>1</td>\n",
       "      <td>18</td>\n",
       "      <td>0</td>\n",
       "      <td>...</td>\n",
       "      <td>10</td>\n",
       "      <td>6</td>\n",
       "      <td>1.0</td>\n",
       "      <td>0.0</td>\n",
       "      <td>13</td>\n",
       "      <td>0</td>\n",
       "      <td>2</td>\n",
       "      <td>3</td>\n",
       "      <td>20</td>\n",
       "      <td>19</td>\n",
       "    </tr>\n",
       "    <tr>\n",
       "      <th>26351</th>\n",
       "      <td>2023-11-29 13:00:00</td>\n",
       "      <td>10</td>\n",
       "      <td>65</td>\n",
       "      <td>5</td>\n",
       "      <td>48</td>\n",
       "      <td>15</td>\n",
       "      <td>113</td>\n",
       "      <td>1</td>\n",
       "      <td>18</td>\n",
       "      <td>0</td>\n",
       "      <td>...</td>\n",
       "      <td>10</td>\n",
       "      <td>6</td>\n",
       "      <td>1.0</td>\n",
       "      <td>0.0</td>\n",
       "      <td>13</td>\n",
       "      <td>0</td>\n",
       "      <td>2</td>\n",
       "      <td>3</td>\n",
       "      <td>20</td>\n",
       "      <td>19</td>\n",
       "    </tr>\n",
       "    <tr>\n",
       "      <th>26352</th>\n",
       "      <td>2023-11-29 14:00:00</td>\n",
       "      <td>15</td>\n",
       "      <td>84</td>\n",
       "      <td>9</td>\n",
       "      <td>53</td>\n",
       "      <td>24</td>\n",
       "      <td>137</td>\n",
       "      <td>6</td>\n",
       "      <td>24</td>\n",
       "      <td>0</td>\n",
       "      <td>...</td>\n",
       "      <td>10</td>\n",
       "      <td>7</td>\n",
       "      <td>3.0</td>\n",
       "      <td>0.0</td>\n",
       "      <td>10</td>\n",
       "      <td>0</td>\n",
       "      <td>1</td>\n",
       "      <td>5</td>\n",
       "      <td>21</td>\n",
       "      <td>18</td>\n",
       "    </tr>\n",
       "  </tbody>\n",
       "</table>\n",
       "<p>5 rows × 46 columns</p>\n",
       "</div>"
      ],
      "text/plain": [
       "                       ds  INFLOW_STRETCHER  Infl_Stretcher_cum  \\\n",
       "26348 2023-11-29 12:00:00                 8                  51   \n",
       "26349 2023-11-29 12:00:00                10                  55   \n",
       "26350 2023-11-29 13:00:00                11                  69   \n",
       "26351 2023-11-29 13:00:00                10                  65   \n",
       "26352 2023-11-29 14:00:00                15                  84   \n",
       "\n",
       "       INFLOW_AMBULATORY  Infl_Ambulatory_cum  Inflow_Total  Inflow_Cum_Total  \\\n",
       "26348                  8                   47            16                98   \n",
       "26349                  6                   43            16                98   \n",
       "26350                  4                   44            15               113   \n",
       "26351                  5                   48            15               113   \n",
       "26352                  9                   53            24               137   \n",
       "\n",
       "       INFLOW_AMBULANCES  Infl_Ambulances_cum  FLS  ...  AMBVERT1  AMBVERTTBS  \\\n",
       "26348                  2                   16    0  ...        13           6   \n",
       "26349                  3                   17    0  ...        13           6   \n",
       "26350                  1                   18    0  ...        10           6   \n",
       "26351                  1                   18    0  ...        10           6   \n",
       "26352                  6                   24    0  ...        10           7   \n",
       "\n",
       "       QTrack_TBS  Garage_TBS  RAZ_CONS_MORE2H  RAZ_IMCONS_MORE4H  \\\n",
       "26348         2.0         0.0                7                  1   \n",
       "26349         2.0         0.0                7                  1   \n",
       "26350         1.0         0.0               13                  0   \n",
       "26351         1.0         0.0               13                  0   \n",
       "26352         3.0         0.0               10                  0   \n",
       "\n",
       "       RAZ_XRAY_MORE2H  RAZ_CT_MORE2H1  PSYCH1  PSYCH_WAITINGADM  \n",
       "26348                0               3      20                19  \n",
       "26349                0               3      20                19  \n",
       "26350                2               3      20                19  \n",
       "26351                2               3      20                19  \n",
       "26352                1               5      21                18  \n",
       "\n",
       "[5 rows x 46 columns]"
      ]
     },
     "execution_count": 2,
     "metadata": {},
     "output_type": "execute_result"
    }
   ],
   "source": [
    "df = allData.copy()\n",
    "df.isna().sum().sum()\n",
    "df.ds = pd.to_datetime(df.ds)\n",
    "df.tail(5)"
   ]
  },
  {
   "cell_type": "code",
   "execution_count": 3,
   "metadata": {},
   "outputs": [],
   "source": [
    "from prophet import Prophet\n",
    "from tqdm import tqdm"
   ]
  },
  {
   "cell_type": "code",
   "execution_count": null,
   "metadata": {},
   "outputs": [],
   "source": [
    "\n",
    "\n",
    "\n",
    "# output = pd.DataFrame()\n",
    "\n",
    "# for column in df.columns.to_list():\n",
    "#     if column in ['ds']:\n",
    "#         continue\n",
    "#     try:\n",
    "#         # column = 'Total Inflow hrly'\n",
    "#         print('working on '+column)\n",
    "#         df2 = df[['ds', column]]\n",
    "#         df2.columns = ['ds', 'y']\n",
    "#         df2 = df2.reset_index(drop=True)\n",
    "#         m = Prophet(interval_width=0.95)\n",
    "#         m.fit(df2)\n",
    "#         future = m.make_future_dataframe(periods=24*7, freq='H')\n",
    "#         forecast = m.predict(future.tail(24*14))\n",
    "#         output['ds'] = forecast['ds']\n",
    "#         forecast = forecast[['yhat', 'yhat_lower', 'yhat_upper']]\n",
    "#         for forecast_column in forecast.columns.tolist():\n",
    "#             output[column+'_'+forecast_column] = forecast[forecast_column]\n",
    "#     except:\n",
    "#         print(column + ' failed')\n",
    "\n",
    "# # output.to_csv('data/forecast.csv', index=False)\n",
    "# # output.to_csv('anomaly_detection_ranges.csv', index=False)"
   ]
  },
  {
   "cell_type": "code",
   "execution_count": 4,
   "metadata": {},
   "outputs": [
    {
     "name": "stderr",
     "output_type": "stream",
     "text": [
      "  0%|          | 0/46 [00:00<?, ?it/s]"
     ]
    },
    {
     "name": "stdout",
     "output_type": "stream",
     "text": [
      "working on INFLOW_STRETCHER\n"
     ]
    },
    {
     "name": "stderr",
     "output_type": "stream",
     "text": [
      "14:14:44 - cmdstanpy - INFO - Chain [1] start processing\n",
      "14:14:49 - cmdstanpy - INFO - Chain [1] done processing\n",
      "  4%|▍         | 2/46 [00:06<02:22,  3.23s/it]"
     ]
    },
    {
     "name": "stdout",
     "output_type": "stream",
     "text": [
      "working on Infl_Stretcher_cum\n"
     ]
    },
    {
     "name": "stderr",
     "output_type": "stream",
     "text": [
      "14:14:50 - cmdstanpy - INFO - Chain [1] start processing\n",
      "14:14:56 - cmdstanpy - INFO - Chain [1] done processing\n",
      "  7%|▋         | 3/46 [00:13<03:32,  4.95s/it]"
     ]
    },
    {
     "name": "stdout",
     "output_type": "stream",
     "text": [
      "working on INFLOW_AMBULATORY\n"
     ]
    },
    {
     "name": "stderr",
     "output_type": "stream",
     "text": [
      "14:14:58 - cmdstanpy - INFO - Chain [1] start processing\n",
      "14:15:06 - cmdstanpy - INFO - Chain [1] done processing\n",
      "  9%|▊         | 4/46 [00:23<04:41,  6.70s/it]"
     ]
    },
    {
     "name": "stdout",
     "output_type": "stream",
     "text": [
      "working on Infl_Ambulatory_cum\n"
     ]
    },
    {
     "name": "stderr",
     "output_type": "stream",
     "text": [
      "14:15:07 - cmdstanpy - INFO - Chain [1] start processing\n",
      "14:15:14 - cmdstanpy - INFO - Chain [1] done processing\n",
      " 11%|█         | 5/46 [00:32<05:02,  7.38s/it]"
     ]
    },
    {
     "name": "stdout",
     "output_type": "stream",
     "text": [
      "working on Inflow_Total\n"
     ]
    },
    {
     "name": "stderr",
     "output_type": "stream",
     "text": [
      "14:15:16 - cmdstanpy - INFO - Chain [1] start processing\n",
      "14:15:21 - cmdstanpy - INFO - Chain [1] done processing\n",
      " 13%|█▎        | 6/46 [00:39<04:51,  7.30s/it]"
     ]
    },
    {
     "name": "stdout",
     "output_type": "stream",
     "text": [
      "working on Inflow_Cum_Total\n"
     ]
    },
    {
     "name": "stderr",
     "output_type": "stream",
     "text": [
      "14:15:23 - cmdstanpy - INFO - Chain [1] start processing\n",
      "14:15:28 - cmdstanpy - INFO - Chain [1] done processing\n",
      " 15%|█▌        | 7/46 [00:46<04:41,  7.22s/it]"
     ]
    },
    {
     "name": "stdout",
     "output_type": "stream",
     "text": [
      "working on INFLOW_AMBULANCES\n"
     ]
    },
    {
     "name": "stderr",
     "output_type": "stream",
     "text": [
      "14:15:30 - cmdstanpy - INFO - Chain [1] start processing\n",
      "14:15:37 - cmdstanpy - INFO - Chain [1] done processing\n",
      " 17%|█▋        | 8/46 [00:54<04:46,  7.55s/it]"
     ]
    },
    {
     "name": "stdout",
     "output_type": "stream",
     "text": [
      "working on Infl_Ambulances_cum\n"
     ]
    },
    {
     "name": "stderr",
     "output_type": "stream",
     "text": [
      "14:15:39 - cmdstanpy - INFO - Chain [1] start processing\n",
      "14:15:46 - cmdstanpy - INFO - Chain [1] done processing\n",
      " 20%|█▉        | 9/46 [01:04<05:04,  8.22s/it]"
     ]
    },
    {
     "name": "stdout",
     "output_type": "stream",
     "text": [
      "working on FLS\n"
     ]
    },
    {
     "name": "stderr",
     "output_type": "stream",
     "text": [
      "14:15:48 - cmdstanpy - INFO - Chain [1] start processing\n",
      "14:15:52 - cmdstanpy - INFO - Chain [1] done processing\n",
      " 22%|██▏       | 10/46 [01:09<04:26,  7.41s/it]"
     ]
    },
    {
     "name": "stdout",
     "output_type": "stream",
     "text": [
      "working on CUM_ADMREQ\n"
     ]
    },
    {
     "name": "stderr",
     "output_type": "stream",
     "text": [
      "14:15:54 - cmdstanpy - INFO - Chain [1] start processing\n",
      "14:15:59 - cmdstanpy - INFO - Chain [1] done processing\n",
      " 24%|██▍       | 11/46 [01:16<04:14,  7.27s/it]"
     ]
    },
    {
     "name": "stdout",
     "output_type": "stream",
     "text": [
      "working on CUM_BA1\n"
     ]
    },
    {
     "name": "stderr",
     "output_type": "stream",
     "text": [
      "14:16:01 - cmdstanpy - INFO - Chain [1] start processing\n",
      "14:16:04 - cmdstanpy - INFO - Chain [1] done processing\n",
      " 26%|██▌       | 12/46 [01:21<03:45,  6.63s/it]"
     ]
    },
    {
     "name": "stdout",
     "output_type": "stream",
     "text": [
      "working on WAITINGADM\n"
     ]
    },
    {
     "name": "stderr",
     "output_type": "stream",
     "text": [
      "14:16:06 - cmdstanpy - INFO - Chain [1] start processing\n",
      "14:16:22 - cmdstanpy - INFO - Chain [1] done processing\n",
      " 28%|██▊       | 13/46 [01:39<05:28,  9.96s/it]"
     ]
    },
    {
     "name": "stdout",
     "output_type": "stream",
     "text": [
      "working on TTStr\n"
     ]
    },
    {
     "name": "stderr",
     "output_type": "stream",
     "text": [
      "14:16:24 - cmdstanpy - INFO - Chain [1] start processing\n",
      "14:16:36 - cmdstanpy - INFO - Chain [1] done processing\n",
      " 30%|███       | 14/46 [01:54<06:04, 11.40s/it]"
     ]
    },
    {
     "name": "stdout",
     "output_type": "stream",
     "text": [
      "working on TRG_HALLWAY1\n"
     ]
    },
    {
     "name": "stderr",
     "output_type": "stream",
     "text": [
      "14:16:38 - cmdstanpy - INFO - Chain [1] start processing\n",
      "14:16:43 - cmdstanpy - INFO - Chain [1] done processing\n",
      " 33%|███▎      | 15/46 [02:00<05:07,  9.93s/it]"
     ]
    },
    {
     "name": "stdout",
     "output_type": "stream",
     "text": [
      "working on TRG_HALLWAY_TBS\n"
     ]
    },
    {
     "name": "stderr",
     "output_type": "stream",
     "text": [
      "14:16:45 - cmdstanpy - INFO - Chain [1] start processing\n",
      "14:16:50 - cmdstanpy - INFO - Chain [1] done processing\n",
      " 35%|███▍      | 16/46 [02:07<04:29,  9.00s/it]"
     ]
    },
    {
     "name": "stdout",
     "output_type": "stream",
     "text": [
      "working on reoriented_cum\n"
     ]
    },
    {
     "name": "stderr",
     "output_type": "stream",
     "text": [
      "14:16:52 - cmdstanpy - INFO - Chain [1] start processing\n",
      "14:16:59 - cmdstanpy - INFO - Chain [1] done processing\n",
      " 37%|███▋      | 17/46 [02:16<04:23,  9.08s/it]"
     ]
    },
    {
     "name": "stdout",
     "output_type": "stream",
     "text": [
      "working on reoriented_cum_MD\n"
     ]
    },
    {
     "name": "stderr",
     "output_type": "stream",
     "text": [
      "14:17:01 - cmdstanpy - INFO - Chain [1] start processing\n",
      "14:17:10 - cmdstanpy - INFO - Chain [1] done processing\n",
      " 39%|███▉      | 18/46 [02:27<04:27,  9.56s/it]"
     ]
    },
    {
     "name": "stdout",
     "output_type": "stream",
     "text": [
      "working on QTRACK1\n"
     ]
    },
    {
     "name": "stderr",
     "output_type": "stream",
     "text": [
      "14:17:12 - cmdstanpy - INFO - Chain [1] start processing\n",
      "14:17:23 - cmdstanpy - INFO - Chain [1] done processing\n",
      " 41%|████▏     | 19/46 [02:41<04:49, 10.71s/it]"
     ]
    },
    {
     "name": "stdout",
     "output_type": "stream",
     "text": [
      "working on RESUS\n"
     ]
    },
    {
     "name": "stderr",
     "output_type": "stream",
     "text": [
      "14:17:25 - cmdstanpy - INFO - Chain [1] start processing\n",
      "14:17:30 - cmdstanpy - INFO - Chain [1] done processing\n",
      " 43%|████▎     | 20/46 [02:47<04:06,  9.48s/it]"
     ]
    },
    {
     "name": "stdout",
     "output_type": "stream",
     "text": [
      "working on Pod_T\n"
     ]
    },
    {
     "name": "stderr",
     "output_type": "stream",
     "text": [
      "14:17:32 - cmdstanpy - INFO - Chain [1] start processing\n",
      "14:17:43 - cmdstanpy - INFO - Chain [1] done processing\n",
      " 46%|████▌     | 21/46 [03:00<04:22, 10.49s/it]"
     ]
    },
    {
     "name": "stdout",
     "output_type": "stream",
     "text": [
      "working on POD_GREEN\n"
     ]
    },
    {
     "name": "stderr",
     "output_type": "stream",
     "text": [
      "14:17:44 - cmdstanpy - INFO - Chain [1] start processing\n",
      "14:17:53 - cmdstanpy - INFO - Chain [1] done processing\n",
      " 48%|████▊     | 22/46 [03:11<04:13, 10.56s/it]"
     ]
    },
    {
     "name": "stdout",
     "output_type": "stream",
     "text": [
      "working on POD_GREEN_TBS\n"
     ]
    },
    {
     "name": "stderr",
     "output_type": "stream",
     "text": [
      "14:17:55 - cmdstanpy - INFO - Chain [1] start processing\n",
      "14:18:00 - cmdstanpy - INFO - Chain [1] done processing\n",
      " 50%|█████     | 23/46 [03:18<03:38,  9.48s/it]"
     ]
    },
    {
     "name": "stdout",
     "output_type": "stream",
     "text": [
      "working on POD_YELLOW\n"
     ]
    },
    {
     "name": "stderr",
     "output_type": "stream",
     "text": [
      "14:18:02 - cmdstanpy - INFO - Chain [1] start processing\n",
      "14:18:08 - cmdstanpy - INFO - Chain [1] done processing\n",
      " 52%|█████▏    | 24/46 [03:25<03:15,  8.89s/it]"
     ]
    },
    {
     "name": "stdout",
     "output_type": "stream",
     "text": [
      "working on POD_YELLOW_TBS\n"
     ]
    },
    {
     "name": "stderr",
     "output_type": "stream",
     "text": [
      "14:18:10 - cmdstanpy - INFO - Chain [1] start processing\n",
      "14:18:14 - cmdstanpy - INFO - Chain [1] done processing\n",
      " 54%|█████▍    | 25/46 [03:31<02:48,  8.03s/it]"
     ]
    },
    {
     "name": "stdout",
     "output_type": "stream",
     "text": [
      "working on POD_ORANGE\n"
     ]
    },
    {
     "name": "stderr",
     "output_type": "stream",
     "text": [
      "14:18:16 - cmdstanpy - INFO - Chain [1] start processing\n",
      "14:18:24 - cmdstanpy - INFO - Chain [1] done processing\n",
      " 57%|█████▋    | 26/46 [03:41<02:52,  8.62s/it]"
     ]
    },
    {
     "name": "stdout",
     "output_type": "stream",
     "text": [
      "working on POD_ORANGE_TBS\n"
     ]
    },
    {
     "name": "stderr",
     "output_type": "stream",
     "text": [
      "14:18:26 - cmdstanpy - INFO - Chain [1] start processing\n",
      "14:18:32 - cmdstanpy - INFO - Chain [1] done processing\n",
      " 59%|█████▊    | 27/46 [03:49<02:40,  8.45s/it]"
     ]
    },
    {
     "name": "stdout",
     "output_type": "stream",
     "text": [
      "working on POD_CONS_MORE2H\n"
     ]
    },
    {
     "name": "stderr",
     "output_type": "stream",
     "text": [
      "14:18:34 - cmdstanpy - INFO - Chain [1] start processing\n",
      "14:18:37 - cmdstanpy - INFO - Chain [1] done processing\n",
      " 61%|██████    | 28/46 [03:55<02:15,  7.54s/it]"
     ]
    },
    {
     "name": "stdout",
     "output_type": "stream",
     "text": [
      "working on POD_IMCONS_MORE4H\n"
     ]
    },
    {
     "name": "stderr",
     "output_type": "stream",
     "text": [
      "14:18:39 - cmdstanpy - INFO - Chain [1] start processing\n",
      "14:18:44 - cmdstanpy - INFO - Chain [1] done processing\n",
      " 63%|██████▎   | 29/46 [04:02<02:06,  7.43s/it]"
     ]
    },
    {
     "name": "stdout",
     "output_type": "stream",
     "text": [
      "working on POD_XRAY_MORE2H\n"
     ]
    },
    {
     "name": "stderr",
     "output_type": "stream",
     "text": [
      "14:18:46 - cmdstanpy - INFO - Chain [1] start processing\n",
      "14:18:55 - cmdstanpy - INFO - Chain [1] done processing\n",
      " 65%|██████▌   | 30/46 [04:13<02:15,  8.48s/it]"
     ]
    },
    {
     "name": "stdout",
     "output_type": "stream",
     "text": [
      "working on POD_CT_MORE2H\n"
     ]
    },
    {
     "name": "stderr",
     "output_type": "stream",
     "text": [
      "14:18:57 - cmdstanpy - INFO - Chain [1] start processing\n",
      "14:19:02 - cmdstanpy - INFO - Chain [1] done processing\n",
      " 67%|██████▋   | 31/46 [04:19<01:59,  7.94s/it]"
     ]
    },
    {
     "name": "stdout",
     "output_type": "stream",
     "text": [
      "working on POST_POD1\n"
     ]
    },
    {
     "name": "stderr",
     "output_type": "stream",
     "text": [
      "14:19:04 - cmdstanpy - INFO - Chain [1] start processing\n",
      "14:19:13 - cmdstanpy - INFO - Chain [1] done processing\n",
      " 70%|██████▉   | 32/46 [04:31<02:05,  8.96s/it]"
     ]
    },
    {
     "name": "stdout",
     "output_type": "stream",
     "text": [
      "working on VERTSTRET\n"
     ]
    },
    {
     "name": "stderr",
     "output_type": "stream",
     "text": [
      "14:19:15 - cmdstanpy - INFO - Chain [1] start processing\n",
      "14:19:22 - cmdstanpy - INFO - Chain [1] done processing\n",
      " 72%|███████▏  | 33/46 [04:39<01:53,  8.71s/it]"
     ]
    },
    {
     "name": "stdout",
     "output_type": "stream",
     "text": [
      "working on RAZ_TBS\n"
     ]
    },
    {
     "name": "stderr",
     "output_type": "stream",
     "text": [
      "14:19:23 - cmdstanpy - INFO - Chain [1] start processing\n",
      "14:19:30 - cmdstanpy - INFO - Chain [1] done processing\n",
      " 74%|███████▍  | 34/46 [04:47<01:42,  8.54s/it]"
     ]
    },
    {
     "name": "stdout",
     "output_type": "stream",
     "text": [
      "working on RAZ_LAZYBOY\n"
     ]
    },
    {
     "name": "stderr",
     "output_type": "stream",
     "text": [
      "14:19:32 - cmdstanpy - INFO - Chain [1] start processing\n",
      "14:19:42 - cmdstanpy - INFO - Chain [1] done processing\n",
      " 76%|███████▌  | 35/46 [04:59<01:45,  9.57s/it]"
     ]
    },
    {
     "name": "stdout",
     "output_type": "stream",
     "text": [
      "working on RAZ_WAITINGREZ\n"
     ]
    },
    {
     "name": "stderr",
     "output_type": "stream",
     "text": [
      "14:19:43 - cmdstanpy - INFO - Chain [1] start processing\n",
      "14:19:47 - cmdstanpy - INFO - Chain [1] done processing\n",
      " 78%|███████▊  | 36/46 [05:05<01:23,  8.34s/it]"
     ]
    },
    {
     "name": "stdout",
     "output_type": "stream",
     "text": [
      "working on AMBVERT1\n"
     ]
    },
    {
     "name": "stderr",
     "output_type": "stream",
     "text": [
      "14:19:49 - cmdstanpy - INFO - Chain [1] start processing\n",
      "14:19:57 - cmdstanpy - INFO - Chain [1] done processing\n",
      " 80%|████████  | 37/46 [05:15<01:19,  8.85s/it]"
     ]
    },
    {
     "name": "stdout",
     "output_type": "stream",
     "text": [
      "working on AMBVERTTBS\n"
     ]
    },
    {
     "name": "stderr",
     "output_type": "stream",
     "text": [
      "14:19:59 - cmdstanpy - INFO - Chain [1] start processing\n",
      "14:20:09 - cmdstanpy - INFO - Chain [1] done processing\n",
      " 83%|████████▎ | 38/46 [05:26<01:17,  9.66s/it]"
     ]
    },
    {
     "name": "stdout",
     "output_type": "stream",
     "text": [
      "working on QTrack_TBS\n"
     ]
    },
    {
     "name": "stderr",
     "output_type": "stream",
     "text": [
      "14:20:11 - cmdstanpy - INFO - Chain [1] start processing\n",
      "14:20:22 - cmdstanpy - INFO - Chain [1] done processing\n",
      " 85%|████████▍ | 39/46 [05:39<01:15, 10.72s/it]"
     ]
    },
    {
     "name": "stdout",
     "output_type": "stream",
     "text": [
      "working on Garage_TBS\n"
     ]
    },
    {
     "name": "stderr",
     "output_type": "stream",
     "text": [
      "14:20:24 - cmdstanpy - INFO - Chain [1] start processing\n",
      "14:20:39 - cmdstanpy - INFO - Chain [1] done processing\n",
      " 87%|████████▋ | 40/46 [05:56<01:15, 12.51s/it]"
     ]
    },
    {
     "name": "stdout",
     "output_type": "stream",
     "text": [
      "working on RAZ_CONS_MORE2H\n"
     ]
    },
    {
     "name": "stderr",
     "output_type": "stream",
     "text": [
      "14:20:41 - cmdstanpy - INFO - Chain [1] start processing\n",
      "14:20:50 - cmdstanpy - INFO - Chain [1] done processing\n",
      " 89%|████████▉ | 41/46 [06:07<01:00, 12.17s/it]"
     ]
    },
    {
     "name": "stdout",
     "output_type": "stream",
     "text": [
      "working on RAZ_IMCONS_MORE4H\n"
     ]
    },
    {
     "name": "stderr",
     "output_type": "stream",
     "text": [
      "14:20:52 - cmdstanpy - INFO - Chain [1] start processing\n",
      "14:20:57 - cmdstanpy - INFO - Chain [1] done processing\n",
      " 91%|█████████▏| 42/46 [06:15<00:42, 10.67s/it]"
     ]
    },
    {
     "name": "stdout",
     "output_type": "stream",
     "text": [
      "working on RAZ_XRAY_MORE2H\n"
     ]
    },
    {
     "name": "stderr",
     "output_type": "stream",
     "text": [
      "14:20:59 - cmdstanpy - INFO - Chain [1] start processing\n",
      "14:21:04 - cmdstanpy - INFO - Chain [1] done processing\n",
      " 93%|█████████▎| 43/46 [06:21<00:28,  9.55s/it]"
     ]
    },
    {
     "name": "stdout",
     "output_type": "stream",
     "text": [
      "working on RAZ_CT_MORE2H1\n"
     ]
    },
    {
     "name": "stderr",
     "output_type": "stream",
     "text": [
      "14:21:06 - cmdstanpy - INFO - Chain [1] start processing\n",
      "14:21:11 - cmdstanpy - INFO - Chain [1] done processing\n",
      " 96%|█████████▌| 44/46 [06:28<00:17,  8.74s/it]"
     ]
    },
    {
     "name": "stdout",
     "output_type": "stream",
     "text": [
      "working on PSYCH1\n"
     ]
    },
    {
     "name": "stderr",
     "output_type": "stream",
     "text": [
      "14:21:13 - cmdstanpy - INFO - Chain [1] start processing\n",
      "14:21:24 - cmdstanpy - INFO - Chain [1] done processing\n",
      " 98%|█████████▊| 45/46 [06:41<00:09,  9.97s/it]"
     ]
    },
    {
     "name": "stdout",
     "output_type": "stream",
     "text": [
      "working on PSYCH_WAITINGADM\n"
     ]
    },
    {
     "name": "stderr",
     "output_type": "stream",
     "text": [
      "14:21:26 - cmdstanpy - INFO - Chain [1] start processing\n",
      "14:21:39 - cmdstanpy - INFO - Chain [1] done processing\n",
      "100%|██████████| 46/46 [06:56<00:00,  9.06s/it]\n"
     ]
    }
   ],
   "source": [
    "output = pd.DataFrame()\n",
    "first_run = True\n",
    "\n",
    "for column in tqdm(df.columns.to_list()):\n",
    "    if column in ['ds']:\n",
    "        continue\n",
    "    try:\n",
    "        print('working on '+column)\n",
    "\n",
    "        m = Prophet(interval_width=0.95)\n",
    "        m.fit(df[['ds', column]].rename(columns={column:'y'}))\n",
    "        future = m.make_future_dataframe(periods=24*1, freq='H')\n",
    "        forecast = m.predict(future.tail(24*14))\n",
    "        if first_run:\n",
    "            output['ds'] = forecast['ds']\n",
    "        \n",
    "        for forecast_column in ['yhat', 'yhat_lower', 'yhat_upper']:\n",
    "            kwargs = {column+'_'+forecast_column : forecast[forecast_column]}\n",
    "            output = output.assign(**kwargs)            # output[column+'_'+forecast_column] = forecast[forecast_column]\n",
    "        first_run = False\n",
    "    except:\n",
    "        print(column + ' failed')\n",
    "\n"
   ]
  },
  {
   "cell_type": "code",
   "execution_count": 5,
   "metadata": {},
   "outputs": [
    {
     "data": {
      "text/html": [
       "<div>\n",
       "<style scoped>\n",
       "    .dataframe tbody tr th:only-of-type {\n",
       "        vertical-align: middle;\n",
       "    }\n",
       "\n",
       "    .dataframe tbody tr th {\n",
       "        vertical-align: top;\n",
       "    }\n",
       "\n",
       "    .dataframe thead th {\n",
       "        text-align: right;\n",
       "    }\n",
       "</style>\n",
       "<table border=\"1\" class=\"dataframe\">\n",
       "  <thead>\n",
       "    <tr style=\"text-align: right;\">\n",
       "      <th></th>\n",
       "      <th>ds</th>\n",
       "      <th>INFLOW_STRETCHER_yhat</th>\n",
       "      <th>INFLOW_STRETCHER_yhat_lower</th>\n",
       "      <th>INFLOW_STRETCHER_yhat_upper</th>\n",
       "      <th>Infl_Stretcher_cum_yhat</th>\n",
       "      <th>Infl_Stretcher_cum_yhat_lower</th>\n",
       "      <th>Infl_Stretcher_cum_yhat_upper</th>\n",
       "      <th>INFLOW_AMBULATORY_yhat</th>\n",
       "      <th>INFLOW_AMBULATORY_yhat_lower</th>\n",
       "      <th>INFLOW_AMBULATORY_yhat_upper</th>\n",
       "      <th>...</th>\n",
       "      <th>RAZ_XRAY_MORE2H_yhat_upper</th>\n",
       "      <th>RAZ_CT_MORE2H1_yhat</th>\n",
       "      <th>RAZ_CT_MORE2H1_yhat_lower</th>\n",
       "      <th>RAZ_CT_MORE2H1_yhat_upper</th>\n",
       "      <th>PSYCH1_yhat</th>\n",
       "      <th>PSYCH1_yhat_lower</th>\n",
       "      <th>PSYCH1_yhat_upper</th>\n",
       "      <th>PSYCH_WAITINGADM_yhat</th>\n",
       "      <th>PSYCH_WAITINGADM_yhat_lower</th>\n",
       "      <th>PSYCH_WAITINGADM_yhat_upper</th>\n",
       "    </tr>\n",
       "  </thead>\n",
       "  <tbody>\n",
       "    <tr>\n",
       "      <th>0</th>\n",
       "      <td>2023-11-16 15:00:00</td>\n",
       "      <td>9.372677</td>\n",
       "      <td>4.761938</td>\n",
       "      <td>14.195761</td>\n",
       "      <td>86.678985</td>\n",
       "      <td>53.625166</td>\n",
       "      <td>121.496760</td>\n",
       "      <td>6.670304</td>\n",
       "      <td>1.973523</td>\n",
       "      <td>11.585410</td>\n",
       "      <td>...</td>\n",
       "      <td>3.415547</td>\n",
       "      <td>2.464569</td>\n",
       "      <td>-0.688219</td>\n",
       "      <td>5.434393</td>\n",
       "      <td>13.205138</td>\n",
       "      <td>7.049230</td>\n",
       "      <td>19.792659</td>\n",
       "      <td>8.965866</td>\n",
       "      <td>3.219119</td>\n",
       "      <td>14.581424</td>\n",
       "    </tr>\n",
       "    <tr>\n",
       "      <th>1</th>\n",
       "      <td>2023-11-16 16:00:00</td>\n",
       "      <td>8.624814</td>\n",
       "      <td>3.801546</td>\n",
       "      <td>13.593240</td>\n",
       "      <td>99.627985</td>\n",
       "      <td>62.437326</td>\n",
       "      <td>133.960454</td>\n",
       "      <td>6.334271</td>\n",
       "      <td>1.660312</td>\n",
       "      <td>11.145248</td>\n",
       "      <td>...</td>\n",
       "      <td>3.106638</td>\n",
       "      <td>2.469529</td>\n",
       "      <td>-0.556165</td>\n",
       "      <td>5.575368</td>\n",
       "      <td>13.125717</td>\n",
       "      <td>6.810233</td>\n",
       "      <td>19.245163</td>\n",
       "      <td>8.823037</td>\n",
       "      <td>3.510200</td>\n",
       "      <td>14.380197</td>\n",
       "    </tr>\n",
       "    <tr>\n",
       "      <th>2</th>\n",
       "      <td>2023-11-16 17:00:00</td>\n",
       "      <td>7.861612</td>\n",
       "      <td>3.093843</td>\n",
       "      <td>12.883545</td>\n",
       "      <td>106.732350</td>\n",
       "      <td>72.134901</td>\n",
       "      <td>141.502217</td>\n",
       "      <td>5.832562</td>\n",
       "      <td>0.793958</td>\n",
       "      <td>10.894051</td>\n",
       "      <td>...</td>\n",
       "      <td>3.175348</td>\n",
       "      <td>2.452457</td>\n",
       "      <td>-0.653105</td>\n",
       "      <td>5.791903</td>\n",
       "      <td>13.034825</td>\n",
       "      <td>6.421819</td>\n",
       "      <td>19.432305</td>\n",
       "      <td>8.704350</td>\n",
       "      <td>3.172089</td>\n",
       "      <td>14.257442</td>\n",
       "    </tr>\n",
       "    <tr>\n",
       "      <th>3</th>\n",
       "      <td>2023-11-16 18:00:00</td>\n",
       "      <td>7.254323</td>\n",
       "      <td>2.671563</td>\n",
       "      <td>11.522382</td>\n",
       "      <td>107.177992</td>\n",
       "      <td>72.823259</td>\n",
       "      <td>143.381621</td>\n",
       "      <td>5.246529</td>\n",
       "      <td>0.063297</td>\n",
       "      <td>10.038163</td>\n",
       "      <td>...</td>\n",
       "      <td>3.189028</td>\n",
       "      <td>2.503606</td>\n",
       "      <td>-0.599309</td>\n",
       "      <td>5.622773</td>\n",
       "      <td>12.949044</td>\n",
       "      <td>6.086552</td>\n",
       "      <td>19.175051</td>\n",
       "      <td>8.622259</td>\n",
       "      <td>2.426632</td>\n",
       "      <td>14.398532</td>\n",
       "    </tr>\n",
       "    <tr>\n",
       "      <th>4</th>\n",
       "      <td>2023-11-16 19:00:00</td>\n",
       "      <td>6.882685</td>\n",
       "      <td>2.204374</td>\n",
       "      <td>11.946306</td>\n",
       "      <td>107.987108</td>\n",
       "      <td>72.902946</td>\n",
       "      <td>145.550080</td>\n",
       "      <td>4.755868</td>\n",
       "      <td>0.143230</td>\n",
       "      <td>9.605422</td>\n",
       "      <td>...</td>\n",
       "      <td>3.246857</td>\n",
       "      <td>2.612539</td>\n",
       "      <td>-0.383126</td>\n",
       "      <td>5.692024</td>\n",
       "      <td>12.908222</td>\n",
       "      <td>5.998879</td>\n",
       "      <td>19.808633</td>\n",
       "      <td>8.605364</td>\n",
       "      <td>2.657486</td>\n",
       "      <td>14.075948</td>\n",
       "    </tr>\n",
       "    <tr>\n",
       "      <th>...</th>\n",
       "      <td>...</td>\n",
       "      <td>...</td>\n",
       "      <td>...</td>\n",
       "      <td>...</td>\n",
       "      <td>...</td>\n",
       "      <td>...</td>\n",
       "      <td>...</td>\n",
       "      <td>...</td>\n",
       "      <td>...</td>\n",
       "      <td>...</td>\n",
       "      <td>...</td>\n",
       "      <td>...</td>\n",
       "      <td>...</td>\n",
       "      <td>...</td>\n",
       "      <td>...</td>\n",
       "      <td>...</td>\n",
       "      <td>...</td>\n",
       "      <td>...</td>\n",
       "      <td>...</td>\n",
       "      <td>...</td>\n",
       "      <td>...</td>\n",
       "    </tr>\n",
       "    <tr>\n",
       "      <th>331</th>\n",
       "      <td>2023-11-30 10:00:00</td>\n",
       "      <td>8.519662</td>\n",
       "      <td>3.797807</td>\n",
       "      <td>13.431115</td>\n",
       "      <td>45.770872</td>\n",
       "      <td>10.370415</td>\n",
       "      <td>78.546544</td>\n",
       "      <td>7.767328</td>\n",
       "      <td>3.248775</td>\n",
       "      <td>11.914920</td>\n",
       "      <td>...</td>\n",
       "      <td>2.841791</td>\n",
       "      <td>1.328970</td>\n",
       "      <td>-1.905159</td>\n",
       "      <td>4.162326</td>\n",
       "      <td>16.677761</td>\n",
       "      <td>10.292310</td>\n",
       "      <td>22.948094</td>\n",
       "      <td>12.878918</td>\n",
       "      <td>7.038739</td>\n",
       "      <td>18.353225</td>\n",
       "    </tr>\n",
       "    <tr>\n",
       "      <th>332</th>\n",
       "      <td>2023-11-30 11:00:00</td>\n",
       "      <td>9.675963</td>\n",
       "      <td>4.678008</td>\n",
       "      <td>14.265940</td>\n",
       "      <td>58.321414</td>\n",
       "      <td>22.574938</td>\n",
       "      <td>92.654653</td>\n",
       "      <td>8.250726</td>\n",
       "      <td>3.659296</td>\n",
       "      <td>12.799600</td>\n",
       "      <td>...</td>\n",
       "      <td>2.948915</td>\n",
       "      <td>1.381354</td>\n",
       "      <td>-1.638001</td>\n",
       "      <td>4.298229</td>\n",
       "      <td>16.636992</td>\n",
       "      <td>10.054212</td>\n",
       "      <td>23.153321</td>\n",
       "      <td>12.720312</td>\n",
       "      <td>6.826799</td>\n",
       "      <td>18.234088</td>\n",
       "    </tr>\n",
       "    <tr>\n",
       "      <th>333</th>\n",
       "      <td>2023-11-30 12:00:00</td>\n",
       "      <td>10.272874</td>\n",
       "      <td>5.267760</td>\n",
       "      <td>15.065222</td>\n",
       "      <td>65.753625</td>\n",
       "      <td>32.779085</td>\n",
       "      <td>99.816730</td>\n",
       "      <td>7.897408</td>\n",
       "      <td>3.061340</td>\n",
       "      <td>12.780339</td>\n",
       "      <td>...</td>\n",
       "      <td>2.725915</td>\n",
       "      <td>1.615495</td>\n",
       "      <td>-1.486409</td>\n",
       "      <td>4.596350</td>\n",
       "      <td>16.483918</td>\n",
       "      <td>10.018385</td>\n",
       "      <td>23.079304</td>\n",
       "      <td>12.496575</td>\n",
       "      <td>6.946639</td>\n",
       "      <td>18.059560</td>\n",
       "    </tr>\n",
       "    <tr>\n",
       "      <th>334</th>\n",
       "      <td>2023-11-30 13:00:00</td>\n",
       "      <td>10.365968</td>\n",
       "      <td>5.290833</td>\n",
       "      <td>14.844847</td>\n",
       "      <td>70.007922</td>\n",
       "      <td>36.695670</td>\n",
       "      <td>106.158461</td>\n",
       "      <td>7.263926</td>\n",
       "      <td>2.595969</td>\n",
       "      <td>11.814880</td>\n",
       "      <td>...</td>\n",
       "      <td>3.142372</td>\n",
       "      <td>1.950820</td>\n",
       "      <td>-1.036957</td>\n",
       "      <td>4.865009</td>\n",
       "      <td>16.298498</td>\n",
       "      <td>9.348941</td>\n",
       "      <td>22.652183</td>\n",
       "      <td>12.253595</td>\n",
       "      <td>6.622481</td>\n",
       "      <td>18.257814</td>\n",
       "    </tr>\n",
       "    <tr>\n",
       "      <th>335</th>\n",
       "      <td>2023-11-30 14:00:00</td>\n",
       "      <td>10.071714</td>\n",
       "      <td>5.356801</td>\n",
       "      <td>14.840622</td>\n",
       "      <td>77.016458</td>\n",
       "      <td>44.248879</td>\n",
       "      <td>111.172001</td>\n",
       "      <td>6.770861</td>\n",
       "      <td>2.428055</td>\n",
       "      <td>11.380515</td>\n",
       "      <td>...</td>\n",
       "      <td>3.269675</td>\n",
       "      <td>2.237609</td>\n",
       "      <td>-0.894139</td>\n",
       "      <td>5.303886</td>\n",
       "      <td>16.150075</td>\n",
       "      <td>9.724415</td>\n",
       "      <td>22.479858</td>\n",
       "      <td>12.033449</td>\n",
       "      <td>6.262115</td>\n",
       "      <td>17.556846</td>\n",
       "    </tr>\n",
       "  </tbody>\n",
       "</table>\n",
       "<p>336 rows × 136 columns</p>\n",
       "</div>"
      ],
      "text/plain": [
       "                     ds  INFLOW_STRETCHER_yhat  INFLOW_STRETCHER_yhat_lower  \\\n",
       "0   2023-11-16 15:00:00               9.372677                     4.761938   \n",
       "1   2023-11-16 16:00:00               8.624814                     3.801546   \n",
       "2   2023-11-16 17:00:00               7.861612                     3.093843   \n",
       "3   2023-11-16 18:00:00               7.254323                     2.671563   \n",
       "4   2023-11-16 19:00:00               6.882685                     2.204374   \n",
       "..                  ...                    ...                          ...   \n",
       "331 2023-11-30 10:00:00               8.519662                     3.797807   \n",
       "332 2023-11-30 11:00:00               9.675963                     4.678008   \n",
       "333 2023-11-30 12:00:00              10.272874                     5.267760   \n",
       "334 2023-11-30 13:00:00              10.365968                     5.290833   \n",
       "335 2023-11-30 14:00:00              10.071714                     5.356801   \n",
       "\n",
       "     INFLOW_STRETCHER_yhat_upper  Infl_Stretcher_cum_yhat  \\\n",
       "0                      14.195761                86.678985   \n",
       "1                      13.593240                99.627985   \n",
       "2                      12.883545               106.732350   \n",
       "3                      11.522382               107.177992   \n",
       "4                      11.946306               107.987108   \n",
       "..                           ...                      ...   \n",
       "331                    13.431115                45.770872   \n",
       "332                    14.265940                58.321414   \n",
       "333                    15.065222                65.753625   \n",
       "334                    14.844847                70.007922   \n",
       "335                    14.840622                77.016458   \n",
       "\n",
       "     Infl_Stretcher_cum_yhat_lower  Infl_Stretcher_cum_yhat_upper  \\\n",
       "0                        53.625166                     121.496760   \n",
       "1                        62.437326                     133.960454   \n",
       "2                        72.134901                     141.502217   \n",
       "3                        72.823259                     143.381621   \n",
       "4                        72.902946                     145.550080   \n",
       "..                             ...                            ...   \n",
       "331                      10.370415                      78.546544   \n",
       "332                      22.574938                      92.654653   \n",
       "333                      32.779085                      99.816730   \n",
       "334                      36.695670                     106.158461   \n",
       "335                      44.248879                     111.172001   \n",
       "\n",
       "     INFLOW_AMBULATORY_yhat  INFLOW_AMBULATORY_yhat_lower  \\\n",
       "0                  6.670304                      1.973523   \n",
       "1                  6.334271                      1.660312   \n",
       "2                  5.832562                      0.793958   \n",
       "3                  5.246529                      0.063297   \n",
       "4                  4.755868                      0.143230   \n",
       "..                      ...                           ...   \n",
       "331                7.767328                      3.248775   \n",
       "332                8.250726                      3.659296   \n",
       "333                7.897408                      3.061340   \n",
       "334                7.263926                      2.595969   \n",
       "335                6.770861                      2.428055   \n",
       "\n",
       "     INFLOW_AMBULATORY_yhat_upper  ...  RAZ_XRAY_MORE2H_yhat_upper  \\\n",
       "0                       11.585410  ...                    3.415547   \n",
       "1                       11.145248  ...                    3.106638   \n",
       "2                       10.894051  ...                    3.175348   \n",
       "3                       10.038163  ...                    3.189028   \n",
       "4                        9.605422  ...                    3.246857   \n",
       "..                            ...  ...                         ...   \n",
       "331                     11.914920  ...                    2.841791   \n",
       "332                     12.799600  ...                    2.948915   \n",
       "333                     12.780339  ...                    2.725915   \n",
       "334                     11.814880  ...                    3.142372   \n",
       "335                     11.380515  ...                    3.269675   \n",
       "\n",
       "     RAZ_CT_MORE2H1_yhat  RAZ_CT_MORE2H1_yhat_lower  \\\n",
       "0               2.464569                  -0.688219   \n",
       "1               2.469529                  -0.556165   \n",
       "2               2.452457                  -0.653105   \n",
       "3               2.503606                  -0.599309   \n",
       "4               2.612539                  -0.383126   \n",
       "..                   ...                        ...   \n",
       "331             1.328970                  -1.905159   \n",
       "332             1.381354                  -1.638001   \n",
       "333             1.615495                  -1.486409   \n",
       "334             1.950820                  -1.036957   \n",
       "335             2.237609                  -0.894139   \n",
       "\n",
       "     RAZ_CT_MORE2H1_yhat_upper  PSYCH1_yhat  PSYCH1_yhat_lower  \\\n",
       "0                     5.434393    13.205138           7.049230   \n",
       "1                     5.575368    13.125717           6.810233   \n",
       "2                     5.791903    13.034825           6.421819   \n",
       "3                     5.622773    12.949044           6.086552   \n",
       "4                     5.692024    12.908222           5.998879   \n",
       "..                         ...          ...                ...   \n",
       "331                   4.162326    16.677761          10.292310   \n",
       "332                   4.298229    16.636992          10.054212   \n",
       "333                   4.596350    16.483918          10.018385   \n",
       "334                   4.865009    16.298498           9.348941   \n",
       "335                   5.303886    16.150075           9.724415   \n",
       "\n",
       "     PSYCH1_yhat_upper  PSYCH_WAITINGADM_yhat  PSYCH_WAITINGADM_yhat_lower  \\\n",
       "0            19.792659               8.965866                     3.219119   \n",
       "1            19.245163               8.823037                     3.510200   \n",
       "2            19.432305               8.704350                     3.172089   \n",
       "3            19.175051               8.622259                     2.426632   \n",
       "4            19.808633               8.605364                     2.657486   \n",
       "..                 ...                    ...                          ...   \n",
       "331          22.948094              12.878918                     7.038739   \n",
       "332          23.153321              12.720312                     6.826799   \n",
       "333          23.079304              12.496575                     6.946639   \n",
       "334          22.652183              12.253595                     6.622481   \n",
       "335          22.479858              12.033449                     6.262115   \n",
       "\n",
       "     PSYCH_WAITINGADM_yhat_upper  \n",
       "0                      14.581424  \n",
       "1                      14.380197  \n",
       "2                      14.257442  \n",
       "3                      14.398532  \n",
       "4                      14.075948  \n",
       "..                           ...  \n",
       "331                    18.353225  \n",
       "332                    18.234088  \n",
       "333                    18.059560  \n",
       "334                    18.257814  \n",
       "335                    17.556846  \n",
       "\n",
       "[336 rows x 136 columns]"
      ]
     },
     "execution_count": 5,
     "metadata": {},
     "output_type": "execute_result"
    }
   ],
   "source": [
    "output"
   ]
  },
  {
   "cell_type": "code",
   "execution_count": 6,
   "metadata": {},
   "outputs": [],
   "source": [
    "from deta import Deta\n",
    "from dotenv import load_dotenv\n",
    "import os\n",
    "\n",
    "load_dotenv()\n",
    "\n",
    "deta = Deta(os.environ.get(\"DETA_PROJECT_KEY\"))\n",
    "\n",
    "drive = deta.Drive(\"data\")"
   ]
  },
  {
   "cell_type": "code",
   "execution_count": 7,
   "metadata": {},
   "outputs": [
    {
     "data": {
      "text/plain": [
       "'anomaly_detection_ranges.csv'"
      ]
     },
     "execution_count": 7,
     "metadata": {},
     "output_type": "execute_result"
    }
   ],
   "source": [
    "output.to_csv('anomaly_detection_ranges.csv', index=False)\n",
    "\n",
    "drive.put(name='anomaly_detection_ranges.csv', path='anomaly_detection_ranges.csv')"
   ]
  },
  {
   "cell_type": "code",
   "execution_count": null,
   "metadata": {},
   "outputs": [],
   "source": []
  },
  {
   "cell_type": "code",
   "execution_count": null,
   "metadata": {},
   "outputs": [],
   "source": []
  }
 ],
 "metadata": {
  "kernelspec": {
   "display_name": "ed-flow-2023",
   "language": "python",
   "name": "python3"
  },
  "language_info": {
   "codemirror_mode": {
    "name": "ipython",
    "version": 3
   },
   "file_extension": ".py",
   "mimetype": "text/x-python",
   "name": "python",
   "nbconvert_exporter": "python",
   "pygments_lexer": "ipython3",
   "version": "3.10.13"
  }
 },
 "nbformat": 4,
 "nbformat_minor": 2
}
