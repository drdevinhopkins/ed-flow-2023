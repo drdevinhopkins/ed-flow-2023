{
 "cells": [
  {
   "cell_type": "code",
   "execution_count": 15,
   "metadata": {},
   "outputs": [
    {
     "ename": "URLError",
     "evalue": "<urlopen error [Errno 8] nodename nor servname provided, or not known>",
     "output_type": "error",
     "traceback": [
      "\u001b[0;31m---------------------------------------------------------------------------\u001b[0m",
      "\u001b[0;31mgaierror\u001b[0m                                  Traceback (most recent call last)",
      "File \u001b[0;32m~/anaconda3/envs/ed-flow-2023/lib/python3.10/urllib/request.py:1348\u001b[0m, in \u001b[0;36mAbstractHTTPHandler.do_open\u001b[0;34m(self, http_class, req, **http_conn_args)\u001b[0m\n\u001b[1;32m   1347\u001b[0m \u001b[38;5;28;01mtry\u001b[39;00m:\n\u001b[0;32m-> 1348\u001b[0m     \u001b[43mh\u001b[49m\u001b[38;5;241;43m.\u001b[39;49m\u001b[43mrequest\u001b[49m\u001b[43m(\u001b[49m\u001b[43mreq\u001b[49m\u001b[38;5;241;43m.\u001b[39;49m\u001b[43mget_method\u001b[49m\u001b[43m(\u001b[49m\u001b[43m)\u001b[49m\u001b[43m,\u001b[49m\u001b[43m \u001b[49m\u001b[43mreq\u001b[49m\u001b[38;5;241;43m.\u001b[39;49m\u001b[43mselector\u001b[49m\u001b[43m,\u001b[49m\u001b[43m \u001b[49m\u001b[43mreq\u001b[49m\u001b[38;5;241;43m.\u001b[39;49m\u001b[43mdata\u001b[49m\u001b[43m,\u001b[49m\u001b[43m \u001b[49m\u001b[43mheaders\u001b[49m\u001b[43m,\u001b[49m\n\u001b[1;32m   1349\u001b[0m \u001b[43m              \u001b[49m\u001b[43mencode_chunked\u001b[49m\u001b[38;5;241;43m=\u001b[39;49m\u001b[43mreq\u001b[49m\u001b[38;5;241;43m.\u001b[39;49m\u001b[43mhas_header\u001b[49m\u001b[43m(\u001b[49m\u001b[38;5;124;43m'\u001b[39;49m\u001b[38;5;124;43mTransfer-encoding\u001b[39;49m\u001b[38;5;124;43m'\u001b[39;49m\u001b[43m)\u001b[49m\u001b[43m)\u001b[49m\n\u001b[1;32m   1350\u001b[0m \u001b[38;5;28;01mexcept\u001b[39;00m \u001b[38;5;167;01mOSError\u001b[39;00m \u001b[38;5;28;01mas\u001b[39;00m err: \u001b[38;5;66;03m# timeout error\u001b[39;00m\n",
      "File \u001b[0;32m~/anaconda3/envs/ed-flow-2023/lib/python3.10/http/client.py:1283\u001b[0m, in \u001b[0;36mHTTPConnection.request\u001b[0;34m(self, method, url, body, headers, encode_chunked)\u001b[0m\n\u001b[1;32m   1282\u001b[0m \u001b[38;5;250m\u001b[39m\u001b[38;5;124;03m\"\"\"Send a complete request to the server.\"\"\"\u001b[39;00m\n\u001b[0;32m-> 1283\u001b[0m \u001b[38;5;28;43mself\u001b[39;49m\u001b[38;5;241;43m.\u001b[39;49m\u001b[43m_send_request\u001b[49m\u001b[43m(\u001b[49m\u001b[43mmethod\u001b[49m\u001b[43m,\u001b[49m\u001b[43m \u001b[49m\u001b[43murl\u001b[49m\u001b[43m,\u001b[49m\u001b[43m \u001b[49m\u001b[43mbody\u001b[49m\u001b[43m,\u001b[49m\u001b[43m \u001b[49m\u001b[43mheaders\u001b[49m\u001b[43m,\u001b[49m\u001b[43m \u001b[49m\u001b[43mencode_chunked\u001b[49m\u001b[43m)\u001b[49m\n",
      "File \u001b[0;32m~/anaconda3/envs/ed-flow-2023/lib/python3.10/http/client.py:1329\u001b[0m, in \u001b[0;36mHTTPConnection._send_request\u001b[0;34m(self, method, url, body, headers, encode_chunked)\u001b[0m\n\u001b[1;32m   1328\u001b[0m     body \u001b[38;5;241m=\u001b[39m _encode(body, \u001b[38;5;124m'\u001b[39m\u001b[38;5;124mbody\u001b[39m\u001b[38;5;124m'\u001b[39m)\n\u001b[0;32m-> 1329\u001b[0m \u001b[38;5;28;43mself\u001b[39;49m\u001b[38;5;241;43m.\u001b[39;49m\u001b[43mendheaders\u001b[49m\u001b[43m(\u001b[49m\u001b[43mbody\u001b[49m\u001b[43m,\u001b[49m\u001b[43m \u001b[49m\u001b[43mencode_chunked\u001b[49m\u001b[38;5;241;43m=\u001b[39;49m\u001b[43mencode_chunked\u001b[49m\u001b[43m)\u001b[49m\n",
      "File \u001b[0;32m~/anaconda3/envs/ed-flow-2023/lib/python3.10/http/client.py:1278\u001b[0m, in \u001b[0;36mHTTPConnection.endheaders\u001b[0;34m(self, message_body, encode_chunked)\u001b[0m\n\u001b[1;32m   1277\u001b[0m     \u001b[38;5;28;01mraise\u001b[39;00m CannotSendHeader()\n\u001b[0;32m-> 1278\u001b[0m \u001b[38;5;28;43mself\u001b[39;49m\u001b[38;5;241;43m.\u001b[39;49m\u001b[43m_send_output\u001b[49m\u001b[43m(\u001b[49m\u001b[43mmessage_body\u001b[49m\u001b[43m,\u001b[49m\u001b[43m \u001b[49m\u001b[43mencode_chunked\u001b[49m\u001b[38;5;241;43m=\u001b[39;49m\u001b[43mencode_chunked\u001b[49m\u001b[43m)\u001b[49m\n",
      "File \u001b[0;32m~/anaconda3/envs/ed-flow-2023/lib/python3.10/http/client.py:1038\u001b[0m, in \u001b[0;36mHTTPConnection._send_output\u001b[0;34m(self, message_body, encode_chunked)\u001b[0m\n\u001b[1;32m   1037\u001b[0m \u001b[38;5;28;01mdel\u001b[39;00m \u001b[38;5;28mself\u001b[39m\u001b[38;5;241m.\u001b[39m_buffer[:]\n\u001b[0;32m-> 1038\u001b[0m \u001b[38;5;28;43mself\u001b[39;49m\u001b[38;5;241;43m.\u001b[39;49m\u001b[43msend\u001b[49m\u001b[43m(\u001b[49m\u001b[43mmsg\u001b[49m\u001b[43m)\u001b[49m\n\u001b[1;32m   1040\u001b[0m \u001b[38;5;28;01mif\u001b[39;00m message_body \u001b[38;5;129;01mis\u001b[39;00m \u001b[38;5;129;01mnot\u001b[39;00m \u001b[38;5;28;01mNone\u001b[39;00m:\n\u001b[1;32m   1041\u001b[0m \n\u001b[1;32m   1042\u001b[0m     \u001b[38;5;66;03m# create a consistent interface to message_body\u001b[39;00m\n",
      "File \u001b[0;32m~/anaconda3/envs/ed-flow-2023/lib/python3.10/http/client.py:976\u001b[0m, in \u001b[0;36mHTTPConnection.send\u001b[0;34m(self, data)\u001b[0m\n\u001b[1;32m    975\u001b[0m \u001b[38;5;28;01mif\u001b[39;00m \u001b[38;5;28mself\u001b[39m\u001b[38;5;241m.\u001b[39mauto_open:\n\u001b[0;32m--> 976\u001b[0m     \u001b[38;5;28;43mself\u001b[39;49m\u001b[38;5;241;43m.\u001b[39;49m\u001b[43mconnect\u001b[49m\u001b[43m(\u001b[49m\u001b[43m)\u001b[49m\n\u001b[1;32m    977\u001b[0m \u001b[38;5;28;01melse\u001b[39;00m:\n",
      "File \u001b[0;32m~/anaconda3/envs/ed-flow-2023/lib/python3.10/http/client.py:1448\u001b[0m, in \u001b[0;36mHTTPSConnection.connect\u001b[0;34m(self)\u001b[0m\n\u001b[1;32m   1446\u001b[0m \u001b[38;5;124m\"\u001b[39m\u001b[38;5;124mConnect to a host on a given (SSL) port.\u001b[39m\u001b[38;5;124m\"\u001b[39m\n\u001b[0;32m-> 1448\u001b[0m \u001b[38;5;28;43msuper\u001b[39;49m\u001b[43m(\u001b[49m\u001b[43m)\u001b[49m\u001b[38;5;241;43m.\u001b[39;49m\u001b[43mconnect\u001b[49m\u001b[43m(\u001b[49m\u001b[43m)\u001b[49m\n\u001b[1;32m   1450\u001b[0m \u001b[38;5;28;01mif\u001b[39;00m \u001b[38;5;28mself\u001b[39m\u001b[38;5;241m.\u001b[39m_tunnel_host:\n",
      "File \u001b[0;32m~/anaconda3/envs/ed-flow-2023/lib/python3.10/http/client.py:942\u001b[0m, in \u001b[0;36mHTTPConnection.connect\u001b[0;34m(self)\u001b[0m\n\u001b[1;32m    941\u001b[0m sys\u001b[38;5;241m.\u001b[39maudit(\u001b[38;5;124m\"\u001b[39m\u001b[38;5;124mhttp.client.connect\u001b[39m\u001b[38;5;124m\"\u001b[39m, \u001b[38;5;28mself\u001b[39m, \u001b[38;5;28mself\u001b[39m\u001b[38;5;241m.\u001b[39mhost, \u001b[38;5;28mself\u001b[39m\u001b[38;5;241m.\u001b[39mport)\n\u001b[0;32m--> 942\u001b[0m \u001b[38;5;28mself\u001b[39m\u001b[38;5;241m.\u001b[39msock \u001b[38;5;241m=\u001b[39m \u001b[38;5;28;43mself\u001b[39;49m\u001b[38;5;241;43m.\u001b[39;49m\u001b[43m_create_connection\u001b[49m\u001b[43m(\u001b[49m\n\u001b[1;32m    943\u001b[0m \u001b[43m    \u001b[49m\u001b[43m(\u001b[49m\u001b[38;5;28;43mself\u001b[39;49m\u001b[38;5;241;43m.\u001b[39;49m\u001b[43mhost\u001b[49m\u001b[43m,\u001b[49m\u001b[38;5;28;43mself\u001b[39;49m\u001b[38;5;241;43m.\u001b[39;49m\u001b[43mport\u001b[49m\u001b[43m)\u001b[49m\u001b[43m,\u001b[49m\u001b[43m \u001b[49m\u001b[38;5;28;43mself\u001b[39;49m\u001b[38;5;241;43m.\u001b[39;49m\u001b[43mtimeout\u001b[49m\u001b[43m,\u001b[49m\u001b[43m \u001b[49m\u001b[38;5;28;43mself\u001b[39;49m\u001b[38;5;241;43m.\u001b[39;49m\u001b[43msource_address\u001b[49m\u001b[43m)\u001b[49m\n\u001b[1;32m    944\u001b[0m \u001b[38;5;66;03m# Might fail in OSs that don't implement TCP_NODELAY\u001b[39;00m\n",
      "File \u001b[0;32m~/anaconda3/envs/ed-flow-2023/lib/python3.10/socket.py:824\u001b[0m, in \u001b[0;36mcreate_connection\u001b[0;34m(address, timeout, source_address)\u001b[0m\n\u001b[1;32m    823\u001b[0m err \u001b[38;5;241m=\u001b[39m \u001b[38;5;28;01mNone\u001b[39;00m\n\u001b[0;32m--> 824\u001b[0m \u001b[38;5;28;01mfor\u001b[39;00m res \u001b[38;5;129;01min\u001b[39;00m \u001b[43mgetaddrinfo\u001b[49m\u001b[43m(\u001b[49m\u001b[43mhost\u001b[49m\u001b[43m,\u001b[49m\u001b[43m \u001b[49m\u001b[43mport\u001b[49m\u001b[43m,\u001b[49m\u001b[43m \u001b[49m\u001b[38;5;241;43m0\u001b[39;49m\u001b[43m,\u001b[49m\u001b[43m \u001b[49m\u001b[43mSOCK_STREAM\u001b[49m\u001b[43m)\u001b[49m:\n\u001b[1;32m    825\u001b[0m     af, socktype, proto, canonname, sa \u001b[38;5;241m=\u001b[39m res\n",
      "File \u001b[0;32m~/anaconda3/envs/ed-flow-2023/lib/python3.10/socket.py:955\u001b[0m, in \u001b[0;36mgetaddrinfo\u001b[0;34m(host, port, family, type, proto, flags)\u001b[0m\n\u001b[1;32m    954\u001b[0m addrlist \u001b[38;5;241m=\u001b[39m []\n\u001b[0;32m--> 955\u001b[0m \u001b[38;5;28;01mfor\u001b[39;00m res \u001b[38;5;129;01min\u001b[39;00m \u001b[43m_socket\u001b[49m\u001b[38;5;241;43m.\u001b[39;49m\u001b[43mgetaddrinfo\u001b[49m\u001b[43m(\u001b[49m\u001b[43mhost\u001b[49m\u001b[43m,\u001b[49m\u001b[43m \u001b[49m\u001b[43mport\u001b[49m\u001b[43m,\u001b[49m\u001b[43m \u001b[49m\u001b[43mfamily\u001b[49m\u001b[43m,\u001b[49m\u001b[43m \u001b[49m\u001b[38;5;28;43mtype\u001b[39;49m\u001b[43m,\u001b[49m\u001b[43m \u001b[49m\u001b[43mproto\u001b[49m\u001b[43m,\u001b[49m\u001b[43m \u001b[49m\u001b[43mflags\u001b[49m\u001b[43m)\u001b[49m:\n\u001b[1;32m    956\u001b[0m     af, socktype, proto, canonname, sa \u001b[38;5;241m=\u001b[39m res\n",
      "\u001b[0;31mgaierror\u001b[0m: [Errno 8] nodename nor servname provided, or not known",
      "\nDuring handling of the above exception, another exception occurred:\n",
      "\u001b[0;31mURLError\u001b[0m                                  Traceback (most recent call last)",
      "Cell \u001b[0;32mIn[15], line 7\u001b[0m\n\u001b[1;32m      3\u001b[0m \u001b[38;5;28;01mfrom\u001b[39;00m \u001b[38;5;21;01mdotenv\u001b[39;00m \u001b[38;5;28;01mimport\u001b[39;00m load_dotenv\n\u001b[1;32m      5\u001b[0m load_dotenv(\u001b[38;5;124m'\u001b[39m\u001b[38;5;124m../.env\u001b[39m\u001b[38;5;124m'\u001b[39m)\n\u001b[0;32m----> 7\u001b[0m allData \u001b[38;5;241m=\u001b[39m \u001b[43mpd\u001b[49m\u001b[38;5;241;43m.\u001b[39;49m\u001b[43mread_csv\u001b[49m\u001b[43m(\u001b[49m\u001b[38;5;124;43m'\u001b[39;49m\u001b[38;5;124;43mhttps://drive.deta.sh/v1/b0x22rtxtdf/data/files/download?name=allData.csv\u001b[39;49m\u001b[38;5;124;43m'\u001b[39;49m\u001b[43m,\u001b[49m\u001b[43m \u001b[49m\u001b[43mstorage_options\u001b[49m\u001b[38;5;241;43m=\u001b[39;49m\u001b[43m{\u001b[49m\u001b[38;5;124;43m'\u001b[39;49m\u001b[38;5;124;43mX-API-Key\u001b[39;49m\u001b[38;5;124;43m'\u001b[39;49m\u001b[43m:\u001b[49m\u001b[43mos\u001b[49m\u001b[38;5;241;43m.\u001b[39;49m\u001b[43menviron\u001b[49m\u001b[38;5;241;43m.\u001b[39;49m\u001b[43mget\u001b[49m\u001b[43m(\u001b[49m\u001b[38;5;124;43m\"\u001b[39;49m\u001b[38;5;124;43mDETA_PROJECT_KEY\u001b[39;49m\u001b[38;5;124;43m\"\u001b[39;49m\u001b[43m)\u001b[49m\u001b[43m}\u001b[49m\u001b[43m)\u001b[49m\n\u001b[1;32m      8\u001b[0m allData\u001b[38;5;241m.\u001b[39mds \u001b[38;5;241m=\u001b[39m pd\u001b[38;5;241m.\u001b[39mto_datetime(allData\u001b[38;5;241m.\u001b[39mds)\n\u001b[1;32m      9\u001b[0m allData\n",
      "File \u001b[0;32m~/anaconda3/envs/ed-flow-2023/lib/python3.10/site-packages/pandas/io/parsers/readers.py:1026\u001b[0m, in \u001b[0;36mread_csv\u001b[0;34m(filepath_or_buffer, sep, delimiter, header, names, index_col, usecols, dtype, engine, converters, true_values, false_values, skipinitialspace, skiprows, skipfooter, nrows, na_values, keep_default_na, na_filter, verbose, skip_blank_lines, parse_dates, infer_datetime_format, keep_date_col, date_parser, date_format, dayfirst, cache_dates, iterator, chunksize, compression, thousands, decimal, lineterminator, quotechar, quoting, doublequote, escapechar, comment, encoding, encoding_errors, dialect, on_bad_lines, delim_whitespace, low_memory, memory_map, float_precision, storage_options, dtype_backend)\u001b[0m\n\u001b[1;32m   1013\u001b[0m kwds_defaults \u001b[38;5;241m=\u001b[39m _refine_defaults_read(\n\u001b[1;32m   1014\u001b[0m     dialect,\n\u001b[1;32m   1015\u001b[0m     delimiter,\n\u001b[0;32m   (...)\u001b[0m\n\u001b[1;32m   1022\u001b[0m     dtype_backend\u001b[38;5;241m=\u001b[39mdtype_backend,\n\u001b[1;32m   1023\u001b[0m )\n\u001b[1;32m   1024\u001b[0m kwds\u001b[38;5;241m.\u001b[39mupdate(kwds_defaults)\n\u001b[0;32m-> 1026\u001b[0m \u001b[38;5;28;01mreturn\u001b[39;00m \u001b[43m_read\u001b[49m\u001b[43m(\u001b[49m\u001b[43mfilepath_or_buffer\u001b[49m\u001b[43m,\u001b[49m\u001b[43m \u001b[49m\u001b[43mkwds\u001b[49m\u001b[43m)\u001b[49m\n",
      "File \u001b[0;32m~/anaconda3/envs/ed-flow-2023/lib/python3.10/site-packages/pandas/io/parsers/readers.py:620\u001b[0m, in \u001b[0;36m_read\u001b[0;34m(filepath_or_buffer, kwds)\u001b[0m\n\u001b[1;32m    617\u001b[0m _validate_names(kwds\u001b[38;5;241m.\u001b[39mget(\u001b[38;5;124m\"\u001b[39m\u001b[38;5;124mnames\u001b[39m\u001b[38;5;124m\"\u001b[39m, \u001b[38;5;28;01mNone\u001b[39;00m))\n\u001b[1;32m    619\u001b[0m \u001b[38;5;66;03m# Create the parser.\u001b[39;00m\n\u001b[0;32m--> 620\u001b[0m parser \u001b[38;5;241m=\u001b[39m \u001b[43mTextFileReader\u001b[49m\u001b[43m(\u001b[49m\u001b[43mfilepath_or_buffer\u001b[49m\u001b[43m,\u001b[49m\u001b[43m \u001b[49m\u001b[38;5;241;43m*\u001b[39;49m\u001b[38;5;241;43m*\u001b[39;49m\u001b[43mkwds\u001b[49m\u001b[43m)\u001b[49m\n\u001b[1;32m    622\u001b[0m \u001b[38;5;28;01mif\u001b[39;00m chunksize \u001b[38;5;129;01mor\u001b[39;00m iterator:\n\u001b[1;32m    623\u001b[0m     \u001b[38;5;28;01mreturn\u001b[39;00m parser\n",
      "File \u001b[0;32m~/anaconda3/envs/ed-flow-2023/lib/python3.10/site-packages/pandas/io/parsers/readers.py:1620\u001b[0m, in \u001b[0;36mTextFileReader.__init__\u001b[0;34m(self, f, engine, **kwds)\u001b[0m\n\u001b[1;32m   1617\u001b[0m     \u001b[38;5;28mself\u001b[39m\u001b[38;5;241m.\u001b[39moptions[\u001b[38;5;124m\"\u001b[39m\u001b[38;5;124mhas_index_names\u001b[39m\u001b[38;5;124m\"\u001b[39m] \u001b[38;5;241m=\u001b[39m kwds[\u001b[38;5;124m\"\u001b[39m\u001b[38;5;124mhas_index_names\u001b[39m\u001b[38;5;124m\"\u001b[39m]\n\u001b[1;32m   1619\u001b[0m \u001b[38;5;28mself\u001b[39m\u001b[38;5;241m.\u001b[39mhandles: IOHandles \u001b[38;5;241m|\u001b[39m \u001b[38;5;28;01mNone\u001b[39;00m \u001b[38;5;241m=\u001b[39m \u001b[38;5;28;01mNone\u001b[39;00m\n\u001b[0;32m-> 1620\u001b[0m \u001b[38;5;28mself\u001b[39m\u001b[38;5;241m.\u001b[39m_engine \u001b[38;5;241m=\u001b[39m \u001b[38;5;28;43mself\u001b[39;49m\u001b[38;5;241;43m.\u001b[39;49m\u001b[43m_make_engine\u001b[49m\u001b[43m(\u001b[49m\u001b[43mf\u001b[49m\u001b[43m,\u001b[49m\u001b[43m \u001b[49m\u001b[38;5;28;43mself\u001b[39;49m\u001b[38;5;241;43m.\u001b[39;49m\u001b[43mengine\u001b[49m\u001b[43m)\u001b[49m\n",
      "File \u001b[0;32m~/anaconda3/envs/ed-flow-2023/lib/python3.10/site-packages/pandas/io/parsers/readers.py:1880\u001b[0m, in \u001b[0;36mTextFileReader._make_engine\u001b[0;34m(self, f, engine)\u001b[0m\n\u001b[1;32m   1878\u001b[0m     \u001b[38;5;28;01mif\u001b[39;00m \u001b[38;5;124m\"\u001b[39m\u001b[38;5;124mb\u001b[39m\u001b[38;5;124m\"\u001b[39m \u001b[38;5;129;01mnot\u001b[39;00m \u001b[38;5;129;01min\u001b[39;00m mode:\n\u001b[1;32m   1879\u001b[0m         mode \u001b[38;5;241m+\u001b[39m\u001b[38;5;241m=\u001b[39m \u001b[38;5;124m\"\u001b[39m\u001b[38;5;124mb\u001b[39m\u001b[38;5;124m\"\u001b[39m\n\u001b[0;32m-> 1880\u001b[0m \u001b[38;5;28mself\u001b[39m\u001b[38;5;241m.\u001b[39mhandles \u001b[38;5;241m=\u001b[39m \u001b[43mget_handle\u001b[49m\u001b[43m(\u001b[49m\n\u001b[1;32m   1881\u001b[0m \u001b[43m    \u001b[49m\u001b[43mf\u001b[49m\u001b[43m,\u001b[49m\n\u001b[1;32m   1882\u001b[0m \u001b[43m    \u001b[49m\u001b[43mmode\u001b[49m\u001b[43m,\u001b[49m\n\u001b[1;32m   1883\u001b[0m \u001b[43m    \u001b[49m\u001b[43mencoding\u001b[49m\u001b[38;5;241;43m=\u001b[39;49m\u001b[38;5;28;43mself\u001b[39;49m\u001b[38;5;241;43m.\u001b[39;49m\u001b[43moptions\u001b[49m\u001b[38;5;241;43m.\u001b[39;49m\u001b[43mget\u001b[49m\u001b[43m(\u001b[49m\u001b[38;5;124;43m\"\u001b[39;49m\u001b[38;5;124;43mencoding\u001b[39;49m\u001b[38;5;124;43m\"\u001b[39;49m\u001b[43m,\u001b[49m\u001b[43m \u001b[49m\u001b[38;5;28;43;01mNone\u001b[39;49;00m\u001b[43m)\u001b[49m\u001b[43m,\u001b[49m\n\u001b[1;32m   1884\u001b[0m \u001b[43m    \u001b[49m\u001b[43mcompression\u001b[49m\u001b[38;5;241;43m=\u001b[39;49m\u001b[38;5;28;43mself\u001b[39;49m\u001b[38;5;241;43m.\u001b[39;49m\u001b[43moptions\u001b[49m\u001b[38;5;241;43m.\u001b[39;49m\u001b[43mget\u001b[49m\u001b[43m(\u001b[49m\u001b[38;5;124;43m\"\u001b[39;49m\u001b[38;5;124;43mcompression\u001b[39;49m\u001b[38;5;124;43m\"\u001b[39;49m\u001b[43m,\u001b[49m\u001b[43m \u001b[49m\u001b[38;5;28;43;01mNone\u001b[39;49;00m\u001b[43m)\u001b[49m\u001b[43m,\u001b[49m\n\u001b[1;32m   1885\u001b[0m \u001b[43m    \u001b[49m\u001b[43mmemory_map\u001b[49m\u001b[38;5;241;43m=\u001b[39;49m\u001b[38;5;28;43mself\u001b[39;49m\u001b[38;5;241;43m.\u001b[39;49m\u001b[43moptions\u001b[49m\u001b[38;5;241;43m.\u001b[39;49m\u001b[43mget\u001b[49m\u001b[43m(\u001b[49m\u001b[38;5;124;43m\"\u001b[39;49m\u001b[38;5;124;43mmemory_map\u001b[39;49m\u001b[38;5;124;43m\"\u001b[39;49m\u001b[43m,\u001b[49m\u001b[43m \u001b[49m\u001b[38;5;28;43;01mFalse\u001b[39;49;00m\u001b[43m)\u001b[49m\u001b[43m,\u001b[49m\n\u001b[1;32m   1886\u001b[0m \u001b[43m    \u001b[49m\u001b[43mis_text\u001b[49m\u001b[38;5;241;43m=\u001b[39;49m\u001b[43mis_text\u001b[49m\u001b[43m,\u001b[49m\n\u001b[1;32m   1887\u001b[0m \u001b[43m    \u001b[49m\u001b[43merrors\u001b[49m\u001b[38;5;241;43m=\u001b[39;49m\u001b[38;5;28;43mself\u001b[39;49m\u001b[38;5;241;43m.\u001b[39;49m\u001b[43moptions\u001b[49m\u001b[38;5;241;43m.\u001b[39;49m\u001b[43mget\u001b[49m\u001b[43m(\u001b[49m\u001b[38;5;124;43m\"\u001b[39;49m\u001b[38;5;124;43mencoding_errors\u001b[39;49m\u001b[38;5;124;43m\"\u001b[39;49m\u001b[43m,\u001b[49m\u001b[43m \u001b[49m\u001b[38;5;124;43m\"\u001b[39;49m\u001b[38;5;124;43mstrict\u001b[39;49m\u001b[38;5;124;43m\"\u001b[39;49m\u001b[43m)\u001b[49m\u001b[43m,\u001b[49m\n\u001b[1;32m   1888\u001b[0m \u001b[43m    \u001b[49m\u001b[43mstorage_options\u001b[49m\u001b[38;5;241;43m=\u001b[39;49m\u001b[38;5;28;43mself\u001b[39;49m\u001b[38;5;241;43m.\u001b[39;49m\u001b[43moptions\u001b[49m\u001b[38;5;241;43m.\u001b[39;49m\u001b[43mget\u001b[49m\u001b[43m(\u001b[49m\u001b[38;5;124;43m\"\u001b[39;49m\u001b[38;5;124;43mstorage_options\u001b[39;49m\u001b[38;5;124;43m\"\u001b[39;49m\u001b[43m,\u001b[49m\u001b[43m \u001b[49m\u001b[38;5;28;43;01mNone\u001b[39;49;00m\u001b[43m)\u001b[49m\u001b[43m,\u001b[49m\n\u001b[1;32m   1889\u001b[0m \u001b[43m\u001b[49m\u001b[43m)\u001b[49m\n\u001b[1;32m   1890\u001b[0m \u001b[38;5;28;01massert\u001b[39;00m \u001b[38;5;28mself\u001b[39m\u001b[38;5;241m.\u001b[39mhandles \u001b[38;5;129;01mis\u001b[39;00m \u001b[38;5;129;01mnot\u001b[39;00m \u001b[38;5;28;01mNone\u001b[39;00m\n\u001b[1;32m   1891\u001b[0m f \u001b[38;5;241m=\u001b[39m \u001b[38;5;28mself\u001b[39m\u001b[38;5;241m.\u001b[39mhandles\u001b[38;5;241m.\u001b[39mhandle\n",
      "File \u001b[0;32m~/anaconda3/envs/ed-flow-2023/lib/python3.10/site-packages/pandas/io/common.py:728\u001b[0m, in \u001b[0;36mget_handle\u001b[0;34m(path_or_buf, mode, encoding, compression, memory_map, is_text, errors, storage_options)\u001b[0m\n\u001b[1;32m    725\u001b[0m     codecs\u001b[38;5;241m.\u001b[39mlookup_error(errors)\n\u001b[1;32m    727\u001b[0m \u001b[38;5;66;03m# open URLs\u001b[39;00m\n\u001b[0;32m--> 728\u001b[0m ioargs \u001b[38;5;241m=\u001b[39m \u001b[43m_get_filepath_or_buffer\u001b[49m\u001b[43m(\u001b[49m\n\u001b[1;32m    729\u001b[0m \u001b[43m    \u001b[49m\u001b[43mpath_or_buf\u001b[49m\u001b[43m,\u001b[49m\n\u001b[1;32m    730\u001b[0m \u001b[43m    \u001b[49m\u001b[43mencoding\u001b[49m\u001b[38;5;241;43m=\u001b[39;49m\u001b[43mencoding\u001b[49m\u001b[43m,\u001b[49m\n\u001b[1;32m    731\u001b[0m \u001b[43m    \u001b[49m\u001b[43mcompression\u001b[49m\u001b[38;5;241;43m=\u001b[39;49m\u001b[43mcompression\u001b[49m\u001b[43m,\u001b[49m\n\u001b[1;32m    732\u001b[0m \u001b[43m    \u001b[49m\u001b[43mmode\u001b[49m\u001b[38;5;241;43m=\u001b[39;49m\u001b[43mmode\u001b[49m\u001b[43m,\u001b[49m\n\u001b[1;32m    733\u001b[0m \u001b[43m    \u001b[49m\u001b[43mstorage_options\u001b[49m\u001b[38;5;241;43m=\u001b[39;49m\u001b[43mstorage_options\u001b[49m\u001b[43m,\u001b[49m\n\u001b[1;32m    734\u001b[0m \u001b[43m\u001b[49m\u001b[43m)\u001b[49m\n\u001b[1;32m    736\u001b[0m handle \u001b[38;5;241m=\u001b[39m ioargs\u001b[38;5;241m.\u001b[39mfilepath_or_buffer\n\u001b[1;32m    737\u001b[0m handles: \u001b[38;5;28mlist\u001b[39m[BaseBuffer]\n",
      "File \u001b[0;32m~/anaconda3/envs/ed-flow-2023/lib/python3.10/site-packages/pandas/io/common.py:384\u001b[0m, in \u001b[0;36m_get_filepath_or_buffer\u001b[0;34m(filepath_or_buffer, encoding, compression, mode, storage_options)\u001b[0m\n\u001b[1;32m    382\u001b[0m \u001b[38;5;66;03m# assuming storage_options is to be interpreted as headers\u001b[39;00m\n\u001b[1;32m    383\u001b[0m req_info \u001b[38;5;241m=\u001b[39m urllib\u001b[38;5;241m.\u001b[39mrequest\u001b[38;5;241m.\u001b[39mRequest(filepath_or_buffer, headers\u001b[38;5;241m=\u001b[39mstorage_options)\n\u001b[0;32m--> 384\u001b[0m \u001b[38;5;28;01mwith\u001b[39;00m \u001b[43murlopen\u001b[49m\u001b[43m(\u001b[49m\u001b[43mreq_info\u001b[49m\u001b[43m)\u001b[49m \u001b[38;5;28;01mas\u001b[39;00m req:\n\u001b[1;32m    385\u001b[0m     content_encoding \u001b[38;5;241m=\u001b[39m req\u001b[38;5;241m.\u001b[39mheaders\u001b[38;5;241m.\u001b[39mget(\u001b[38;5;124m\"\u001b[39m\u001b[38;5;124mContent-Encoding\u001b[39m\u001b[38;5;124m\"\u001b[39m, \u001b[38;5;28;01mNone\u001b[39;00m)\n\u001b[1;32m    386\u001b[0m     \u001b[38;5;28;01mif\u001b[39;00m content_encoding \u001b[38;5;241m==\u001b[39m \u001b[38;5;124m\"\u001b[39m\u001b[38;5;124mgzip\u001b[39m\u001b[38;5;124m\"\u001b[39m:\n\u001b[1;32m    387\u001b[0m         \u001b[38;5;66;03m# Override compression based on Content-Encoding header\u001b[39;00m\n",
      "File \u001b[0;32m~/anaconda3/envs/ed-flow-2023/lib/python3.10/site-packages/pandas/io/common.py:289\u001b[0m, in \u001b[0;36murlopen\u001b[0;34m(*args, **kwargs)\u001b[0m\n\u001b[1;32m    283\u001b[0m \u001b[38;5;250m\u001b[39m\u001b[38;5;124;03m\"\"\"\u001b[39;00m\n\u001b[1;32m    284\u001b[0m \u001b[38;5;124;03mLazy-import wrapper for stdlib urlopen, as that imports a big chunk of\u001b[39;00m\n\u001b[1;32m    285\u001b[0m \u001b[38;5;124;03mthe stdlib.\u001b[39;00m\n\u001b[1;32m    286\u001b[0m \u001b[38;5;124;03m\"\"\"\u001b[39;00m\n\u001b[1;32m    287\u001b[0m \u001b[38;5;28;01mimport\u001b[39;00m \u001b[38;5;21;01murllib\u001b[39;00m\u001b[38;5;21;01m.\u001b[39;00m\u001b[38;5;21;01mrequest\u001b[39;00m\n\u001b[0;32m--> 289\u001b[0m \u001b[38;5;28;01mreturn\u001b[39;00m \u001b[43murllib\u001b[49m\u001b[38;5;241;43m.\u001b[39;49m\u001b[43mrequest\u001b[49m\u001b[38;5;241;43m.\u001b[39;49m\u001b[43murlopen\u001b[49m\u001b[43m(\u001b[49m\u001b[38;5;241;43m*\u001b[39;49m\u001b[43margs\u001b[49m\u001b[43m,\u001b[49m\u001b[43m \u001b[49m\u001b[38;5;241;43m*\u001b[39;49m\u001b[38;5;241;43m*\u001b[39;49m\u001b[43mkwargs\u001b[49m\u001b[43m)\u001b[49m\n",
      "File \u001b[0;32m~/anaconda3/envs/ed-flow-2023/lib/python3.10/urllib/request.py:216\u001b[0m, in \u001b[0;36murlopen\u001b[0;34m(url, data, timeout, cafile, capath, cadefault, context)\u001b[0m\n\u001b[1;32m    214\u001b[0m \u001b[38;5;28;01melse\u001b[39;00m:\n\u001b[1;32m    215\u001b[0m     opener \u001b[38;5;241m=\u001b[39m _opener\n\u001b[0;32m--> 216\u001b[0m \u001b[38;5;28;01mreturn\u001b[39;00m \u001b[43mopener\u001b[49m\u001b[38;5;241;43m.\u001b[39;49m\u001b[43mopen\u001b[49m\u001b[43m(\u001b[49m\u001b[43murl\u001b[49m\u001b[43m,\u001b[49m\u001b[43m \u001b[49m\u001b[43mdata\u001b[49m\u001b[43m,\u001b[49m\u001b[43m \u001b[49m\u001b[43mtimeout\u001b[49m\u001b[43m)\u001b[49m\n",
      "File \u001b[0;32m~/anaconda3/envs/ed-flow-2023/lib/python3.10/urllib/request.py:519\u001b[0m, in \u001b[0;36mOpenerDirector.open\u001b[0;34m(self, fullurl, data, timeout)\u001b[0m\n\u001b[1;32m    516\u001b[0m     req \u001b[38;5;241m=\u001b[39m meth(req)\n\u001b[1;32m    518\u001b[0m sys\u001b[38;5;241m.\u001b[39maudit(\u001b[38;5;124m'\u001b[39m\u001b[38;5;124murllib.Request\u001b[39m\u001b[38;5;124m'\u001b[39m, req\u001b[38;5;241m.\u001b[39mfull_url, req\u001b[38;5;241m.\u001b[39mdata, req\u001b[38;5;241m.\u001b[39mheaders, req\u001b[38;5;241m.\u001b[39mget_method())\n\u001b[0;32m--> 519\u001b[0m response \u001b[38;5;241m=\u001b[39m \u001b[38;5;28;43mself\u001b[39;49m\u001b[38;5;241;43m.\u001b[39;49m\u001b[43m_open\u001b[49m\u001b[43m(\u001b[49m\u001b[43mreq\u001b[49m\u001b[43m,\u001b[49m\u001b[43m \u001b[49m\u001b[43mdata\u001b[49m\u001b[43m)\u001b[49m\n\u001b[1;32m    521\u001b[0m \u001b[38;5;66;03m# post-process response\u001b[39;00m\n\u001b[1;32m    522\u001b[0m meth_name \u001b[38;5;241m=\u001b[39m protocol\u001b[38;5;241m+\u001b[39m\u001b[38;5;124m\"\u001b[39m\u001b[38;5;124m_response\u001b[39m\u001b[38;5;124m\"\u001b[39m\n",
      "File \u001b[0;32m~/anaconda3/envs/ed-flow-2023/lib/python3.10/urllib/request.py:536\u001b[0m, in \u001b[0;36mOpenerDirector._open\u001b[0;34m(self, req, data)\u001b[0m\n\u001b[1;32m    533\u001b[0m     \u001b[38;5;28;01mreturn\u001b[39;00m result\n\u001b[1;32m    535\u001b[0m protocol \u001b[38;5;241m=\u001b[39m req\u001b[38;5;241m.\u001b[39mtype\n\u001b[0;32m--> 536\u001b[0m result \u001b[38;5;241m=\u001b[39m \u001b[38;5;28;43mself\u001b[39;49m\u001b[38;5;241;43m.\u001b[39;49m\u001b[43m_call_chain\u001b[49m\u001b[43m(\u001b[49m\u001b[38;5;28;43mself\u001b[39;49m\u001b[38;5;241;43m.\u001b[39;49m\u001b[43mhandle_open\u001b[49m\u001b[43m,\u001b[49m\u001b[43m \u001b[49m\u001b[43mprotocol\u001b[49m\u001b[43m,\u001b[49m\u001b[43m \u001b[49m\u001b[43mprotocol\u001b[49m\u001b[43m \u001b[49m\u001b[38;5;241;43m+\u001b[39;49m\n\u001b[1;32m    537\u001b[0m \u001b[43m                          \u001b[49m\u001b[38;5;124;43m'\u001b[39;49m\u001b[38;5;124;43m_open\u001b[39;49m\u001b[38;5;124;43m'\u001b[39;49m\u001b[43m,\u001b[49m\u001b[43m \u001b[49m\u001b[43mreq\u001b[49m\u001b[43m)\u001b[49m\n\u001b[1;32m    538\u001b[0m \u001b[38;5;28;01mif\u001b[39;00m result:\n\u001b[1;32m    539\u001b[0m     \u001b[38;5;28;01mreturn\u001b[39;00m result\n",
      "File \u001b[0;32m~/anaconda3/envs/ed-flow-2023/lib/python3.10/urllib/request.py:496\u001b[0m, in \u001b[0;36mOpenerDirector._call_chain\u001b[0;34m(self, chain, kind, meth_name, *args)\u001b[0m\n\u001b[1;32m    494\u001b[0m \u001b[38;5;28;01mfor\u001b[39;00m handler \u001b[38;5;129;01min\u001b[39;00m handlers:\n\u001b[1;32m    495\u001b[0m     func \u001b[38;5;241m=\u001b[39m \u001b[38;5;28mgetattr\u001b[39m(handler, meth_name)\n\u001b[0;32m--> 496\u001b[0m     result \u001b[38;5;241m=\u001b[39m \u001b[43mfunc\u001b[49m\u001b[43m(\u001b[49m\u001b[38;5;241;43m*\u001b[39;49m\u001b[43margs\u001b[49m\u001b[43m)\u001b[49m\n\u001b[1;32m    497\u001b[0m     \u001b[38;5;28;01mif\u001b[39;00m result \u001b[38;5;129;01mis\u001b[39;00m \u001b[38;5;129;01mnot\u001b[39;00m \u001b[38;5;28;01mNone\u001b[39;00m:\n\u001b[1;32m    498\u001b[0m         \u001b[38;5;28;01mreturn\u001b[39;00m result\n",
      "File \u001b[0;32m~/anaconda3/envs/ed-flow-2023/lib/python3.10/urllib/request.py:1391\u001b[0m, in \u001b[0;36mHTTPSHandler.https_open\u001b[0;34m(self, req)\u001b[0m\n\u001b[1;32m   1390\u001b[0m \u001b[38;5;28;01mdef\u001b[39;00m \u001b[38;5;21mhttps_open\u001b[39m(\u001b[38;5;28mself\u001b[39m, req):\n\u001b[0;32m-> 1391\u001b[0m     \u001b[38;5;28;01mreturn\u001b[39;00m \u001b[38;5;28;43mself\u001b[39;49m\u001b[38;5;241;43m.\u001b[39;49m\u001b[43mdo_open\u001b[49m\u001b[43m(\u001b[49m\u001b[43mhttp\u001b[49m\u001b[38;5;241;43m.\u001b[39;49m\u001b[43mclient\u001b[49m\u001b[38;5;241;43m.\u001b[39;49m\u001b[43mHTTPSConnection\u001b[49m\u001b[43m,\u001b[49m\u001b[43m \u001b[49m\u001b[43mreq\u001b[49m\u001b[43m,\u001b[49m\n\u001b[1;32m   1392\u001b[0m \u001b[43m        \u001b[49m\u001b[43mcontext\u001b[49m\u001b[38;5;241;43m=\u001b[39;49m\u001b[38;5;28;43mself\u001b[39;49m\u001b[38;5;241;43m.\u001b[39;49m\u001b[43m_context\u001b[49m\u001b[43m,\u001b[49m\u001b[43m \u001b[49m\u001b[43mcheck_hostname\u001b[49m\u001b[38;5;241;43m=\u001b[39;49m\u001b[38;5;28;43mself\u001b[39;49m\u001b[38;5;241;43m.\u001b[39;49m\u001b[43m_check_hostname\u001b[49m\u001b[43m)\u001b[49m\n",
      "File \u001b[0;32m~/anaconda3/envs/ed-flow-2023/lib/python3.10/urllib/request.py:1351\u001b[0m, in \u001b[0;36mAbstractHTTPHandler.do_open\u001b[0;34m(self, http_class, req, **http_conn_args)\u001b[0m\n\u001b[1;32m   1348\u001b[0m         h\u001b[38;5;241m.\u001b[39mrequest(req\u001b[38;5;241m.\u001b[39mget_method(), req\u001b[38;5;241m.\u001b[39mselector, req\u001b[38;5;241m.\u001b[39mdata, headers,\n\u001b[1;32m   1349\u001b[0m                   encode_chunked\u001b[38;5;241m=\u001b[39mreq\u001b[38;5;241m.\u001b[39mhas_header(\u001b[38;5;124m'\u001b[39m\u001b[38;5;124mTransfer-encoding\u001b[39m\u001b[38;5;124m'\u001b[39m))\n\u001b[1;32m   1350\u001b[0m     \u001b[38;5;28;01mexcept\u001b[39;00m \u001b[38;5;167;01mOSError\u001b[39;00m \u001b[38;5;28;01mas\u001b[39;00m err: \u001b[38;5;66;03m# timeout error\u001b[39;00m\n\u001b[0;32m-> 1351\u001b[0m         \u001b[38;5;28;01mraise\u001b[39;00m URLError(err)\n\u001b[1;32m   1352\u001b[0m     r \u001b[38;5;241m=\u001b[39m h\u001b[38;5;241m.\u001b[39mgetresponse()\n\u001b[1;32m   1353\u001b[0m \u001b[38;5;28;01mexcept\u001b[39;00m:\n",
      "\u001b[0;31mURLError\u001b[0m: <urlopen error [Errno 8] nodename nor servname provided, or not known>"
     ]
    }
   ],
   "source": [
    "import os\n",
    "import pandas as pd\n",
    "from dotenv import load_dotenv\n",
    "\n",
    "load_dotenv('../.env')\n",
    "\n",
    "allData = pd.read_csv('https://drive.deta.sh/v1/b0x22rtxtdf/data/files/download?name=allData.csv', storage_options={'X-API-Key':os.environ.get(\"DETA_PROJECT_KEY\")})\n",
    "allData.ds = pd.to_datetime(allData.ds)\n",
    "allData"
   ]
  },
  {
   "cell_type": "code",
   "execution_count": 2,
   "metadata": {},
   "outputs": [
    {
     "data": {
      "text/html": [
       "<div>\n",
       "<style scoped>\n",
       "    .dataframe tbody tr th:only-of-type {\n",
       "        vertical-align: middle;\n",
       "    }\n",
       "\n",
       "    .dataframe tbody tr th {\n",
       "        vertical-align: top;\n",
       "    }\n",
       "\n",
       "    .dataframe thead th {\n",
       "        text-align: right;\n",
       "    }\n",
       "</style>\n",
       "<table border=\"1\" class=\"dataframe\">\n",
       "  <thead>\n",
       "    <tr style=\"text-align: right;\">\n",
       "      <th></th>\n",
       "      <th>ds</th>\n",
       "      <th>INFLOW_STRETCHER</th>\n",
       "      <th>Infl_Stretcher_cum</th>\n",
       "      <th>INFLOW_AMBULATORY</th>\n",
       "      <th>Infl_Ambulatory_cum</th>\n",
       "      <th>Inflow_Total</th>\n",
       "      <th>Inflow_Cum_Total</th>\n",
       "      <th>INFLOW_AMBULANCES</th>\n",
       "      <th>Infl_Ambulances_cum</th>\n",
       "      <th>FLS</th>\n",
       "      <th>...</th>\n",
       "      <th>AMBVERT1</th>\n",
       "      <th>AMBVERTTBS</th>\n",
       "      <th>QTrack_TBS</th>\n",
       "      <th>Garage_TBS</th>\n",
       "      <th>RAZ_CONS_MORE2H</th>\n",
       "      <th>RAZ_IMCONS_MORE4H</th>\n",
       "      <th>RAZ_XRAY_MORE2H</th>\n",
       "      <th>RAZ_CT_MORE2H1</th>\n",
       "      <th>PSYCH1</th>\n",
       "      <th>PSYCH_WAITINGADM</th>\n",
       "    </tr>\n",
       "  </thead>\n",
       "  <tbody>\n",
       "    <tr>\n",
       "      <th>26348</th>\n",
       "      <td>2023-11-29 12:00:00</td>\n",
       "      <td>8</td>\n",
       "      <td>51</td>\n",
       "      <td>8</td>\n",
       "      <td>47</td>\n",
       "      <td>16</td>\n",
       "      <td>98</td>\n",
       "      <td>2</td>\n",
       "      <td>16</td>\n",
       "      <td>0</td>\n",
       "      <td>...</td>\n",
       "      <td>13</td>\n",
       "      <td>6</td>\n",
       "      <td>2.0</td>\n",
       "      <td>0.0</td>\n",
       "      <td>7</td>\n",
       "      <td>1</td>\n",
       "      <td>0</td>\n",
       "      <td>3</td>\n",
       "      <td>20</td>\n",
       "      <td>19</td>\n",
       "    </tr>\n",
       "    <tr>\n",
       "      <th>26349</th>\n",
       "      <td>2023-11-29 12:00:00</td>\n",
       "      <td>10</td>\n",
       "      <td>55</td>\n",
       "      <td>6</td>\n",
       "      <td>43</td>\n",
       "      <td>16</td>\n",
       "      <td>98</td>\n",
       "      <td>3</td>\n",
       "      <td>17</td>\n",
       "      <td>0</td>\n",
       "      <td>...</td>\n",
       "      <td>13</td>\n",
       "      <td>6</td>\n",
       "      <td>2.0</td>\n",
       "      <td>0.0</td>\n",
       "      <td>7</td>\n",
       "      <td>1</td>\n",
       "      <td>0</td>\n",
       "      <td>3</td>\n",
       "      <td>20</td>\n",
       "      <td>19</td>\n",
       "    </tr>\n",
       "    <tr>\n",
       "      <th>26350</th>\n",
       "      <td>2023-11-29 13:00:00</td>\n",
       "      <td>11</td>\n",
       "      <td>69</td>\n",
       "      <td>4</td>\n",
       "      <td>44</td>\n",
       "      <td>15</td>\n",
       "      <td>113</td>\n",
       "      <td>1</td>\n",
       "      <td>18</td>\n",
       "      <td>0</td>\n",
       "      <td>...</td>\n",
       "      <td>10</td>\n",
       "      <td>6</td>\n",
       "      <td>1.0</td>\n",
       "      <td>0.0</td>\n",
       "      <td>13</td>\n",
       "      <td>0</td>\n",
       "      <td>2</td>\n",
       "      <td>3</td>\n",
       "      <td>20</td>\n",
       "      <td>19</td>\n",
       "    </tr>\n",
       "    <tr>\n",
       "      <th>26351</th>\n",
       "      <td>2023-11-29 13:00:00</td>\n",
       "      <td>10</td>\n",
       "      <td>65</td>\n",
       "      <td>5</td>\n",
       "      <td>48</td>\n",
       "      <td>15</td>\n",
       "      <td>113</td>\n",
       "      <td>1</td>\n",
       "      <td>18</td>\n",
       "      <td>0</td>\n",
       "      <td>...</td>\n",
       "      <td>10</td>\n",
       "      <td>6</td>\n",
       "      <td>1.0</td>\n",
       "      <td>0.0</td>\n",
       "      <td>13</td>\n",
       "      <td>0</td>\n",
       "      <td>2</td>\n",
       "      <td>3</td>\n",
       "      <td>20</td>\n",
       "      <td>19</td>\n",
       "    </tr>\n",
       "    <tr>\n",
       "      <th>26352</th>\n",
       "      <td>2023-11-29 14:00:00</td>\n",
       "      <td>15</td>\n",
       "      <td>84</td>\n",
       "      <td>9</td>\n",
       "      <td>53</td>\n",
       "      <td>24</td>\n",
       "      <td>137</td>\n",
       "      <td>6</td>\n",
       "      <td>24</td>\n",
       "      <td>0</td>\n",
       "      <td>...</td>\n",
       "      <td>10</td>\n",
       "      <td>7</td>\n",
       "      <td>3.0</td>\n",
       "      <td>0.0</td>\n",
       "      <td>10</td>\n",
       "      <td>0</td>\n",
       "      <td>1</td>\n",
       "      <td>5</td>\n",
       "      <td>21</td>\n",
       "      <td>18</td>\n",
       "    </tr>\n",
       "  </tbody>\n",
       "</table>\n",
       "<p>5 rows × 46 columns</p>\n",
       "</div>"
      ],
      "text/plain": [
       "                       ds  INFLOW_STRETCHER  Infl_Stretcher_cum  \\\n",
       "26348 2023-11-29 12:00:00                 8                  51   \n",
       "26349 2023-11-29 12:00:00                10                  55   \n",
       "26350 2023-11-29 13:00:00                11                  69   \n",
       "26351 2023-11-29 13:00:00                10                  65   \n",
       "26352 2023-11-29 14:00:00                15                  84   \n",
       "\n",
       "       INFLOW_AMBULATORY  Infl_Ambulatory_cum  Inflow_Total  Inflow_Cum_Total  \\\n",
       "26348                  8                   47            16                98   \n",
       "26349                  6                   43            16                98   \n",
       "26350                  4                   44            15               113   \n",
       "26351                  5                   48            15               113   \n",
       "26352                  9                   53            24               137   \n",
       "\n",
       "       INFLOW_AMBULANCES  Infl_Ambulances_cum  FLS  ...  AMBVERT1  AMBVERTTBS  \\\n",
       "26348                  2                   16    0  ...        13           6   \n",
       "26349                  3                   17    0  ...        13           6   \n",
       "26350                  1                   18    0  ...        10           6   \n",
       "26351                  1                   18    0  ...        10           6   \n",
       "26352                  6                   24    0  ...        10           7   \n",
       "\n",
       "       QTrack_TBS  Garage_TBS  RAZ_CONS_MORE2H  RAZ_IMCONS_MORE4H  \\\n",
       "26348         2.0         0.0                7                  1   \n",
       "26349         2.0         0.0                7                  1   \n",
       "26350         1.0         0.0               13                  0   \n",
       "26351         1.0         0.0               13                  0   \n",
       "26352         3.0         0.0               10                  0   \n",
       "\n",
       "       RAZ_XRAY_MORE2H  RAZ_CT_MORE2H1  PSYCH1  PSYCH_WAITINGADM  \n",
       "26348                0               3      20                19  \n",
       "26349                0               3      20                19  \n",
       "26350                2               3      20                19  \n",
       "26351                2               3      20                19  \n",
       "26352                1               5      21                18  \n",
       "\n",
       "[5 rows x 46 columns]"
      ]
     },
     "execution_count": 2,
     "metadata": {},
     "output_type": "execute_result"
    }
   ],
   "source": [
    "df = allData.copy()\n",
    "df.isna().sum().sum()\n",
    "df.ds = pd.to_datetime(df.ds)\n",
    "df.tail(5)"
   ]
  },
  {
   "cell_type": "code",
   "execution_count": 1,
   "metadata": {},
   "outputs": [],
   "source": [
    "from prophet import Prophet\n",
    "from tqdm import tqdm"
   ]
  },
  {
   "cell_type": "code",
   "execution_count": 4,
   "metadata": {},
   "outputs": [
    {
     "name": "stderr",
     "output_type": "stream",
     "text": [
      "  0%|          | 0/46 [00:00<?, ?it/s]"
     ]
    },
    {
     "name": "stdout",
     "output_type": "stream",
     "text": [
      "working on INFLOW_STRETCHER\n"
     ]
    },
    {
     "name": "stderr",
     "output_type": "stream",
     "text": [
      "14:14:44 - cmdstanpy - INFO - Chain [1] start processing\n",
      "14:14:49 - cmdstanpy - INFO - Chain [1] done processing\n",
      "  4%|▍         | 2/46 [00:06<02:22,  3.23s/it]"
     ]
    },
    {
     "name": "stdout",
     "output_type": "stream",
     "text": [
      "working on Infl_Stretcher_cum\n"
     ]
    },
    {
     "name": "stderr",
     "output_type": "stream",
     "text": [
      "14:14:50 - cmdstanpy - INFO - Chain [1] start processing\n",
      "14:14:56 - cmdstanpy - INFO - Chain [1] done processing\n",
      "  7%|▋         | 3/46 [00:13<03:32,  4.95s/it]"
     ]
    },
    {
     "name": "stdout",
     "output_type": "stream",
     "text": [
      "working on INFLOW_AMBULATORY\n"
     ]
    },
    {
     "name": "stderr",
     "output_type": "stream",
     "text": [
      "14:14:58 - cmdstanpy - INFO - Chain [1] start processing\n",
      "14:15:06 - cmdstanpy - INFO - Chain [1] done processing\n",
      "  9%|▊         | 4/46 [00:23<04:41,  6.70s/it]"
     ]
    },
    {
     "name": "stdout",
     "output_type": "stream",
     "text": [
      "working on Infl_Ambulatory_cum\n"
     ]
    },
    {
     "name": "stderr",
     "output_type": "stream",
     "text": [
      "14:15:07 - cmdstanpy - INFO - Chain [1] start processing\n",
      "14:15:14 - cmdstanpy - INFO - Chain [1] done processing\n",
      " 11%|█         | 5/46 [00:32<05:02,  7.38s/it]"
     ]
    },
    {
     "name": "stdout",
     "output_type": "stream",
     "text": [
      "working on Inflow_Total\n"
     ]
    },
    {
     "name": "stderr",
     "output_type": "stream",
     "text": [
      "14:15:16 - cmdstanpy - INFO - Chain [1] start processing\n",
      "14:15:21 - cmdstanpy - INFO - Chain [1] done processing\n",
      " 13%|█▎        | 6/46 [00:39<04:51,  7.30s/it]"
     ]
    },
    {
     "name": "stdout",
     "output_type": "stream",
     "text": [
      "working on Inflow_Cum_Total\n"
     ]
    },
    {
     "name": "stderr",
     "output_type": "stream",
     "text": [
      "14:15:23 - cmdstanpy - INFO - Chain [1] start processing\n",
      "14:15:28 - cmdstanpy - INFO - Chain [1] done processing\n",
      " 15%|█▌        | 7/46 [00:46<04:41,  7.22s/it]"
     ]
    },
    {
     "name": "stdout",
     "output_type": "stream",
     "text": [
      "working on INFLOW_AMBULANCES\n"
     ]
    },
    {
     "name": "stderr",
     "output_type": "stream",
     "text": [
      "14:15:30 - cmdstanpy - INFO - Chain [1] start processing\n",
      "14:15:37 - cmdstanpy - INFO - Chain [1] done processing\n",
      " 17%|█▋        | 8/46 [00:54<04:46,  7.55s/it]"
     ]
    },
    {
     "name": "stdout",
     "output_type": "stream",
     "text": [
      "working on Infl_Ambulances_cum\n"
     ]
    },
    {
     "name": "stderr",
     "output_type": "stream",
     "text": [
      "14:15:39 - cmdstanpy - INFO - Chain [1] start processing\n",
      "14:15:46 - cmdstanpy - INFO - Chain [1] done processing\n",
      " 20%|█▉        | 9/46 [01:04<05:04,  8.22s/it]"
     ]
    },
    {
     "name": "stdout",
     "output_type": "stream",
     "text": [
      "working on FLS\n"
     ]
    },
    {
     "name": "stderr",
     "output_type": "stream",
     "text": [
      "14:15:48 - cmdstanpy - INFO - Chain [1] start processing\n",
      "14:15:52 - cmdstanpy - INFO - Chain [1] done processing\n",
      " 22%|██▏       | 10/46 [01:09<04:26,  7.41s/it]"
     ]
    },
    {
     "name": "stdout",
     "output_type": "stream",
     "text": [
      "working on CUM_ADMREQ\n"
     ]
    },
    {
     "name": "stderr",
     "output_type": "stream",
     "text": [
      "14:15:54 - cmdstanpy - INFO - Chain [1] start processing\n",
      "14:15:59 - cmdstanpy - INFO - Chain [1] done processing\n",
      " 24%|██▍       | 11/46 [01:16<04:14,  7.27s/it]"
     ]
    },
    {
     "name": "stdout",
     "output_type": "stream",
     "text": [
      "working on CUM_BA1\n"
     ]
    },
    {
     "name": "stderr",
     "output_type": "stream",
     "text": [
      "14:16:01 - cmdstanpy - INFO - Chain [1] start processing\n",
      "14:16:04 - cmdstanpy - INFO - Chain [1] done processing\n",
      " 26%|██▌       | 12/46 [01:21<03:45,  6.63s/it]"
     ]
    },
    {
     "name": "stdout",
     "output_type": "stream",
     "text": [
      "working on WAITINGADM\n"
     ]
    },
    {
     "name": "stderr",
     "output_type": "stream",
     "text": [
      "14:16:06 - cmdstanpy - INFO - Chain [1] start processing\n",
      "14:16:22 - cmdstanpy - INFO - Chain [1] done processing\n",
      " 28%|██▊       | 13/46 [01:39<05:28,  9.96s/it]"
     ]
    },
    {
     "name": "stdout",
     "output_type": "stream",
     "text": [
      "working on TTStr\n"
     ]
    },
    {
     "name": "stderr",
     "output_type": "stream",
     "text": [
      "14:16:24 - cmdstanpy - INFO - Chain [1] start processing\n",
      "14:16:36 - cmdstanpy - INFO - Chain [1] done processing\n",
      " 30%|███       | 14/46 [01:54<06:04, 11.40s/it]"
     ]
    },
    {
     "name": "stdout",
     "output_type": "stream",
     "text": [
      "working on TRG_HALLWAY1\n"
     ]
    },
    {
     "name": "stderr",
     "output_type": "stream",
     "text": [
      "14:16:38 - cmdstanpy - INFO - Chain [1] start processing\n",
      "14:16:43 - cmdstanpy - INFO - Chain [1] done processing\n",
      " 33%|███▎      | 15/46 [02:00<05:07,  9.93s/it]"
     ]
    },
    {
     "name": "stdout",
     "output_type": "stream",
     "text": [
      "working on TRG_HALLWAY_TBS\n"
     ]
    },
    {
     "name": "stderr",
     "output_type": "stream",
     "text": [
      "14:16:45 - cmdstanpy - INFO - Chain [1] start processing\n",
      "14:16:50 - cmdstanpy - INFO - Chain [1] done processing\n",
      " 35%|███▍      | 16/46 [02:07<04:29,  9.00s/it]"
     ]
    },
    {
     "name": "stdout",
     "output_type": "stream",
     "text": [
      "working on reoriented_cum\n"
     ]
    },
    {
     "name": "stderr",
     "output_type": "stream",
     "text": [
      "14:16:52 - cmdstanpy - INFO - Chain [1] start processing\n",
      "14:16:59 - cmdstanpy - INFO - Chain [1] done processing\n",
      " 37%|███▋      | 17/46 [02:16<04:23,  9.08s/it]"
     ]
    },
    {
     "name": "stdout",
     "output_type": "stream",
     "text": [
      "working on reoriented_cum_MD\n"
     ]
    },
    {
     "name": "stderr",
     "output_type": "stream",
     "text": [
      "14:17:01 - cmdstanpy - INFO - Chain [1] start processing\n",
      "14:17:10 - cmdstanpy - INFO - Chain [1] done processing\n",
      " 39%|███▉      | 18/46 [02:27<04:27,  9.56s/it]"
     ]
    },
    {
     "name": "stdout",
     "output_type": "stream",
     "text": [
      "working on QTRACK1\n"
     ]
    },
    {
     "name": "stderr",
     "output_type": "stream",
     "text": [
      "14:17:12 - cmdstanpy - INFO - Chain [1] start processing\n",
      "14:17:23 - cmdstanpy - INFO - Chain [1] done processing\n",
      " 41%|████▏     | 19/46 [02:41<04:49, 10.71s/it]"
     ]
    },
    {
     "name": "stdout",
     "output_type": "stream",
     "text": [
      "working on RESUS\n"
     ]
    },
    {
     "name": "stderr",
     "output_type": "stream",
     "text": [
      "14:17:25 - cmdstanpy - INFO - Chain [1] start processing\n",
      "14:17:30 - cmdstanpy - INFO - Chain [1] done processing\n",
      " 43%|████▎     | 20/46 [02:47<04:06,  9.48s/it]"
     ]
    },
    {
     "name": "stdout",
     "output_type": "stream",
     "text": [
      "working on Pod_T\n"
     ]
    },
    {
     "name": "stderr",
     "output_type": "stream",
     "text": [
      "14:17:32 - cmdstanpy - INFO - Chain [1] start processing\n",
      "14:17:43 - cmdstanpy - INFO - Chain [1] done processing\n",
      " 46%|████▌     | 21/46 [03:00<04:22, 10.49s/it]"
     ]
    },
    {
     "name": "stdout",
     "output_type": "stream",
     "text": [
      "working on POD_GREEN\n"
     ]
    },
    {
     "name": "stderr",
     "output_type": "stream",
     "text": [
      "14:17:44 - cmdstanpy - INFO - Chain [1] start processing\n",
      "14:17:53 - cmdstanpy - INFO - Chain [1] done processing\n",
      " 48%|████▊     | 22/46 [03:11<04:13, 10.56s/it]"
     ]
    },
    {
     "name": "stdout",
     "output_type": "stream",
     "text": [
      "working on POD_GREEN_TBS\n"
     ]
    },
    {
     "name": "stderr",
     "output_type": "stream",
     "text": [
      "14:17:55 - cmdstanpy - INFO - Chain [1] start processing\n",
      "14:18:00 - cmdstanpy - INFO - Chain [1] done processing\n",
      " 50%|█████     | 23/46 [03:18<03:38,  9.48s/it]"
     ]
    },
    {
     "name": "stdout",
     "output_type": "stream",
     "text": [
      "working on POD_YELLOW\n"
     ]
    },
    {
     "name": "stderr",
     "output_type": "stream",
     "text": [
      "14:18:02 - cmdstanpy - INFO - Chain [1] start processing\n",
      "14:18:08 - cmdstanpy - INFO - Chain [1] done processing\n",
      " 52%|█████▏    | 24/46 [03:25<03:15,  8.89s/it]"
     ]
    },
    {
     "name": "stdout",
     "output_type": "stream",
     "text": [
      "working on POD_YELLOW_TBS\n"
     ]
    },
    {
     "name": "stderr",
     "output_type": "stream",
     "text": [
      "14:18:10 - cmdstanpy - INFO - Chain [1] start processing\n",
      "14:18:14 - cmdstanpy - INFO - Chain [1] done processing\n",
      " 54%|█████▍    | 25/46 [03:31<02:48,  8.03s/it]"
     ]
    },
    {
     "name": "stdout",
     "output_type": "stream",
     "text": [
      "working on POD_ORANGE\n"
     ]
    },
    {
     "name": "stderr",
     "output_type": "stream",
     "text": [
      "14:18:16 - cmdstanpy - INFO - Chain [1] start processing\n",
      "14:18:24 - cmdstanpy - INFO - Chain [1] done processing\n",
      " 57%|█████▋    | 26/46 [03:41<02:52,  8.62s/it]"
     ]
    },
    {
     "name": "stdout",
     "output_type": "stream",
     "text": [
      "working on POD_ORANGE_TBS\n"
     ]
    },
    {
     "name": "stderr",
     "output_type": "stream",
     "text": [
      "14:18:26 - cmdstanpy - INFO - Chain [1] start processing\n",
      "14:18:32 - cmdstanpy - INFO - Chain [1] done processing\n",
      " 59%|█████▊    | 27/46 [03:49<02:40,  8.45s/it]"
     ]
    },
    {
     "name": "stdout",
     "output_type": "stream",
     "text": [
      "working on POD_CONS_MORE2H\n"
     ]
    },
    {
     "name": "stderr",
     "output_type": "stream",
     "text": [
      "14:18:34 - cmdstanpy - INFO - Chain [1] start processing\n",
      "14:18:37 - cmdstanpy - INFO - Chain [1] done processing\n",
      " 61%|██████    | 28/46 [03:55<02:15,  7.54s/it]"
     ]
    },
    {
     "name": "stdout",
     "output_type": "stream",
     "text": [
      "working on POD_IMCONS_MORE4H\n"
     ]
    },
    {
     "name": "stderr",
     "output_type": "stream",
     "text": [
      "14:18:39 - cmdstanpy - INFO - Chain [1] start processing\n",
      "14:18:44 - cmdstanpy - INFO - Chain [1] done processing\n",
      " 63%|██████▎   | 29/46 [04:02<02:06,  7.43s/it]"
     ]
    },
    {
     "name": "stdout",
     "output_type": "stream",
     "text": [
      "working on POD_XRAY_MORE2H\n"
     ]
    },
    {
     "name": "stderr",
     "output_type": "stream",
     "text": [
      "14:18:46 - cmdstanpy - INFO - Chain [1] start processing\n",
      "14:18:55 - cmdstanpy - INFO - Chain [1] done processing\n",
      " 65%|██████▌   | 30/46 [04:13<02:15,  8.48s/it]"
     ]
    },
    {
     "name": "stdout",
     "output_type": "stream",
     "text": [
      "working on POD_CT_MORE2H\n"
     ]
    },
    {
     "name": "stderr",
     "output_type": "stream",
     "text": [
      "14:18:57 - cmdstanpy - INFO - Chain [1] start processing\n",
      "14:19:02 - cmdstanpy - INFO - Chain [1] done processing\n",
      " 67%|██████▋   | 31/46 [04:19<01:59,  7.94s/it]"
     ]
    },
    {
     "name": "stdout",
     "output_type": "stream",
     "text": [
      "working on POST_POD1\n"
     ]
    },
    {
     "name": "stderr",
     "output_type": "stream",
     "text": [
      "14:19:04 - cmdstanpy - INFO - Chain [1] start processing\n",
      "14:19:13 - cmdstanpy - INFO - Chain [1] done processing\n",
      " 70%|██████▉   | 32/46 [04:31<02:05,  8.96s/it]"
     ]
    },
    {
     "name": "stdout",
     "output_type": "stream",
     "text": [
      "working on VERTSTRET\n"
     ]
    },
    {
     "name": "stderr",
     "output_type": "stream",
     "text": [
      "14:19:15 - cmdstanpy - INFO - Chain [1] start processing\n",
      "14:19:22 - cmdstanpy - INFO - Chain [1] done processing\n",
      " 72%|███████▏  | 33/46 [04:39<01:53,  8.71s/it]"
     ]
    },
    {
     "name": "stdout",
     "output_type": "stream",
     "text": [
      "working on RAZ_TBS\n"
     ]
    },
    {
     "name": "stderr",
     "output_type": "stream",
     "text": [
      "14:19:23 - cmdstanpy - INFO - Chain [1] start processing\n",
      "14:19:30 - cmdstanpy - INFO - Chain [1] done processing\n",
      " 74%|███████▍  | 34/46 [04:47<01:42,  8.54s/it]"
     ]
    },
    {
     "name": "stdout",
     "output_type": "stream",
     "text": [
      "working on RAZ_LAZYBOY\n"
     ]
    },
    {
     "name": "stderr",
     "output_type": "stream",
     "text": [
      "14:19:32 - cmdstanpy - INFO - Chain [1] start processing\n",
      "14:19:42 - cmdstanpy - INFO - Chain [1] done processing\n",
      " 76%|███████▌  | 35/46 [04:59<01:45,  9.57s/it]"
     ]
    },
    {
     "name": "stdout",
     "output_type": "stream",
     "text": [
      "working on RAZ_WAITINGREZ\n"
     ]
    },
    {
     "name": "stderr",
     "output_type": "stream",
     "text": [
      "14:19:43 - cmdstanpy - INFO - Chain [1] start processing\n",
      "14:19:47 - cmdstanpy - INFO - Chain [1] done processing\n",
      " 78%|███████▊  | 36/46 [05:05<01:23,  8.34s/it]"
     ]
    },
    {
     "name": "stdout",
     "output_type": "stream",
     "text": [
      "working on AMBVERT1\n"
     ]
    },
    {
     "name": "stderr",
     "output_type": "stream",
     "text": [
      "14:19:49 - cmdstanpy - INFO - Chain [1] start processing\n",
      "14:19:57 - cmdstanpy - INFO - Chain [1] done processing\n",
      " 80%|████████  | 37/46 [05:15<01:19,  8.85s/it]"
     ]
    },
    {
     "name": "stdout",
     "output_type": "stream",
     "text": [
      "working on AMBVERTTBS\n"
     ]
    },
    {
     "name": "stderr",
     "output_type": "stream",
     "text": [
      "14:19:59 - cmdstanpy - INFO - Chain [1] start processing\n",
      "14:20:09 - cmdstanpy - INFO - Chain [1] done processing\n",
      " 83%|████████▎ | 38/46 [05:26<01:17,  9.66s/it]"
     ]
    },
    {
     "name": "stdout",
     "output_type": "stream",
     "text": [
      "working on QTrack_TBS\n"
     ]
    },
    {
     "name": "stderr",
     "output_type": "stream",
     "text": [
      "14:20:11 - cmdstanpy - INFO - Chain [1] start processing\n",
      "14:20:22 - cmdstanpy - INFO - Chain [1] done processing\n",
      " 85%|████████▍ | 39/46 [05:39<01:15, 10.72s/it]"
     ]
    },
    {
     "name": "stdout",
     "output_type": "stream",
     "text": [
      "working on Garage_TBS\n"
     ]
    },
    {
     "name": "stderr",
     "output_type": "stream",
     "text": [
      "14:20:24 - cmdstanpy - INFO - Chain [1] start processing\n",
      "14:20:39 - cmdstanpy - INFO - Chain [1] done processing\n",
      " 87%|████████▋ | 40/46 [05:56<01:15, 12.51s/it]"
     ]
    },
    {
     "name": "stdout",
     "output_type": "stream",
     "text": [
      "working on RAZ_CONS_MORE2H\n"
     ]
    },
    {
     "name": "stderr",
     "output_type": "stream",
     "text": [
      "14:20:41 - cmdstanpy - INFO - Chain [1] start processing\n",
      "14:20:50 - cmdstanpy - INFO - Chain [1] done processing\n",
      " 89%|████████▉ | 41/46 [06:07<01:00, 12.17s/it]"
     ]
    },
    {
     "name": "stdout",
     "output_type": "stream",
     "text": [
      "working on RAZ_IMCONS_MORE4H\n"
     ]
    },
    {
     "name": "stderr",
     "output_type": "stream",
     "text": [
      "14:20:52 - cmdstanpy - INFO - Chain [1] start processing\n",
      "14:20:57 - cmdstanpy - INFO - Chain [1] done processing\n",
      " 91%|█████████▏| 42/46 [06:15<00:42, 10.67s/it]"
     ]
    },
    {
     "name": "stdout",
     "output_type": "stream",
     "text": [
      "working on RAZ_XRAY_MORE2H\n"
     ]
    },
    {
     "name": "stderr",
     "output_type": "stream",
     "text": [
      "14:20:59 - cmdstanpy - INFO - Chain [1] start processing\n",
      "14:21:04 - cmdstanpy - INFO - Chain [1] done processing\n",
      " 93%|█████████▎| 43/46 [06:21<00:28,  9.55s/it]"
     ]
    },
    {
     "name": "stdout",
     "output_type": "stream",
     "text": [
      "working on RAZ_CT_MORE2H1\n"
     ]
    },
    {
     "name": "stderr",
     "output_type": "stream",
     "text": [
      "14:21:06 - cmdstanpy - INFO - Chain [1] start processing\n",
      "14:21:11 - cmdstanpy - INFO - Chain [1] done processing\n",
      " 96%|█████████▌| 44/46 [06:28<00:17,  8.74s/it]"
     ]
    },
    {
     "name": "stdout",
     "output_type": "stream",
     "text": [
      "working on PSYCH1\n"
     ]
    },
    {
     "name": "stderr",
     "output_type": "stream",
     "text": [
      "14:21:13 - cmdstanpy - INFO - Chain [1] start processing\n",
      "14:21:24 - cmdstanpy - INFO - Chain [1] done processing\n",
      " 98%|█████████▊| 45/46 [06:41<00:09,  9.97s/it]"
     ]
    },
    {
     "name": "stdout",
     "output_type": "stream",
     "text": [
      "working on PSYCH_WAITINGADM\n"
     ]
    },
    {
     "name": "stderr",
     "output_type": "stream",
     "text": [
      "14:21:26 - cmdstanpy - INFO - Chain [1] start processing\n",
      "14:21:39 - cmdstanpy - INFO - Chain [1] done processing\n",
      "100%|██████████| 46/46 [06:56<00:00,  9.06s/it]\n"
     ]
    }
   ],
   "source": [
    "output = pd.DataFrame()\n",
    "first_run = True\n",
    "\n",
    "for column in tqdm(df.columns.to_list()):\n",
    "    if column in ['ds']:\n",
    "        continue\n",
    "    try:\n",
    "        print('working on '+column)\n",
    "\n",
    "        m = Prophet(interval_width=0.95)\n",
    "        m.fit(df[['ds', column]].rename(columns={column:'y'}))\n",
    "        future = m.make_future_dataframe(periods=24*1, freq='H')\n",
    "        forecast = m.predict(future.tail(24*14))\n",
    "        if first_run:\n",
    "            output['ds'] = forecast['ds']\n",
    "        \n",
    "        for forecast_column in ['yhat', 'yhat_lower', 'yhat_upper']:\n",
    "            kwargs = {column+'_'+forecast_column : forecast[forecast_column]}\n",
    "            output = output.assign(**kwargs)   \n",
    "        first_run = False\n",
    "    except:\n",
    "        print(column + ' failed')\n",
    "\n"
   ]
  },
  {
   "cell_type": "code",
   "execution_count": 5,
   "metadata": {},
   "outputs": [
    {
     "data": {
      "text/html": [
       "<div>\n",
       "<style scoped>\n",
       "    .dataframe tbody tr th:only-of-type {\n",
       "        vertical-align: middle;\n",
       "    }\n",
       "\n",
       "    .dataframe tbody tr th {\n",
       "        vertical-align: top;\n",
       "    }\n",
       "\n",
       "    .dataframe thead th {\n",
       "        text-align: right;\n",
       "    }\n",
       "</style>\n",
       "<table border=\"1\" class=\"dataframe\">\n",
       "  <thead>\n",
       "    <tr style=\"text-align: right;\">\n",
       "      <th></th>\n",
       "      <th>ds</th>\n",
       "      <th>INFLOW_STRETCHER_yhat</th>\n",
       "      <th>INFLOW_STRETCHER_yhat_lower</th>\n",
       "      <th>INFLOW_STRETCHER_yhat_upper</th>\n",
       "      <th>Infl_Stretcher_cum_yhat</th>\n",
       "      <th>Infl_Stretcher_cum_yhat_lower</th>\n",
       "      <th>Infl_Stretcher_cum_yhat_upper</th>\n",
       "      <th>INFLOW_AMBULATORY_yhat</th>\n",
       "      <th>INFLOW_AMBULATORY_yhat_lower</th>\n",
       "      <th>INFLOW_AMBULATORY_yhat_upper</th>\n",
       "      <th>...</th>\n",
       "      <th>RAZ_XRAY_MORE2H_yhat_upper</th>\n",
       "      <th>RAZ_CT_MORE2H1_yhat</th>\n",
       "      <th>RAZ_CT_MORE2H1_yhat_lower</th>\n",
       "      <th>RAZ_CT_MORE2H1_yhat_upper</th>\n",
       "      <th>PSYCH1_yhat</th>\n",
       "      <th>PSYCH1_yhat_lower</th>\n",
       "      <th>PSYCH1_yhat_upper</th>\n",
       "      <th>PSYCH_WAITINGADM_yhat</th>\n",
       "      <th>PSYCH_WAITINGADM_yhat_lower</th>\n",
       "      <th>PSYCH_WAITINGADM_yhat_upper</th>\n",
       "    </tr>\n",
       "  </thead>\n",
       "  <tbody>\n",
       "    <tr>\n",
       "      <th>0</th>\n",
       "      <td>2023-11-16 15:00:00</td>\n",
       "      <td>9.372677</td>\n",
       "      <td>4.761938</td>\n",
       "      <td>14.195761</td>\n",
       "      <td>86.678985</td>\n",
       "      <td>53.625166</td>\n",
       "      <td>121.496760</td>\n",
       "      <td>6.670304</td>\n",
       "      <td>1.973523</td>\n",
       "      <td>11.585410</td>\n",
       "      <td>...</td>\n",
       "      <td>3.415547</td>\n",
       "      <td>2.464569</td>\n",
       "      <td>-0.688219</td>\n",
       "      <td>5.434393</td>\n",
       "      <td>13.205138</td>\n",
       "      <td>7.049230</td>\n",
       "      <td>19.792659</td>\n",
       "      <td>8.965866</td>\n",
       "      <td>3.219119</td>\n",
       "      <td>14.581424</td>\n",
       "    </tr>\n",
       "    <tr>\n",
       "      <th>1</th>\n",
       "      <td>2023-11-16 16:00:00</td>\n",
       "      <td>8.624814</td>\n",
       "      <td>3.801546</td>\n",
       "      <td>13.593240</td>\n",
       "      <td>99.627985</td>\n",
       "      <td>62.437326</td>\n",
       "      <td>133.960454</td>\n",
       "      <td>6.334271</td>\n",
       "      <td>1.660312</td>\n",
       "      <td>11.145248</td>\n",
       "      <td>...</td>\n",
       "      <td>3.106638</td>\n",
       "      <td>2.469529</td>\n",
       "      <td>-0.556165</td>\n",
       "      <td>5.575368</td>\n",
       "      <td>13.125717</td>\n",
       "      <td>6.810233</td>\n",
       "      <td>19.245163</td>\n",
       "      <td>8.823037</td>\n",
       "      <td>3.510200</td>\n",
       "      <td>14.380197</td>\n",
       "    </tr>\n",
       "    <tr>\n",
       "      <th>2</th>\n",
       "      <td>2023-11-16 17:00:00</td>\n",
       "      <td>7.861612</td>\n",
       "      <td>3.093843</td>\n",
       "      <td>12.883545</td>\n",
       "      <td>106.732350</td>\n",
       "      <td>72.134901</td>\n",
       "      <td>141.502217</td>\n",
       "      <td>5.832562</td>\n",
       "      <td>0.793958</td>\n",
       "      <td>10.894051</td>\n",
       "      <td>...</td>\n",
       "      <td>3.175348</td>\n",
       "      <td>2.452457</td>\n",
       "      <td>-0.653105</td>\n",
       "      <td>5.791903</td>\n",
       "      <td>13.034825</td>\n",
       "      <td>6.421819</td>\n",
       "      <td>19.432305</td>\n",
       "      <td>8.704350</td>\n",
       "      <td>3.172089</td>\n",
       "      <td>14.257442</td>\n",
       "    </tr>\n",
       "    <tr>\n",
       "      <th>3</th>\n",
       "      <td>2023-11-16 18:00:00</td>\n",
       "      <td>7.254323</td>\n",
       "      <td>2.671563</td>\n",
       "      <td>11.522382</td>\n",
       "      <td>107.177992</td>\n",
       "      <td>72.823259</td>\n",
       "      <td>143.381621</td>\n",
       "      <td>5.246529</td>\n",
       "      <td>0.063297</td>\n",
       "      <td>10.038163</td>\n",
       "      <td>...</td>\n",
       "      <td>3.189028</td>\n",
       "      <td>2.503606</td>\n",
       "      <td>-0.599309</td>\n",
       "      <td>5.622773</td>\n",
       "      <td>12.949044</td>\n",
       "      <td>6.086552</td>\n",
       "      <td>19.175051</td>\n",
       "      <td>8.622259</td>\n",
       "      <td>2.426632</td>\n",
       "      <td>14.398532</td>\n",
       "    </tr>\n",
       "    <tr>\n",
       "      <th>4</th>\n",
       "      <td>2023-11-16 19:00:00</td>\n",
       "      <td>6.882685</td>\n",
       "      <td>2.204374</td>\n",
       "      <td>11.946306</td>\n",
       "      <td>107.987108</td>\n",
       "      <td>72.902946</td>\n",
       "      <td>145.550080</td>\n",
       "      <td>4.755868</td>\n",
       "      <td>0.143230</td>\n",
       "      <td>9.605422</td>\n",
       "      <td>...</td>\n",
       "      <td>3.246857</td>\n",
       "      <td>2.612539</td>\n",
       "      <td>-0.383126</td>\n",
       "      <td>5.692024</td>\n",
       "      <td>12.908222</td>\n",
       "      <td>5.998879</td>\n",
       "      <td>19.808633</td>\n",
       "      <td>8.605364</td>\n",
       "      <td>2.657486</td>\n",
       "      <td>14.075948</td>\n",
       "    </tr>\n",
       "    <tr>\n",
       "      <th>...</th>\n",
       "      <td>...</td>\n",
       "      <td>...</td>\n",
       "      <td>...</td>\n",
       "      <td>...</td>\n",
       "      <td>...</td>\n",
       "      <td>...</td>\n",
       "      <td>...</td>\n",
       "      <td>...</td>\n",
       "      <td>...</td>\n",
       "      <td>...</td>\n",
       "      <td>...</td>\n",
       "      <td>...</td>\n",
       "      <td>...</td>\n",
       "      <td>...</td>\n",
       "      <td>...</td>\n",
       "      <td>...</td>\n",
       "      <td>...</td>\n",
       "      <td>...</td>\n",
       "      <td>...</td>\n",
       "      <td>...</td>\n",
       "      <td>...</td>\n",
       "    </tr>\n",
       "    <tr>\n",
       "      <th>331</th>\n",
       "      <td>2023-11-30 10:00:00</td>\n",
       "      <td>8.519662</td>\n",
       "      <td>3.797807</td>\n",
       "      <td>13.431115</td>\n",
       "      <td>45.770872</td>\n",
       "      <td>10.370415</td>\n",
       "      <td>78.546544</td>\n",
       "      <td>7.767328</td>\n",
       "      <td>3.248775</td>\n",
       "      <td>11.914920</td>\n",
       "      <td>...</td>\n",
       "      <td>2.841791</td>\n",
       "      <td>1.328970</td>\n",
       "      <td>-1.905159</td>\n",
       "      <td>4.162326</td>\n",
       "      <td>16.677761</td>\n",
       "      <td>10.292310</td>\n",
       "      <td>22.948094</td>\n",
       "      <td>12.878918</td>\n",
       "      <td>7.038739</td>\n",
       "      <td>18.353225</td>\n",
       "    </tr>\n",
       "    <tr>\n",
       "      <th>332</th>\n",
       "      <td>2023-11-30 11:00:00</td>\n",
       "      <td>9.675963</td>\n",
       "      <td>4.678008</td>\n",
       "      <td>14.265940</td>\n",
       "      <td>58.321414</td>\n",
       "      <td>22.574938</td>\n",
       "      <td>92.654653</td>\n",
       "      <td>8.250726</td>\n",
       "      <td>3.659296</td>\n",
       "      <td>12.799600</td>\n",
       "      <td>...</td>\n",
       "      <td>2.948915</td>\n",
       "      <td>1.381354</td>\n",
       "      <td>-1.638001</td>\n",
       "      <td>4.298229</td>\n",
       "      <td>16.636992</td>\n",
       "      <td>10.054212</td>\n",
       "      <td>23.153321</td>\n",
       "      <td>12.720312</td>\n",
       "      <td>6.826799</td>\n",
       "      <td>18.234088</td>\n",
       "    </tr>\n",
       "    <tr>\n",
       "      <th>333</th>\n",
       "      <td>2023-11-30 12:00:00</td>\n",
       "      <td>10.272874</td>\n",
       "      <td>5.267760</td>\n",
       "      <td>15.065222</td>\n",
       "      <td>65.753625</td>\n",
       "      <td>32.779085</td>\n",
       "      <td>99.816730</td>\n",
       "      <td>7.897408</td>\n",
       "      <td>3.061340</td>\n",
       "      <td>12.780339</td>\n",
       "      <td>...</td>\n",
       "      <td>2.725915</td>\n",
       "      <td>1.615495</td>\n",
       "      <td>-1.486409</td>\n",
       "      <td>4.596350</td>\n",
       "      <td>16.483918</td>\n",
       "      <td>10.018385</td>\n",
       "      <td>23.079304</td>\n",
       "      <td>12.496575</td>\n",
       "      <td>6.946639</td>\n",
       "      <td>18.059560</td>\n",
       "    </tr>\n",
       "    <tr>\n",
       "      <th>334</th>\n",
       "      <td>2023-11-30 13:00:00</td>\n",
       "      <td>10.365968</td>\n",
       "      <td>5.290833</td>\n",
       "      <td>14.844847</td>\n",
       "      <td>70.007922</td>\n",
       "      <td>36.695670</td>\n",
       "      <td>106.158461</td>\n",
       "      <td>7.263926</td>\n",
       "      <td>2.595969</td>\n",
       "      <td>11.814880</td>\n",
       "      <td>...</td>\n",
       "      <td>3.142372</td>\n",
       "      <td>1.950820</td>\n",
       "      <td>-1.036957</td>\n",
       "      <td>4.865009</td>\n",
       "      <td>16.298498</td>\n",
       "      <td>9.348941</td>\n",
       "      <td>22.652183</td>\n",
       "      <td>12.253595</td>\n",
       "      <td>6.622481</td>\n",
       "      <td>18.257814</td>\n",
       "    </tr>\n",
       "    <tr>\n",
       "      <th>335</th>\n",
       "      <td>2023-11-30 14:00:00</td>\n",
       "      <td>10.071714</td>\n",
       "      <td>5.356801</td>\n",
       "      <td>14.840622</td>\n",
       "      <td>77.016458</td>\n",
       "      <td>44.248879</td>\n",
       "      <td>111.172001</td>\n",
       "      <td>6.770861</td>\n",
       "      <td>2.428055</td>\n",
       "      <td>11.380515</td>\n",
       "      <td>...</td>\n",
       "      <td>3.269675</td>\n",
       "      <td>2.237609</td>\n",
       "      <td>-0.894139</td>\n",
       "      <td>5.303886</td>\n",
       "      <td>16.150075</td>\n",
       "      <td>9.724415</td>\n",
       "      <td>22.479858</td>\n",
       "      <td>12.033449</td>\n",
       "      <td>6.262115</td>\n",
       "      <td>17.556846</td>\n",
       "    </tr>\n",
       "  </tbody>\n",
       "</table>\n",
       "<p>336 rows × 136 columns</p>\n",
       "</div>"
      ],
      "text/plain": [
       "                     ds  INFLOW_STRETCHER_yhat  INFLOW_STRETCHER_yhat_lower  \\\n",
       "0   2023-11-16 15:00:00               9.372677                     4.761938   \n",
       "1   2023-11-16 16:00:00               8.624814                     3.801546   \n",
       "2   2023-11-16 17:00:00               7.861612                     3.093843   \n",
       "3   2023-11-16 18:00:00               7.254323                     2.671563   \n",
       "4   2023-11-16 19:00:00               6.882685                     2.204374   \n",
       "..                  ...                    ...                          ...   \n",
       "331 2023-11-30 10:00:00               8.519662                     3.797807   \n",
       "332 2023-11-30 11:00:00               9.675963                     4.678008   \n",
       "333 2023-11-30 12:00:00              10.272874                     5.267760   \n",
       "334 2023-11-30 13:00:00              10.365968                     5.290833   \n",
       "335 2023-11-30 14:00:00              10.071714                     5.356801   \n",
       "\n",
       "     INFLOW_STRETCHER_yhat_upper  Infl_Stretcher_cum_yhat  \\\n",
       "0                      14.195761                86.678985   \n",
       "1                      13.593240                99.627985   \n",
       "2                      12.883545               106.732350   \n",
       "3                      11.522382               107.177992   \n",
       "4                      11.946306               107.987108   \n",
       "..                           ...                      ...   \n",
       "331                    13.431115                45.770872   \n",
       "332                    14.265940                58.321414   \n",
       "333                    15.065222                65.753625   \n",
       "334                    14.844847                70.007922   \n",
       "335                    14.840622                77.016458   \n",
       "\n",
       "     Infl_Stretcher_cum_yhat_lower  Infl_Stretcher_cum_yhat_upper  \\\n",
       "0                        53.625166                     121.496760   \n",
       "1                        62.437326                     133.960454   \n",
       "2                        72.134901                     141.502217   \n",
       "3                        72.823259                     143.381621   \n",
       "4                        72.902946                     145.550080   \n",
       "..                             ...                            ...   \n",
       "331                      10.370415                      78.546544   \n",
       "332                      22.574938                      92.654653   \n",
       "333                      32.779085                      99.816730   \n",
       "334                      36.695670                     106.158461   \n",
       "335                      44.248879                     111.172001   \n",
       "\n",
       "     INFLOW_AMBULATORY_yhat  INFLOW_AMBULATORY_yhat_lower  \\\n",
       "0                  6.670304                      1.973523   \n",
       "1                  6.334271                      1.660312   \n",
       "2                  5.832562                      0.793958   \n",
       "3                  5.246529                      0.063297   \n",
       "4                  4.755868                      0.143230   \n",
       "..                      ...                           ...   \n",
       "331                7.767328                      3.248775   \n",
       "332                8.250726                      3.659296   \n",
       "333                7.897408                      3.061340   \n",
       "334                7.263926                      2.595969   \n",
       "335                6.770861                      2.428055   \n",
       "\n",
       "     INFLOW_AMBULATORY_yhat_upper  ...  RAZ_XRAY_MORE2H_yhat_upper  \\\n",
       "0                       11.585410  ...                    3.415547   \n",
       "1                       11.145248  ...                    3.106638   \n",
       "2                       10.894051  ...                    3.175348   \n",
       "3                       10.038163  ...                    3.189028   \n",
       "4                        9.605422  ...                    3.246857   \n",
       "..                            ...  ...                         ...   \n",
       "331                     11.914920  ...                    2.841791   \n",
       "332                     12.799600  ...                    2.948915   \n",
       "333                     12.780339  ...                    2.725915   \n",
       "334                     11.814880  ...                    3.142372   \n",
       "335                     11.380515  ...                    3.269675   \n",
       "\n",
       "     RAZ_CT_MORE2H1_yhat  RAZ_CT_MORE2H1_yhat_lower  \\\n",
       "0               2.464569                  -0.688219   \n",
       "1               2.469529                  -0.556165   \n",
       "2               2.452457                  -0.653105   \n",
       "3               2.503606                  -0.599309   \n",
       "4               2.612539                  -0.383126   \n",
       "..                   ...                        ...   \n",
       "331             1.328970                  -1.905159   \n",
       "332             1.381354                  -1.638001   \n",
       "333             1.615495                  -1.486409   \n",
       "334             1.950820                  -1.036957   \n",
       "335             2.237609                  -0.894139   \n",
       "\n",
       "     RAZ_CT_MORE2H1_yhat_upper  PSYCH1_yhat  PSYCH1_yhat_lower  \\\n",
       "0                     5.434393    13.205138           7.049230   \n",
       "1                     5.575368    13.125717           6.810233   \n",
       "2                     5.791903    13.034825           6.421819   \n",
       "3                     5.622773    12.949044           6.086552   \n",
       "4                     5.692024    12.908222           5.998879   \n",
       "..                         ...          ...                ...   \n",
       "331                   4.162326    16.677761          10.292310   \n",
       "332                   4.298229    16.636992          10.054212   \n",
       "333                   4.596350    16.483918          10.018385   \n",
       "334                   4.865009    16.298498           9.348941   \n",
       "335                   5.303886    16.150075           9.724415   \n",
       "\n",
       "     PSYCH1_yhat_upper  PSYCH_WAITINGADM_yhat  PSYCH_WAITINGADM_yhat_lower  \\\n",
       "0            19.792659               8.965866                     3.219119   \n",
       "1            19.245163               8.823037                     3.510200   \n",
       "2            19.432305               8.704350                     3.172089   \n",
       "3            19.175051               8.622259                     2.426632   \n",
       "4            19.808633               8.605364                     2.657486   \n",
       "..                 ...                    ...                          ...   \n",
       "331          22.948094              12.878918                     7.038739   \n",
       "332          23.153321              12.720312                     6.826799   \n",
       "333          23.079304              12.496575                     6.946639   \n",
       "334          22.652183              12.253595                     6.622481   \n",
       "335          22.479858              12.033449                     6.262115   \n",
       "\n",
       "     PSYCH_WAITINGADM_yhat_upper  \n",
       "0                      14.581424  \n",
       "1                      14.380197  \n",
       "2                      14.257442  \n",
       "3                      14.398532  \n",
       "4                      14.075948  \n",
       "..                           ...  \n",
       "331                    18.353225  \n",
       "332                    18.234088  \n",
       "333                    18.059560  \n",
       "334                    18.257814  \n",
       "335                    17.556846  \n",
       "\n",
       "[336 rows x 136 columns]"
      ]
     },
     "execution_count": 5,
     "metadata": {},
     "output_type": "execute_result"
    }
   ],
   "source": [
    "output"
   ]
  },
  {
   "cell_type": "code",
   "execution_count": 6,
   "metadata": {},
   "outputs": [],
   "source": [
    "from deta import Deta\n",
    "from dotenv import load_dotenv\n",
    "import os\n",
    "\n",
    "load_dotenv()\n",
    "\n",
    "deta = Deta(os.environ.get(\"DETA_PROJECT_KEY\"))\n",
    "\n",
    "drive = deta.Drive(\"data\")"
   ]
  },
  {
   "cell_type": "code",
   "execution_count": 7,
   "metadata": {},
   "outputs": [
    {
     "data": {
      "text/plain": [
       "'anomaly_detection_ranges.csv'"
      ]
     },
     "execution_count": 7,
     "metadata": {},
     "output_type": "execute_result"
    }
   ],
   "source": [
    "output.to_csv('anomaly_detection_ranges.csv', index=False)\n",
    "\n",
    "drive.put(name='anomaly_detection_ranges.csv', path='anomaly_detection_ranges.csv')"
   ]
  },
  {
   "cell_type": "code",
   "execution_count": 3,
   "metadata": {},
   "outputs": [],
   "source": [
    "import pandas as pd"
   ]
  },
  {
   "cell_type": "code",
   "execution_count": 11,
   "metadata": {},
   "outputs": [
    {
     "name": "stderr",
     "output_type": "stream",
     "text": [
      "22:42:50 - cmdstanpy - INFO - Chain [1] start processing\n",
      "22:42:50 - cmdstanpy - INFO - Chain [1] done processing\n"
     ]
    }
   ],
   "source": [
    "daily_inflow = pd.read_csv('https://www.dropbox.com/scl/fi/e61kmtweg90tq5hpqrnsf/daily_inflow.csv?rlkey=15r15klj0s0005fvhvlt2iuqt&raw=1')\n",
    "daily_inflow.ds = pd.to_datetime(daily_inflow.ds)\n",
    "\n",
    "column = 'Daily_Inflow_Total'\n",
    "m = Prophet(interval_width=0.95, weekly_seasonality=True, yearly_seasonality=True, daily_seasonality=False, seasonality_mode='additive', changepoint_prior_scale=0.05, seasonality_prior_scale=10.0, holidays_prior_scale=10.0)\n",
    "m.add_country_holidays(country_name='CA')\n",
    "m.fit(daily_inflow[['ds', column]].rename(columns={column: 'y'}))\n",
    "future = m.make_future_dataframe(periods=30, freq='D')\n",
    "forecast = m.predict(future.tail(30+14))"
   ]
  },
  {
   "cell_type": "code",
   "execution_count": 6,
   "metadata": {},
   "outputs": [
    {
     "data": {
      "text/html": [
       "<div>\n",
       "<style scoped>\n",
       "    .dataframe tbody tr th:only-of-type {\n",
       "        vertical-align: middle;\n",
       "    }\n",
       "\n",
       "    .dataframe tbody tr th {\n",
       "        vertical-align: top;\n",
       "    }\n",
       "\n",
       "    .dataframe thead th {\n",
       "        text-align: right;\n",
       "    }\n",
       "</style>\n",
       "<table border=\"1\" class=\"dataframe\">\n",
       "  <thead>\n",
       "    <tr style=\"text-align: right;\">\n",
       "      <th></th>\n",
       "      <th>ds</th>\n",
       "      <th>Daily_Inflow_Total</th>\n",
       "    </tr>\n",
       "  </thead>\n",
       "  <tbody>\n",
       "    <tr>\n",
       "      <th>0</th>\n",
       "      <td>2021-01-01</td>\n",
       "      <td>138</td>\n",
       "    </tr>\n",
       "    <tr>\n",
       "      <th>1</th>\n",
       "      <td>2021-01-02</td>\n",
       "      <td>161</td>\n",
       "    </tr>\n",
       "    <tr>\n",
       "      <th>2</th>\n",
       "      <td>2021-01-03</td>\n",
       "      <td>169</td>\n",
       "    </tr>\n",
       "    <tr>\n",
       "      <th>3</th>\n",
       "      <td>2021-01-04</td>\n",
       "      <td>219</td>\n",
       "    </tr>\n",
       "    <tr>\n",
       "      <th>4</th>\n",
       "      <td>2021-01-05</td>\n",
       "      <td>212</td>\n",
       "    </tr>\n",
       "    <tr>\n",
       "      <th>...</th>\n",
       "      <td>...</td>\n",
       "      <td>...</td>\n",
       "    </tr>\n",
       "    <tr>\n",
       "      <th>1751</th>\n",
       "      <td>2025-10-18</td>\n",
       "      <td>237</td>\n",
       "    </tr>\n",
       "    <tr>\n",
       "      <th>1752</th>\n",
       "      <td>2025-10-19</td>\n",
       "      <td>233</td>\n",
       "    </tr>\n",
       "    <tr>\n",
       "      <th>1753</th>\n",
       "      <td>2025-10-20</td>\n",
       "      <td>308</td>\n",
       "    </tr>\n",
       "    <tr>\n",
       "      <th>1754</th>\n",
       "      <td>2025-10-21</td>\n",
       "      <td>290</td>\n",
       "    </tr>\n",
       "    <tr>\n",
       "      <th>1755</th>\n",
       "      <td>2025-10-22</td>\n",
       "      <td>279</td>\n",
       "    </tr>\n",
       "  </tbody>\n",
       "</table>\n",
       "<p>1756 rows × 2 columns</p>\n",
       "</div>"
      ],
      "text/plain": [
       "             ds  Daily_Inflow_Total\n",
       "0    2021-01-01                 138\n",
       "1    2021-01-02                 161\n",
       "2    2021-01-03                 169\n",
       "3    2021-01-04                 219\n",
       "4    2021-01-05                 212\n",
       "...         ...                 ...\n",
       "1751 2025-10-18                 237\n",
       "1752 2025-10-19                 233\n",
       "1753 2025-10-20                 308\n",
       "1754 2025-10-21                 290\n",
       "1755 2025-10-22                 279\n",
       "\n",
       "[1756 rows x 2 columns]"
      ]
     },
     "execution_count": 6,
     "metadata": {},
     "output_type": "execute_result"
    }
   ],
   "source": [
    "daily_inflow"
   ]
  },
  {
   "cell_type": "code",
   "execution_count": 7,
   "metadata": {},
   "outputs": [
    {
     "data": {
      "text/html": [
       "<div>\n",
       "<style scoped>\n",
       "    .dataframe tbody tr th:only-of-type {\n",
       "        vertical-align: middle;\n",
       "    }\n",
       "\n",
       "    .dataframe tbody tr th {\n",
       "        vertical-align: top;\n",
       "    }\n",
       "\n",
       "    .dataframe thead th {\n",
       "        text-align: right;\n",
       "    }\n",
       "</style>\n",
       "<table border=\"1\" class=\"dataframe\">\n",
       "  <thead>\n",
       "    <tr style=\"text-align: right;\">\n",
       "      <th></th>\n",
       "      <th>ds</th>\n",
       "    </tr>\n",
       "  </thead>\n",
       "  <tbody>\n",
       "    <tr>\n",
       "      <th>0</th>\n",
       "      <td>2021-01-01</td>\n",
       "    </tr>\n",
       "    <tr>\n",
       "      <th>1</th>\n",
       "      <td>2021-01-02</td>\n",
       "    </tr>\n",
       "    <tr>\n",
       "      <th>2</th>\n",
       "      <td>2021-01-03</td>\n",
       "    </tr>\n",
       "    <tr>\n",
       "      <th>3</th>\n",
       "      <td>2021-01-04</td>\n",
       "    </tr>\n",
       "    <tr>\n",
       "      <th>4</th>\n",
       "      <td>2021-01-05</td>\n",
       "    </tr>\n",
       "    <tr>\n",
       "      <th>...</th>\n",
       "      <td>...</td>\n",
       "    </tr>\n",
       "    <tr>\n",
       "      <th>1781</th>\n",
       "      <td>2025-11-17</td>\n",
       "    </tr>\n",
       "    <tr>\n",
       "      <th>1782</th>\n",
       "      <td>2025-11-18</td>\n",
       "    </tr>\n",
       "    <tr>\n",
       "      <th>1783</th>\n",
       "      <td>2025-11-19</td>\n",
       "    </tr>\n",
       "    <tr>\n",
       "      <th>1784</th>\n",
       "      <td>2025-11-20</td>\n",
       "    </tr>\n",
       "    <tr>\n",
       "      <th>1785</th>\n",
       "      <td>2025-11-21</td>\n",
       "    </tr>\n",
       "  </tbody>\n",
       "</table>\n",
       "<p>1786 rows × 1 columns</p>\n",
       "</div>"
      ],
      "text/plain": [
       "             ds\n",
       "0    2021-01-01\n",
       "1    2021-01-02\n",
       "2    2021-01-03\n",
       "3    2021-01-04\n",
       "4    2021-01-05\n",
       "...         ...\n",
       "1781 2025-11-17\n",
       "1782 2025-11-18\n",
       "1783 2025-11-19\n",
       "1784 2025-11-20\n",
       "1785 2025-11-21\n",
       "\n",
       "[1786 rows x 1 columns]"
      ]
     },
     "execution_count": 7,
     "metadata": {},
     "output_type": "execute_result"
    }
   ],
   "source": [
    "future"
   ]
  },
  {
   "cell_type": "code",
   "execution_count": 6,
   "metadata": {},
   "outputs": [
    {
     "name": "stderr",
     "output_type": "stream",
     "text": [
      "11:49:27 - cmdstanpy - INFO - Chain [1] start processing\n",
      "11:49:27 - cmdstanpy - INFO - Chain [1] done processing\n"
     ]
    },
    {
     "name": "stdout",
     "output_type": "stream",
     "text": [
      "ListSharedLinksResult(cursor=NOT_SET, has_more=False, links=[FileLinkMetadata(client_modified=datetime.datetime(2025, 10, 24, 15, 49, 27), content_owner_team_info=NOT_SET, expires=NOT_SET, id='id:oNSmVCFixyQAAAAAAABTog', link_permissions=LinkPermissions(allow_comments=False, allow_download=True, audience_options=[LinkAudienceOption(allowed=True, audience=LinkAudience('public', None), disallowed_reason=NOT_SET), LinkAudienceOption(allowed=False, audience=LinkAudience('team', None), disallowed_reason=LinkAudienceDisallowedReason('user_not_on_team', None)), LinkAudienceOption(allowed=True, audience=LinkAudience('no_one', None), disallowed_reason=NOT_SET)], can_allow_download=True, can_disallow_download=True, can_remove_expiry=True, can_remove_password=True, can_revoke=True, can_set_expiry=True, can_set_password=True, can_use_extended_sharing_controls=True, effective_audience=LinkAudience('public', None), link_access_level=LinkAccessLevel('viewer', None), requested_visibility=RequestedVisibility('public', None), require_password=False, resolved_visibility=ResolvedVisibility('public', None), revoke_failure_reason=NOT_SET, team_restricts_comments=False, visibility_policies=[VisibilityPolicy(allowed=True, disallowed_reason=NOT_SET, policy=RequestedVisibility('public', None), resolved_policy=AlphaResolvedVisibility('public', None)), VisibilityPolicy(allowed=False, disallowed_reason=VisibilityPolicyDisallowedReason('user_not_on_team', None), policy=RequestedVisibility('team_only', None), resolved_policy=AlphaResolvedVisibility('no_one', None)), VisibilityPolicy(allowed=True, disallowed_reason=NOT_SET, policy=RequestedVisibility('password', None), resolved_policy=AlphaResolvedVisibility('password', None))]), name='daily_inflow_forecast.csv', path_lower='/daily_inflow_forecast.csv', rev='641e97eaba6b97a19c0a3', server_modified=datetime.datetime(2025, 10, 24, 15, 49, 28), size=2969, team_member_info=NOT_SET, url='https://www.dropbox.com/scl/fi/xey7l618xztsa6cc4mynh/daily_inflow_forecast.csv?rlkey=box3k73kl819wo92eksgz3drj&dl=0')])\n",
      "uploaded as b'daily_inflow_forecast.csv'\n",
      "ListSharedLinksResult(cursor=NOT_SET, has_more=False, links=[])\n",
      "uploaded as b'daily_inflow_forecast.xlsx'\n",
      "           ds        yhat  yhat_lower  yhat_upper\n",
      "0  2025-10-10  267.628422  219.791270  314.956287\n",
      "1  2025-10-11  236.235225  191.223754  282.084398\n",
      "2  2025-10-12  220.309200  173.405537  265.668325\n",
      "3  2025-10-13  267.412215  223.975383  312.208012\n",
      "4  2025-10-14  277.238382  230.292866  320.938490\n",
      "5  2025-10-15  265.257285  217.208719  308.994232\n",
      "6  2025-10-16  260.860897  214.989060  303.207819\n",
      "7  2025-10-17  267.476659  222.716708  310.033101\n",
      "8  2025-10-18  236.163444  187.753630  281.846108\n",
      "9  2025-10-19  220.260587  172.413278  267.129696\n",
      "10 2025-10-20  267.334677  222.556745  314.125177\n",
      "11 2025-10-21  277.086237  231.369062  321.035278\n",
      "12 2025-10-22  264.992692  215.879117  307.938239\n",
      "13 2025-10-23  260.454976  212.229938  306.002230\n",
      "14 2025-10-24  266.910273  222.130917  309.534310\n",
      "15 2025-10-25  235.427608  191.964107  281.854624\n",
      "16 2025-10-26  219.356511  171.848314  266.486896\n",
      "17 2025-10-27  266.273427  218.755457  311.180855\n",
      "18 2025-10-28  275.888031  233.244321  320.934185\n",
      "19 2025-10-29  263.685866  218.781957  308.398811\n",
      "20 2025-10-30  259.074639  212.264390  304.390439\n",
      "21 2025-10-31  265.496712  220.712454  311.496010\n",
      "22 2025-11-01  234.024492  190.628236  282.417648\n",
      "23 2025-11-02  218.008953  172.860043  261.420286\n",
      "24 2025-11-03  265.025970  218.399572  306.748244\n",
      "25 2025-11-04  274.782634  227.614561  322.208906\n",
      "26 2025-11-05  262.759951  218.712827  309.332492\n",
      "27 2025-11-06  258.359269  212.649983  304.970195\n",
      "28 2025-11-07  265.014974  221.471611  312.767686\n",
      "29 2025-11-08  233.790124  191.459629  280.342325\n",
      "30 2025-11-09  218.025282  173.428957  264.211908\n",
      "31 2025-11-10  265.285201  221.523675  312.625208\n",
      "32 2025-11-11  275.265511  229.192522  319.992762\n",
      "33 2025-11-12  263.435816  215.211894  306.018092\n",
      "34 2025-11-13  259.186528  212.531166  302.837317\n",
      "35 2025-11-14  265.941951  222.672237  313.616575\n",
      "36 2025-11-15  234.756304  188.728836  281.588327\n",
      "37 2025-11-16  218.962889  175.797221  262.891522\n",
      "38 2025-11-17  266.121086  222.002191  312.329427\n",
      "39 2025-11-18  275.923285  231.653129  318.924270\n",
      "40 2025-11-19  263.838175  217.664666  310.647381\n",
      "41 2025-11-20  259.257696  212.195326  303.205313\n",
      "42 2025-11-21  265.610166  218.809859  308.805894\n",
      "43 2025-11-22  233.956273  188.800517  278.446468\n"
     ]
    }
   ],
   "source": [
    "import dropbox\n",
    "from utils import upload\n",
    "from dotenv import load_dotenv\n",
    "from tqdm import tqdm\n",
    "from prophet import Prophet\n",
    "import os\n",
    "import requests\n",
    "import pandas as pd\n",
    "import numpy as np\n",
    "np.float_ = np.float64\n",
    "# from deta import Deta\n",
    "load_dotenv('../.env')\n",
    "\n",
    "\n",
    "daily_inflow = pd.read_csv(\n",
    "    'https://www.dropbox.com/scl/fi/e61kmtweg90tq5hpqrnsf/daily_inflow.csv?rlkey=15r15klj0s0005fvhvlt2iuqt&raw=1')\n",
    "daily_inflow.ds = pd.to_datetime(daily_inflow.ds)\n",
    "daily_inflow = daily_inflow.tail(365*3)\n",
    "\n",
    "column = 'Daily_Inflow_Total'\n",
    "m = Prophet(interval_width=0.95, weekly_seasonality=True, yearly_seasonality=True, daily_seasonality=False,\n",
    "            seasonality_mode='additive', changepoint_prior_scale=0.05, seasonality_prior_scale=10.0, holidays_prior_scale=10.0)\n",
    "m.add_country_holidays(country_name='CA')\n",
    "m.fit(daily_inflow[['ds', column]].rename(columns={column: 'y'}))\n",
    "future = m.make_future_dataframe(periods=30, freq='D')\n",
    "forecast = m.predict(future.tail(30+14))\n",
    "\n",
    "daily_inflow_forecast = forecast[['ds', 'yhat', 'yhat_lower', 'yhat_upper']]\n",
    "daily_inflow_forecast.to_csv('daily_inflow_forecast.csv', index=False)\n",
    "daily_inflow_forecast.to_excel(\n",
    "    'daily_inflow_forecast.xlsx', index_label=\"index\")\n",
    "try:\n",
    "    dropbox_app_key = os.environ.get(\"DROPBOX_APP_KEY\")\n",
    "    dropbox_app_secret = os.environ.get(\"DROPBOX_APP_SECRET\")\n",
    "    dropbox_refresh_token = os.environ.get(\"DROPBOX_REFRESH_TOKEN\")\n",
    "\n",
    "    # exchange the authorization code for an access token:\n",
    "    token_url = \"https://api.dropboxapi.com/oauth2/token\"\n",
    "    params = {\n",
    "        \"grant_type\": \"refresh_token\",\n",
    "        \"refresh_token\": dropbox_refresh_token,\n",
    "        \"client_id\": dropbox_app_key,\n",
    "        \"client_secret\": dropbox_app_secret\n",
    "    }\n",
    "    r = requests.post(token_url, data=params)\n",
    "    # print(r.text)\n",
    "\n",
    "    dropbox_access_token = r.json()['access_token']\n",
    "\n",
    "    dbx = dropbox.Dropbox(dropbox_access_token)\n",
    "\n",
    "    upload(dbx, 'daily_inflow_forecast.csv', '', '',\n",
    "           'daily_inflow_forecast.csv', overwrite=True)\n",
    "    upload(dbx, 'daily_inflow_forecast.xlsx', '', '',\n",
    "           'daily_inflow_forecast.xlsx', overwrite=True)\n",
    "except:\n",
    "    print('unable to upload to dropbox')\n",
    "print(daily_inflow_forecast.tail(48))"
   ]
  },
  {
   "cell_type": "code",
   "execution_count": 24,
   "metadata": {},
   "outputs": [],
   "source": [
    "daily_inflow = pd.read_csv('https://www.dropbox.com/scl/fi/e61kmtweg90tq5hpqrnsf/daily_inflow.csv?rlkey=15r15klj0s0005fvhvlt2iuqt&raw=1')\n",
    "daily_inflow.ds = pd.to_datetime(daily_inflow.ds)\n",
    "\n",
    "daily_inflow_forecast = pd.read_csv('https://www.dropbox.com/scl/fi/xey7l618xztsa6cc4mynh/daily_inflow_forecast.csv?rlkey=box3k73kl819wo92eksgz3drj&raw=1')\n",
    "daily_inflow_forecast.ds = pd.to_datetime(daily_inflow_forecast.ds)"
   ]
  },
  {
   "cell_type": "code",
   "execution_count": 33,
   "metadata": {},
   "outputs": [
    {
     "name": "stdout",
     "output_type": "stream",
     "text": [
      "| Date       | Day of Week   |   Daily Inflow Total |   Forecast |   yhat_lower_95 |   yhat_upper_95 |\n",
      "|:-----------|:--------------|---------------------:|-----------:|----------------:|----------------:|\n",
      "| 2025-10-16 | Thursday      |                  270 |    262.456 |         219.492 |         302.883 |\n",
      "| 2025-10-17 | Friday        |                  272 |    267.1   |         223.556 |         311.436 |\n",
      "| 2025-10-18 | Saturday      |                  237 |    232.733 |         186.583 |         273.913 |\n",
      "| 2025-10-19 | Sunday        |                  233 |    221.033 |         178.395 |         260.688 |\n",
      "| 2025-10-20 | Monday        |                  308 |    273.969 |         229.578 |         316.985 |\n",
      "| 2025-10-21 | Tuesday       |                  290 |    273.056 |         230.643 |         312.845 |\n",
      "| 2025-10-22 | Wednesday     |                  279 |    264.327 |         219.659 |         307.85  |\n"
     ]
    }
   ],
   "source": [
    "# join daily_inflow and daily_inflow_forecast on ds, keeping only row\n",
    "merged_daily_inflow = daily_inflow.tail(7).merge(daily_inflow_forecast, on='ds', how='left')\n",
    "\n",
    "# convert ds to date only\n",
    "merged_daily_inflow['ds'] = merged_daily_inflow['ds'].dt.date\n",
    "\n",
    "# add a column with the name of the day of the week\n",
    "merged_daily_inflow['Day of Week'] = pd.to_datetime(merged_daily_inflow['ds']).dt.day_name()\n",
    "\n",
    "# reorder columns\n",
    "merged_daily_inflow = merged_daily_inflow[['ds', 'Day of Week',\n",
    "                                             'Daily_Inflow_Total', 'yhat', 'yhat_lower', 'yhat_upper']]\n",
    "#label the yhat_lower and yhat_upper columns as 95% Prediction Interval\n",
    "merged_daily_inflow = merged_daily_inflow.rename(columns={'yhat_lower': 'yhat_lower_95', 'yhat_upper': 'yhat_upper_95', 'Daily_Inflow_Total': 'Daily Inflow Total', 'ds': 'Date', 'yhat': 'Forecast'})\n",
    "\n",
    "# display as markdown table\n",
    "markdown_table = merged_daily_inflow.to_markdown(index=False)\n",
    "\n",
    "print(markdown_table)"
   ]
  },
  {
   "cell_type": "code",
   "execution_count": 22,
   "metadata": {},
   "outputs": [
    {
     "name": "stdout",
     "output_type": "stream",
     "text": [
      "Collecting tabulate\n",
      "  Using cached tabulate-0.9.0-py3-none-any.whl.metadata (34 kB)\n",
      "Using cached tabulate-0.9.0-py3-none-any.whl (35 kB)\n",
      "Installing collected packages: tabulate\n",
      "Successfully installed tabulate-0.9.0\n"
     ]
    }
   ],
   "source": [
    "!pip install tabulate"
   ]
  },
  {
   "cell_type": "code",
   "execution_count": 4,
   "metadata": {},
   "outputs": [
    {
     "data": {
      "text/html": [
       "<div>\n",
       "<style scoped>\n",
       "    .dataframe tbody tr th:only-of-type {\n",
       "        vertical-align: middle;\n",
       "    }\n",
       "\n",
       "    .dataframe tbody tr th {\n",
       "        vertical-align: top;\n",
       "    }\n",
       "\n",
       "    .dataframe thead th {\n",
       "        text-align: right;\n",
       "    }\n",
       "</style>\n",
       "<table border=\"1\" class=\"dataframe\">\n",
       "  <thead>\n",
       "    <tr style=\"text-align: right;\">\n",
       "      <th></th>\n",
       "      <th>ds</th>\n",
       "      <th>Daily_Inflow_Total</th>\n",
       "    </tr>\n",
       "  </thead>\n",
       "  <tbody>\n",
       "    <tr>\n",
       "      <th>0</th>\n",
       "      <td>2021-01-01</td>\n",
       "      <td>138</td>\n",
       "    </tr>\n",
       "    <tr>\n",
       "      <th>1</th>\n",
       "      <td>2021-01-02</td>\n",
       "      <td>161</td>\n",
       "    </tr>\n",
       "    <tr>\n",
       "      <th>2</th>\n",
       "      <td>2021-01-03</td>\n",
       "      <td>169</td>\n",
       "    </tr>\n",
       "    <tr>\n",
       "      <th>3</th>\n",
       "      <td>2021-01-04</td>\n",
       "      <td>219</td>\n",
       "    </tr>\n",
       "    <tr>\n",
       "      <th>4</th>\n",
       "      <td>2021-01-05</td>\n",
       "      <td>212</td>\n",
       "    </tr>\n",
       "    <tr>\n",
       "      <th>...</th>\n",
       "      <td>...</td>\n",
       "      <td>...</td>\n",
       "    </tr>\n",
       "    <tr>\n",
       "      <th>1752</th>\n",
       "      <td>2025-10-19</td>\n",
       "      <td>233</td>\n",
       "    </tr>\n",
       "    <tr>\n",
       "      <th>1753</th>\n",
       "      <td>2025-10-20</td>\n",
       "      <td>308</td>\n",
       "    </tr>\n",
       "    <tr>\n",
       "      <th>1754</th>\n",
       "      <td>2025-10-21</td>\n",
       "      <td>290</td>\n",
       "    </tr>\n",
       "    <tr>\n",
       "      <th>1755</th>\n",
       "      <td>2025-10-22</td>\n",
       "      <td>279</td>\n",
       "    </tr>\n",
       "    <tr>\n",
       "      <th>1756</th>\n",
       "      <td>2025-10-23</td>\n",
       "      <td>263</td>\n",
       "    </tr>\n",
       "  </tbody>\n",
       "</table>\n",
       "<p>1757 rows × 2 columns</p>\n",
       "</div>"
      ],
      "text/plain": [
       "             ds  Daily_Inflow_Total\n",
       "0    2021-01-01                 138\n",
       "1    2021-01-02                 161\n",
       "2    2021-01-03                 169\n",
       "3    2021-01-04                 219\n",
       "4    2021-01-05                 212\n",
       "...         ...                 ...\n",
       "1752 2025-10-19                 233\n",
       "1753 2025-10-20                 308\n",
       "1754 2025-10-21                 290\n",
       "1755 2025-10-22                 279\n",
       "1756 2025-10-23                 263\n",
       "\n",
       "[1757 rows x 2 columns]"
      ]
     },
     "execution_count": 4,
     "metadata": {},
     "output_type": "execute_result"
    }
   ],
   "source": [
    "import pandas as pd\n",
    "daily_inflow = pd.read_csv('https://www.dropbox.com/scl/fi/e61kmtweg90tq5hpqrnsf/daily_inflow.csv?rlkey=15r15klj0s0005fvhvlt2iuqt&raw=1')\n",
    "daily_inflow.ds = pd.to_datetime(daily_inflow.ds)\n",
    "daily_inflow"
   ]
  },
  {
   "cell_type": "code",
   "execution_count": null,
   "metadata": {},
   "outputs": [],
   "source": []
  }
 ],
 "metadata": {
  "kernelspec": {
   "display_name": "ed-flow-2023",
   "language": "python",
   "name": "python3"
  },
  "language_info": {
   "codemirror_mode": {
    "name": "ipython",
    "version": 3
   },
   "file_extension": ".py",
   "mimetype": "text/x-python",
   "name": "python",
   "nbconvert_exporter": "python",
   "pygments_lexer": "ipython3",
   "version": "3.10.13"
  }
 },
 "nbformat": 4,
 "nbformat_minor": 2
}
