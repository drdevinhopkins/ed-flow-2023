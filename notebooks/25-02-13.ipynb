{
 "cells": [
  {
   "cell_type": "code",
   "execution_count": 1,
   "metadata": {},
   "outputs": [
    {
     "name": "stderr",
     "output_type": "stream",
     "text": [
      "Importing plotly failed. Interactive plots will not work.\n",
      "Importing plotly failed. Interactive plots will not work.\n"
     ]
    }
   ],
   "source": [
    "import os\n",
    "import pandas as pd\n",
    "from neuralprophet import NeuralProphet\n",
    "from neuralprophet import set_random_seed\n",
    "from dotenv import load_dotenv\n",
    "import dropbox\n",
    "import requests\n",
    "from utils import upload\n",
    "\n",
    "\n",
    "load_dotenv()\n",
    "\n",
    "# Function to reformat the forecast data\n",
    "\n",
    "\n",
    "def reformat_forecast(forecast):\n",
    "    forecast_data = []\n",
    "\n",
    "    for i in range(8):\n",
    "        step_col = f\"step{i}\"\n",
    "        quantile_20_col = f\"step{i} 20.0%\"  # Column name for 20th percentile\n",
    "        quantile_80_col = f\"step{i} 80.0%\"  # Column name for 80th percentile\n",
    "\n",
    "        forecast_data.append({\n",
    "            \"ds\": forecast[\"ds\"].iloc[0] + pd.Timedelta(hours=i),\n",
    "            \"yhat\": forecast[step_col].iloc[0],\n",
    "            # Add lower bound (20th percentile)\n",
    "            \"yhat_lower\": forecast[quantile_20_col].iloc[0],\n",
    "            # Add upper bound (80th percentile)\n",
    "            \"yhat_upper\": forecast[quantile_80_col].iloc[0]\n",
    "        })\n",
    "\n",
    "    new_forecast_df = pd.DataFrame(forecast_data)\n",
    "    return new_forecast_df\n",
    "\n",
    "\n",
    "data = pd.read_csv(\n",
    "    'https://www.dropbox.com/scl/fi/ksf0nbmmiort5khbrgr61/allData.csv?rlkey=75e735fjk4ifttjt553ukxt3k&dl=1')\n",
    "data.ds = pd.to_datetime(data.ds)\n",
    "data = data.sort_values('ds')\n",
    "data['y'] = data['POD_GREEN_TBS']+data['POD_YELLOW_TBS']+data['POD_ORANGE_TBS'] + \\\n",
    "    data['TRG_HALLWAY_TBS']+data['RAZ_TBS'] + \\\n",
    "    data['AMBVERTTBS']+data['QTrack_TBS']+data['Garage_TBS']\n",
    "df = data.copy()\n",
    "df = df[['ds', 'y']]\n",
    "\n"
   ]
  },
  {
   "cell_type": "code",
   "execution_count": 2,
   "metadata": {},
   "outputs": [
    {
     "data": {
      "text/html": [
       "<div>\n",
       "<style scoped>\n",
       "    .dataframe tbody tr th:only-of-type {\n",
       "        vertical-align: middle;\n",
       "    }\n",
       "\n",
       "    .dataframe tbody tr th {\n",
       "        vertical-align: top;\n",
       "    }\n",
       "\n",
       "    .dataframe thead th {\n",
       "        text-align: right;\n",
       "    }\n",
       "</style>\n",
       "<table border=\"1\" class=\"dataframe\">\n",
       "  <thead>\n",
       "    <tr style=\"text-align: right;\">\n",
       "      <th></th>\n",
       "      <th>ds</th>\n",
       "      <th>y</th>\n",
       "    </tr>\n",
       "  </thead>\n",
       "  <tbody>\n",
       "    <tr>\n",
       "      <th>0</th>\n",
       "      <td>2021-01-01 01:00:00</td>\n",
       "      <td>0.0</td>\n",
       "    </tr>\n",
       "    <tr>\n",
       "      <th>1</th>\n",
       "      <td>2021-01-01 02:00:00</td>\n",
       "      <td>3.0</td>\n",
       "    </tr>\n",
       "    <tr>\n",
       "      <th>2</th>\n",
       "      <td>2021-01-01 03:00:00</td>\n",
       "      <td>2.0</td>\n",
       "    </tr>\n",
       "    <tr>\n",
       "      <th>3</th>\n",
       "      <td>2021-01-01 04:00:00</td>\n",
       "      <td>1.0</td>\n",
       "    </tr>\n",
       "    <tr>\n",
       "      <th>4</th>\n",
       "      <td>2021-01-01 05:00:00</td>\n",
       "      <td>2.0</td>\n",
       "    </tr>\n",
       "    <tr>\n",
       "      <th>...</th>\n",
       "      <td>...</td>\n",
       "      <td>...</td>\n",
       "    </tr>\n",
       "    <tr>\n",
       "      <th>36064</th>\n",
       "      <td>2025-02-14 10:00:00</td>\n",
       "      <td>5.0</td>\n",
       "    </tr>\n",
       "    <tr>\n",
       "      <th>36065</th>\n",
       "      <td>2025-02-14 11:00:00</td>\n",
       "      <td>11.0</td>\n",
       "    </tr>\n",
       "    <tr>\n",
       "      <th>36066</th>\n",
       "      <td>2025-02-14 12:00:00</td>\n",
       "      <td>13.0</td>\n",
       "    </tr>\n",
       "    <tr>\n",
       "      <th>36067</th>\n",
       "      <td>2025-02-14 13:00:00</td>\n",
       "      <td>23.0</td>\n",
       "    </tr>\n",
       "    <tr>\n",
       "      <th>36068</th>\n",
       "      <td>2025-02-14 14:00:00</td>\n",
       "      <td>21.0</td>\n",
       "    </tr>\n",
       "  </tbody>\n",
       "</table>\n",
       "<p>36069 rows × 2 columns</p>\n",
       "</div>"
      ],
      "text/plain": [
       "                       ds     y\n",
       "0     2021-01-01 01:00:00   0.0\n",
       "1     2021-01-01 02:00:00   3.0\n",
       "2     2021-01-01 03:00:00   2.0\n",
       "3     2021-01-01 04:00:00   1.0\n",
       "4     2021-01-01 05:00:00   2.0\n",
       "...                   ...   ...\n",
       "36064 2025-02-14 10:00:00   5.0\n",
       "36065 2025-02-14 11:00:00  11.0\n",
       "36066 2025-02-14 12:00:00  13.0\n",
       "36067 2025-02-14 13:00:00  23.0\n",
       "36068 2025-02-14 14:00:00  21.0\n",
       "\n",
       "[36069 rows x 2 columns]"
      ]
     },
     "execution_count": 2,
     "metadata": {},
     "output_type": "execute_result"
    }
   ],
   "source": [
    "df"
   ]
  },
  {
   "cell_type": "code",
   "execution_count": 18,
   "metadata": {},
   "outputs": [],
   "source": [
    "regressors = [\n",
    "#  'ds',\n",
    " 'INFLOW_STRETCHER',\n",
    " 'Infl_Stretcher_cum',\n",
    " 'INFLOW_AMBULATORY',\n",
    " 'Infl_Ambulatory_cum',\n",
    " 'Inflow_Total',\n",
    " 'Inflow_Cum_Total',\n",
    " 'INFLOW_AMBULANCES',\n",
    " 'Infl_Ambulances_cum',\n",
    " 'FLS',\n",
    " 'CUM_ADMREQ',\n",
    " 'CUM_BA1',\n",
    " 'WAITINGADM',\n",
    " 'TTStr',\n",
    " 'TRG_HALLWAY1',\n",
    " 'TRG_HALLWAY_TBS',\n",
    " 'reoriented_cum',\n",
    " 'reoriented_cum_MD',\n",
    " 'QTRACK1',\n",
    " 'RESUS',\n",
    " 'Pod_T',\n",
    " 'POD_GREEN',\n",
    " 'POD_GREEN_TBS',\n",
    " 'POD_YELLOW',\n",
    " 'POD_YELLOW_TBS',\n",
    " 'POD_ORANGE',\n",
    " 'POD_ORANGE_TBS',\n",
    " 'POD_CONS_MORE2H',\n",
    " 'POD_IMCONS_MORE4H',\n",
    " 'POD_XRAY_MORE2H',\n",
    " 'POD_CT_MORE2H',\n",
    " 'POST_POD1',\n",
    " 'VERTSTRET',\n",
    " 'RAZ_TBS',\n",
    " 'RAZ_LAZYBOY',\n",
    " 'RAZ_WAITINGREZ',\n",
    " 'AMBVERT1',\n",
    " 'AMBVERTTBS',\n",
    " 'QTrack_TBS',\n",
    " 'Garage_TBS',\n",
    " 'RAZ_CONS_MORE2H',\n",
    " 'RAZ_IMCONS_MORE4H',\n",
    " 'RAZ_XRAY_MORE2H',\n",
    " 'RAZ_CT_MORE2H1',\n",
    " 'PSYCH1',\n",
    " 'PSYCH_WAITINGADM',\n",
    "#  'y'\n",
    " ]"
   ]
  },
  {
   "cell_type": "code",
   "execution_count": 19,
   "metadata": {},
   "outputs": [],
   "source": [
    "for regressor in regressors:\n",
    "    df[regressor] = data[regressor] "
   ]
  },
  {
   "cell_type": "code",
   "execution_count": 20,
   "metadata": {},
   "outputs": [
    {
     "data": {
      "text/html": [
       "<div>\n",
       "<style scoped>\n",
       "    .dataframe tbody tr th:only-of-type {\n",
       "        vertical-align: middle;\n",
       "    }\n",
       "\n",
       "    .dataframe tbody tr th {\n",
       "        vertical-align: top;\n",
       "    }\n",
       "\n",
       "    .dataframe thead th {\n",
       "        text-align: right;\n",
       "    }\n",
       "</style>\n",
       "<table border=\"1\" class=\"dataframe\">\n",
       "  <thead>\n",
       "    <tr style=\"text-align: right;\">\n",
       "      <th></th>\n",
       "      <th>ds</th>\n",
       "      <th>y</th>\n",
       "      <th>INFLOW_STRETCHER</th>\n",
       "      <th>Infl_Stretcher_cum</th>\n",
       "      <th>INFLOW_AMBULATORY</th>\n",
       "      <th>Infl_Ambulatory_cum</th>\n",
       "      <th>Inflow_Total</th>\n",
       "      <th>Inflow_Cum_Total</th>\n",
       "      <th>INFLOW_AMBULANCES</th>\n",
       "      <th>Infl_Ambulances_cum</th>\n",
       "      <th>...</th>\n",
       "      <th>AMBVERT1</th>\n",
       "      <th>AMBVERTTBS</th>\n",
       "      <th>QTrack_TBS</th>\n",
       "      <th>Garage_TBS</th>\n",
       "      <th>RAZ_CONS_MORE2H</th>\n",
       "      <th>RAZ_IMCONS_MORE4H</th>\n",
       "      <th>RAZ_XRAY_MORE2H</th>\n",
       "      <th>RAZ_CT_MORE2H1</th>\n",
       "      <th>PSYCH1</th>\n",
       "      <th>PSYCH_WAITINGADM</th>\n",
       "    </tr>\n",
       "  </thead>\n",
       "  <tbody>\n",
       "    <tr>\n",
       "      <th>0</th>\n",
       "      <td>2021-01-01 01:00:00</td>\n",
       "      <td>0.0</td>\n",
       "      <td>1</td>\n",
       "      <td>1</td>\n",
       "      <td>1</td>\n",
       "      <td>1</td>\n",
       "      <td>2</td>\n",
       "      <td>2</td>\n",
       "      <td>0</td>\n",
       "      <td>0</td>\n",
       "      <td>...</td>\n",
       "      <td>0</td>\n",
       "      <td>0</td>\n",
       "      <td>0.0</td>\n",
       "      <td>0.0</td>\n",
       "      <td>1</td>\n",
       "      <td>0</td>\n",
       "      <td>0</td>\n",
       "      <td>0</td>\n",
       "      <td>3</td>\n",
       "      <td>3</td>\n",
       "    </tr>\n",
       "    <tr>\n",
       "      <th>1</th>\n",
       "      <td>2021-01-01 02:00:00</td>\n",
       "      <td>3.0</td>\n",
       "      <td>2</td>\n",
       "      <td>3</td>\n",
       "      <td>1</td>\n",
       "      <td>2</td>\n",
       "      <td>3</td>\n",
       "      <td>5</td>\n",
       "      <td>1</td>\n",
       "      <td>1</td>\n",
       "      <td>...</td>\n",
       "      <td>2</td>\n",
       "      <td>2</td>\n",
       "      <td>0.0</td>\n",
       "      <td>0.0</td>\n",
       "      <td>1</td>\n",
       "      <td>1</td>\n",
       "      <td>0</td>\n",
       "      <td>0</td>\n",
       "      <td>3</td>\n",
       "      <td>3</td>\n",
       "    </tr>\n",
       "    <tr>\n",
       "      <th>2</th>\n",
       "      <td>2021-01-01 03:00:00</td>\n",
       "      <td>2.0</td>\n",
       "      <td>0</td>\n",
       "      <td>3</td>\n",
       "      <td>1</td>\n",
       "      <td>3</td>\n",
       "      <td>1</td>\n",
       "      <td>6</td>\n",
       "      <td>0</td>\n",
       "      <td>1</td>\n",
       "      <td>...</td>\n",
       "      <td>2</td>\n",
       "      <td>1</td>\n",
       "      <td>0.0</td>\n",
       "      <td>0.0</td>\n",
       "      <td>0</td>\n",
       "      <td>0</td>\n",
       "      <td>0</td>\n",
       "      <td>0</td>\n",
       "      <td>3</td>\n",
       "      <td>3</td>\n",
       "    </tr>\n",
       "    <tr>\n",
       "      <th>3</th>\n",
       "      <td>2021-01-01 04:00:00</td>\n",
       "      <td>1.0</td>\n",
       "      <td>1</td>\n",
       "      <td>4</td>\n",
       "      <td>0</td>\n",
       "      <td>3</td>\n",
       "      <td>1</td>\n",
       "      <td>7</td>\n",
       "      <td>1</td>\n",
       "      <td>2</td>\n",
       "      <td>...</td>\n",
       "      <td>2</td>\n",
       "      <td>0</td>\n",
       "      <td>0.0</td>\n",
       "      <td>0.0</td>\n",
       "      <td>0</td>\n",
       "      <td>0</td>\n",
       "      <td>0</td>\n",
       "      <td>0</td>\n",
       "      <td>4</td>\n",
       "      <td>3</td>\n",
       "    </tr>\n",
       "    <tr>\n",
       "      <th>4</th>\n",
       "      <td>2021-01-01 05:00:00</td>\n",
       "      <td>2.0</td>\n",
       "      <td>1</td>\n",
       "      <td>5</td>\n",
       "      <td>1</td>\n",
       "      <td>4</td>\n",
       "      <td>2</td>\n",
       "      <td>9</td>\n",
       "      <td>1</td>\n",
       "      <td>3</td>\n",
       "      <td>...</td>\n",
       "      <td>1</td>\n",
       "      <td>1</td>\n",
       "      <td>0.0</td>\n",
       "      <td>0.0</td>\n",
       "      <td>0</td>\n",
       "      <td>0</td>\n",
       "      <td>0</td>\n",
       "      <td>0</td>\n",
       "      <td>4</td>\n",
       "      <td>3</td>\n",
       "    </tr>\n",
       "    <tr>\n",
       "      <th>...</th>\n",
       "      <td>...</td>\n",
       "      <td>...</td>\n",
       "      <td>...</td>\n",
       "      <td>...</td>\n",
       "      <td>...</td>\n",
       "      <td>...</td>\n",
       "      <td>...</td>\n",
       "      <td>...</td>\n",
       "      <td>...</td>\n",
       "      <td>...</td>\n",
       "      <td>...</td>\n",
       "      <td>...</td>\n",
       "      <td>...</td>\n",
       "      <td>...</td>\n",
       "      <td>...</td>\n",
       "      <td>...</td>\n",
       "      <td>...</td>\n",
       "      <td>...</td>\n",
       "      <td>...</td>\n",
       "      <td>...</td>\n",
       "      <td>...</td>\n",
       "    </tr>\n",
       "    <tr>\n",
       "      <th>36053</th>\n",
       "      <td>2025-02-13 17:00:00</td>\n",
       "      <td>23.0</td>\n",
       "      <td>5</td>\n",
       "      <td>107</td>\n",
       "      <td>4</td>\n",
       "      <td>44</td>\n",
       "      <td>9</td>\n",
       "      <td>151</td>\n",
       "      <td>1</td>\n",
       "      <td>25</td>\n",
       "      <td>...</td>\n",
       "      <td>12</td>\n",
       "      <td>10</td>\n",
       "      <td>2.0</td>\n",
       "      <td>0.0</td>\n",
       "      <td>4</td>\n",
       "      <td>0</td>\n",
       "      <td>2</td>\n",
       "      <td>0</td>\n",
       "      <td>13</td>\n",
       "      <td>8</td>\n",
       "    </tr>\n",
       "    <tr>\n",
       "      <th>36054</th>\n",
       "      <td>2025-02-13 18:00:00</td>\n",
       "      <td>24.0</td>\n",
       "      <td>10</td>\n",
       "      <td>117</td>\n",
       "      <td>3</td>\n",
       "      <td>47</td>\n",
       "      <td>13</td>\n",
       "      <td>164</td>\n",
       "      <td>4</td>\n",
       "      <td>29</td>\n",
       "      <td>...</td>\n",
       "      <td>15</td>\n",
       "      <td>13</td>\n",
       "      <td>0.0</td>\n",
       "      <td>0.0</td>\n",
       "      <td>6</td>\n",
       "      <td>0</td>\n",
       "      <td>1</td>\n",
       "      <td>0</td>\n",
       "      <td>13</td>\n",
       "      <td>9</td>\n",
       "    </tr>\n",
       "    <tr>\n",
       "      <th>36055</th>\n",
       "      <td>2025-02-13 19:00:00</td>\n",
       "      <td>18.0</td>\n",
       "      <td>8</td>\n",
       "      <td>125</td>\n",
       "      <td>1</td>\n",
       "      <td>48</td>\n",
       "      <td>9</td>\n",
       "      <td>173</td>\n",
       "      <td>3</td>\n",
       "      <td>32</td>\n",
       "      <td>...</td>\n",
       "      <td>10</td>\n",
       "      <td>10</td>\n",
       "      <td>1.0</td>\n",
       "      <td>0.0</td>\n",
       "      <td>7</td>\n",
       "      <td>0</td>\n",
       "      <td>0</td>\n",
       "      <td>0</td>\n",
       "      <td>10</td>\n",
       "      <td>7</td>\n",
       "    </tr>\n",
       "    <tr>\n",
       "      <th>36056</th>\n",
       "      <td>2025-02-13 20:00:00</td>\n",
       "      <td>10.0</td>\n",
       "      <td>3</td>\n",
       "      <td>128</td>\n",
       "      <td>1</td>\n",
       "      <td>49</td>\n",
       "      <td>4</td>\n",
       "      <td>177</td>\n",
       "      <td>3</td>\n",
       "      <td>35</td>\n",
       "      <td>...</td>\n",
       "      <td>6</td>\n",
       "      <td>6</td>\n",
       "      <td>0.0</td>\n",
       "      <td>0.0</td>\n",
       "      <td>7</td>\n",
       "      <td>0</td>\n",
       "      <td>0</td>\n",
       "      <td>3</td>\n",
       "      <td>11</td>\n",
       "      <td>8</td>\n",
       "    </tr>\n",
       "    <tr>\n",
       "      <th>36057</th>\n",
       "      <td>2025-02-13 21:00:00</td>\n",
       "      <td>8.0</td>\n",
       "      <td>4</td>\n",
       "      <td>132</td>\n",
       "      <td>2</td>\n",
       "      <td>51</td>\n",
       "      <td>6</td>\n",
       "      <td>183</td>\n",
       "      <td>0</td>\n",
       "      <td>35</td>\n",
       "      <td>...</td>\n",
       "      <td>4</td>\n",
       "      <td>4</td>\n",
       "      <td>0.0</td>\n",
       "      <td>0.0</td>\n",
       "      <td>4</td>\n",
       "      <td>1</td>\n",
       "      <td>2</td>\n",
       "      <td>2</td>\n",
       "      <td>11</td>\n",
       "      <td>9</td>\n",
       "    </tr>\n",
       "  </tbody>\n",
       "</table>\n",
       "<p>36058 rows × 47 columns</p>\n",
       "</div>"
      ],
      "text/plain": [
       "                       ds     y  INFLOW_STRETCHER  Infl_Stretcher_cum  \\\n",
       "0     2021-01-01 01:00:00   0.0                 1                   1   \n",
       "1     2021-01-01 02:00:00   3.0                 2                   3   \n",
       "2     2021-01-01 03:00:00   2.0                 0                   3   \n",
       "3     2021-01-01 04:00:00   1.0                 1                   4   \n",
       "4     2021-01-01 05:00:00   2.0                 1                   5   \n",
       "...                   ...   ...               ...                 ...   \n",
       "36053 2025-02-13 17:00:00  23.0                 5                 107   \n",
       "36054 2025-02-13 18:00:00  24.0                10                 117   \n",
       "36055 2025-02-13 19:00:00  18.0                 8                 125   \n",
       "36056 2025-02-13 20:00:00  10.0                 3                 128   \n",
       "36057 2025-02-13 21:00:00   8.0                 4                 132   \n",
       "\n",
       "       INFLOW_AMBULATORY  Infl_Ambulatory_cum  Inflow_Total  Inflow_Cum_Total  \\\n",
       "0                      1                    1             2                 2   \n",
       "1                      1                    2             3                 5   \n",
       "2                      1                    3             1                 6   \n",
       "3                      0                    3             1                 7   \n",
       "4                      1                    4             2                 9   \n",
       "...                  ...                  ...           ...               ...   \n",
       "36053                  4                   44             9               151   \n",
       "36054                  3                   47            13               164   \n",
       "36055                  1                   48             9               173   \n",
       "36056                  1                   49             4               177   \n",
       "36057                  2                   51             6               183   \n",
       "\n",
       "       INFLOW_AMBULANCES  Infl_Ambulances_cum  ...  AMBVERT1  AMBVERTTBS  \\\n",
       "0                      0                    0  ...         0           0   \n",
       "1                      1                    1  ...         2           2   \n",
       "2                      0                    1  ...         2           1   \n",
       "3                      1                    2  ...         2           0   \n",
       "4                      1                    3  ...         1           1   \n",
       "...                  ...                  ...  ...       ...         ...   \n",
       "36053                  1                   25  ...        12          10   \n",
       "36054                  4                   29  ...        15          13   \n",
       "36055                  3                   32  ...        10          10   \n",
       "36056                  3                   35  ...         6           6   \n",
       "36057                  0                   35  ...         4           4   \n",
       "\n",
       "       QTrack_TBS  Garage_TBS  RAZ_CONS_MORE2H  RAZ_IMCONS_MORE4H  \\\n",
       "0             0.0         0.0                1                  0   \n",
       "1             0.0         0.0                1                  1   \n",
       "2             0.0         0.0                0                  0   \n",
       "3             0.0         0.0                0                  0   \n",
       "4             0.0         0.0                0                  0   \n",
       "...           ...         ...              ...                ...   \n",
       "36053         2.0         0.0                4                  0   \n",
       "36054         0.0         0.0                6                  0   \n",
       "36055         1.0         0.0                7                  0   \n",
       "36056         0.0         0.0                7                  0   \n",
       "36057         0.0         0.0                4                  1   \n",
       "\n",
       "       RAZ_XRAY_MORE2H  RAZ_CT_MORE2H1  PSYCH1  PSYCH_WAITINGADM  \n",
       "0                    0               0       3                 3  \n",
       "1                    0               0       3                 3  \n",
       "2                    0               0       3                 3  \n",
       "3                    0               0       4                 3  \n",
       "4                    0               0       4                 3  \n",
       "...                ...             ...     ...               ...  \n",
       "36053                2               0      13                 8  \n",
       "36054                1               0      13                 9  \n",
       "36055                0               0      10                 7  \n",
       "36056                0               3      11                 8  \n",
       "36057                2               2      11                 9  \n",
       "\n",
       "[36058 rows x 47 columns]"
      ]
     },
     "execution_count": 20,
     "metadata": {},
     "output_type": "execute_result"
    }
   ],
   "source": [
    "df"
   ]
  },
  {
   "cell_type": "code",
   "execution_count": 21,
   "metadata": {},
   "outputs": [
    {
     "name": "stderr",
     "output_type": "stream",
     "text": [
      "INFO - (NP.forecaster.add_lagged_regressor) - n_lags = 'auto', number of lags for regressor is set to Autoregression number of lags (48)\n",
      "WARNING - (NP.forecaster.fit) - When Global modeling with local normalization, metrics are displayed in normalized scale.\n",
      "WARNING - (py.warnings._showwarnmsg) - /Users/devinhopkins/anaconda3/envs/ed-flow-2023/lib/python3.10/site-packages/neuralprophet/df_utils.py:1152: FutureWarning: Series.view is deprecated and will be removed in a future version. Use ``astype`` as an alternative to change the dtype.\n",
      "  converted_ds = pd.to_datetime(ds_col, utc=True).view(dtype=np.int64)\n",
      "\n",
      "INFO - (NP.df_utils._infer_frequency) - Major frequency h corresponds to 99.895% of the data.\n",
      "WARNING - (py.warnings._showwarnmsg) - /Users/devinhopkins/anaconda3/envs/ed-flow-2023/lib/python3.10/site-packages/neuralprophet/df_utils.py:1152: FutureWarning: Series.view is deprecated and will be removed in a future version. Use ``astype`` as an alternative to change the dtype.\n",
      "  converted_ds = pd.to_datetime(ds_col, utc=True).view(dtype=np.int64)\n",
      "\n",
      "WARNING - (py.warnings._showwarnmsg) - /Users/devinhopkins/anaconda3/envs/ed-flow-2023/lib/python3.10/site-packages/neuralprophet/df_utils.py:1152: FutureWarning: Series.view is deprecated and will be removed in a future version. Use ``astype`` as an alternative to change the dtype.\n",
      "  converted_ds = pd.to_datetime(ds_col, utc=True).view(dtype=np.int64)\n",
      "\n",
      "INFO - (NP.df_utils._infer_frequency) - Defined frequency is equal to major frequency - h\n",
      "INFO - (NP.data.processing._handle_missing_data) - Added 59 missing dates.\n",
      "WARNING - (NP.data.processing._handle_missing_data) - 59 missing values in column y were detected in total. \n",
      "INFO - (NP.data.processing._handle_missing_data) - 59 NaN values in column y were auto-imputed.\n",
      "WARNING - (NP.data.processing._handle_missing_data) - 59 missing values in column INFLOW_STRETCHER were detected in total. \n",
      "INFO - (NP.data.processing._handle_missing_data) - 59 NaN values in column INFLOW_STRETCHER were auto-imputed.\n",
      "INFO - (NP.config.init_data_params) - Setting normalization to global as only one dataframe provided for training.\n",
      "INFO - (NP.config.set_auto_batch_epoch) - Auto-set batch_size to 128\n"
     ]
    },
    {
     "data": {
      "application/vnd.jupyter.widget-view+json": {
       "model_id": "e81bbe4457374909925d7f8475afff33",
       "version_major": 2,
       "version_minor": 0
      },
      "text/plain": [
       "Training: |          | 0/? [00:00<?, ?it/s]"
      ]
     },
     "metadata": {},
     "output_type": "display_data"
    },
    {
     "data": {
      "application/vnd.jupyter.widget-view+json": {
       "model_id": "0385e1a7967e469fa5bd0cb648b3500f",
       "version_major": 2,
       "version_minor": 0
      },
      "text/plain": [
       "Finding best initial lr:   0%|          | 0/263 [00:00<?, ?it/s]"
      ]
     },
     "metadata": {},
     "output_type": "display_data"
    },
    {
     "data": {
      "application/vnd.jupyter.widget-view+json": {
       "model_id": "f339069858cd47f8bf70ceaf1bc7b685",
       "version_major": 2,
       "version_minor": 0
      },
      "text/plain": [
       "Training: |          | 0/? [00:00<?, ?it/s]"
      ]
     },
     "metadata": {},
     "output_type": "display_data"
    },
    {
     "name": "stderr",
     "output_type": "stream",
     "text": [
      "INFO - (NP.forecaster.add_lagged_regressor) - n_lags = 'auto', number of lags for regressor is set to Autoregression number of lags (48)\n",
      "WARNING - (NP.forecaster.fit) - When Global modeling with local normalization, metrics are displayed in normalized scale.\n",
      "WARNING - (py.warnings._showwarnmsg) - /Users/devinhopkins/anaconda3/envs/ed-flow-2023/lib/python3.10/site-packages/neuralprophet/df_utils.py:1152: FutureWarning: Series.view is deprecated and will be removed in a future version. Use ``astype`` as an alternative to change the dtype.\n",
      "  converted_ds = pd.to_datetime(ds_col, utc=True).view(dtype=np.int64)\n",
      "\n",
      "INFO - (NP.df_utils._infer_frequency) - Major frequency h corresponds to 99.895% of the data.\n",
      "WARNING - (py.warnings._showwarnmsg) - /Users/devinhopkins/anaconda3/envs/ed-flow-2023/lib/python3.10/site-packages/neuralprophet/df_utils.py:1152: FutureWarning: Series.view is deprecated and will be removed in a future version. Use ``astype`` as an alternative to change the dtype.\n",
      "  converted_ds = pd.to_datetime(ds_col, utc=True).view(dtype=np.int64)\n",
      "\n",
      "WARNING - (py.warnings._showwarnmsg) - /Users/devinhopkins/anaconda3/envs/ed-flow-2023/lib/python3.10/site-packages/neuralprophet/df_utils.py:1152: FutureWarning: Series.view is deprecated and will be removed in a future version. Use ``astype`` as an alternative to change the dtype.\n",
      "  converted_ds = pd.to_datetime(ds_col, utc=True).view(dtype=np.int64)\n",
      "\n",
      "INFO - (NP.df_utils._infer_frequency) - Defined frequency is equal to major frequency - h\n",
      "INFO - (NP.data.processing._handle_missing_data) - Added 59 missing dates.\n",
      "WARNING - (NP.data.processing._handle_missing_data) - 59 missing values in column y were detected in total. \n",
      "INFO - (NP.data.processing._handle_missing_data) - 59 NaN values in column y were auto-imputed.\n",
      "WARNING - (NP.data.processing._handle_missing_data) - 59 missing values in column Infl_Stretcher_cum were detected in total. \n",
      "INFO - (NP.data.processing._handle_missing_data) - 59 NaN values in column Infl_Stretcher_cum were auto-imputed.\n",
      "INFO - (NP.config.init_data_params) - Setting normalization to global as only one dataframe provided for training.\n"
     ]
    },
    {
     "name": "stdout",
     "output_type": "stream",
     "text": [
      "INFLOW_STRETCHER    train_loss  reg_loss        MAE       RMSE      Loss  RegLoss  epoch\n",
      "0    0.896282       0.0  22.970419  29.186430  0.895757      0.0      0\n",
      "1    0.220177       0.0  10.062747  12.723562  0.220108      0.0      1\n",
      "2    0.111390       0.0   6.731476   8.630895  0.111371      0.0      2\n",
      "3    0.079873       0.0   5.809178   7.501287  0.079866      0.0      3\n",
      "4    0.069145       0.0   5.569877   7.216793  0.069136      0.0      4\n",
      "5    0.065167       0.0   5.479059   7.111247  0.065168      0.0      5\n",
      "6    0.063970       0.0   5.451525   7.079269  0.063962      0.0      6\n",
      "7    0.063299       0.0   5.435501   7.059958  0.063298      0.0      7\n",
      "8    0.062795       0.0   5.423366   7.045784  0.062789      0.0      8\n",
      "9    0.062498       0.0   5.417083   7.036859  0.062497      0.0      9\n"
     ]
    },
    {
     "name": "stderr",
     "output_type": "stream",
     "text": [
      "INFO - (NP.config.set_auto_batch_epoch) - Auto-set batch_size to 128\n"
     ]
    },
    {
     "data": {
      "application/vnd.jupyter.widget-view+json": {
       "model_id": "cc8d9cf7b81b44cb818012dbb1a9e553",
       "version_major": 2,
       "version_minor": 0
      },
      "text/plain": [
       "Training: |          | 0/? [00:00<?, ?it/s]"
      ]
     },
     "metadata": {},
     "output_type": "display_data"
    },
    {
     "data": {
      "application/vnd.jupyter.widget-view+json": {
       "model_id": "17e306eed60e4a9ca785a94de5d8af91",
       "version_major": 2,
       "version_minor": 0
      },
      "text/plain": [
       "Finding best initial lr:   0%|          | 0/263 [00:00<?, ?it/s]"
      ]
     },
     "metadata": {},
     "output_type": "display_data"
    },
    {
     "data": {
      "application/vnd.jupyter.widget-view+json": {
       "model_id": "7223b0124a3f48a0981c428a9804981d",
       "version_major": 2,
       "version_minor": 0
      },
      "text/plain": [
       "Training: |          | 0/? [00:00<?, ?it/s]"
      ]
     },
     "metadata": {},
     "output_type": "display_data"
    },
    {
     "name": "stderr",
     "output_type": "stream",
     "text": [
      "INFO - (NP.forecaster.add_lagged_regressor) - n_lags = 'auto', number of lags for regressor is set to Autoregression number of lags (48)\n",
      "WARNING - (NP.forecaster.fit) - When Global modeling with local normalization, metrics are displayed in normalized scale.\n",
      "WARNING - (py.warnings._showwarnmsg) - /Users/devinhopkins/anaconda3/envs/ed-flow-2023/lib/python3.10/site-packages/neuralprophet/df_utils.py:1152: FutureWarning: Series.view is deprecated and will be removed in a future version. Use ``astype`` as an alternative to change the dtype.\n",
      "  converted_ds = pd.to_datetime(ds_col, utc=True).view(dtype=np.int64)\n",
      "\n",
      "INFO - (NP.df_utils._infer_frequency) - Major frequency h corresponds to 99.895% of the data.\n",
      "WARNING - (py.warnings._showwarnmsg) - /Users/devinhopkins/anaconda3/envs/ed-flow-2023/lib/python3.10/site-packages/neuralprophet/df_utils.py:1152: FutureWarning: Series.view is deprecated and will be removed in a future version. Use ``astype`` as an alternative to change the dtype.\n",
      "  converted_ds = pd.to_datetime(ds_col, utc=True).view(dtype=np.int64)\n",
      "\n",
      "WARNING - (py.warnings._showwarnmsg) - /Users/devinhopkins/anaconda3/envs/ed-flow-2023/lib/python3.10/site-packages/neuralprophet/df_utils.py:1152: FutureWarning: Series.view is deprecated and will be removed in a future version. Use ``astype`` as an alternative to change the dtype.\n",
      "  converted_ds = pd.to_datetime(ds_col, utc=True).view(dtype=np.int64)\n",
      "\n",
      "INFO - (NP.df_utils._infer_frequency) - Defined frequency is equal to major frequency - h\n",
      "INFO - (NP.data.processing._handle_missing_data) - Added 59 missing dates.\n",
      "WARNING - (NP.data.processing._handle_missing_data) - 59 missing values in column y were detected in total. \n",
      "INFO - (NP.data.processing._handle_missing_data) - 59 NaN values in column y were auto-imputed.\n",
      "WARNING - (NP.data.processing._handle_missing_data) - 59 missing values in column INFLOW_AMBULATORY were detected in total. \n",
      "INFO - (NP.data.processing._handle_missing_data) - 59 NaN values in column INFLOW_AMBULATORY were auto-imputed.\n",
      "INFO - (NP.config.init_data_params) - Setting normalization to global as only one dataframe provided for training.\n"
     ]
    },
    {
     "name": "stdout",
     "output_type": "stream",
     "text": [
      "Infl_Stretcher_cum    train_loss  reg_loss        MAE       RMSE      Loss  RegLoss  epoch\n",
      "0    0.810901       0.0  20.952499  26.672089  0.810383      0.0      0\n",
      "1    0.160028       0.0   8.368191  10.652365  0.159983      0.0      1\n",
      "2    0.093086       0.0   6.428949   8.256299  0.093072      0.0      2\n",
      "3    0.074580       0.0   5.812911   7.514562  0.074573      0.0      3\n",
      "4    0.067326       0.0   5.574065   7.237248  0.067316      0.0      4\n",
      "5    0.064081       0.0   5.475809   7.123171  0.064082      0.0      5\n",
      "6    0.063114       0.0   5.446268   7.088887  0.063108      0.0      6\n",
      "7    0.062604       0.0   5.429144   7.067919  0.062605      0.0      7\n",
      "8    0.062194       0.0   5.415833   7.052502  0.062189      0.0      8\n",
      "9    0.061946       0.0   5.409633   7.043736  0.061944      0.0      9\n"
     ]
    },
    {
     "name": "stderr",
     "output_type": "stream",
     "text": [
      "INFO - (NP.config.set_auto_batch_epoch) - Auto-set batch_size to 128\n"
     ]
    },
    {
     "data": {
      "application/vnd.jupyter.widget-view+json": {
       "model_id": "21d154e554a849178d520d293faa567b",
       "version_major": 2,
       "version_minor": 0
      },
      "text/plain": [
       "Training: |          | 0/? [00:00<?, ?it/s]"
      ]
     },
     "metadata": {},
     "output_type": "display_data"
    },
    {
     "data": {
      "application/vnd.jupyter.widget-view+json": {
       "model_id": "422584cb01fb4f6fb066c333bec8ba82",
       "version_major": 2,
       "version_minor": 0
      },
      "text/plain": [
       "Finding best initial lr:   0%|          | 0/263 [00:00<?, ?it/s]"
      ]
     },
     "metadata": {},
     "output_type": "display_data"
    },
    {
     "data": {
      "application/vnd.jupyter.widget-view+json": {
       "model_id": "2109cb1af0d248d0b33cca79f528599c",
       "version_major": 2,
       "version_minor": 0
      },
      "text/plain": [
       "Training: |          | 0/? [00:00<?, ?it/s]"
      ]
     },
     "metadata": {},
     "output_type": "display_data"
    },
    {
     "name": "stderr",
     "output_type": "stream",
     "text": [
      "INFO - (NP.forecaster.add_lagged_regressor) - n_lags = 'auto', number of lags for regressor is set to Autoregression number of lags (48)\n",
      "WARNING - (NP.forecaster.fit) - When Global modeling with local normalization, metrics are displayed in normalized scale.\n",
      "WARNING - (py.warnings._showwarnmsg) - /Users/devinhopkins/anaconda3/envs/ed-flow-2023/lib/python3.10/site-packages/neuralprophet/df_utils.py:1152: FutureWarning: Series.view is deprecated and will be removed in a future version. Use ``astype`` as an alternative to change the dtype.\n",
      "  converted_ds = pd.to_datetime(ds_col, utc=True).view(dtype=np.int64)\n",
      "\n",
      "INFO - (NP.df_utils._infer_frequency) - Major frequency h corresponds to 99.895% of the data.\n",
      "WARNING - (py.warnings._showwarnmsg) - /Users/devinhopkins/anaconda3/envs/ed-flow-2023/lib/python3.10/site-packages/neuralprophet/df_utils.py:1152: FutureWarning: Series.view is deprecated and will be removed in a future version. Use ``astype`` as an alternative to change the dtype.\n",
      "  converted_ds = pd.to_datetime(ds_col, utc=True).view(dtype=np.int64)\n",
      "\n",
      "WARNING - (py.warnings._showwarnmsg) - /Users/devinhopkins/anaconda3/envs/ed-flow-2023/lib/python3.10/site-packages/neuralprophet/df_utils.py:1152: FutureWarning: Series.view is deprecated and will be removed in a future version. Use ``astype`` as an alternative to change the dtype.\n",
      "  converted_ds = pd.to_datetime(ds_col, utc=True).view(dtype=np.int64)\n",
      "\n",
      "INFO - (NP.df_utils._infer_frequency) - Defined frequency is equal to major frequency - h\n",
      "INFO - (NP.data.processing._handle_missing_data) - Added 59 missing dates.\n",
      "WARNING - (NP.data.processing._handle_missing_data) - 59 missing values in column y were detected in total. \n",
      "INFO - (NP.data.processing._handle_missing_data) - 59 NaN values in column y were auto-imputed.\n",
      "WARNING - (NP.data.processing._handle_missing_data) - 59 missing values in column Infl_Ambulatory_cum were detected in total. \n",
      "INFO - (NP.data.processing._handle_missing_data) - 59 NaN values in column Infl_Ambulatory_cum were auto-imputed.\n",
      "INFO - (NP.config.init_data_params) - Setting normalization to global as only one dataframe provided for training.\n"
     ]
    },
    {
     "name": "stdout",
     "output_type": "stream",
     "text": [
      "INFLOW_AMBULATORY    train_loss  reg_loss        MAE       RMSE      Loss  RegLoss  epoch\n",
      "0    0.849815       0.0  21.848738  27.797487  0.849327      0.0      0\n",
      "1    0.206334       0.0   9.528467  12.087095  0.206269      0.0      1\n",
      "2    0.104284       0.0   6.476274   8.329662  0.104263      0.0      2\n",
      "3    0.077073       0.0   5.766347   7.462004  0.077066      0.0      3\n",
      "4    0.067793       0.0   5.560550   7.220806  0.067786      0.0      4\n",
      "5    0.064139       0.0   5.475832   7.120185  0.064141      0.0      5\n",
      "6    0.063062       0.0   5.449118   7.089636  0.063056      0.0      6\n",
      "7    0.062497       0.0   5.434692   7.072144  0.062497      0.0      7\n",
      "8    0.062013       0.0   5.422249   7.057167  0.062006      0.0      8\n",
      "9    0.061757       0.0   5.416788   7.049307  0.061756      0.0      9\n"
     ]
    },
    {
     "name": "stderr",
     "output_type": "stream",
     "text": [
      "INFO - (NP.config.set_auto_batch_epoch) - Auto-set batch_size to 128\n"
     ]
    },
    {
     "data": {
      "application/vnd.jupyter.widget-view+json": {
       "model_id": "0e59e24e0800404e9134eced8a8b6678",
       "version_major": 2,
       "version_minor": 0
      },
      "text/plain": [
       "Training: |          | 0/? [00:00<?, ?it/s]"
      ]
     },
     "metadata": {},
     "output_type": "display_data"
    },
    {
     "data": {
      "application/vnd.jupyter.widget-view+json": {
       "model_id": "cd4e7e48b47e4c51ac75bcbc03f42bf7",
       "version_major": 2,
       "version_minor": 0
      },
      "text/plain": [
       "Finding best initial lr:   0%|          | 0/263 [00:00<?, ?it/s]"
      ]
     },
     "metadata": {},
     "output_type": "display_data"
    },
    {
     "data": {
      "application/vnd.jupyter.widget-view+json": {
       "model_id": "d581f28842fe4c6ba47be5c7743f683c",
       "version_major": 2,
       "version_minor": 0
      },
      "text/plain": [
       "Training: |          | 0/? [00:00<?, ?it/s]"
      ]
     },
     "metadata": {},
     "output_type": "display_data"
    },
    {
     "name": "stderr",
     "output_type": "stream",
     "text": [
      "INFO - (NP.forecaster.add_lagged_regressor) - n_lags = 'auto', number of lags for regressor is set to Autoregression number of lags (48)\n",
      "WARNING - (NP.forecaster.fit) - When Global modeling with local normalization, metrics are displayed in normalized scale.\n",
      "WARNING - (py.warnings._showwarnmsg) - /Users/devinhopkins/anaconda3/envs/ed-flow-2023/lib/python3.10/site-packages/neuralprophet/df_utils.py:1152: FutureWarning: Series.view is deprecated and will be removed in a future version. Use ``astype`` as an alternative to change the dtype.\n",
      "  converted_ds = pd.to_datetime(ds_col, utc=True).view(dtype=np.int64)\n",
      "\n",
      "INFO - (NP.df_utils._infer_frequency) - Major frequency h corresponds to 99.895% of the data.\n",
      "WARNING - (py.warnings._showwarnmsg) - /Users/devinhopkins/anaconda3/envs/ed-flow-2023/lib/python3.10/site-packages/neuralprophet/df_utils.py:1152: FutureWarning: Series.view is deprecated and will be removed in a future version. Use ``astype`` as an alternative to change the dtype.\n",
      "  converted_ds = pd.to_datetime(ds_col, utc=True).view(dtype=np.int64)\n",
      "\n",
      "WARNING - (py.warnings._showwarnmsg) - /Users/devinhopkins/anaconda3/envs/ed-flow-2023/lib/python3.10/site-packages/neuralprophet/df_utils.py:1152: FutureWarning: Series.view is deprecated and will be removed in a future version. Use ``astype`` as an alternative to change the dtype.\n",
      "  converted_ds = pd.to_datetime(ds_col, utc=True).view(dtype=np.int64)\n",
      "\n",
      "INFO - (NP.df_utils._infer_frequency) - Defined frequency is equal to major frequency - h\n",
      "INFO - (NP.data.processing._handle_missing_data) - Added 59 missing dates.\n",
      "WARNING - (NP.data.processing._handle_missing_data) - 59 missing values in column y were detected in total. \n",
      "INFO - (NP.data.processing._handle_missing_data) - 59 NaN values in column y were auto-imputed.\n",
      "WARNING - (NP.data.processing._handle_missing_data) - 59 missing values in column Inflow_Total were detected in total. \n",
      "INFO - (NP.data.processing._handle_missing_data) - 59 NaN values in column Inflow_Total were auto-imputed.\n",
      "INFO - (NP.config.init_data_params) - Setting normalization to global as only one dataframe provided for training.\n"
     ]
    },
    {
     "name": "stdout",
     "output_type": "stream",
     "text": [
      "Infl_Ambulatory_cum    train_loss  reg_loss        MAE       RMSE      Loss  RegLoss  epoch\n",
      "0    0.810107       0.0  20.886316  26.604422  0.809595      0.0      0\n",
      "1    0.161076       0.0   8.339962  10.615111  0.161027      0.0      1\n",
      "2    0.094021       0.0   6.434680   8.255258  0.094009      0.0      2\n",
      "3    0.075126       0.0   5.817376   7.515970  0.075119      0.0      3\n",
      "4    0.067733       0.0   5.583126   7.246005  0.067726      0.0      4\n",
      "5    0.064378       0.0   5.485975   7.133754  0.064380      0.0      5\n",
      "6    0.063387       0.0   5.457217   7.100893  0.063381      0.0      6\n",
      "7    0.062861       0.0   5.440333   7.080921  0.062861      0.0      7\n",
      "8    0.062407       0.0   5.426646   7.064967  0.062402      0.0      8\n",
      "9    0.062157       0.0   5.420843   7.056404  0.062154      0.0      9\n"
     ]
    },
    {
     "name": "stderr",
     "output_type": "stream",
     "text": [
      "INFO - (NP.config.set_auto_batch_epoch) - Auto-set batch_size to 128\n"
     ]
    },
    {
     "data": {
      "application/vnd.jupyter.widget-view+json": {
       "model_id": "240fabdb72034edab04c39b7435b0370",
       "version_major": 2,
       "version_minor": 0
      },
      "text/plain": [
       "Training: |          | 0/? [00:00<?, ?it/s]"
      ]
     },
     "metadata": {},
     "output_type": "display_data"
    },
    {
     "data": {
      "application/vnd.jupyter.widget-view+json": {
       "model_id": "911613a4e50d4c2fa745551896d9e368",
       "version_major": 2,
       "version_minor": 0
      },
      "text/plain": [
       "Finding best initial lr:   0%|          | 0/263 [00:00<?, ?it/s]"
      ]
     },
     "metadata": {},
     "output_type": "display_data"
    },
    {
     "data": {
      "application/vnd.jupyter.widget-view+json": {
       "model_id": "b1943e8c8b244224b86cf425c34d085b",
       "version_major": 2,
       "version_minor": 0
      },
      "text/plain": [
       "Training: |          | 0/? [00:00<?, ?it/s]"
      ]
     },
     "metadata": {},
     "output_type": "display_data"
    },
    {
     "name": "stderr",
     "output_type": "stream",
     "text": [
      "INFO - (NP.forecaster.add_lagged_regressor) - n_lags = 'auto', number of lags for regressor is set to Autoregression number of lags (48)\n",
      "WARNING - (NP.forecaster.fit) - When Global modeling with local normalization, metrics are displayed in normalized scale.\n",
      "WARNING - (py.warnings._showwarnmsg) - /Users/devinhopkins/anaconda3/envs/ed-flow-2023/lib/python3.10/site-packages/neuralprophet/df_utils.py:1152: FutureWarning: Series.view is deprecated and will be removed in a future version. Use ``astype`` as an alternative to change the dtype.\n",
      "  converted_ds = pd.to_datetime(ds_col, utc=True).view(dtype=np.int64)\n",
      "\n",
      "INFO - (NP.df_utils._infer_frequency) - Major frequency h corresponds to 99.895% of the data.\n",
      "WARNING - (py.warnings._showwarnmsg) - /Users/devinhopkins/anaconda3/envs/ed-flow-2023/lib/python3.10/site-packages/neuralprophet/df_utils.py:1152: FutureWarning: Series.view is deprecated and will be removed in a future version. Use ``astype`` as an alternative to change the dtype.\n",
      "  converted_ds = pd.to_datetime(ds_col, utc=True).view(dtype=np.int64)\n",
      "\n",
      "WARNING - (py.warnings._showwarnmsg) - /Users/devinhopkins/anaconda3/envs/ed-flow-2023/lib/python3.10/site-packages/neuralprophet/df_utils.py:1152: FutureWarning: Series.view is deprecated and will be removed in a future version. Use ``astype`` as an alternative to change the dtype.\n",
      "  converted_ds = pd.to_datetime(ds_col, utc=True).view(dtype=np.int64)\n",
      "\n",
      "INFO - (NP.df_utils._infer_frequency) - Defined frequency is equal to major frequency - h\n",
      "INFO - (NP.data.processing._handle_missing_data) - Added 59 missing dates.\n",
      "WARNING - (NP.data.processing._handle_missing_data) - 59 missing values in column y were detected in total. \n",
      "INFO - (NP.data.processing._handle_missing_data) - 59 NaN values in column y were auto-imputed.\n",
      "WARNING - (NP.data.processing._handle_missing_data) - 59 missing values in column Inflow_Cum_Total were detected in total. \n",
      "INFO - (NP.data.processing._handle_missing_data) - 59 NaN values in column Inflow_Cum_Total were auto-imputed.\n",
      "INFO - (NP.config.init_data_params) - Setting normalization to global as only one dataframe provided for training.\n"
     ]
    },
    {
     "name": "stdout",
     "output_type": "stream",
     "text": [
      "Inflow_Total    train_loss  reg_loss        MAE       RMSE      Loss  RegLoss  epoch\n",
      "0    0.881614       0.0  22.420475  28.547300  0.881074      0.0      0\n",
      "1    0.197473       0.0   9.470547  12.005406  0.197421      0.0      1\n",
      "2    0.109966       0.0   6.906455   8.847820  0.109948      0.0      2\n",
      "3    0.080948       0.0   5.915633   7.636900  0.080942      0.0      3\n",
      "4    0.070651       0.0   5.609409   7.269106  0.070644      0.0      4\n",
      "5    0.066578       0.0   5.504158   7.143722  0.066580      0.0      5\n",
      "6    0.065400       0.0   5.474585   7.108495  0.065394      0.0      6\n",
      "7    0.064710       0.0   5.455737   7.086728  0.064710      0.0      7\n",
      "8    0.064156       0.0   5.442134   7.069193  0.064149      0.0      8\n",
      "9    0.063857       0.0   5.434983   7.059970  0.063856      0.0      9\n"
     ]
    },
    {
     "name": "stderr",
     "output_type": "stream",
     "text": [
      "INFO - (NP.config.set_auto_batch_epoch) - Auto-set batch_size to 128\n"
     ]
    },
    {
     "data": {
      "application/vnd.jupyter.widget-view+json": {
       "model_id": "239948f07d55444f83fecfe38ab22d20",
       "version_major": 2,
       "version_minor": 0
      },
      "text/plain": [
       "Training: |          | 0/? [00:00<?, ?it/s]"
      ]
     },
     "metadata": {},
     "output_type": "display_data"
    },
    {
     "data": {
      "application/vnd.jupyter.widget-view+json": {
       "model_id": "0b6d76cf6cd546bbba75163c3144d246",
       "version_major": 2,
       "version_minor": 0
      },
      "text/plain": [
       "Finding best initial lr:   0%|          | 0/263 [00:00<?, ?it/s]"
      ]
     },
     "metadata": {},
     "output_type": "display_data"
    },
    {
     "data": {
      "application/vnd.jupyter.widget-view+json": {
       "model_id": "ac576cbd82cf464da73e70ef1a752bb6",
       "version_major": 2,
       "version_minor": 0
      },
      "text/plain": [
       "Training: |          | 0/? [00:00<?, ?it/s]"
      ]
     },
     "metadata": {},
     "output_type": "display_data"
    },
    {
     "name": "stderr",
     "output_type": "stream",
     "text": [
      "INFO - (NP.forecaster.add_lagged_regressor) - n_lags = 'auto', number of lags for regressor is set to Autoregression number of lags (48)\n",
      "WARNING - (NP.forecaster.fit) - When Global modeling with local normalization, metrics are displayed in normalized scale.\n",
      "WARNING - (py.warnings._showwarnmsg) - /Users/devinhopkins/anaconda3/envs/ed-flow-2023/lib/python3.10/site-packages/neuralprophet/df_utils.py:1152: FutureWarning: Series.view is deprecated and will be removed in a future version. Use ``astype`` as an alternative to change the dtype.\n",
      "  converted_ds = pd.to_datetime(ds_col, utc=True).view(dtype=np.int64)\n",
      "\n",
      "INFO - (NP.df_utils._infer_frequency) - Major frequency h corresponds to 99.895% of the data.\n",
      "WARNING - (py.warnings._showwarnmsg) - /Users/devinhopkins/anaconda3/envs/ed-flow-2023/lib/python3.10/site-packages/neuralprophet/df_utils.py:1152: FutureWarning: Series.view is deprecated and will be removed in a future version. Use ``astype`` as an alternative to change the dtype.\n",
      "  converted_ds = pd.to_datetime(ds_col, utc=True).view(dtype=np.int64)\n",
      "\n",
      "WARNING - (py.warnings._showwarnmsg) - /Users/devinhopkins/anaconda3/envs/ed-flow-2023/lib/python3.10/site-packages/neuralprophet/df_utils.py:1152: FutureWarning: Series.view is deprecated and will be removed in a future version. Use ``astype`` as an alternative to change the dtype.\n",
      "  converted_ds = pd.to_datetime(ds_col, utc=True).view(dtype=np.int64)\n",
      "\n",
      "INFO - (NP.df_utils._infer_frequency) - Defined frequency is equal to major frequency - h\n",
      "INFO - (NP.data.processing._handle_missing_data) - Added 59 missing dates.\n",
      "WARNING - (NP.data.processing._handle_missing_data) - 59 missing values in column y were detected in total. \n",
      "INFO - (NP.data.processing._handle_missing_data) - 59 NaN values in column y were auto-imputed.\n",
      "WARNING - (NP.data.processing._handle_missing_data) - 59 missing values in column INFLOW_AMBULANCES were detected in total. \n",
      "INFO - (NP.data.processing._handle_missing_data) - 59 NaN values in column INFLOW_AMBULANCES were auto-imputed.\n",
      "INFO - (NP.config.init_data_params) - Setting normalization to global as only one dataframe provided for training.\n"
     ]
    },
    {
     "name": "stdout",
     "output_type": "stream",
     "text": [
      "Inflow_Cum_Total    train_loss  reg_loss        MAE       RMSE      Loss  RegLoss  epoch\n",
      "0    0.811790       0.0  20.978861  26.705492  0.811271      0.0      0\n",
      "1    0.157370       0.0   8.326675  10.598868  0.157324      0.0      1\n",
      "2    0.091724       0.0   6.414494   8.236707  0.091711      0.0      2\n",
      "3    0.073699       0.0   5.811524   7.514012  0.073692      0.0      3\n",
      "4    0.066659       0.0   5.574363   7.240141  0.066651      0.0      4\n",
      "5    0.063448       0.0   5.474023   7.124741  0.063450      0.0      5\n",
      "6    0.062541       0.0   5.445039   7.091078  0.062535      0.0      6\n",
      "7    0.062064       0.0   5.427347   7.069998  0.062064      0.0      7\n",
      "8    0.061661       0.0   5.413963   7.053997  0.061655      0.0      8\n",
      "9    0.061428       0.0   5.407705   7.045296  0.061426      0.0      9\n"
     ]
    },
    {
     "name": "stderr",
     "output_type": "stream",
     "text": [
      "INFO - (NP.config.set_auto_batch_epoch) - Auto-set batch_size to 128\n"
     ]
    },
    {
     "data": {
      "application/vnd.jupyter.widget-view+json": {
       "model_id": "113907b657664269bf67cd1f237d99d1",
       "version_major": 2,
       "version_minor": 0
      },
      "text/plain": [
       "Training: |          | 0/? [00:00<?, ?it/s]"
      ]
     },
     "metadata": {},
     "output_type": "display_data"
    },
    {
     "data": {
      "application/vnd.jupyter.widget-view+json": {
       "model_id": "b04d7a1da4fa45928c5d281f941ae128",
       "version_major": 2,
       "version_minor": 0
      },
      "text/plain": [
       "Finding best initial lr:   0%|          | 0/263 [00:00<?, ?it/s]"
      ]
     },
     "metadata": {},
     "output_type": "display_data"
    },
    {
     "data": {
      "application/vnd.jupyter.widget-view+json": {
       "model_id": "9851be095a9f4b6abf54146a5951eaf3",
       "version_major": 2,
       "version_minor": 0
      },
      "text/plain": [
       "Training: |          | 0/? [00:00<?, ?it/s]"
      ]
     },
     "metadata": {},
     "output_type": "display_data"
    },
    {
     "name": "stderr",
     "output_type": "stream",
     "text": [
      "INFO - (NP.forecaster.add_lagged_regressor) - n_lags = 'auto', number of lags for regressor is set to Autoregression number of lags (48)\n",
      "WARNING - (NP.forecaster.fit) - When Global modeling with local normalization, metrics are displayed in normalized scale.\n",
      "WARNING - (py.warnings._showwarnmsg) - /Users/devinhopkins/anaconda3/envs/ed-flow-2023/lib/python3.10/site-packages/neuralprophet/df_utils.py:1152: FutureWarning: Series.view is deprecated and will be removed in a future version. Use ``astype`` as an alternative to change the dtype.\n",
      "  converted_ds = pd.to_datetime(ds_col, utc=True).view(dtype=np.int64)\n",
      "\n",
      "INFO - (NP.df_utils._infer_frequency) - Major frequency h corresponds to 99.895% of the data.\n",
      "WARNING - (py.warnings._showwarnmsg) - /Users/devinhopkins/anaconda3/envs/ed-flow-2023/lib/python3.10/site-packages/neuralprophet/df_utils.py:1152: FutureWarning: Series.view is deprecated and will be removed in a future version. Use ``astype`` as an alternative to change the dtype.\n",
      "  converted_ds = pd.to_datetime(ds_col, utc=True).view(dtype=np.int64)\n",
      "\n",
      "WARNING - (py.warnings._showwarnmsg) - /Users/devinhopkins/anaconda3/envs/ed-flow-2023/lib/python3.10/site-packages/neuralprophet/df_utils.py:1152: FutureWarning: Series.view is deprecated and will be removed in a future version. Use ``astype`` as an alternative to change the dtype.\n",
      "  converted_ds = pd.to_datetime(ds_col, utc=True).view(dtype=np.int64)\n",
      "\n",
      "INFO - (NP.df_utils._infer_frequency) - Defined frequency is equal to major frequency - h\n",
      "INFO - (NP.data.processing._handle_missing_data) - Added 59 missing dates.\n",
      "WARNING - (NP.data.processing._handle_missing_data) - 59 missing values in column y were detected in total. \n",
      "INFO - (NP.data.processing._handle_missing_data) - 59 NaN values in column y were auto-imputed.\n",
      "WARNING - (NP.data.processing._handle_missing_data) - 59 missing values in column Infl_Ambulances_cum were detected in total. \n",
      "INFO - (NP.data.processing._handle_missing_data) - 59 NaN values in column Infl_Ambulances_cum were auto-imputed.\n",
      "INFO - (NP.config.init_data_params) - Setting normalization to global as only one dataframe provided for training.\n"
     ]
    },
    {
     "name": "stdout",
     "output_type": "stream",
     "text": [
      "INFLOW_AMBULANCES    train_loss  reg_loss        MAE       RMSE      Loss  RegLoss  epoch\n",
      "0    0.944088       0.0  24.635208  31.232525  0.943573      0.0      0\n",
      "1    0.249033       0.0  10.435927  13.250379  0.248926      0.0      1\n",
      "2    0.104362       0.0   6.320896   8.129203  0.104343      0.0      2\n",
      "3    0.073957       0.0   5.778234   7.472006  0.073950      0.0      3\n",
      "4    0.066019       0.0   5.579902   7.241199  0.066013      0.0      4\n",
      "5    0.063020       0.0   5.490195   7.134896  0.063022      0.0      5\n",
      "6    0.062171       0.0   5.462292   7.103092  0.062164      0.0      6\n",
      "7    0.061765       0.0   5.447253   7.084737  0.061765      0.0      7\n",
      "8    0.061384       0.0   5.433451   7.068942  0.061378      0.0      8\n",
      "9    0.061172       0.0   5.427587   7.060279  0.061169      0.0      9\n"
     ]
    },
    {
     "name": "stderr",
     "output_type": "stream",
     "text": [
      "INFO - (NP.config.set_auto_batch_epoch) - Auto-set batch_size to 128\n"
     ]
    },
    {
     "data": {
      "application/vnd.jupyter.widget-view+json": {
       "model_id": "4ed4a95827b8451b9a668f7d0680d5f2",
       "version_major": 2,
       "version_minor": 0
      },
      "text/plain": [
       "Training: |          | 0/? [00:00<?, ?it/s]"
      ]
     },
     "metadata": {},
     "output_type": "display_data"
    },
    {
     "data": {
      "application/vnd.jupyter.widget-view+json": {
       "model_id": "991c53d35f494507964197972995cdb4",
       "version_major": 2,
       "version_minor": 0
      },
      "text/plain": [
       "Finding best initial lr:   0%|          | 0/263 [00:00<?, ?it/s]"
      ]
     },
     "metadata": {},
     "output_type": "display_data"
    },
    {
     "data": {
      "application/vnd.jupyter.widget-view+json": {
       "model_id": "dace2ed6e2764aa2ae637db6225e7ccb",
       "version_major": 2,
       "version_minor": 0
      },
      "text/plain": [
       "Training: |          | 0/? [00:00<?, ?it/s]"
      ]
     },
     "metadata": {},
     "output_type": "display_data"
    },
    {
     "name": "stderr",
     "output_type": "stream",
     "text": [
      "INFO - (NP.forecaster.add_lagged_regressor) - n_lags = 'auto', number of lags for regressor is set to Autoregression number of lags (48)\n",
      "WARNING - (NP.forecaster.fit) - When Global modeling with local normalization, metrics are displayed in normalized scale.\n",
      "WARNING - (py.warnings._showwarnmsg) - /Users/devinhopkins/anaconda3/envs/ed-flow-2023/lib/python3.10/site-packages/neuralprophet/df_utils.py:1152: FutureWarning: Series.view is deprecated and will be removed in a future version. Use ``astype`` as an alternative to change the dtype.\n",
      "  converted_ds = pd.to_datetime(ds_col, utc=True).view(dtype=np.int64)\n",
      "\n",
      "INFO - (NP.df_utils._infer_frequency) - Major frequency h corresponds to 99.895% of the data.\n",
      "WARNING - (py.warnings._showwarnmsg) - /Users/devinhopkins/anaconda3/envs/ed-flow-2023/lib/python3.10/site-packages/neuralprophet/df_utils.py:1152: FutureWarning: Series.view is deprecated and will be removed in a future version. Use ``astype`` as an alternative to change the dtype.\n",
      "  converted_ds = pd.to_datetime(ds_col, utc=True).view(dtype=np.int64)\n",
      "\n",
      "WARNING - (py.warnings._showwarnmsg) - /Users/devinhopkins/anaconda3/envs/ed-flow-2023/lib/python3.10/site-packages/neuralprophet/df_utils.py:1152: FutureWarning: Series.view is deprecated and will be removed in a future version. Use ``astype`` as an alternative to change the dtype.\n",
      "  converted_ds = pd.to_datetime(ds_col, utc=True).view(dtype=np.int64)\n",
      "\n",
      "INFO - (NP.df_utils._infer_frequency) - Defined frequency is equal to major frequency - h\n",
      "INFO - (NP.data.processing._handle_missing_data) - Added 59 missing dates.\n",
      "WARNING - (NP.data.processing._handle_missing_data) - 59 missing values in column y were detected in total. \n",
      "INFO - (NP.data.processing._handle_missing_data) - 59 NaN values in column y were auto-imputed.\n",
      "WARNING - (NP.data.processing._handle_missing_data) - 59 missing values in column FLS were detected in total. \n",
      "INFO - (NP.data.processing._handle_missing_data) - 59 NaN values in column FLS were auto-imputed.\n",
      "INFO - (NP.config.init_data_params) - Setting normalization to global as only one dataframe provided for training.\n"
     ]
    },
    {
     "name": "stdout",
     "output_type": "stream",
     "text": [
      "Infl_Ambulances_cum    train_loss  reg_loss        MAE       RMSE      Loss  RegLoss  epoch\n",
      "0    0.841589       0.0  21.698128  27.624142  0.841055      0.0      0\n",
      "1    0.169328       0.0   8.612885  10.950153  0.169275      0.0      1\n",
      "2    0.095678       0.0   6.505979   8.346159  0.095664      0.0      2\n",
      "3    0.076326       0.0   5.873559   7.586195  0.076319      0.0      3\n",
      "4    0.068865       0.0   5.636210   7.307244  0.068858      0.0      4\n",
      "5    0.065456       0.0   5.534069   7.187906  0.065458      0.0      5\n",
      "6    0.064508       0.0   5.505599   7.154456  0.064501      0.0      6\n",
      "7    0.063987       0.0   5.488210   7.133680  0.063989      0.0      7\n",
      "8    0.063530       0.0   5.473917   7.116856  0.063524      0.0      8\n",
      "9    0.063275       0.0   5.467777   7.107998  0.063273      0.0      9\n"
     ]
    },
    {
     "name": "stderr",
     "output_type": "stream",
     "text": [
      "INFO - (NP.config.set_auto_batch_epoch) - Auto-set batch_size to 128\n"
     ]
    },
    {
     "data": {
      "application/vnd.jupyter.widget-view+json": {
       "model_id": "e62a7c1f73cd489e963edcb802f1e99a",
       "version_major": 2,
       "version_minor": 0
      },
      "text/plain": [
       "Training: |          | 0/? [00:00<?, ?it/s]"
      ]
     },
     "metadata": {},
     "output_type": "display_data"
    },
    {
     "data": {
      "application/vnd.jupyter.widget-view+json": {
       "model_id": "bebf5e5548e64b2db3e1fea720178792",
       "version_major": 2,
       "version_minor": 0
      },
      "text/plain": [
       "Finding best initial lr:   0%|          | 0/263 [00:00<?, ?it/s]"
      ]
     },
     "metadata": {},
     "output_type": "display_data"
    },
    {
     "data": {
      "application/vnd.jupyter.widget-view+json": {
       "model_id": "70ddd498c6de43fbb9eb25e4f9a29eb5",
       "version_major": 2,
       "version_minor": 0
      },
      "text/plain": [
       "Training: |          | 0/? [00:00<?, ?it/s]"
      ]
     },
     "metadata": {},
     "output_type": "display_data"
    },
    {
     "name": "stderr",
     "output_type": "stream",
     "text": [
      "INFO - (NP.forecaster.add_lagged_regressor) - n_lags = 'auto', number of lags for regressor is set to Autoregression number of lags (48)\n",
      "WARNING - (NP.forecaster.fit) - When Global modeling with local normalization, metrics are displayed in normalized scale.\n",
      "WARNING - (py.warnings._showwarnmsg) - /Users/devinhopkins/anaconda3/envs/ed-flow-2023/lib/python3.10/site-packages/neuralprophet/df_utils.py:1152: FutureWarning: Series.view is deprecated and will be removed in a future version. Use ``astype`` as an alternative to change the dtype.\n",
      "  converted_ds = pd.to_datetime(ds_col, utc=True).view(dtype=np.int64)\n",
      "\n",
      "INFO - (NP.df_utils._infer_frequency) - Major frequency h corresponds to 99.895% of the data.\n",
      "WARNING - (py.warnings._showwarnmsg) - /Users/devinhopkins/anaconda3/envs/ed-flow-2023/lib/python3.10/site-packages/neuralprophet/df_utils.py:1152: FutureWarning: Series.view is deprecated and will be removed in a future version. Use ``astype`` as an alternative to change the dtype.\n",
      "  converted_ds = pd.to_datetime(ds_col, utc=True).view(dtype=np.int64)\n",
      "\n",
      "WARNING - (py.warnings._showwarnmsg) - /Users/devinhopkins/anaconda3/envs/ed-flow-2023/lib/python3.10/site-packages/neuralprophet/df_utils.py:1152: FutureWarning: Series.view is deprecated and will be removed in a future version. Use ``astype`` as an alternative to change the dtype.\n",
      "  converted_ds = pd.to_datetime(ds_col, utc=True).view(dtype=np.int64)\n",
      "\n",
      "INFO - (NP.df_utils._infer_frequency) - Defined frequency is equal to major frequency - h\n",
      "INFO - (NP.data.processing._handle_missing_data) - Added 59 missing dates.\n",
      "WARNING - (NP.data.processing._handle_missing_data) - 59 missing values in column y were detected in total. \n",
      "INFO - (NP.data.processing._handle_missing_data) - 59 NaN values in column y were auto-imputed.\n",
      "WARNING - (NP.data.processing._handle_missing_data) - 59 missing values in column CUM_ADMREQ were detected in total. \n",
      "INFO - (NP.data.processing._handle_missing_data) - 59 NaN values in column CUM_ADMREQ were auto-imputed.\n",
      "INFO - (NP.config.init_data_params) - Setting normalization to global as only one dataframe provided for training.\n"
     ]
    },
    {
     "name": "stdout",
     "output_type": "stream",
     "text": [
      "FLS    train_loss  reg_loss        MAE       RMSE      Loss  RegLoss  epoch\n",
      "0    0.611425       0.0  17.080175  21.854628  0.611004      0.0      0\n",
      "1    0.098032       0.0   6.311794   8.111178  0.098013      0.0      1\n",
      "2    0.074349       0.0   5.780564   7.486015  0.074344      0.0      2\n",
      "3    0.064423       0.0   5.481941   7.136029  0.064420      0.0      3\n",
      "4    0.059495       0.0   5.334564   6.951670  0.059487      0.0      4\n",
      "5    0.056563       0.0   5.242721   6.844038  0.056565      0.0      5\n",
      "6    0.055780       0.0   5.219567   6.813620  0.055774      0.0      6\n",
      "7    0.055574       0.0   5.212308   6.804083  0.055578      0.0      7\n",
      "8    0.055301       0.0   5.204564   6.794124  0.055297      0.0      8\n",
      "9    0.055052       0.0   5.197010   6.782042  0.055051      0.0      9\n"
     ]
    },
    {
     "name": "stderr",
     "output_type": "stream",
     "text": [
      "INFO - (NP.config.set_auto_batch_epoch) - Auto-set batch_size to 128\n"
     ]
    },
    {
     "data": {
      "application/vnd.jupyter.widget-view+json": {
       "model_id": "50df3a0149dd401987545b76285d734e",
       "version_major": 2,
       "version_minor": 0
      },
      "text/plain": [
       "Training: |          | 0/? [00:00<?, ?it/s]"
      ]
     },
     "metadata": {},
     "output_type": "display_data"
    },
    {
     "data": {
      "application/vnd.jupyter.widget-view+json": {
       "model_id": "aa2897fc5517404e9befb5ee7970cb15",
       "version_major": 2,
       "version_minor": 0
      },
      "text/plain": [
       "Finding best initial lr:   0%|          | 0/263 [00:00<?, ?it/s]"
      ]
     },
     "metadata": {},
     "output_type": "display_data"
    },
    {
     "data": {
      "application/vnd.jupyter.widget-view+json": {
       "model_id": "1e91d33faf73467abf3220537eb4e306",
       "version_major": 2,
       "version_minor": 0
      },
      "text/plain": [
       "Training: |          | 0/? [00:00<?, ?it/s]"
      ]
     },
     "metadata": {},
     "output_type": "display_data"
    },
    {
     "name": "stderr",
     "output_type": "stream",
     "text": [
      "INFO - (NP.forecaster.add_lagged_regressor) - n_lags = 'auto', number of lags for regressor is set to Autoregression number of lags (48)\n",
      "WARNING - (NP.forecaster.fit) - When Global modeling with local normalization, metrics are displayed in normalized scale.\n",
      "WARNING - (py.warnings._showwarnmsg) - /Users/devinhopkins/anaconda3/envs/ed-flow-2023/lib/python3.10/site-packages/neuralprophet/df_utils.py:1152: FutureWarning: Series.view is deprecated and will be removed in a future version. Use ``astype`` as an alternative to change the dtype.\n",
      "  converted_ds = pd.to_datetime(ds_col, utc=True).view(dtype=np.int64)\n",
      "\n",
      "INFO - (NP.df_utils._infer_frequency) - Major frequency h corresponds to 99.895% of the data.\n",
      "WARNING - (py.warnings._showwarnmsg) - /Users/devinhopkins/anaconda3/envs/ed-flow-2023/lib/python3.10/site-packages/neuralprophet/df_utils.py:1152: FutureWarning: Series.view is deprecated and will be removed in a future version. Use ``astype`` as an alternative to change the dtype.\n",
      "  converted_ds = pd.to_datetime(ds_col, utc=True).view(dtype=np.int64)\n",
      "\n",
      "WARNING - (py.warnings._showwarnmsg) - /Users/devinhopkins/anaconda3/envs/ed-flow-2023/lib/python3.10/site-packages/neuralprophet/df_utils.py:1152: FutureWarning: Series.view is deprecated and will be removed in a future version. Use ``astype`` as an alternative to change the dtype.\n",
      "  converted_ds = pd.to_datetime(ds_col, utc=True).view(dtype=np.int64)\n",
      "\n",
      "INFO - (NP.df_utils._infer_frequency) - Defined frequency is equal to major frequency - h\n",
      "INFO - (NP.data.processing._handle_missing_data) - Added 59 missing dates.\n",
      "WARNING - (NP.data.processing._handle_missing_data) - 59 missing values in column y were detected in total. \n",
      "INFO - (NP.data.processing._handle_missing_data) - 59 NaN values in column y were auto-imputed.\n",
      "WARNING - (NP.data.processing._handle_missing_data) - 59 missing values in column CUM_BA1 were detected in total. \n",
      "INFO - (NP.data.processing._handle_missing_data) - 59 NaN values in column CUM_BA1 were auto-imputed.\n",
      "INFO - (NP.config.init_data_params) - Setting normalization to global as only one dataframe provided for training.\n"
     ]
    },
    {
     "name": "stdout",
     "output_type": "stream",
     "text": [
      "CUM_ADMREQ    train_loss  reg_loss        MAE       RMSE      Loss  RegLoss  epoch\n",
      "0    0.827434       0.0  21.364159  27.200369  0.826916      0.0      0\n",
      "1    0.169787       0.0   8.559568  10.891123  0.169735      0.0      1\n",
      "2    0.096341       0.0   6.495805   8.328592  0.096328      0.0      2\n",
      "3    0.076799       0.0   5.876590   7.585873  0.076790      0.0      3\n",
      "4    0.069208       0.0   5.642364   7.312393  0.069199      0.0      4\n",
      "5    0.065689       0.0   5.541975   7.196005  0.065691      0.0      5\n",
      "6    0.064663       0.0   5.513457   7.162669  0.064657      0.0      6\n",
      "7    0.064110       0.0   5.496634   7.142497  0.064110      0.0      7\n",
      "8    0.063646       0.0   5.482551   7.126252  0.063640      0.0      8\n",
      "9    0.063386       0.0   5.476781   7.117752  0.063386      0.0      9\n"
     ]
    },
    {
     "name": "stderr",
     "output_type": "stream",
     "text": [
      "INFO - (NP.config.set_auto_batch_epoch) - Auto-set batch_size to 128\n"
     ]
    },
    {
     "data": {
      "application/vnd.jupyter.widget-view+json": {
       "model_id": "b68d80e6294544509c903ee8940d90a1",
       "version_major": 2,
       "version_minor": 0
      },
      "text/plain": [
       "Training: |          | 0/? [00:00<?, ?it/s]"
      ]
     },
     "metadata": {},
     "output_type": "display_data"
    },
    {
     "data": {
      "application/vnd.jupyter.widget-view+json": {
       "model_id": "75ad29d9d6934eadacb98ed5ed895537",
       "version_major": 2,
       "version_minor": 0
      },
      "text/plain": [
       "Finding best initial lr:   0%|          | 0/263 [00:00<?, ?it/s]"
      ]
     },
     "metadata": {},
     "output_type": "display_data"
    },
    {
     "data": {
      "application/vnd.jupyter.widget-view+json": {
       "model_id": "580f5a8735e0401cbaa212e5bf903f0c",
       "version_major": 2,
       "version_minor": 0
      },
      "text/plain": [
       "Training: |          | 0/? [00:00<?, ?it/s]"
      ]
     },
     "metadata": {},
     "output_type": "display_data"
    },
    {
     "name": "stderr",
     "output_type": "stream",
     "text": [
      "INFO - (NP.forecaster.add_lagged_regressor) - n_lags = 'auto', number of lags for regressor is set to Autoregression number of lags (48)\n",
      "WARNING - (NP.forecaster.fit) - When Global modeling with local normalization, metrics are displayed in normalized scale.\n",
      "WARNING - (py.warnings._showwarnmsg) - /Users/devinhopkins/anaconda3/envs/ed-flow-2023/lib/python3.10/site-packages/neuralprophet/df_utils.py:1152: FutureWarning: Series.view is deprecated and will be removed in a future version. Use ``astype`` as an alternative to change the dtype.\n",
      "  converted_ds = pd.to_datetime(ds_col, utc=True).view(dtype=np.int64)\n",
      "\n",
      "INFO - (NP.df_utils._infer_frequency) - Major frequency h corresponds to 99.895% of the data.\n",
      "WARNING - (py.warnings._showwarnmsg) - /Users/devinhopkins/anaconda3/envs/ed-flow-2023/lib/python3.10/site-packages/neuralprophet/df_utils.py:1152: FutureWarning: Series.view is deprecated and will be removed in a future version. Use ``astype`` as an alternative to change the dtype.\n",
      "  converted_ds = pd.to_datetime(ds_col, utc=True).view(dtype=np.int64)\n",
      "\n",
      "WARNING - (py.warnings._showwarnmsg) - /Users/devinhopkins/anaconda3/envs/ed-flow-2023/lib/python3.10/site-packages/neuralprophet/df_utils.py:1152: FutureWarning: Series.view is deprecated and will be removed in a future version. Use ``astype`` as an alternative to change the dtype.\n",
      "  converted_ds = pd.to_datetime(ds_col, utc=True).view(dtype=np.int64)\n",
      "\n",
      "INFO - (NP.df_utils._infer_frequency) - Defined frequency is equal to major frequency - h\n",
      "INFO - (NP.data.processing._handle_missing_data) - Added 59 missing dates.\n",
      "WARNING - (NP.data.processing._handle_missing_data) - 59 missing values in column y were detected in total. \n",
      "INFO - (NP.data.processing._handle_missing_data) - 59 NaN values in column y were auto-imputed.\n",
      "WARNING - (NP.data.processing._handle_missing_data) - 59 missing values in column WAITINGADM were detected in total. \n",
      "INFO - (NP.data.processing._handle_missing_data) - 59 NaN values in column WAITINGADM were auto-imputed.\n",
      "INFO - (NP.config.init_data_params) - Setting normalization to global as only one dataframe provided for training.\n"
     ]
    },
    {
     "name": "stdout",
     "output_type": "stream",
     "text": [
      "CUM_BA1    train_loss  reg_loss        MAE       RMSE      Loss  RegLoss  epoch\n",
      "0    0.788072       0.0  20.551830  26.164602  0.787574      0.0      0\n",
      "1    0.162351       0.0   8.333521  10.605989  0.162304      0.0      1\n",
      "2    0.093083       0.0   6.399511   8.213630  0.093069      0.0      2\n",
      "3    0.075038       0.0   5.828278   7.528152  0.075029      0.0      3\n",
      "4    0.067731       0.0   5.607132   7.270511  0.067725      0.0      4\n",
      "5    0.064336       0.0   5.511513   7.158590  0.064337      0.0      5\n",
      "6    0.063298       0.0   5.483778   7.125434  0.063292      0.0      6\n",
      "7    0.062783       0.0   5.466286   7.106250  0.062785      0.0      7\n",
      "8    0.062345       0.0   5.453387   7.090940  0.062341      0.0      8\n",
      "9    0.062093       0.0   5.447537   7.082496  0.062091      0.0      9\n"
     ]
    },
    {
     "name": "stderr",
     "output_type": "stream",
     "text": [
      "INFO - (NP.config.set_auto_batch_epoch) - Auto-set batch_size to 128\n"
     ]
    },
    {
     "data": {
      "application/vnd.jupyter.widget-view+json": {
       "model_id": "607b1b134c7045f6b1a23e35d8782456",
       "version_major": 2,
       "version_minor": 0
      },
      "text/plain": [
       "Training: |          | 0/? [00:00<?, ?it/s]"
      ]
     },
     "metadata": {},
     "output_type": "display_data"
    },
    {
     "data": {
      "application/vnd.jupyter.widget-view+json": {
       "model_id": "a9dbd845b67b470bbd62270b12fdc42b",
       "version_major": 2,
       "version_minor": 0
      },
      "text/plain": [
       "Finding best initial lr:   0%|          | 0/263 [00:00<?, ?it/s]"
      ]
     },
     "metadata": {},
     "output_type": "display_data"
    },
    {
     "data": {
      "application/vnd.jupyter.widget-view+json": {
       "model_id": "8dc0f3bfadda4c27b507ecbb1a41154a",
       "version_major": 2,
       "version_minor": 0
      },
      "text/plain": [
       "Training: |          | 0/? [00:00<?, ?it/s]"
      ]
     },
     "metadata": {},
     "output_type": "display_data"
    },
    {
     "name": "stderr",
     "output_type": "stream",
     "text": [
      "INFO - (NP.forecaster.add_lagged_regressor) - n_lags = 'auto', number of lags for regressor is set to Autoregression number of lags (48)\n",
      "WARNING - (NP.forecaster.fit) - When Global modeling with local normalization, metrics are displayed in normalized scale.\n",
      "WARNING - (py.warnings._showwarnmsg) - /Users/devinhopkins/anaconda3/envs/ed-flow-2023/lib/python3.10/site-packages/neuralprophet/df_utils.py:1152: FutureWarning: Series.view is deprecated and will be removed in a future version. Use ``astype`` as an alternative to change the dtype.\n",
      "  converted_ds = pd.to_datetime(ds_col, utc=True).view(dtype=np.int64)\n",
      "\n",
      "INFO - (NP.df_utils._infer_frequency) - Major frequency h corresponds to 99.895% of the data.\n",
      "WARNING - (py.warnings._showwarnmsg) - /Users/devinhopkins/anaconda3/envs/ed-flow-2023/lib/python3.10/site-packages/neuralprophet/df_utils.py:1152: FutureWarning: Series.view is deprecated and will be removed in a future version. Use ``astype`` as an alternative to change the dtype.\n",
      "  converted_ds = pd.to_datetime(ds_col, utc=True).view(dtype=np.int64)\n",
      "\n",
      "WARNING - (py.warnings._showwarnmsg) - /Users/devinhopkins/anaconda3/envs/ed-flow-2023/lib/python3.10/site-packages/neuralprophet/df_utils.py:1152: FutureWarning: Series.view is deprecated and will be removed in a future version. Use ``astype`` as an alternative to change the dtype.\n",
      "  converted_ds = pd.to_datetime(ds_col, utc=True).view(dtype=np.int64)\n",
      "\n",
      "INFO - (NP.df_utils._infer_frequency) - Defined frequency is equal to major frequency - h\n",
      "INFO - (NP.data.processing._handle_missing_data) - Added 59 missing dates.\n",
      "WARNING - (NP.data.processing._handle_missing_data) - 59 missing values in column y were detected in total. \n",
      "INFO - (NP.data.processing._handle_missing_data) - 59 NaN values in column y were auto-imputed.\n",
      "WARNING - (NP.data.processing._handle_missing_data) - 59 missing values in column TTStr were detected in total. \n",
      "INFO - (NP.data.processing._handle_missing_data) - 59 NaN values in column TTStr were auto-imputed.\n",
      "INFO - (NP.config.init_data_params) - Setting normalization to global as only one dataframe provided for training.\n"
     ]
    },
    {
     "name": "stdout",
     "output_type": "stream",
     "text": [
      "WAITINGADM    train_loss  reg_loss        MAE       RMSE      Loss  RegLoss  epoch\n",
      "0    0.916017       0.0  21.827219  28.049629  0.915426      0.0      0\n",
      "1    0.181943       0.0   8.203252  10.440175  0.181893      0.0      1\n",
      "2    0.104117       0.0   6.611641   8.460696  0.104101      0.0      2\n",
      "3    0.080394       0.0   6.111371   7.856049  0.080385      0.0      3\n",
      "4    0.072612       0.0   5.878428   7.582040  0.072606      0.0      4\n",
      "5    0.068962       0.0   5.773118   7.457154  0.068963      0.0      5\n",
      "6    0.067828       0.0   5.740791   7.419022  0.067821      0.0      6\n",
      "7    0.067379       0.0   5.720258   7.396211  0.067379      0.0      7\n",
      "8    0.066852       0.0   5.704350   7.375930  0.066847      0.0      8\n",
      "9    0.066612       0.0   5.697831   7.367457  0.066613      0.0      9\n"
     ]
    },
    {
     "name": "stderr",
     "output_type": "stream",
     "text": [
      "INFO - (NP.config.set_auto_batch_epoch) - Auto-set batch_size to 128\n"
     ]
    },
    {
     "data": {
      "application/vnd.jupyter.widget-view+json": {
       "model_id": "311c3ead25aa49e5a69faabe5c9c0684",
       "version_major": 2,
       "version_minor": 0
      },
      "text/plain": [
       "Training: |          | 0/? [00:00<?, ?it/s]"
      ]
     },
     "metadata": {},
     "output_type": "display_data"
    },
    {
     "data": {
      "application/vnd.jupyter.widget-view+json": {
       "model_id": "d32e87b8c0f6407b9b3d26f5b935bd44",
       "version_major": 2,
       "version_minor": 0
      },
      "text/plain": [
       "Finding best initial lr:   0%|          | 0/263 [00:00<?, ?it/s]"
      ]
     },
     "metadata": {},
     "output_type": "display_data"
    },
    {
     "data": {
      "application/vnd.jupyter.widget-view+json": {
       "model_id": "d8e76cd614f4462da5388774533e6960",
       "version_major": 2,
       "version_minor": 0
      },
      "text/plain": [
       "Training: |          | 0/? [00:00<?, ?it/s]"
      ]
     },
     "metadata": {},
     "output_type": "display_data"
    },
    {
     "name": "stderr",
     "output_type": "stream",
     "text": [
      "INFO - (NP.forecaster.add_lagged_regressor) - n_lags = 'auto', number of lags for regressor is set to Autoregression number of lags (48)\n",
      "WARNING - (NP.forecaster.fit) - When Global modeling with local normalization, metrics are displayed in normalized scale.\n",
      "WARNING - (py.warnings._showwarnmsg) - /Users/devinhopkins/anaconda3/envs/ed-flow-2023/lib/python3.10/site-packages/neuralprophet/df_utils.py:1152: FutureWarning: Series.view is deprecated and will be removed in a future version. Use ``astype`` as an alternative to change the dtype.\n",
      "  converted_ds = pd.to_datetime(ds_col, utc=True).view(dtype=np.int64)\n",
      "\n",
      "INFO - (NP.df_utils._infer_frequency) - Major frequency h corresponds to 99.895% of the data.\n",
      "WARNING - (py.warnings._showwarnmsg) - /Users/devinhopkins/anaconda3/envs/ed-flow-2023/lib/python3.10/site-packages/neuralprophet/df_utils.py:1152: FutureWarning: Series.view is deprecated and will be removed in a future version. Use ``astype`` as an alternative to change the dtype.\n",
      "  converted_ds = pd.to_datetime(ds_col, utc=True).view(dtype=np.int64)\n",
      "\n",
      "WARNING - (py.warnings._showwarnmsg) - /Users/devinhopkins/anaconda3/envs/ed-flow-2023/lib/python3.10/site-packages/neuralprophet/df_utils.py:1152: FutureWarning: Series.view is deprecated and will be removed in a future version. Use ``astype`` as an alternative to change the dtype.\n",
      "  converted_ds = pd.to_datetime(ds_col, utc=True).view(dtype=np.int64)\n",
      "\n",
      "INFO - (NP.df_utils._infer_frequency) - Defined frequency is equal to major frequency - h\n",
      "INFO - (NP.data.processing._handle_missing_data) - Added 59 missing dates.\n",
      "WARNING - (NP.data.processing._handle_missing_data) - 59 missing values in column y were detected in total. \n",
      "INFO - (NP.data.processing._handle_missing_data) - 59 NaN values in column y were auto-imputed.\n",
      "WARNING - (NP.data.processing._handle_missing_data) - 59 missing values in column TRG_HALLWAY1 were detected in total. \n",
      "INFO - (NP.data.processing._handle_missing_data) - 59 NaN values in column TRG_HALLWAY1 were auto-imputed.\n",
      "INFO - (NP.config.init_data_params) - Setting normalization to global as only one dataframe provided for training.\n"
     ]
    },
    {
     "name": "stdout",
     "output_type": "stream",
     "text": [
      "TTStr    train_loss  reg_loss        MAE       RMSE      Loss  RegLoss  epoch\n",
      "0    0.959853       0.0  23.127806  29.597685  0.959227      0.0      0\n",
      "1    0.178572       0.0   8.505346  10.811371  0.178518      0.0      1\n",
      "2    0.106090       0.0   6.766533   8.656519  0.106077      0.0      2\n",
      "3    0.084861       0.0   6.180901   7.948786  0.084851      0.0      3\n",
      "4    0.075451       0.0   5.900207   7.612164  0.075441      0.0      4\n",
      "5    0.071673       0.0   5.789567   7.479945  0.071673      0.0      5\n",
      "6    0.070455       0.0   5.751348   7.437190  0.070448      0.0      6\n",
      "7    0.069738       0.0   5.728031   7.408806  0.069736      0.0      7\n",
      "8    0.069178       0.0   5.710843   7.388027  0.069172      0.0      8\n",
      "9    0.068863       0.0   5.701526   7.376364  0.068862      0.0      9\n"
     ]
    },
    {
     "name": "stderr",
     "output_type": "stream",
     "text": [
      "INFO - (NP.config.set_auto_batch_epoch) - Auto-set batch_size to 128\n"
     ]
    },
    {
     "data": {
      "application/vnd.jupyter.widget-view+json": {
       "model_id": "e39c24b280f840249b94e972037ab9bc",
       "version_major": 2,
       "version_minor": 0
      },
      "text/plain": [
       "Training: |          | 0/? [00:00<?, ?it/s]"
      ]
     },
     "metadata": {},
     "output_type": "display_data"
    },
    {
     "data": {
      "application/vnd.jupyter.widget-view+json": {
       "model_id": "1503b6b5c66a4134ad7237ee0369558d",
       "version_major": 2,
       "version_minor": 0
      },
      "text/plain": [
       "Finding best initial lr:   0%|          | 0/263 [00:00<?, ?it/s]"
      ]
     },
     "metadata": {},
     "output_type": "display_data"
    },
    {
     "data": {
      "application/vnd.jupyter.widget-view+json": {
       "model_id": "6cbcf0eab393415bb1ba9ccc1c8c74b3",
       "version_major": 2,
       "version_minor": 0
      },
      "text/plain": [
       "Training: |          | 0/? [00:00<?, ?it/s]"
      ]
     },
     "metadata": {},
     "output_type": "display_data"
    },
    {
     "name": "stderr",
     "output_type": "stream",
     "text": [
      "INFO - (NP.forecaster.add_lagged_regressor) - n_lags = 'auto', number of lags for regressor is set to Autoregression number of lags (48)\n",
      "WARNING - (NP.forecaster.fit) - When Global modeling with local normalization, metrics are displayed in normalized scale.\n",
      "WARNING - (py.warnings._showwarnmsg) - /Users/devinhopkins/anaconda3/envs/ed-flow-2023/lib/python3.10/site-packages/neuralprophet/df_utils.py:1152: FutureWarning: Series.view is deprecated and will be removed in a future version. Use ``astype`` as an alternative to change the dtype.\n",
      "  converted_ds = pd.to_datetime(ds_col, utc=True).view(dtype=np.int64)\n",
      "\n",
      "INFO - (NP.df_utils._infer_frequency) - Major frequency h corresponds to 99.895% of the data.\n",
      "WARNING - (py.warnings._showwarnmsg) - /Users/devinhopkins/anaconda3/envs/ed-flow-2023/lib/python3.10/site-packages/neuralprophet/df_utils.py:1152: FutureWarning: Series.view is deprecated and will be removed in a future version. Use ``astype`` as an alternative to change the dtype.\n",
      "  converted_ds = pd.to_datetime(ds_col, utc=True).view(dtype=np.int64)\n",
      "\n",
      "WARNING - (py.warnings._showwarnmsg) - /Users/devinhopkins/anaconda3/envs/ed-flow-2023/lib/python3.10/site-packages/neuralprophet/df_utils.py:1152: FutureWarning: Series.view is deprecated and will be removed in a future version. Use ``astype`` as an alternative to change the dtype.\n",
      "  converted_ds = pd.to_datetime(ds_col, utc=True).view(dtype=np.int64)\n",
      "\n",
      "INFO - (NP.df_utils._infer_frequency) - Defined frequency is equal to major frequency - h\n",
      "INFO - (NP.data.processing._handle_missing_data) - Added 59 missing dates.\n",
      "WARNING - (NP.data.processing._handle_missing_data) - 59 missing values in column y were detected in total. \n",
      "INFO - (NP.data.processing._handle_missing_data) - 59 NaN values in column y were auto-imputed.\n",
      "WARNING - (NP.data.processing._handle_missing_data) - 59 missing values in column TRG_HALLWAY_TBS were detected in total. \n",
      "INFO - (NP.data.processing._handle_missing_data) - 59 NaN values in column TRG_HALLWAY_TBS were auto-imputed.\n",
      "INFO - (NP.config.init_data_params) - Setting normalization to global as only one dataframe provided for training.\n"
     ]
    },
    {
     "name": "stdout",
     "output_type": "stream",
     "text": [
      "TRG_HALLWAY1    train_loss  reg_loss        MAE       RMSE      Loss  RegLoss  epoch\n",
      "0    0.828953       0.0  19.930540  25.626699  0.828488      0.0      0\n",
      "1    0.189222       0.0   8.453783  10.805978  0.189155      0.0      1\n",
      "2    0.094527       0.0   6.364995   8.191401  0.094515      0.0      2\n",
      "3    0.074333       0.0   5.802114   7.503385  0.074326      0.0      3\n",
      "4    0.066955       0.0   5.603189   7.267377  0.066954      0.0      4\n",
      "5    0.063249       0.0   5.510545   7.156129  0.063250      0.0      5\n",
      "6    0.062116       0.0   5.482339   7.123682  0.062110      0.0      6\n",
      "7    0.061776       0.0   5.467611   7.108288  0.061778      0.0      7\n",
      "8    0.061261       0.0   5.455447   7.092743  0.061257      0.0      8\n",
      "9    0.061016       0.0   5.450482   7.084045  0.061014      0.0      9\n"
     ]
    },
    {
     "name": "stderr",
     "output_type": "stream",
     "text": [
      "INFO - (NP.config.set_auto_batch_epoch) - Auto-set batch_size to 128\n"
     ]
    },
    {
     "data": {
      "application/vnd.jupyter.widget-view+json": {
       "model_id": "3b613d14c69647fab51f219e89e6aa9f",
       "version_major": 2,
       "version_minor": 0
      },
      "text/plain": [
       "Training: |          | 0/? [00:00<?, ?it/s]"
      ]
     },
     "metadata": {},
     "output_type": "display_data"
    },
    {
     "data": {
      "application/vnd.jupyter.widget-view+json": {
       "model_id": "2d3c7b083a3b416dac0a481830cb667c",
       "version_major": 2,
       "version_minor": 0
      },
      "text/plain": [
       "Finding best initial lr:   0%|          | 0/263 [00:00<?, ?it/s]"
      ]
     },
     "metadata": {},
     "output_type": "display_data"
    },
    {
     "data": {
      "application/vnd.jupyter.widget-view+json": {
       "model_id": "df9271205701458fa946c11e96d27d05",
       "version_major": 2,
       "version_minor": 0
      },
      "text/plain": [
       "Training: |          | 0/? [00:00<?, ?it/s]"
      ]
     },
     "metadata": {},
     "output_type": "display_data"
    },
    {
     "name": "stderr",
     "output_type": "stream",
     "text": [
      "INFO - (NP.forecaster.add_lagged_regressor) - n_lags = 'auto', number of lags for regressor is set to Autoregression number of lags (48)\n",
      "WARNING - (NP.forecaster.fit) - When Global modeling with local normalization, metrics are displayed in normalized scale.\n",
      "WARNING - (py.warnings._showwarnmsg) - /Users/devinhopkins/anaconda3/envs/ed-flow-2023/lib/python3.10/site-packages/neuralprophet/df_utils.py:1152: FutureWarning: Series.view is deprecated and will be removed in a future version. Use ``astype`` as an alternative to change the dtype.\n",
      "  converted_ds = pd.to_datetime(ds_col, utc=True).view(dtype=np.int64)\n",
      "\n",
      "INFO - (NP.df_utils._infer_frequency) - Major frequency h corresponds to 99.895% of the data.\n",
      "WARNING - (py.warnings._showwarnmsg) - /Users/devinhopkins/anaconda3/envs/ed-flow-2023/lib/python3.10/site-packages/neuralprophet/df_utils.py:1152: FutureWarning: Series.view is deprecated and will be removed in a future version. Use ``astype`` as an alternative to change the dtype.\n",
      "  converted_ds = pd.to_datetime(ds_col, utc=True).view(dtype=np.int64)\n",
      "\n",
      "WARNING - (py.warnings._showwarnmsg) - /Users/devinhopkins/anaconda3/envs/ed-flow-2023/lib/python3.10/site-packages/neuralprophet/df_utils.py:1152: FutureWarning: Series.view is deprecated and will be removed in a future version. Use ``astype`` as an alternative to change the dtype.\n",
      "  converted_ds = pd.to_datetime(ds_col, utc=True).view(dtype=np.int64)\n",
      "\n",
      "INFO - (NP.df_utils._infer_frequency) - Defined frequency is equal to major frequency - h\n",
      "INFO - (NP.data.processing._handle_missing_data) - Added 59 missing dates.\n",
      "WARNING - (NP.data.processing._handle_missing_data) - 59 missing values in column y were detected in total. \n",
      "INFO - (NP.data.processing._handle_missing_data) - 59 NaN values in column y were auto-imputed.\n",
      "WARNING - (NP.data.processing._handle_missing_data) - 59 missing values in column reoriented_cum were detected in total. \n",
      "INFO - (NP.data.processing._handle_missing_data) - 59 NaN values in column reoriented_cum were auto-imputed.\n",
      "INFO - (NP.config.init_data_params) - Setting normalization to global as only one dataframe provided for training.\n"
     ]
    },
    {
     "name": "stdout",
     "output_type": "stream",
     "text": [
      "TRG_HALLWAY_TBS    train_loss  reg_loss        MAE       RMSE      Loss  RegLoss  epoch\n",
      "0    0.866619       0.0  21.138645  27.152004  0.866148      0.0      0\n",
      "1    0.204555       0.0   8.752542  11.220019  0.204475      0.0      1\n",
      "2    0.093979       0.0   6.292731   8.102472  0.093967      0.0      2\n",
      "3    0.073507       0.0   5.785727   7.483173  0.073500      0.0      3\n",
      "4    0.066506       0.0   5.600399   7.263701  0.066505      0.0      4\n",
      "5    0.062962       0.0   5.508614   7.154671  0.062964      0.0      5\n",
      "6    0.061835       0.0   5.479838   7.121017  0.061829      0.0      6\n",
      "7    0.061491       0.0   5.464363   7.104971  0.061492      0.0      7\n",
      "8    0.061014       0.0   5.452316   7.089747  0.061010      0.0      8\n",
      "9    0.060778       0.0   5.447438   7.081072  0.060775      0.0      9\n"
     ]
    },
    {
     "name": "stderr",
     "output_type": "stream",
     "text": [
      "INFO - (NP.config.set_auto_batch_epoch) - Auto-set batch_size to 128\n"
     ]
    },
    {
     "data": {
      "application/vnd.jupyter.widget-view+json": {
       "model_id": "384e8e9dc84a48809a2c7f7d6ef09d91",
       "version_major": 2,
       "version_minor": 0
      },
      "text/plain": [
       "Training: |          | 0/? [00:00<?, ?it/s]"
      ]
     },
     "metadata": {},
     "output_type": "display_data"
    },
    {
     "data": {
      "application/vnd.jupyter.widget-view+json": {
       "model_id": "f1767a6dc222438fad7f73051dc84022",
       "version_major": 2,
       "version_minor": 0
      },
      "text/plain": [
       "Finding best initial lr:   0%|          | 0/263 [00:00<?, ?it/s]"
      ]
     },
     "metadata": {},
     "output_type": "display_data"
    },
    {
     "data": {
      "application/vnd.jupyter.widget-view+json": {
       "model_id": "7ce3f27e92bf4a8889a32dfcc203b2a0",
       "version_major": 2,
       "version_minor": 0
      },
      "text/plain": [
       "Training: |          | 0/? [00:00<?, ?it/s]"
      ]
     },
     "metadata": {},
     "output_type": "display_data"
    },
    {
     "name": "stderr",
     "output_type": "stream",
     "text": [
      "INFO - (NP.forecaster.add_lagged_regressor) - n_lags = 'auto', number of lags for regressor is set to Autoregression number of lags (48)\n",
      "WARNING - (NP.forecaster.fit) - When Global modeling with local normalization, metrics are displayed in normalized scale.\n",
      "WARNING - (py.warnings._showwarnmsg) - /Users/devinhopkins/anaconda3/envs/ed-flow-2023/lib/python3.10/site-packages/neuralprophet/df_utils.py:1152: FutureWarning: Series.view is deprecated and will be removed in a future version. Use ``astype`` as an alternative to change the dtype.\n",
      "  converted_ds = pd.to_datetime(ds_col, utc=True).view(dtype=np.int64)\n",
      "\n",
      "INFO - (NP.df_utils._infer_frequency) - Major frequency h corresponds to 99.895% of the data.\n",
      "WARNING - (py.warnings._showwarnmsg) - /Users/devinhopkins/anaconda3/envs/ed-flow-2023/lib/python3.10/site-packages/neuralprophet/df_utils.py:1152: FutureWarning: Series.view is deprecated and will be removed in a future version. Use ``astype`` as an alternative to change the dtype.\n",
      "  converted_ds = pd.to_datetime(ds_col, utc=True).view(dtype=np.int64)\n",
      "\n",
      "WARNING - (py.warnings._showwarnmsg) - /Users/devinhopkins/anaconda3/envs/ed-flow-2023/lib/python3.10/site-packages/neuralprophet/df_utils.py:1152: FutureWarning: Series.view is deprecated and will be removed in a future version. Use ``astype`` as an alternative to change the dtype.\n",
      "  converted_ds = pd.to_datetime(ds_col, utc=True).view(dtype=np.int64)\n",
      "\n",
      "INFO - (NP.df_utils._infer_frequency) - Defined frequency is equal to major frequency - h\n",
      "INFO - (NP.data.processing._handle_missing_data) - Added 59 missing dates.\n",
      "WARNING - (NP.data.processing._handle_missing_data) - 59 missing values in column y were detected in total. \n",
      "INFO - (NP.data.processing._handle_missing_data) - 59 NaN values in column y were auto-imputed.\n",
      "WARNING - (NP.data.processing._handle_missing_data) - 59 missing values in column reoriented_cum_MD were detected in total. \n",
      "INFO - (NP.data.processing._handle_missing_data) - 59 NaN values in column reoriented_cum_MD were auto-imputed.\n",
      "INFO - (NP.config.init_data_params) - Setting normalization to global as only one dataframe provided for training.\n"
     ]
    },
    {
     "name": "stdout",
     "output_type": "stream",
     "text": [
      "reoriented_cum    train_loss  reg_loss        MAE       RMSE      Loss  RegLoss  epoch\n",
      "0    0.804986       0.0  20.170040  25.836302  0.804503      0.0      0\n",
      "1    0.177685       0.0   8.282770  10.585076  0.177631      0.0      1\n",
      "2    0.099142       0.0   6.418129   8.249970  0.099128      0.0      2\n",
      "3    0.074877       0.0   5.814023   7.524469  0.074865      0.0      3\n",
      "4    0.066873       0.0   5.577837   7.254163  0.066869      0.0      4\n",
      "5    0.063435       0.0   5.479617   7.137939  0.063438      0.0      5\n",
      "6    0.062377       0.0   5.448857   7.103178  0.062372      0.0      6\n",
      "7    0.061962       0.0   5.432983   7.085639  0.061962      0.0      7\n",
      "8    0.061478       0.0   5.418717   7.067773  0.061472      0.0      8\n",
      "9    0.061250       0.0   5.412774   7.059995  0.061247      0.0      9\n"
     ]
    },
    {
     "name": "stderr",
     "output_type": "stream",
     "text": [
      "INFO - (NP.config.set_auto_batch_epoch) - Auto-set batch_size to 128\n"
     ]
    },
    {
     "data": {
      "application/vnd.jupyter.widget-view+json": {
       "model_id": "b8b376643d3d4d29aa7d9fec61e7aee1",
       "version_major": 2,
       "version_minor": 0
      },
      "text/plain": [
       "Training: |          | 0/? [00:00<?, ?it/s]"
      ]
     },
     "metadata": {},
     "output_type": "display_data"
    },
    {
     "data": {
      "application/vnd.jupyter.widget-view+json": {
       "model_id": "9801e44fe32343b196c657cca165fa33",
       "version_major": 2,
       "version_minor": 0
      },
      "text/plain": [
       "Finding best initial lr:   0%|          | 0/263 [00:00<?, ?it/s]"
      ]
     },
     "metadata": {},
     "output_type": "display_data"
    },
    {
     "data": {
      "application/vnd.jupyter.widget-view+json": {
       "model_id": "f8310a64c09d49d6b342ad496a0ed933",
       "version_major": 2,
       "version_minor": 0
      },
      "text/plain": [
       "Training: |          | 0/? [00:00<?, ?it/s]"
      ]
     },
     "metadata": {},
     "output_type": "display_data"
    },
    {
     "name": "stderr",
     "output_type": "stream",
     "text": [
      "INFO - (NP.forecaster.add_lagged_regressor) - n_lags = 'auto', number of lags for regressor is set to Autoregression number of lags (48)\n",
      "WARNING - (NP.forecaster.fit) - When Global modeling with local normalization, metrics are displayed in normalized scale.\n",
      "WARNING - (py.warnings._showwarnmsg) - /Users/devinhopkins/anaconda3/envs/ed-flow-2023/lib/python3.10/site-packages/neuralprophet/df_utils.py:1152: FutureWarning: Series.view is deprecated and will be removed in a future version. Use ``astype`` as an alternative to change the dtype.\n",
      "  converted_ds = pd.to_datetime(ds_col, utc=True).view(dtype=np.int64)\n",
      "\n",
      "INFO - (NP.df_utils._infer_frequency) - Major frequency h corresponds to 99.895% of the data.\n",
      "WARNING - (py.warnings._showwarnmsg) - /Users/devinhopkins/anaconda3/envs/ed-flow-2023/lib/python3.10/site-packages/neuralprophet/df_utils.py:1152: FutureWarning: Series.view is deprecated and will be removed in a future version. Use ``astype`` as an alternative to change the dtype.\n",
      "  converted_ds = pd.to_datetime(ds_col, utc=True).view(dtype=np.int64)\n",
      "\n",
      "WARNING - (py.warnings._showwarnmsg) - /Users/devinhopkins/anaconda3/envs/ed-flow-2023/lib/python3.10/site-packages/neuralprophet/df_utils.py:1152: FutureWarning: Series.view is deprecated and will be removed in a future version. Use ``astype`` as an alternative to change the dtype.\n",
      "  converted_ds = pd.to_datetime(ds_col, utc=True).view(dtype=np.int64)\n",
      "\n",
      "INFO - (NP.df_utils._infer_frequency) - Defined frequency is equal to major frequency - h\n",
      "INFO - (NP.data.processing._handle_missing_data) - Added 59 missing dates.\n",
      "WARNING - (NP.data.processing._handle_missing_data) - 59 missing values in column y were detected in total. \n",
      "INFO - (NP.data.processing._handle_missing_data) - 59 NaN values in column y were auto-imputed.\n",
      "WARNING - (NP.data.processing._handle_missing_data) - 59 missing values in column QTRACK1 were detected in total. \n",
      "INFO - (NP.data.processing._handle_missing_data) - 59 NaN values in column QTRACK1 were auto-imputed.\n",
      "INFO - (NP.config.init_data_params) - Setting normalization to global as only one dataframe provided for training.\n"
     ]
    },
    {
     "name": "stdout",
     "output_type": "stream",
     "text": [
      "reoriented_cum_MD    train_loss  reg_loss        MAE       RMSE      Loss  RegLoss  epoch\n",
      "0    0.744829       0.0  18.755978  24.056108  0.744360      0.0      0\n",
      "1    0.154892       0.0   7.927649  10.139833  0.154844      0.0      1\n",
      "2    0.089454       0.0   6.269143   8.059435  0.089446      0.0      2\n",
      "3    0.072803       0.0   5.750859   7.438291  0.072794      0.0      3\n",
      "4    0.065518       0.0   5.537318   7.186605  0.065516      0.0      4\n",
      "5    0.061999       0.0   5.441350   7.077645  0.062000      0.0      5\n",
      "6    0.060924       0.0   5.416028   7.044657  0.060921      0.0      6\n",
      "7    0.060490       0.0   5.400597   7.028481  0.060493      0.0      7\n",
      "8    0.060050       0.0   5.387883   7.012916  0.060045      0.0      8\n",
      "9    0.059817       0.0   5.384212   7.004902  0.059815      0.0      9\n"
     ]
    },
    {
     "name": "stderr",
     "output_type": "stream",
     "text": [
      "INFO - (NP.config.set_auto_batch_epoch) - Auto-set batch_size to 128\n"
     ]
    },
    {
     "data": {
      "application/vnd.jupyter.widget-view+json": {
       "model_id": "761c530a8b7447cd9d83be8f8cbb4557",
       "version_major": 2,
       "version_minor": 0
      },
      "text/plain": [
       "Training: |          | 0/? [00:00<?, ?it/s]"
      ]
     },
     "metadata": {},
     "output_type": "display_data"
    },
    {
     "data": {
      "application/vnd.jupyter.widget-view+json": {
       "model_id": "e7b1bca37930482bad4d1ef8c97c75bb",
       "version_major": 2,
       "version_minor": 0
      },
      "text/plain": [
       "Finding best initial lr:   0%|          | 0/263 [00:00<?, ?it/s]"
      ]
     },
     "metadata": {},
     "output_type": "display_data"
    },
    {
     "data": {
      "application/vnd.jupyter.widget-view+json": {
       "model_id": "b5b663128e7043be905f08e46e7be077",
       "version_major": 2,
       "version_minor": 0
      },
      "text/plain": [
       "Training: |          | 0/? [00:00<?, ?it/s]"
      ]
     },
     "metadata": {},
     "output_type": "display_data"
    },
    {
     "name": "stderr",
     "output_type": "stream",
     "text": [
      "INFO - (NP.forecaster.add_lagged_regressor) - n_lags = 'auto', number of lags for regressor is set to Autoregression number of lags (48)\n",
      "WARNING - (NP.forecaster.fit) - When Global modeling with local normalization, metrics are displayed in normalized scale.\n",
      "WARNING - (py.warnings._showwarnmsg) - /Users/devinhopkins/anaconda3/envs/ed-flow-2023/lib/python3.10/site-packages/neuralprophet/df_utils.py:1152: FutureWarning: Series.view is deprecated and will be removed in a future version. Use ``astype`` as an alternative to change the dtype.\n",
      "  converted_ds = pd.to_datetime(ds_col, utc=True).view(dtype=np.int64)\n",
      "\n",
      "INFO - (NP.df_utils._infer_frequency) - Major frequency h corresponds to 99.895% of the data.\n",
      "WARNING - (py.warnings._showwarnmsg) - /Users/devinhopkins/anaconda3/envs/ed-flow-2023/lib/python3.10/site-packages/neuralprophet/df_utils.py:1152: FutureWarning: Series.view is deprecated and will be removed in a future version. Use ``astype`` as an alternative to change the dtype.\n",
      "  converted_ds = pd.to_datetime(ds_col, utc=True).view(dtype=np.int64)\n",
      "\n",
      "WARNING - (py.warnings._showwarnmsg) - /Users/devinhopkins/anaconda3/envs/ed-flow-2023/lib/python3.10/site-packages/neuralprophet/df_utils.py:1152: FutureWarning: Series.view is deprecated and will be removed in a future version. Use ``astype`` as an alternative to change the dtype.\n",
      "  converted_ds = pd.to_datetime(ds_col, utc=True).view(dtype=np.int64)\n",
      "\n",
      "INFO - (NP.df_utils._infer_frequency) - Defined frequency is equal to major frequency - h\n",
      "INFO - (NP.data.processing._handle_missing_data) - Added 59 missing dates.\n",
      "WARNING - (NP.data.processing._handle_missing_data) - 59 missing values in column y were detected in total. \n",
      "INFO - (NP.data.processing._handle_missing_data) - 59 NaN values in column y were auto-imputed.\n",
      "WARNING - (NP.data.processing._handle_missing_data) - 59 missing values in column RESUS were detected in total. \n",
      "INFO - (NP.data.processing._handle_missing_data) - 59 NaN values in column RESUS were auto-imputed.\n",
      "INFO - (NP.config.init_data_params) - Setting normalization to global as only one dataframe provided for training.\n"
     ]
    },
    {
     "name": "stdout",
     "output_type": "stream",
     "text": [
      "QTRACK1    train_loss  reg_loss        MAE       RMSE      Loss  RegLoss  epoch\n",
      "0    0.780625       0.0  19.048391  24.461508  0.780159      0.0      0\n",
      "1    0.174277       0.0   7.969668  10.198479  0.174224      0.0      1\n",
      "2    0.094969       0.0   6.424145   8.268274  0.094962      0.0      2\n",
      "3    0.076054       0.0   5.863297   7.584939  0.076047      0.0      3\n",
      "4    0.067946       0.0   5.625423   7.299532  0.067943      0.0      4\n",
      "5    0.064069       0.0   5.518834   7.174885  0.064072      0.0      5\n",
      "6    0.062816       0.0   5.488374   7.137082  0.062812      0.0      6\n",
      "7    0.062400       0.0   5.471464   7.118617  0.062400      0.0      7\n",
      "8    0.061851       0.0   5.457447   7.100511  0.061846      0.0      8\n",
      "9    0.061603       0.0   5.451951   7.091488  0.061601      0.0      9\n"
     ]
    },
    {
     "name": "stderr",
     "output_type": "stream",
     "text": [
      "INFO - (NP.config.set_auto_batch_epoch) - Auto-set batch_size to 128\n"
     ]
    },
    {
     "data": {
      "application/vnd.jupyter.widget-view+json": {
       "model_id": "37ca7ebca82746f3bafd4a7300b18b5a",
       "version_major": 2,
       "version_minor": 0
      },
      "text/plain": [
       "Training: |          | 0/? [00:00<?, ?it/s]"
      ]
     },
     "metadata": {},
     "output_type": "display_data"
    },
    {
     "data": {
      "application/vnd.jupyter.widget-view+json": {
       "model_id": "f613abdf83d44d3f8935ef4741c05f36",
       "version_major": 2,
       "version_minor": 0
      },
      "text/plain": [
       "Finding best initial lr:   0%|          | 0/263 [00:00<?, ?it/s]"
      ]
     },
     "metadata": {},
     "output_type": "display_data"
    },
    {
     "data": {
      "application/vnd.jupyter.widget-view+json": {
       "model_id": "aa3790ca9b0d49c5afdbe796005f20c7",
       "version_major": 2,
       "version_minor": 0
      },
      "text/plain": [
       "Training: |          | 0/? [00:00<?, ?it/s]"
      ]
     },
     "metadata": {},
     "output_type": "display_data"
    },
    {
     "name": "stderr",
     "output_type": "stream",
     "text": [
      "INFO - (NP.forecaster.add_lagged_regressor) - n_lags = 'auto', number of lags for regressor is set to Autoregression number of lags (48)\n",
      "WARNING - (NP.forecaster.fit) - When Global modeling with local normalization, metrics are displayed in normalized scale.\n",
      "WARNING - (py.warnings._showwarnmsg) - /Users/devinhopkins/anaconda3/envs/ed-flow-2023/lib/python3.10/site-packages/neuralprophet/df_utils.py:1152: FutureWarning: Series.view is deprecated and will be removed in a future version. Use ``astype`` as an alternative to change the dtype.\n",
      "  converted_ds = pd.to_datetime(ds_col, utc=True).view(dtype=np.int64)\n",
      "\n",
      "INFO - (NP.df_utils._infer_frequency) - Major frequency h corresponds to 99.895% of the data.\n",
      "WARNING - (py.warnings._showwarnmsg) - /Users/devinhopkins/anaconda3/envs/ed-flow-2023/lib/python3.10/site-packages/neuralprophet/df_utils.py:1152: FutureWarning: Series.view is deprecated and will be removed in a future version. Use ``astype`` as an alternative to change the dtype.\n",
      "  converted_ds = pd.to_datetime(ds_col, utc=True).view(dtype=np.int64)\n",
      "\n",
      "WARNING - (py.warnings._showwarnmsg) - /Users/devinhopkins/anaconda3/envs/ed-flow-2023/lib/python3.10/site-packages/neuralprophet/df_utils.py:1152: FutureWarning: Series.view is deprecated and will be removed in a future version. Use ``astype`` as an alternative to change the dtype.\n",
      "  converted_ds = pd.to_datetime(ds_col, utc=True).view(dtype=np.int64)\n",
      "\n",
      "INFO - (NP.df_utils._infer_frequency) - Defined frequency is equal to major frequency - h\n",
      "INFO - (NP.data.processing._handle_missing_data) - Added 59 missing dates.\n",
      "WARNING - (NP.data.processing._handle_missing_data) - 59 missing values in column y were detected in total. \n",
      "INFO - (NP.data.processing._handle_missing_data) - 59 NaN values in column y were auto-imputed.\n",
      "WARNING - (NP.data.processing._handle_missing_data) - 59 missing values in column Pod_T were detected in total. \n",
      "INFO - (NP.data.processing._handle_missing_data) - 59 NaN values in column Pod_T were auto-imputed.\n",
      "INFO - (NP.config.init_data_params) - Setting normalization to global as only one dataframe provided for training.\n"
     ]
    },
    {
     "name": "stdout",
     "output_type": "stream",
     "text": [
      "RESUS    train_loss  reg_loss        MAE       RMSE      Loss  RegLoss  epoch\n",
      "0    0.943267       0.0  23.456566  29.825653  0.942666      0.0      0\n",
      "1    0.204755       0.0   9.656418  12.201450  0.204704      0.0      1\n",
      "2    0.126696       0.0   7.460580   9.476050  0.126679      0.0      2\n",
      "3    0.097112       0.0   6.518313   8.345881  0.097098      0.0      3\n",
      "4    0.083116       0.0   6.083406   7.828460  0.083106      0.0      4\n",
      "5    0.077275       0.0   5.909395   7.624016  0.077279      0.0      5\n",
      "6    0.075505       0.0   5.855592   7.561698  0.075501      0.0      6\n",
      "7    0.074353       0.0   5.818225   7.518712  0.074353      0.0      7\n",
      "8    0.073499       0.0   5.791989   7.486935  0.073490      0.0      8\n",
      "9    0.073045       0.0   5.779605   7.471616  0.073045      0.0      9\n"
     ]
    },
    {
     "name": "stderr",
     "output_type": "stream",
     "text": [
      "INFO - (NP.config.set_auto_batch_epoch) - Auto-set batch_size to 128\n"
     ]
    },
    {
     "data": {
      "application/vnd.jupyter.widget-view+json": {
       "model_id": "0199323485464d98871f1bf943df4a16",
       "version_major": 2,
       "version_minor": 0
      },
      "text/plain": [
       "Training: |          | 0/? [00:00<?, ?it/s]"
      ]
     },
     "metadata": {},
     "output_type": "display_data"
    },
    {
     "data": {
      "application/vnd.jupyter.widget-view+json": {
       "model_id": "9a3be177a04442bd8854efafd659473d",
       "version_major": 2,
       "version_minor": 0
      },
      "text/plain": [
       "Finding best initial lr:   0%|          | 0/263 [00:00<?, ?it/s]"
      ]
     },
     "metadata": {},
     "output_type": "display_data"
    },
    {
     "data": {
      "application/vnd.jupyter.widget-view+json": {
       "model_id": "4ca88ed6b40443d99a4612b83e444dd8",
       "version_major": 2,
       "version_minor": 0
      },
      "text/plain": [
       "Training: |          | 0/? [00:00<?, ?it/s]"
      ]
     },
     "metadata": {},
     "output_type": "display_data"
    },
    {
     "name": "stderr",
     "output_type": "stream",
     "text": [
      "INFO - (NP.forecaster.add_lagged_regressor) - n_lags = 'auto', number of lags for regressor is set to Autoregression number of lags (48)\n",
      "WARNING - (NP.forecaster.fit) - When Global modeling with local normalization, metrics are displayed in normalized scale.\n",
      "WARNING - (py.warnings._showwarnmsg) - /Users/devinhopkins/anaconda3/envs/ed-flow-2023/lib/python3.10/site-packages/neuralprophet/df_utils.py:1152: FutureWarning: Series.view is deprecated and will be removed in a future version. Use ``astype`` as an alternative to change the dtype.\n",
      "  converted_ds = pd.to_datetime(ds_col, utc=True).view(dtype=np.int64)\n",
      "\n",
      "INFO - (NP.df_utils._infer_frequency) - Major frequency h corresponds to 99.895% of the data.\n",
      "WARNING - (py.warnings._showwarnmsg) - /Users/devinhopkins/anaconda3/envs/ed-flow-2023/lib/python3.10/site-packages/neuralprophet/df_utils.py:1152: FutureWarning: Series.view is deprecated and will be removed in a future version. Use ``astype`` as an alternative to change the dtype.\n",
      "  converted_ds = pd.to_datetime(ds_col, utc=True).view(dtype=np.int64)\n",
      "\n",
      "WARNING - (py.warnings._showwarnmsg) - /Users/devinhopkins/anaconda3/envs/ed-flow-2023/lib/python3.10/site-packages/neuralprophet/df_utils.py:1152: FutureWarning: Series.view is deprecated and will be removed in a future version. Use ``astype`` as an alternative to change the dtype.\n",
      "  converted_ds = pd.to_datetime(ds_col, utc=True).view(dtype=np.int64)\n",
      "\n",
      "INFO - (NP.df_utils._infer_frequency) - Defined frequency is equal to major frequency - h\n",
      "INFO - (NP.data.processing._handle_missing_data) - Added 59 missing dates.\n",
      "WARNING - (NP.data.processing._handle_missing_data) - 59 missing values in column y were detected in total. \n",
      "INFO - (NP.data.processing._handle_missing_data) - 59 NaN values in column y were auto-imputed.\n",
      "WARNING - (NP.data.processing._handle_missing_data) - 59 missing values in column POD_GREEN were detected in total. \n",
      "INFO - (NP.data.processing._handle_missing_data) - 59 NaN values in column POD_GREEN were auto-imputed.\n"
     ]
    },
    {
     "name": "stdout",
     "output_type": "stream",
     "text": [
      "Pod_T    train_loss  reg_loss        MAE       RMSE      Loss  RegLoss  epoch\n",
      "0    1.002159       0.0  24.205414  30.854101  1.001485      0.0      0\n",
      "1    0.173368       0.0   8.690830  11.008035  0.173320      0.0      1\n",
      "2    0.107266       0.0   6.931665   8.834171  0.107259      0.0      2\n",
      "3    0.088261       0.0   6.320850   8.097415  0.088249      0.0      3\n",
      "4    0.079348       0.0   6.038154   7.763924  0.079342      0.0      4\n",
      "5    0.075108       0.0   5.916942   7.617994  0.075106      0.0      5\n",
      "6    0.073924       0.0   5.879354   7.575289  0.073918      0.0      6\n",
      "7    0.073215       0.0   5.855065   7.546489  0.073214      0.0      7\n",
      "8    0.072622       0.0   5.835820   7.524071  0.072616      0.0      8\n",
      "9    0.072276       0.0   5.826004   7.511398  0.072273      0.0      9\n"
     ]
    },
    {
     "name": "stderr",
     "output_type": "stream",
     "text": [
      "INFO - (NP.config.init_data_params) - Setting normalization to global as only one dataframe provided for training.\n",
      "INFO - (NP.config.set_auto_batch_epoch) - Auto-set batch_size to 128\n"
     ]
    },
    {
     "data": {
      "application/vnd.jupyter.widget-view+json": {
       "model_id": "7123ed6af2f94824ab245c777f443b3f",
       "version_major": 2,
       "version_minor": 0
      },
      "text/plain": [
       "Training: |          | 0/? [00:00<?, ?it/s]"
      ]
     },
     "metadata": {},
     "output_type": "display_data"
    },
    {
     "data": {
      "application/vnd.jupyter.widget-view+json": {
       "model_id": "a8779f4925d249909bd464e1506af6bb",
       "version_major": 2,
       "version_minor": 0
      },
      "text/plain": [
       "Finding best initial lr:   0%|          | 0/263 [00:00<?, ?it/s]"
      ]
     },
     "metadata": {},
     "output_type": "display_data"
    },
    {
     "data": {
      "application/vnd.jupyter.widget-view+json": {
       "model_id": "12b8dea8926b4cbda327e5303ca2348e",
       "version_major": 2,
       "version_minor": 0
      },
      "text/plain": [
       "Training: |          | 0/? [00:00<?, ?it/s]"
      ]
     },
     "metadata": {},
     "output_type": "display_data"
    },
    {
     "name": "stderr",
     "output_type": "stream",
     "text": [
      "INFO - (NP.forecaster.add_lagged_regressor) - n_lags = 'auto', number of lags for regressor is set to Autoregression number of lags (48)\n",
      "WARNING - (NP.forecaster.fit) - When Global modeling with local normalization, metrics are displayed in normalized scale.\n"
     ]
    },
    {
     "name": "stdout",
     "output_type": "stream",
     "text": [
      "POD_GREEN    train_loss  reg_loss        MAE       RMSE      Loss  RegLoss  epoch\n",
      "0    0.998684       0.0  24.159163  30.801113  0.998028      0.0      0\n",
      "1    0.184696       0.0   8.992549  11.377326  0.184650      0.0      1\n",
      "2    0.115305       0.0   7.148971   9.101050  0.115296      0.0      2\n",
      "3    0.093499       0.0   6.460365   8.268964  0.093487      0.0      3\n",
      "4    0.082974       0.0   6.140210   7.888752  0.082970      0.0      4\n",
      "5    0.078315       0.0   6.006366   7.728710  0.078312      0.0      5\n",
      "6    0.076910       0.0   5.963933   7.679551  0.076904      0.0      6\n",
      "7    0.076044       0.0   5.935243   7.645691  0.076042      0.0      7\n",
      "8    0.075335       0.0   5.913316   7.620191  0.075326      0.0      8\n",
      "9    0.074946       0.0   5.902597   7.606438  0.074943      0.0      9\n"
     ]
    },
    {
     "name": "stderr",
     "output_type": "stream",
     "text": [
      "WARNING - (py.warnings._showwarnmsg) - /Users/devinhopkins/anaconda3/envs/ed-flow-2023/lib/python3.10/site-packages/neuralprophet/df_utils.py:1152: FutureWarning: Series.view is deprecated and will be removed in a future version. Use ``astype`` as an alternative to change the dtype.\n",
      "  converted_ds = pd.to_datetime(ds_col, utc=True).view(dtype=np.int64)\n",
      "\n",
      "INFO - (NP.df_utils._infer_frequency) - Major frequency h corresponds to 99.895% of the data.\n",
      "WARNING - (py.warnings._showwarnmsg) - /Users/devinhopkins/anaconda3/envs/ed-flow-2023/lib/python3.10/site-packages/neuralprophet/df_utils.py:1152: FutureWarning: Series.view is deprecated and will be removed in a future version. Use ``astype`` as an alternative to change the dtype.\n",
      "  converted_ds = pd.to_datetime(ds_col, utc=True).view(dtype=np.int64)\n",
      "\n",
      "WARNING - (py.warnings._showwarnmsg) - /Users/devinhopkins/anaconda3/envs/ed-flow-2023/lib/python3.10/site-packages/neuralprophet/df_utils.py:1152: FutureWarning: Series.view is deprecated and will be removed in a future version. Use ``astype`` as an alternative to change the dtype.\n",
      "  converted_ds = pd.to_datetime(ds_col, utc=True).view(dtype=np.int64)\n",
      "\n",
      "INFO - (NP.df_utils._infer_frequency) - Defined frequency is equal to major frequency - h\n",
      "INFO - (NP.data.processing._handle_missing_data) - Added 59 missing dates.\n",
      "WARNING - (NP.data.processing._handle_missing_data) - 59 missing values in column y were detected in total. \n",
      "INFO - (NP.data.processing._handle_missing_data) - 59 NaN values in column y were auto-imputed.\n",
      "WARNING - (NP.data.processing._handle_missing_data) - 59 missing values in column POD_GREEN_TBS were detected in total. \n",
      "INFO - (NP.data.processing._handle_missing_data) - 59 NaN values in column POD_GREEN_TBS were auto-imputed.\n",
      "INFO - (NP.config.init_data_params) - Setting normalization to global as only one dataframe provided for training.\n",
      "INFO - (NP.config.set_auto_batch_epoch) - Auto-set batch_size to 128\n"
     ]
    },
    {
     "data": {
      "application/vnd.jupyter.widget-view+json": {
       "model_id": "5828fd161f1f4e218cab725795ca29d3",
       "version_major": 2,
       "version_minor": 0
      },
      "text/plain": [
       "Training: |          | 0/? [00:00<?, ?it/s]"
      ]
     },
     "metadata": {},
     "output_type": "display_data"
    },
    {
     "data": {
      "application/vnd.jupyter.widget-view+json": {
       "model_id": "90c61a5dc6264a27ba0ca8594986eb75",
       "version_major": 2,
       "version_minor": 0
      },
      "text/plain": [
       "Finding best initial lr:   0%|          | 0/263 [00:00<?, ?it/s]"
      ]
     },
     "metadata": {},
     "output_type": "display_data"
    },
    {
     "data": {
      "application/vnd.jupyter.widget-view+json": {
       "model_id": "49c4a2cd5c3a44faa44f2642966826f5",
       "version_major": 2,
       "version_minor": 0
      },
      "text/plain": [
       "Training: |          | 0/? [00:00<?, ?it/s]"
      ]
     },
     "metadata": {},
     "output_type": "display_data"
    },
    {
     "name": "stderr",
     "output_type": "stream",
     "text": [
      "INFO - (NP.forecaster.add_lagged_regressor) - n_lags = 'auto', number of lags for regressor is set to Autoregression number of lags (48)\n",
      "WARNING - (NP.forecaster.fit) - When Global modeling with local normalization, metrics are displayed in normalized scale.\n",
      "WARNING - (py.warnings._showwarnmsg) - /Users/devinhopkins/anaconda3/envs/ed-flow-2023/lib/python3.10/site-packages/neuralprophet/df_utils.py:1152: FutureWarning: Series.view is deprecated and will be removed in a future version. Use ``astype`` as an alternative to change the dtype.\n",
      "  converted_ds = pd.to_datetime(ds_col, utc=True).view(dtype=np.int64)\n",
      "\n",
      "INFO - (NP.df_utils._infer_frequency) - Major frequency h corresponds to 99.895% of the data.\n",
      "WARNING - (py.warnings._showwarnmsg) - /Users/devinhopkins/anaconda3/envs/ed-flow-2023/lib/python3.10/site-packages/neuralprophet/df_utils.py:1152: FutureWarning: Series.view is deprecated and will be removed in a future version. Use ``astype`` as an alternative to change the dtype.\n",
      "  converted_ds = pd.to_datetime(ds_col, utc=True).view(dtype=np.int64)\n",
      "\n",
      "WARNING - (py.warnings._showwarnmsg) - /Users/devinhopkins/anaconda3/envs/ed-flow-2023/lib/python3.10/site-packages/neuralprophet/df_utils.py:1152: FutureWarning: Series.view is deprecated and will be removed in a future version. Use ``astype`` as an alternative to change the dtype.\n",
      "  converted_ds = pd.to_datetime(ds_col, utc=True).view(dtype=np.int64)\n",
      "\n",
      "INFO - (NP.df_utils._infer_frequency) - Defined frequency is equal to major frequency - h\n",
      "INFO - (NP.data.processing._handle_missing_data) - Added 59 missing dates.\n",
      "WARNING - (NP.data.processing._handle_missing_data) - 59 missing values in column y were detected in total. \n",
      "INFO - (NP.data.processing._handle_missing_data) - 59 NaN values in column y were auto-imputed.\n",
      "WARNING - (NP.data.processing._handle_missing_data) - 59 missing values in column POD_YELLOW were detected in total. \n",
      "INFO - (NP.data.processing._handle_missing_data) - 59 NaN values in column POD_YELLOW were auto-imputed.\n",
      "INFO - (NP.config.init_data_params) - Setting normalization to global as only one dataframe provided for training.\n"
     ]
    },
    {
     "name": "stdout",
     "output_type": "stream",
     "text": [
      "POD_GREEN_TBS    train_loss  reg_loss        MAE       RMSE      Loss  RegLoss  epoch\n",
      "0    0.852891       0.0  21.884010  27.803488  0.852420      0.0      0\n",
      "1    0.215664       0.0   9.191826  11.675798  0.215584      0.0      1\n",
      "2    0.101864       0.0   6.300309   8.102436  0.101845      0.0      2\n",
      "3    0.074101       0.0   5.776475   7.469875  0.074092      0.0      3\n",
      "4    0.065851       0.0   5.585096   7.249045  0.065846      0.0      4\n",
      "5    0.062488       0.0   5.498519   7.146238  0.062489      0.0      5\n",
      "6    0.061526       0.0   5.472055   7.116200  0.061520      0.0      6\n",
      "7    0.061108       0.0   5.456812   7.099051  0.061108      0.0      7\n",
      "8    0.060727       0.0   5.445638   7.085496  0.060721      0.0      8\n",
      "9    0.060503       0.0   5.440169   7.077418  0.060503      0.0      9\n"
     ]
    },
    {
     "name": "stderr",
     "output_type": "stream",
     "text": [
      "INFO - (NP.config.set_auto_batch_epoch) - Auto-set batch_size to 128\n"
     ]
    },
    {
     "data": {
      "application/vnd.jupyter.widget-view+json": {
       "model_id": "eb51ecf54be148caad86e645e64d6506",
       "version_major": 2,
       "version_minor": 0
      },
      "text/plain": [
       "Training: |          | 0/? [00:00<?, ?it/s]"
      ]
     },
     "metadata": {},
     "output_type": "display_data"
    },
    {
     "data": {
      "application/vnd.jupyter.widget-view+json": {
       "model_id": "07356e84340f469cb8c8be4c2f468807",
       "version_major": 2,
       "version_minor": 0
      },
      "text/plain": [
       "Finding best initial lr:   0%|          | 0/263 [00:00<?, ?it/s]"
      ]
     },
     "metadata": {},
     "output_type": "display_data"
    },
    {
     "data": {
      "application/vnd.jupyter.widget-view+json": {
       "model_id": "3b4385a70d3b441ea57a0b2e4069d0c4",
       "version_major": 2,
       "version_minor": 0
      },
      "text/plain": [
       "Training: |          | 0/? [00:00<?, ?it/s]"
      ]
     },
     "metadata": {},
     "output_type": "display_data"
    },
    {
     "name": "stderr",
     "output_type": "stream",
     "text": [
      "INFO - (NP.forecaster.add_lagged_regressor) - n_lags = 'auto', number of lags for regressor is set to Autoregression number of lags (48)\n",
      "WARNING - (NP.forecaster.fit) - When Global modeling with local normalization, metrics are displayed in normalized scale.\n",
      "WARNING - (py.warnings._showwarnmsg) - /Users/devinhopkins/anaconda3/envs/ed-flow-2023/lib/python3.10/site-packages/neuralprophet/df_utils.py:1152: FutureWarning: Series.view is deprecated and will be removed in a future version. Use ``astype`` as an alternative to change the dtype.\n",
      "  converted_ds = pd.to_datetime(ds_col, utc=True).view(dtype=np.int64)\n",
      "\n",
      "INFO - (NP.df_utils._infer_frequency) - Major frequency h corresponds to 99.895% of the data.\n",
      "WARNING - (py.warnings._showwarnmsg) - /Users/devinhopkins/anaconda3/envs/ed-flow-2023/lib/python3.10/site-packages/neuralprophet/df_utils.py:1152: FutureWarning: Series.view is deprecated and will be removed in a future version. Use ``astype`` as an alternative to change the dtype.\n",
      "  converted_ds = pd.to_datetime(ds_col, utc=True).view(dtype=np.int64)\n",
      "\n",
      "WARNING - (py.warnings._showwarnmsg) - /Users/devinhopkins/anaconda3/envs/ed-flow-2023/lib/python3.10/site-packages/neuralprophet/df_utils.py:1152: FutureWarning: Series.view is deprecated and will be removed in a future version. Use ``astype`` as an alternative to change the dtype.\n",
      "  converted_ds = pd.to_datetime(ds_col, utc=True).view(dtype=np.int64)\n",
      "\n",
      "INFO - (NP.df_utils._infer_frequency) - Defined frequency is equal to major frequency - h\n",
      "INFO - (NP.data.processing._handle_missing_data) - Added 59 missing dates.\n",
      "WARNING - (NP.data.processing._handle_missing_data) - 59 missing values in column y were detected in total. \n",
      "INFO - (NP.data.processing._handle_missing_data) - 59 NaN values in column y were auto-imputed.\n",
      "WARNING - (NP.data.processing._handle_missing_data) - 59 missing values in column POD_YELLOW_TBS were detected in total. \n",
      "INFO - (NP.data.processing._handle_missing_data) - 59 NaN values in column POD_YELLOW_TBS were auto-imputed.\n",
      "INFO - (NP.config.init_data_params) - Setting normalization to global as only one dataframe provided for training.\n"
     ]
    },
    {
     "name": "stdout",
     "output_type": "stream",
     "text": [
      "POD_YELLOW    train_loss  reg_loss        MAE       RMSE      Loss  RegLoss  epoch\n",
      "0    1.004266       0.0  24.347361  31.004972  1.003591      0.0      0\n",
      "1    0.177985       0.0   8.907146  11.285686  0.177933      0.0      1\n",
      "2    0.112265       0.0   7.145975   9.083774  0.112254      0.0      2\n",
      "3    0.092438       0.0   6.483057   8.278424  0.092430      0.0      3\n",
      "4    0.082754       0.0   6.162793   7.901172  0.082747      0.0      4\n",
      "5    0.078200       0.0   6.029717   7.740915  0.078199      0.0      5\n",
      "6    0.076907       0.0   5.987240   7.691998  0.076899      0.0      6\n",
      "7    0.076078       0.0   5.958560   7.658210  0.076076      0.0      7\n",
      "8    0.075445       0.0   5.937782   7.634095  0.075439      0.0      8\n",
      "9    0.075079       0.0   5.926844   7.620416  0.075076      0.0      9\n"
     ]
    },
    {
     "name": "stderr",
     "output_type": "stream",
     "text": [
      "INFO - (NP.config.set_auto_batch_epoch) - Auto-set batch_size to 128\n"
     ]
    },
    {
     "data": {
      "application/vnd.jupyter.widget-view+json": {
       "model_id": "198beb3089cc4dd1b88a78dc67c9a6cb",
       "version_major": 2,
       "version_minor": 0
      },
      "text/plain": [
       "Training: |          | 0/? [00:00<?, ?it/s]"
      ]
     },
     "metadata": {},
     "output_type": "display_data"
    },
    {
     "data": {
      "application/vnd.jupyter.widget-view+json": {
       "model_id": "f4c16221a7df4ffab40a666c3076adc3",
       "version_major": 2,
       "version_minor": 0
      },
      "text/plain": [
       "Finding best initial lr:   0%|          | 0/263 [00:00<?, ?it/s]"
      ]
     },
     "metadata": {},
     "output_type": "display_data"
    },
    {
     "data": {
      "application/vnd.jupyter.widget-view+json": {
       "model_id": "7dd6badb3cee426f8ecbebdbb218412e",
       "version_major": 2,
       "version_minor": 0
      },
      "text/plain": [
       "Training: |          | 0/? [00:00<?, ?it/s]"
      ]
     },
     "metadata": {},
     "output_type": "display_data"
    },
    {
     "name": "stderr",
     "output_type": "stream",
     "text": [
      "INFO - (NP.forecaster.add_lagged_regressor) - n_lags = 'auto', number of lags for regressor is set to Autoregression number of lags (48)\n",
      "WARNING - (NP.forecaster.fit) - When Global modeling with local normalization, metrics are displayed in normalized scale.\n",
      "WARNING - (py.warnings._showwarnmsg) - /Users/devinhopkins/anaconda3/envs/ed-flow-2023/lib/python3.10/site-packages/neuralprophet/df_utils.py:1152: FutureWarning: Series.view is deprecated and will be removed in a future version. Use ``astype`` as an alternative to change the dtype.\n",
      "  converted_ds = pd.to_datetime(ds_col, utc=True).view(dtype=np.int64)\n",
      "\n",
      "INFO - (NP.df_utils._infer_frequency) - Major frequency h corresponds to 99.895% of the data.\n",
      "WARNING - (py.warnings._showwarnmsg) - /Users/devinhopkins/anaconda3/envs/ed-flow-2023/lib/python3.10/site-packages/neuralprophet/df_utils.py:1152: FutureWarning: Series.view is deprecated and will be removed in a future version. Use ``astype`` as an alternative to change the dtype.\n",
      "  converted_ds = pd.to_datetime(ds_col, utc=True).view(dtype=np.int64)\n",
      "\n",
      "WARNING - (py.warnings._showwarnmsg) - /Users/devinhopkins/anaconda3/envs/ed-flow-2023/lib/python3.10/site-packages/neuralprophet/df_utils.py:1152: FutureWarning: Series.view is deprecated and will be removed in a future version. Use ``astype`` as an alternative to change the dtype.\n",
      "  converted_ds = pd.to_datetime(ds_col, utc=True).view(dtype=np.int64)\n",
      "\n",
      "INFO - (NP.df_utils._infer_frequency) - Defined frequency is equal to major frequency - h\n",
      "INFO - (NP.data.processing._handle_missing_data) - Added 59 missing dates.\n",
      "WARNING - (NP.data.processing._handle_missing_data) - 59 missing values in column y were detected in total. \n",
      "INFO - (NP.data.processing._handle_missing_data) - 59 NaN values in column y were auto-imputed.\n",
      "WARNING - (NP.data.processing._handle_missing_data) - 59 missing values in column POD_ORANGE were detected in total. \n",
      "INFO - (NP.data.processing._handle_missing_data) - 59 NaN values in column POD_ORANGE were auto-imputed.\n",
      "INFO - (NP.config.init_data_params) - Setting normalization to global as only one dataframe provided for training.\n"
     ]
    },
    {
     "name": "stdout",
     "output_type": "stream",
     "text": [
      "POD_YELLOW_TBS    train_loss  reg_loss        MAE       RMSE      Loss  RegLoss  epoch\n",
      "0    0.863617       0.0  22.462311  28.501703  0.863141      0.0      0\n",
      "1    0.216820       0.0   9.116837  11.599809  0.216737      0.0      1\n",
      "2    0.096464       0.0   6.187798   7.962976  0.096444      0.0      2\n",
      "3    0.072013       0.0   5.743837   7.433575  0.072005      0.0      3\n",
      "4    0.065139       0.0   5.566502   7.227837  0.065136      0.0      4\n",
      "5    0.061890       0.0   5.478115   7.123120  0.061893      0.0      5\n",
      "6    0.060939       0.0   5.450639   7.092496  0.060933      0.0      6\n",
      "7    0.060575       0.0   5.436369   7.076087  0.060575      0.0      7\n",
      "8    0.060219       0.0   5.425707   7.062700  0.060213      0.0      8\n",
      "9    0.059995       0.0   5.419899   7.053980  0.059994      0.0      9\n"
     ]
    },
    {
     "name": "stderr",
     "output_type": "stream",
     "text": [
      "INFO - (NP.config.set_auto_batch_epoch) - Auto-set batch_size to 128\n"
     ]
    },
    {
     "data": {
      "application/vnd.jupyter.widget-view+json": {
       "model_id": "4f16e638bada4894bafeb367fa58aa99",
       "version_major": 2,
       "version_minor": 0
      },
      "text/plain": [
       "Training: |          | 0/? [00:00<?, ?it/s]"
      ]
     },
     "metadata": {},
     "output_type": "display_data"
    },
    {
     "data": {
      "application/vnd.jupyter.widget-view+json": {
       "model_id": "a35c7a06fcb649369d1dd7882294ddee",
       "version_major": 2,
       "version_minor": 0
      },
      "text/plain": [
       "Finding best initial lr:   0%|          | 0/263 [00:00<?, ?it/s]"
      ]
     },
     "metadata": {},
     "output_type": "display_data"
    },
    {
     "data": {
      "application/vnd.jupyter.widget-view+json": {
       "model_id": "9b0b15bfa5ff406f84a6af3eb82beec3",
       "version_major": 2,
       "version_minor": 0
      },
      "text/plain": [
       "Training: |          | 0/? [00:00<?, ?it/s]"
      ]
     },
     "metadata": {},
     "output_type": "display_data"
    },
    {
     "name": "stderr",
     "output_type": "stream",
     "text": [
      "INFO - (NP.forecaster.add_lagged_regressor) - n_lags = 'auto', number of lags for regressor is set to Autoregression number of lags (48)\n",
      "WARNING - (NP.forecaster.fit) - When Global modeling with local normalization, metrics are displayed in normalized scale.\n",
      "WARNING - (py.warnings._showwarnmsg) - /Users/devinhopkins/anaconda3/envs/ed-flow-2023/lib/python3.10/site-packages/neuralprophet/df_utils.py:1152: FutureWarning: Series.view is deprecated and will be removed in a future version. Use ``astype`` as an alternative to change the dtype.\n",
      "  converted_ds = pd.to_datetime(ds_col, utc=True).view(dtype=np.int64)\n",
      "\n",
      "INFO - (NP.df_utils._infer_frequency) - Major frequency h corresponds to 99.895% of the data.\n",
      "WARNING - (py.warnings._showwarnmsg) - /Users/devinhopkins/anaconda3/envs/ed-flow-2023/lib/python3.10/site-packages/neuralprophet/df_utils.py:1152: FutureWarning: Series.view is deprecated and will be removed in a future version. Use ``astype`` as an alternative to change the dtype.\n",
      "  converted_ds = pd.to_datetime(ds_col, utc=True).view(dtype=np.int64)\n",
      "\n",
      "WARNING - (py.warnings._showwarnmsg) - /Users/devinhopkins/anaconda3/envs/ed-flow-2023/lib/python3.10/site-packages/neuralprophet/df_utils.py:1152: FutureWarning: Series.view is deprecated and will be removed in a future version. Use ``astype`` as an alternative to change the dtype.\n",
      "  converted_ds = pd.to_datetime(ds_col, utc=True).view(dtype=np.int64)\n",
      "\n",
      "INFO - (NP.df_utils._infer_frequency) - Defined frequency is equal to major frequency - h\n",
      "INFO - (NP.data.processing._handle_missing_data) - Added 59 missing dates.\n",
      "WARNING - (NP.data.processing._handle_missing_data) - 59 missing values in column y were detected in total. \n",
      "INFO - (NP.data.processing._handle_missing_data) - 59 NaN values in column y were auto-imputed.\n",
      "WARNING - (NP.data.processing._handle_missing_data) - 59 missing values in column POD_ORANGE_TBS were detected in total. \n",
      "INFO - (NP.data.processing._handle_missing_data) - 59 NaN values in column POD_ORANGE_TBS were auto-imputed.\n",
      "INFO - (NP.config.init_data_params) - Setting normalization to global as only one dataframe provided for training.\n"
     ]
    },
    {
     "name": "stdout",
     "output_type": "stream",
     "text": [
      "POD_ORANGE    train_loss  reg_loss        MAE       RMSE      Loss  RegLoss  epoch\n",
      "0    1.008271       0.0  24.519087  31.213158  1.007598      0.0      0\n",
      "1    0.188953       0.0   9.205876  11.640509  0.188907      0.0      1\n",
      "2    0.119317       0.0   7.343045   9.324897  0.119308      0.0      2\n",
      "3    0.096538       0.0   6.600924   8.426474  0.096524      0.0      3\n",
      "4    0.085483       0.0   6.246159   8.006016  0.085476      0.0      4\n",
      "5    0.080419       0.0   6.094579   7.825796  0.080421      0.0      5\n",
      "6    0.078908       0.0   6.046408   7.771342  0.078904      0.0      6\n",
      "7    0.077983       0.0   6.014641   7.734023  0.077983      0.0      7\n",
      "8    0.077221       0.0   5.989927   7.705014  0.077217      0.0      8\n",
      "9    0.076796       0.0   5.977392   7.689425  0.076797      0.0      9\n"
     ]
    },
    {
     "name": "stderr",
     "output_type": "stream",
     "text": [
      "INFO - (NP.config.set_auto_batch_epoch) - Auto-set batch_size to 128\n"
     ]
    },
    {
     "data": {
      "application/vnd.jupyter.widget-view+json": {
       "model_id": "bc824851f15a4291a1fbf10c79bee697",
       "version_major": 2,
       "version_minor": 0
      },
      "text/plain": [
       "Training: |          | 0/? [00:00<?, ?it/s]"
      ]
     },
     "metadata": {},
     "output_type": "display_data"
    },
    {
     "data": {
      "application/vnd.jupyter.widget-view+json": {
       "model_id": "3beb09f72e504f4f85eb210dafe36909",
       "version_major": 2,
       "version_minor": 0
      },
      "text/plain": [
       "Finding best initial lr:   0%|          | 0/263 [00:00<?, ?it/s]"
      ]
     },
     "metadata": {},
     "output_type": "display_data"
    },
    {
     "data": {
      "application/vnd.jupyter.widget-view+json": {
       "model_id": "0e73aeab022448449f72809c096cb27a",
       "version_major": 2,
       "version_minor": 0
      },
      "text/plain": [
       "Training: |          | 0/? [00:00<?, ?it/s]"
      ]
     },
     "metadata": {},
     "output_type": "display_data"
    },
    {
     "name": "stderr",
     "output_type": "stream",
     "text": [
      "INFO - (NP.forecaster.add_lagged_regressor) - n_lags = 'auto', number of lags for regressor is set to Autoregression number of lags (48)\n",
      "WARNING - (NP.forecaster.fit) - When Global modeling with local normalization, metrics are displayed in normalized scale.\n",
      "WARNING - (py.warnings._showwarnmsg) - /Users/devinhopkins/anaconda3/envs/ed-flow-2023/lib/python3.10/site-packages/neuralprophet/df_utils.py:1152: FutureWarning: Series.view is deprecated and will be removed in a future version. Use ``astype`` as an alternative to change the dtype.\n",
      "  converted_ds = pd.to_datetime(ds_col, utc=True).view(dtype=np.int64)\n",
      "\n",
      "INFO - (NP.df_utils._infer_frequency) - Major frequency h corresponds to 99.895% of the data.\n",
      "WARNING - (py.warnings._showwarnmsg) - /Users/devinhopkins/anaconda3/envs/ed-flow-2023/lib/python3.10/site-packages/neuralprophet/df_utils.py:1152: FutureWarning: Series.view is deprecated and will be removed in a future version. Use ``astype`` as an alternative to change the dtype.\n",
      "  converted_ds = pd.to_datetime(ds_col, utc=True).view(dtype=np.int64)\n",
      "\n",
      "WARNING - (py.warnings._showwarnmsg) - /Users/devinhopkins/anaconda3/envs/ed-flow-2023/lib/python3.10/site-packages/neuralprophet/df_utils.py:1152: FutureWarning: Series.view is deprecated and will be removed in a future version. Use ``astype`` as an alternative to change the dtype.\n",
      "  converted_ds = pd.to_datetime(ds_col, utc=True).view(dtype=np.int64)\n",
      "\n",
      "INFO - (NP.df_utils._infer_frequency) - Defined frequency is equal to major frequency - h\n",
      "INFO - (NP.data.processing._handle_missing_data) - Added 59 missing dates.\n",
      "WARNING - (NP.data.processing._handle_missing_data) - 59 missing values in column y were detected in total. \n",
      "INFO - (NP.data.processing._handle_missing_data) - 59 NaN values in column y were auto-imputed.\n",
      "WARNING - (NP.data.processing._handle_missing_data) - 59 missing values in column POD_CONS_MORE2H were detected in total. \n",
      "INFO - (NP.data.processing._handle_missing_data) - 59 NaN values in column POD_CONS_MORE2H were auto-imputed.\n",
      "INFO - (NP.config.init_data_params) - Setting normalization to global as only one dataframe provided for training.\n"
     ]
    },
    {
     "name": "stdout",
     "output_type": "stream",
     "text": [
      "POD_ORANGE_TBS    train_loss  reg_loss        MAE       RMSE      Loss  RegLoss  epoch\n",
      "0    0.887636       0.0  22.803534  28.976326  0.887154      0.0      0\n",
      "1    0.228712       0.0   9.337341  11.887490  0.228626      0.0      1\n",
      "2    0.099845       0.0   6.267350   8.061552  0.099826      0.0      2\n",
      "3    0.073298       0.0   5.786807   7.485806  0.073290      0.0      3\n",
      "4    0.065968       0.0   5.598490   7.266444  0.065967      0.0      4\n",
      "5    0.062705       0.0   5.510147   7.161755  0.062708      0.0      5\n",
      "6    0.061676       0.0   5.481295   7.128003  0.061670      0.0      6\n",
      "7    0.061313       0.0   5.465960   7.111725  0.061313      0.0      7\n",
      "8    0.060927       0.0   5.455431   7.097740  0.060920      0.0      8\n",
      "9    0.060702       0.0   5.448924   7.089071  0.060701      0.0      9\n"
     ]
    },
    {
     "name": "stderr",
     "output_type": "stream",
     "text": [
      "INFO - (NP.config.set_auto_batch_epoch) - Auto-set batch_size to 128\n"
     ]
    },
    {
     "data": {
      "application/vnd.jupyter.widget-view+json": {
       "model_id": "feca7102afa143afa38a1ec55cf91442",
       "version_major": 2,
       "version_minor": 0
      },
      "text/plain": [
       "Training: |          | 0/? [00:00<?, ?it/s]"
      ]
     },
     "metadata": {},
     "output_type": "display_data"
    },
    {
     "data": {
      "application/vnd.jupyter.widget-view+json": {
       "model_id": "db0f14ee1b0b41b08c4b59ec952c259f",
       "version_major": 2,
       "version_minor": 0
      },
      "text/plain": [
       "Finding best initial lr:   0%|          | 0/263 [00:00<?, ?it/s]"
      ]
     },
     "metadata": {},
     "output_type": "display_data"
    },
    {
     "data": {
      "application/vnd.jupyter.widget-view+json": {
       "model_id": "663970c431a5436db56d7743e11d1cf0",
       "version_major": 2,
       "version_minor": 0
      },
      "text/plain": [
       "Training: |          | 0/? [00:00<?, ?it/s]"
      ]
     },
     "metadata": {},
     "output_type": "display_data"
    },
    {
     "name": "stderr",
     "output_type": "stream",
     "text": [
      "INFO - (NP.forecaster.add_lagged_regressor) - n_lags = 'auto', number of lags for regressor is set to Autoregression number of lags (48)\n",
      "WARNING - (NP.forecaster.fit) - When Global modeling with local normalization, metrics are displayed in normalized scale.\n",
      "WARNING - (py.warnings._showwarnmsg) - /Users/devinhopkins/anaconda3/envs/ed-flow-2023/lib/python3.10/site-packages/neuralprophet/df_utils.py:1152: FutureWarning: Series.view is deprecated and will be removed in a future version. Use ``astype`` as an alternative to change the dtype.\n",
      "  converted_ds = pd.to_datetime(ds_col, utc=True).view(dtype=np.int64)\n",
      "\n",
      "INFO - (NP.df_utils._infer_frequency) - Major frequency h corresponds to 99.895% of the data.\n",
      "WARNING - (py.warnings._showwarnmsg) - /Users/devinhopkins/anaconda3/envs/ed-flow-2023/lib/python3.10/site-packages/neuralprophet/df_utils.py:1152: FutureWarning: Series.view is deprecated and will be removed in a future version. Use ``astype`` as an alternative to change the dtype.\n",
      "  converted_ds = pd.to_datetime(ds_col, utc=True).view(dtype=np.int64)\n",
      "\n",
      "WARNING - (py.warnings._showwarnmsg) - /Users/devinhopkins/anaconda3/envs/ed-flow-2023/lib/python3.10/site-packages/neuralprophet/df_utils.py:1152: FutureWarning: Series.view is deprecated and will be removed in a future version. Use ``astype`` as an alternative to change the dtype.\n",
      "  converted_ds = pd.to_datetime(ds_col, utc=True).view(dtype=np.int64)\n",
      "\n",
      "INFO - (NP.df_utils._infer_frequency) - Defined frequency is equal to major frequency - h\n",
      "INFO - (NP.data.processing._handle_missing_data) - Added 59 missing dates.\n",
      "WARNING - (NP.data.processing._handle_missing_data) - 59 missing values in column y were detected in total. \n",
      "INFO - (NP.data.processing._handle_missing_data) - 59 NaN values in column y were auto-imputed.\n",
      "WARNING - (NP.data.processing._handle_missing_data) - 59 missing values in column POD_IMCONS_MORE4H were detected in total. \n",
      "INFO - (NP.data.processing._handle_missing_data) - 59 NaN values in column POD_IMCONS_MORE4H were auto-imputed.\n"
     ]
    },
    {
     "name": "stdout",
     "output_type": "stream",
     "text": [
      "POD_CONS_MORE2H    train_loss  reg_loss        MAE       RMSE      Loss  RegLoss  epoch\n",
      "0    0.894302       0.0  22.296154  28.497534  0.893722      0.0      0\n",
      "1    0.183542       0.0   8.621622  10.950888  0.183488      0.0      1\n",
      "2    0.111683       0.0   6.846861   8.744319  0.111670      0.0      2\n",
      "3    0.087277       0.0   6.188392   7.952269  0.087270      0.0      3\n",
      "4    0.075822       0.0   5.883936   7.591485  0.075815      0.0      4\n",
      "5    0.071214       0.0   5.757492   7.443579  0.071217      0.0      5\n",
      "6    0.069776       0.0   5.717834   7.398585  0.069771      0.0      6\n",
      "7    0.068947       0.0   5.692353   7.369134  0.068948      0.0      7\n",
      "8    0.068270       0.0   5.672622   7.345932  0.068264      0.0      8\n",
      "9    0.067900       0.0   5.663661   7.334029  0.067900      0.0      9\n"
     ]
    },
    {
     "name": "stderr",
     "output_type": "stream",
     "text": [
      "INFO - (NP.config.init_data_params) - Setting normalization to global as only one dataframe provided for training.\n",
      "INFO - (NP.config.set_auto_batch_epoch) - Auto-set batch_size to 128\n"
     ]
    },
    {
     "data": {
      "application/vnd.jupyter.widget-view+json": {
       "model_id": "07ac84946c994dc699f4a52b4fd8f93b",
       "version_major": 2,
       "version_minor": 0
      },
      "text/plain": [
       "Training: |          | 0/? [00:00<?, ?it/s]"
      ]
     },
     "metadata": {},
     "output_type": "display_data"
    },
    {
     "data": {
      "application/vnd.jupyter.widget-view+json": {
       "model_id": "8df36ecad2c849119f47da26f4a8561c",
       "version_major": 2,
       "version_minor": 0
      },
      "text/plain": [
       "Finding best initial lr:   0%|          | 0/263 [00:00<?, ?it/s]"
      ]
     },
     "metadata": {},
     "output_type": "display_data"
    },
    {
     "data": {
      "application/vnd.jupyter.widget-view+json": {
       "model_id": "bd66a45510734f55bd93da8153b5c731",
       "version_major": 2,
       "version_minor": 0
      },
      "text/plain": [
       "Training: |          | 0/? [00:00<?, ?it/s]"
      ]
     },
     "metadata": {},
     "output_type": "display_data"
    },
    {
     "name": "stderr",
     "output_type": "stream",
     "text": [
      "INFO - (NP.forecaster.add_lagged_regressor) - n_lags = 'auto', number of lags for regressor is set to Autoregression number of lags (48)\n",
      "WARNING - (NP.forecaster.fit) - When Global modeling with local normalization, metrics are displayed in normalized scale.\n",
      "WARNING - (py.warnings._showwarnmsg) - /Users/devinhopkins/anaconda3/envs/ed-flow-2023/lib/python3.10/site-packages/neuralprophet/df_utils.py:1152: FutureWarning: Series.view is deprecated and will be removed in a future version. Use ``astype`` as an alternative to change the dtype.\n",
      "  converted_ds = pd.to_datetime(ds_col, utc=True).view(dtype=np.int64)\n",
      "\n",
      "INFO - (NP.df_utils._infer_frequency) - Major frequency h corresponds to 99.895% of the data.\n",
      "WARNING - (py.warnings._showwarnmsg) - /Users/devinhopkins/anaconda3/envs/ed-flow-2023/lib/python3.10/site-packages/neuralprophet/df_utils.py:1152: FutureWarning: Series.view is deprecated and will be removed in a future version. Use ``astype`` as an alternative to change the dtype.\n",
      "  converted_ds = pd.to_datetime(ds_col, utc=True).view(dtype=np.int64)\n",
      "\n",
      "WARNING - (py.warnings._showwarnmsg) - /Users/devinhopkins/anaconda3/envs/ed-flow-2023/lib/python3.10/site-packages/neuralprophet/df_utils.py:1152: FutureWarning: Series.view is deprecated and will be removed in a future version. Use ``astype`` as an alternative to change the dtype.\n",
      "  converted_ds = pd.to_datetime(ds_col, utc=True).view(dtype=np.int64)\n",
      "\n",
      "INFO - (NP.df_utils._infer_frequency) - Defined frequency is equal to major frequency - h\n",
      "INFO - (NP.data.processing._handle_missing_data) - Added 59 missing dates.\n",
      "WARNING - (NP.data.processing._handle_missing_data) - 59 missing values in column y were detected in total. \n",
      "INFO - (NP.data.processing._handle_missing_data) - 59 NaN values in column y were auto-imputed.\n",
      "WARNING - (NP.data.processing._handle_missing_data) - 59 missing values in column POD_XRAY_MORE2H were detected in total. \n",
      "INFO - (NP.data.processing._handle_missing_data) - 59 NaN values in column POD_XRAY_MORE2H were auto-imputed.\n",
      "INFO - (NP.config.init_data_params) - Setting normalization to global as only one dataframe provided for training.\n"
     ]
    },
    {
     "name": "stdout",
     "output_type": "stream",
     "text": [
      "POD_IMCONS_MORE4H    train_loss  reg_loss        MAE       RMSE      Loss  RegLoss  epoch\n",
      "0    0.853128       0.0  21.219603  27.070040  0.852643      0.0      0\n",
      "1    0.208517       0.0   8.851516  11.237365  0.208438      0.0      1\n",
      "2    0.103632       0.0   6.639409   8.508819  0.103618      0.0      2\n",
      "3    0.078725       0.0   5.930917   7.654278  0.078717      0.0      3\n",
      "4    0.069362       0.0   5.663276   7.338560  0.069358      0.0      4\n",
      "5    0.065205       0.0   5.557246   7.212893  0.065207      0.0      5\n",
      "6    0.064023       0.0   5.526571   7.177862  0.064018      0.0      6\n",
      "7    0.063517       0.0   5.507993   7.158000  0.063517      0.0      7\n",
      "8    0.062945       0.0   5.494542   7.140207  0.062939      0.0      8\n",
      "9    0.062680       0.0   5.488142   7.131238  0.062678      0.0      9\n"
     ]
    },
    {
     "name": "stderr",
     "output_type": "stream",
     "text": [
      "INFO - (NP.config.set_auto_batch_epoch) - Auto-set batch_size to 128\n"
     ]
    },
    {
     "data": {
      "application/vnd.jupyter.widget-view+json": {
       "model_id": "461e280113304bde90b70c4d8d28302d",
       "version_major": 2,
       "version_minor": 0
      },
      "text/plain": [
       "Training: |          | 0/? [00:00<?, ?it/s]"
      ]
     },
     "metadata": {},
     "output_type": "display_data"
    },
    {
     "data": {
      "application/vnd.jupyter.widget-view+json": {
       "model_id": "20787761fac64d8b9d6c275b8decb998",
       "version_major": 2,
       "version_minor": 0
      },
      "text/plain": [
       "Finding best initial lr:   0%|          | 0/263 [00:00<?, ?it/s]"
      ]
     },
     "metadata": {},
     "output_type": "display_data"
    },
    {
     "data": {
      "application/vnd.jupyter.widget-view+json": {
       "model_id": "409c2617ade447ea8d6fb64aa9a5bf43",
       "version_major": 2,
       "version_minor": 0
      },
      "text/plain": [
       "Training: |          | 0/? [00:00<?, ?it/s]"
      ]
     },
     "metadata": {},
     "output_type": "display_data"
    },
    {
     "name": "stderr",
     "output_type": "stream",
     "text": [
      "INFO - (NP.forecaster.add_lagged_regressor) - n_lags = 'auto', number of lags for regressor is set to Autoregression number of lags (48)\n",
      "WARNING - (NP.forecaster.fit) - When Global modeling with local normalization, metrics are displayed in normalized scale.\n",
      "WARNING - (py.warnings._showwarnmsg) - /Users/devinhopkins/anaconda3/envs/ed-flow-2023/lib/python3.10/site-packages/neuralprophet/df_utils.py:1152: FutureWarning: Series.view is deprecated and will be removed in a future version. Use ``astype`` as an alternative to change the dtype.\n",
      "  converted_ds = pd.to_datetime(ds_col, utc=True).view(dtype=np.int64)\n",
      "\n",
      "INFO - (NP.df_utils._infer_frequency) - Major frequency h corresponds to 99.895% of the data.\n",
      "WARNING - (py.warnings._showwarnmsg) - /Users/devinhopkins/anaconda3/envs/ed-flow-2023/lib/python3.10/site-packages/neuralprophet/df_utils.py:1152: FutureWarning: Series.view is deprecated and will be removed in a future version. Use ``astype`` as an alternative to change the dtype.\n",
      "  converted_ds = pd.to_datetime(ds_col, utc=True).view(dtype=np.int64)\n",
      "\n",
      "WARNING - (py.warnings._showwarnmsg) - /Users/devinhopkins/anaconda3/envs/ed-flow-2023/lib/python3.10/site-packages/neuralprophet/df_utils.py:1152: FutureWarning: Series.view is deprecated and will be removed in a future version. Use ``astype`` as an alternative to change the dtype.\n",
      "  converted_ds = pd.to_datetime(ds_col, utc=True).view(dtype=np.int64)\n",
      "\n",
      "INFO - (NP.df_utils._infer_frequency) - Defined frequency is equal to major frequency - h\n",
      "INFO - (NP.data.processing._handle_missing_data) - Added 59 missing dates.\n",
      "WARNING - (NP.data.processing._handle_missing_data) - 59 missing values in column y were detected in total. \n",
      "INFO - (NP.data.processing._handle_missing_data) - 59 NaN values in column y were auto-imputed.\n",
      "WARNING - (NP.data.processing._handle_missing_data) - 59 missing values in column POD_CT_MORE2H were detected in total. \n",
      "INFO - (NP.data.processing._handle_missing_data) - 59 NaN values in column POD_CT_MORE2H were auto-imputed.\n",
      "INFO - (NP.config.init_data_params) - Setting normalization to global as only one dataframe provided for training.\n"
     ]
    },
    {
     "name": "stdout",
     "output_type": "stream",
     "text": [
      "POD_XRAY_MORE2H    train_loss  reg_loss        MAE       RMSE      Loss  RegLoss  epoch\n",
      "0    0.904646       0.0  23.091452  29.552858  0.904158      0.0      0\n",
      "1    0.235176       0.0   9.510174  12.120416  0.235092      0.0      1\n",
      "2    0.103219       0.0   6.430585   8.261439  0.103202      0.0      2\n",
      "3    0.075565       0.0   5.825180   7.526343  0.075556      0.0      3\n",
      "4    0.067007       0.0   5.619303   7.284450  0.067004      0.0      4\n",
      "5    0.063317       0.0   5.527419   7.175669  0.063319      0.0      5\n",
      "6    0.062208       0.0   5.497368   7.141168  0.062202      0.0      6\n",
      "7    0.061839       0.0   5.482009   7.125609  0.061840      0.0      7\n",
      "8    0.061369       0.0   5.469691   7.109402  0.061363      0.0      8\n",
      "9    0.061102       0.0   5.463543   7.100317  0.061101      0.0      9\n"
     ]
    },
    {
     "name": "stderr",
     "output_type": "stream",
     "text": [
      "INFO - (NP.config.set_auto_batch_epoch) - Auto-set batch_size to 128\n"
     ]
    },
    {
     "data": {
      "application/vnd.jupyter.widget-view+json": {
       "model_id": "c47f848c22a0418696a4ee6bf3ab36af",
       "version_major": 2,
       "version_minor": 0
      },
      "text/plain": [
       "Training: |          | 0/? [00:00<?, ?it/s]"
      ]
     },
     "metadata": {},
     "output_type": "display_data"
    },
    {
     "data": {
      "application/vnd.jupyter.widget-view+json": {
       "model_id": "3b78480e28934240bd69ccc7f8d7e587",
       "version_major": 2,
       "version_minor": 0
      },
      "text/plain": [
       "Finding best initial lr:   0%|          | 0/263 [00:00<?, ?it/s]"
      ]
     },
     "metadata": {},
     "output_type": "display_data"
    },
    {
     "data": {
      "application/vnd.jupyter.widget-view+json": {
       "model_id": "d60481cc21044ab4a2303315315df207",
       "version_major": 2,
       "version_minor": 0
      },
      "text/plain": [
       "Training: |          | 0/? [00:00<?, ?it/s]"
      ]
     },
     "metadata": {},
     "output_type": "display_data"
    },
    {
     "name": "stderr",
     "output_type": "stream",
     "text": [
      "INFO - (NP.forecaster.add_lagged_regressor) - n_lags = 'auto', number of lags for regressor is set to Autoregression number of lags (48)\n",
      "WARNING - (NP.forecaster.fit) - When Global modeling with local normalization, metrics are displayed in normalized scale.\n",
      "WARNING - (py.warnings._showwarnmsg) - /Users/devinhopkins/anaconda3/envs/ed-flow-2023/lib/python3.10/site-packages/neuralprophet/df_utils.py:1152: FutureWarning: Series.view is deprecated and will be removed in a future version. Use ``astype`` as an alternative to change the dtype.\n",
      "  converted_ds = pd.to_datetime(ds_col, utc=True).view(dtype=np.int64)\n",
      "\n",
      "INFO - (NP.df_utils._infer_frequency) - Major frequency h corresponds to 99.895% of the data.\n",
      "WARNING - (py.warnings._showwarnmsg) - /Users/devinhopkins/anaconda3/envs/ed-flow-2023/lib/python3.10/site-packages/neuralprophet/df_utils.py:1152: FutureWarning: Series.view is deprecated and will be removed in a future version. Use ``astype`` as an alternative to change the dtype.\n",
      "  converted_ds = pd.to_datetime(ds_col, utc=True).view(dtype=np.int64)\n",
      "\n",
      "WARNING - (py.warnings._showwarnmsg) - /Users/devinhopkins/anaconda3/envs/ed-flow-2023/lib/python3.10/site-packages/neuralprophet/df_utils.py:1152: FutureWarning: Series.view is deprecated and will be removed in a future version. Use ``astype`` as an alternative to change the dtype.\n",
      "  converted_ds = pd.to_datetime(ds_col, utc=True).view(dtype=np.int64)\n",
      "\n",
      "INFO - (NP.df_utils._infer_frequency) - Defined frequency is equal to major frequency - h\n",
      "INFO - (NP.data.processing._handle_missing_data) - Added 59 missing dates.\n",
      "WARNING - (NP.data.processing._handle_missing_data) - 59 missing values in column y were detected in total. \n",
      "INFO - (NP.data.processing._handle_missing_data) - 59 NaN values in column y were auto-imputed.\n",
      "WARNING - (NP.data.processing._handle_missing_data) - 59 missing values in column POST_POD1 were detected in total. \n",
      "INFO - (NP.data.processing._handle_missing_data) - 59 NaN values in column POST_POD1 were auto-imputed.\n",
      "INFO - (NP.config.init_data_params) - Setting normalization to global as only one dataframe provided for training.\n"
     ]
    },
    {
     "name": "stdout",
     "output_type": "stream",
     "text": [
      "POD_CT_MORE2H    train_loss  reg_loss        MAE       RMSE      Loss  RegLoss  epoch\n",
      "0    0.845636       0.0  21.638794  27.585592  0.845147      0.0      0\n",
      "1    0.212291       0.0   9.152516  11.628868  0.212222      0.0      1\n",
      "2    0.105884       0.0   6.554517   8.411445  0.105862      0.0      2\n",
      "3    0.077218       0.0   5.845744   7.554747  0.077209      0.0      3\n",
      "4    0.067952       0.0   5.613315   7.279277  0.067948      0.0      4\n",
      "5    0.063971       0.0   5.516992   7.166609  0.063973      0.0      5\n",
      "6    0.062817       0.0   5.488491   7.133795  0.062811      0.0      6\n",
      "7    0.062338       0.0   5.472423   7.116401  0.062338      0.0      7\n",
      "8    0.061830       0.0   5.459605   7.100615  0.061824      0.0      8\n",
      "9    0.061556       0.0   5.453358   7.091537  0.061554      0.0      9\n"
     ]
    },
    {
     "name": "stderr",
     "output_type": "stream",
     "text": [
      "INFO - (NP.config.set_auto_batch_epoch) - Auto-set batch_size to 128\n"
     ]
    },
    {
     "data": {
      "application/vnd.jupyter.widget-view+json": {
       "model_id": "b667e161461c41129f2ce2ef91db9fa4",
       "version_major": 2,
       "version_minor": 0
      },
      "text/plain": [
       "Training: |          | 0/? [00:00<?, ?it/s]"
      ]
     },
     "metadata": {},
     "output_type": "display_data"
    },
    {
     "data": {
      "application/vnd.jupyter.widget-view+json": {
       "model_id": "4c0d5011be02435ba5f70c5b90fdd746",
       "version_major": 2,
       "version_minor": 0
      },
      "text/plain": [
       "Finding best initial lr:   0%|          | 0/263 [00:00<?, ?it/s]"
      ]
     },
     "metadata": {},
     "output_type": "display_data"
    },
    {
     "data": {
      "application/vnd.jupyter.widget-view+json": {
       "model_id": "683a07e9a5ac4677ab72d7fbc7272aab",
       "version_major": 2,
       "version_minor": 0
      },
      "text/plain": [
       "Training: |          | 0/? [00:00<?, ?it/s]"
      ]
     },
     "metadata": {},
     "output_type": "display_data"
    },
    {
     "name": "stderr",
     "output_type": "stream",
     "text": [
      "INFO - (NP.forecaster.add_lagged_regressor) - n_lags = 'auto', number of lags for regressor is set to Autoregression number of lags (48)\n",
      "WARNING - (NP.forecaster.fit) - When Global modeling with local normalization, metrics are displayed in normalized scale.\n",
      "WARNING - (py.warnings._showwarnmsg) - /Users/devinhopkins/anaconda3/envs/ed-flow-2023/lib/python3.10/site-packages/neuralprophet/df_utils.py:1152: FutureWarning: Series.view is deprecated and will be removed in a future version. Use ``astype`` as an alternative to change the dtype.\n",
      "  converted_ds = pd.to_datetime(ds_col, utc=True).view(dtype=np.int64)\n",
      "\n",
      "INFO - (NP.df_utils._infer_frequency) - Major frequency h corresponds to 99.895% of the data.\n",
      "WARNING - (py.warnings._showwarnmsg) - /Users/devinhopkins/anaconda3/envs/ed-flow-2023/lib/python3.10/site-packages/neuralprophet/df_utils.py:1152: FutureWarning: Series.view is deprecated and will be removed in a future version. Use ``astype`` as an alternative to change the dtype.\n",
      "  converted_ds = pd.to_datetime(ds_col, utc=True).view(dtype=np.int64)\n",
      "\n",
      "WARNING - (py.warnings._showwarnmsg) - /Users/devinhopkins/anaconda3/envs/ed-flow-2023/lib/python3.10/site-packages/neuralprophet/df_utils.py:1152: FutureWarning: Series.view is deprecated and will be removed in a future version. Use ``astype`` as an alternative to change the dtype.\n",
      "  converted_ds = pd.to_datetime(ds_col, utc=True).view(dtype=np.int64)\n",
      "\n",
      "INFO - (NP.df_utils._infer_frequency) - Defined frequency is equal to major frequency - h\n",
      "INFO - (NP.data.processing._handle_missing_data) - Added 59 missing dates.\n",
      "WARNING - (NP.data.processing._handle_missing_data) - 59 missing values in column y were detected in total. \n",
      "INFO - (NP.data.processing._handle_missing_data) - 59 NaN values in column y were auto-imputed.\n",
      "WARNING - (NP.data.processing._handle_missing_data) - 59 missing values in column VERTSTRET were detected in total. \n",
      "INFO - (NP.data.processing._handle_missing_data) - 59 NaN values in column VERTSTRET were auto-imputed.\n",
      "INFO - (NP.config.init_data_params) - Setting normalization to global as only one dataframe provided for training.\n"
     ]
    },
    {
     "name": "stdout",
     "output_type": "stream",
     "text": [
      "POST_POD1    train_loss  reg_loss        MAE       RMSE      Loss  RegLoss  epoch\n",
      "0    0.888666       0.0  20.459431  26.299253  0.888148      0.0      0\n",
      "1    0.191138       0.0   8.392528  10.715649  0.191066      0.0      1\n",
      "2    0.101900       0.0   6.693532   8.600582  0.101892      0.0      2\n",
      "3    0.084108       0.0   6.128708   7.908826  0.084101      0.0      3\n",
      "4    0.075237       0.0   5.865436   7.592945  0.075231      0.0      4\n",
      "5    0.070712       0.0   5.746654   7.448318  0.070715      0.0      5\n",
      "6    0.069468       0.0   5.713041   7.408666  0.069462      0.0      6\n",
      "7    0.068890       0.0   5.690476   7.384207  0.068889      0.0      7\n",
      "8    0.068220       0.0   5.674109   7.361863  0.068213      0.0      8\n",
      "9    0.067930       0.0   5.666092   7.351898  0.067928      0.0      9\n"
     ]
    },
    {
     "name": "stderr",
     "output_type": "stream",
     "text": [
      "INFO - (NP.config.set_auto_batch_epoch) - Auto-set batch_size to 128\n"
     ]
    },
    {
     "data": {
      "application/vnd.jupyter.widget-view+json": {
       "model_id": "dcd957e942fe483fb419f1910e609844",
       "version_major": 2,
       "version_minor": 0
      },
      "text/plain": [
       "Training: |          | 0/? [00:00<?, ?it/s]"
      ]
     },
     "metadata": {},
     "output_type": "display_data"
    },
    {
     "data": {
      "application/vnd.jupyter.widget-view+json": {
       "model_id": "227d72126e5f4516a631c079a1cbd01d",
       "version_major": 2,
       "version_minor": 0
      },
      "text/plain": [
       "Finding best initial lr:   0%|          | 0/263 [00:00<?, ?it/s]"
      ]
     },
     "metadata": {},
     "output_type": "display_data"
    },
    {
     "data": {
      "application/vnd.jupyter.widget-view+json": {
       "model_id": "8de0977d36e7407a98b6b8ee85712de3",
       "version_major": 2,
       "version_minor": 0
      },
      "text/plain": [
       "Training: |          | 0/? [00:00<?, ?it/s]"
      ]
     },
     "metadata": {},
     "output_type": "display_data"
    },
    {
     "name": "stderr",
     "output_type": "stream",
     "text": [
      "INFO - (NP.forecaster.add_lagged_regressor) - n_lags = 'auto', number of lags for regressor is set to Autoregression number of lags (48)\n",
      "WARNING - (NP.forecaster.fit) - When Global modeling with local normalization, metrics are displayed in normalized scale.\n",
      "WARNING - (py.warnings._showwarnmsg) - /Users/devinhopkins/anaconda3/envs/ed-flow-2023/lib/python3.10/site-packages/neuralprophet/df_utils.py:1152: FutureWarning: Series.view is deprecated and will be removed in a future version. Use ``astype`` as an alternative to change the dtype.\n",
      "  converted_ds = pd.to_datetime(ds_col, utc=True).view(dtype=np.int64)\n",
      "\n",
      "INFO - (NP.df_utils._infer_frequency) - Major frequency h corresponds to 99.895% of the data.\n",
      "WARNING - (py.warnings._showwarnmsg) - /Users/devinhopkins/anaconda3/envs/ed-flow-2023/lib/python3.10/site-packages/neuralprophet/df_utils.py:1152: FutureWarning: Series.view is deprecated and will be removed in a future version. Use ``astype`` as an alternative to change the dtype.\n",
      "  converted_ds = pd.to_datetime(ds_col, utc=True).view(dtype=np.int64)\n",
      "\n",
      "WARNING - (py.warnings._showwarnmsg) - /Users/devinhopkins/anaconda3/envs/ed-flow-2023/lib/python3.10/site-packages/neuralprophet/df_utils.py:1152: FutureWarning: Series.view is deprecated and will be removed in a future version. Use ``astype`` as an alternative to change the dtype.\n",
      "  converted_ds = pd.to_datetime(ds_col, utc=True).view(dtype=np.int64)\n",
      "\n",
      "INFO - (NP.df_utils._infer_frequency) - Defined frequency is equal to major frequency - h\n",
      "INFO - (NP.data.processing._handle_missing_data) - Added 59 missing dates.\n",
      "WARNING - (NP.data.processing._handle_missing_data) - 59 missing values in column y were detected in total. \n",
      "INFO - (NP.data.processing._handle_missing_data) - 59 NaN values in column y were auto-imputed.\n",
      "WARNING - (NP.data.processing._handle_missing_data) - 59 missing values in column RAZ_TBS were detected in total. \n",
      "INFO - (NP.data.processing._handle_missing_data) - 59 NaN values in column RAZ_TBS were auto-imputed.\n",
      "INFO - (NP.config.init_data_params) - Setting normalization to global as only one dataframe provided for training.\n"
     ]
    },
    {
     "name": "stdout",
     "output_type": "stream",
     "text": [
      "VERTSTRET    train_loss  reg_loss        MAE       RMSE      Loss  RegLoss  epoch\n",
      "0    0.886028       0.0  21.876728  27.980387  0.885470      0.0      0\n",
      "1    0.189433       0.0   8.709038  11.074357  0.189383      0.0      1\n",
      "2    0.112718       0.0   6.864559   8.782958  0.112699      0.0      2\n",
      "3    0.086351       0.0   6.170499   7.942480  0.086342      0.0      3\n",
      "4    0.075355       0.0   5.857624   7.568199  0.075346      0.0      4\n",
      "5    0.071051       0.0   5.731997   7.420988  0.071052      0.0      5\n",
      "6    0.069627       0.0   5.688898   7.371754  0.069618      0.0      6\n",
      "7    0.068763       0.0   5.661984   7.339099  0.068763      0.0      7\n",
      "8    0.068134       0.0   5.643201   7.316988  0.068127      0.0      8\n",
      "9    0.067776       0.0   5.632996   7.304047  0.067777      0.0      9\n"
     ]
    },
    {
     "name": "stderr",
     "output_type": "stream",
     "text": [
      "INFO - (NP.config.set_auto_batch_epoch) - Auto-set batch_size to 128\n"
     ]
    },
    {
     "data": {
      "application/vnd.jupyter.widget-view+json": {
       "model_id": "cff9172f4b494debab24e5f30d93e636",
       "version_major": 2,
       "version_minor": 0
      },
      "text/plain": [
       "Training: |          | 0/? [00:00<?, ?it/s]"
      ]
     },
     "metadata": {},
     "output_type": "display_data"
    },
    {
     "data": {
      "application/vnd.jupyter.widget-view+json": {
       "model_id": "da088b503d79446e937741f7ec0bf8bd",
       "version_major": 2,
       "version_minor": 0
      },
      "text/plain": [
       "Finding best initial lr:   0%|          | 0/263 [00:00<?, ?it/s]"
      ]
     },
     "metadata": {},
     "output_type": "display_data"
    },
    {
     "data": {
      "application/vnd.jupyter.widget-view+json": {
       "model_id": "88da3717169346aa93c30715603c2309",
       "version_major": 2,
       "version_minor": 0
      },
      "text/plain": [
       "Training: |          | 0/? [00:00<?, ?it/s]"
      ]
     },
     "metadata": {},
     "output_type": "display_data"
    },
    {
     "name": "stderr",
     "output_type": "stream",
     "text": [
      "INFO - (NP.forecaster.add_lagged_regressor) - n_lags = 'auto', number of lags for regressor is set to Autoregression number of lags (48)\n",
      "WARNING - (NP.forecaster.fit) - When Global modeling with local normalization, metrics are displayed in normalized scale.\n",
      "WARNING - (py.warnings._showwarnmsg) - /Users/devinhopkins/anaconda3/envs/ed-flow-2023/lib/python3.10/site-packages/neuralprophet/df_utils.py:1152: FutureWarning: Series.view is deprecated and will be removed in a future version. Use ``astype`` as an alternative to change the dtype.\n",
      "  converted_ds = pd.to_datetime(ds_col, utc=True).view(dtype=np.int64)\n",
      "\n",
      "INFO - (NP.df_utils._infer_frequency) - Major frequency h corresponds to 99.895% of the data.\n",
      "WARNING - (py.warnings._showwarnmsg) - /Users/devinhopkins/anaconda3/envs/ed-flow-2023/lib/python3.10/site-packages/neuralprophet/df_utils.py:1152: FutureWarning: Series.view is deprecated and will be removed in a future version. Use ``astype`` as an alternative to change the dtype.\n",
      "  converted_ds = pd.to_datetime(ds_col, utc=True).view(dtype=np.int64)\n",
      "\n",
      "WARNING - (py.warnings._showwarnmsg) - /Users/devinhopkins/anaconda3/envs/ed-flow-2023/lib/python3.10/site-packages/neuralprophet/df_utils.py:1152: FutureWarning: Series.view is deprecated and will be removed in a future version. Use ``astype`` as an alternative to change the dtype.\n",
      "  converted_ds = pd.to_datetime(ds_col, utc=True).view(dtype=np.int64)\n",
      "\n",
      "INFO - (NP.df_utils._infer_frequency) - Defined frequency is equal to major frequency - h\n",
      "INFO - (NP.data.processing._handle_missing_data) - Added 59 missing dates.\n",
      "WARNING - (NP.data.processing._handle_missing_data) - 59 missing values in column y were detected in total. \n",
      "INFO - (NP.data.processing._handle_missing_data) - 59 NaN values in column y were auto-imputed.\n",
      "WARNING - (NP.data.processing._handle_missing_data) - 59 missing values in column RAZ_LAZYBOY were detected in total. \n",
      "INFO - (NP.data.processing._handle_missing_data) - 59 NaN values in column RAZ_LAZYBOY were auto-imputed.\n",
      "INFO - (NP.config.init_data_params) - Setting normalization to global as only one dataframe provided for training.\n"
     ]
    },
    {
     "name": "stdout",
     "output_type": "stream",
     "text": [
      "RAZ_TBS    train_loss  reg_loss        MAE       RMSE      Loss  RegLoss  epoch\n",
      "0    0.830038       0.0  20.720716  26.491352  0.829566      0.0      0\n",
      "1    0.206475       0.0   8.738828  11.168509  0.206410      0.0      1\n",
      "2    0.100917       0.0   6.439582   8.290542  0.100900      0.0      2\n",
      "3    0.074682       0.0   5.797627   7.502650  0.074672      0.0      3\n",
      "4    0.066605       0.0   5.587768   7.253954  0.066602      0.0      4\n",
      "5    0.062987       0.0   5.496602   7.145041  0.062989      0.0      5\n",
      "6    0.061912       0.0   5.468788   7.113512  0.061908      0.0      6\n",
      "7    0.061537       0.0   5.454166   7.097983  0.061537      0.0      7\n",
      "8    0.061063       0.0   5.443014   7.082915  0.061058      0.0      8\n",
      "9    0.060832       0.0   5.437492   7.074772  0.060830      0.0      9\n"
     ]
    },
    {
     "name": "stderr",
     "output_type": "stream",
     "text": [
      "INFO - (NP.config.set_auto_batch_epoch) - Auto-set batch_size to 128\n"
     ]
    },
    {
     "data": {
      "application/vnd.jupyter.widget-view+json": {
       "model_id": "fefa51ee27c846f2ae8cb1f1e88da1e0",
       "version_major": 2,
       "version_minor": 0
      },
      "text/plain": [
       "Training: |          | 0/? [00:00<?, ?it/s]"
      ]
     },
     "metadata": {},
     "output_type": "display_data"
    },
    {
     "data": {
      "application/vnd.jupyter.widget-view+json": {
       "model_id": "18733a4e343943a6918ce4fffa35f1c0",
       "version_major": 2,
       "version_minor": 0
      },
      "text/plain": [
       "Finding best initial lr:   0%|          | 0/263 [00:00<?, ?it/s]"
      ]
     },
     "metadata": {},
     "output_type": "display_data"
    },
    {
     "data": {
      "application/vnd.jupyter.widget-view+json": {
       "model_id": "1f6e0b691bd24c028ee7aaa03c68d313",
       "version_major": 2,
       "version_minor": 0
      },
      "text/plain": [
       "Training: |          | 0/? [00:00<?, ?it/s]"
      ]
     },
     "metadata": {},
     "output_type": "display_data"
    },
    {
     "name": "stderr",
     "output_type": "stream",
     "text": [
      "INFO - (NP.forecaster.add_lagged_regressor) - n_lags = 'auto', number of lags for regressor is set to Autoregression number of lags (48)\n",
      "WARNING - (NP.forecaster.fit) - When Global modeling with local normalization, metrics are displayed in normalized scale.\n",
      "WARNING - (py.warnings._showwarnmsg) - /Users/devinhopkins/anaconda3/envs/ed-flow-2023/lib/python3.10/site-packages/neuralprophet/df_utils.py:1152: FutureWarning: Series.view is deprecated and will be removed in a future version. Use ``astype`` as an alternative to change the dtype.\n",
      "  converted_ds = pd.to_datetime(ds_col, utc=True).view(dtype=np.int64)\n",
      "\n",
      "INFO - (NP.df_utils._infer_frequency) - Major frequency h corresponds to 99.895% of the data.\n",
      "WARNING - (py.warnings._showwarnmsg) - /Users/devinhopkins/anaconda3/envs/ed-flow-2023/lib/python3.10/site-packages/neuralprophet/df_utils.py:1152: FutureWarning: Series.view is deprecated and will be removed in a future version. Use ``astype`` as an alternative to change the dtype.\n",
      "  converted_ds = pd.to_datetime(ds_col, utc=True).view(dtype=np.int64)\n",
      "\n",
      "WARNING - (py.warnings._showwarnmsg) - /Users/devinhopkins/anaconda3/envs/ed-flow-2023/lib/python3.10/site-packages/neuralprophet/df_utils.py:1152: FutureWarning: Series.view is deprecated and will be removed in a future version. Use ``astype`` as an alternative to change the dtype.\n",
      "  converted_ds = pd.to_datetime(ds_col, utc=True).view(dtype=np.int64)\n",
      "\n",
      "INFO - (NP.df_utils._infer_frequency) - Defined frequency is equal to major frequency - h\n",
      "INFO - (NP.data.processing._handle_missing_data) - Added 59 missing dates.\n"
     ]
    },
    {
     "name": "stdout",
     "output_type": "stream",
     "text": [
      "RAZ_LAZYBOY    train_loss  reg_loss        MAE       RMSE      Loss  RegLoss  epoch\n",
      "0    0.927252       0.0  22.870764  29.151690  0.926668      0.0      0\n",
      "1    0.203122       0.0   9.151163  11.595320  0.203067      0.0      1\n",
      "2    0.120386       0.0   7.073768   9.013440  0.120367      0.0      2\n",
      "3    0.091633       0.0   6.336409   8.131262  0.091621      0.0      3\n",
      "4    0.078747       0.0   5.996166   7.728156  0.078738      0.0      4\n",
      "5    0.073586       0.0   5.859590   7.563729  0.073587      0.0      5\n",
      "6    0.072077       0.0   5.813367   7.513918  0.072070      0.0      6\n",
      "7    0.071166       0.0   5.784791   7.480385  0.071164      0.0      7\n",
      "8    0.070447       0.0   5.763611   7.454340  0.070439      0.0      8\n",
      "9    0.070060       0.0   5.752869   7.441676  0.070059      0.0      9\n"
     ]
    },
    {
     "name": "stderr",
     "output_type": "stream",
     "text": [
      "WARNING - (NP.data.processing._handle_missing_data) - 59 missing values in column y were detected in total. \n",
      "INFO - (NP.data.processing._handle_missing_data) - 59 NaN values in column y were auto-imputed.\n",
      "WARNING - (NP.data.processing._handle_missing_data) - 59 missing values in column RAZ_WAITINGREZ were detected in total. \n",
      "INFO - (NP.data.processing._handle_missing_data) - 59 NaN values in column RAZ_WAITINGREZ were auto-imputed.\n",
      "INFO - (NP.config.init_data_params) - Setting normalization to global as only one dataframe provided for training.\n",
      "INFO - (NP.config.set_auto_batch_epoch) - Auto-set batch_size to 128\n"
     ]
    },
    {
     "data": {
      "application/vnd.jupyter.widget-view+json": {
       "model_id": "96e9865f287e458ca27610d31b071e4c",
       "version_major": 2,
       "version_minor": 0
      },
      "text/plain": [
       "Training: |          | 0/? [00:00<?, ?it/s]"
      ]
     },
     "metadata": {},
     "output_type": "display_data"
    },
    {
     "data": {
      "application/vnd.jupyter.widget-view+json": {
       "model_id": "083a57e5df0b408391ce8d3bbd4de174",
       "version_major": 2,
       "version_minor": 0
      },
      "text/plain": [
       "Finding best initial lr:   0%|          | 0/263 [00:00<?, ?it/s]"
      ]
     },
     "metadata": {},
     "output_type": "display_data"
    },
    {
     "data": {
      "application/vnd.jupyter.widget-view+json": {
       "model_id": "1f3740f6c0524e8ebf84f3a0016afef8",
       "version_major": 2,
       "version_minor": 0
      },
      "text/plain": [
       "Training: |          | 0/? [00:00<?, ?it/s]"
      ]
     },
     "metadata": {},
     "output_type": "display_data"
    },
    {
     "name": "stderr",
     "output_type": "stream",
     "text": [
      "INFO - (NP.forecaster.add_lagged_regressor) - n_lags = 'auto', number of lags for regressor is set to Autoregression number of lags (48)\n",
      "WARNING - (NP.forecaster.fit) - When Global modeling with local normalization, metrics are displayed in normalized scale.\n",
      "WARNING - (py.warnings._showwarnmsg) - /Users/devinhopkins/anaconda3/envs/ed-flow-2023/lib/python3.10/site-packages/neuralprophet/df_utils.py:1152: FutureWarning: Series.view is deprecated and will be removed in a future version. Use ``astype`` as an alternative to change the dtype.\n",
      "  converted_ds = pd.to_datetime(ds_col, utc=True).view(dtype=np.int64)\n",
      "\n",
      "INFO - (NP.df_utils._infer_frequency) - Major frequency h corresponds to 99.895% of the data.\n",
      "WARNING - (py.warnings._showwarnmsg) - /Users/devinhopkins/anaconda3/envs/ed-flow-2023/lib/python3.10/site-packages/neuralprophet/df_utils.py:1152: FutureWarning: Series.view is deprecated and will be removed in a future version. Use ``astype`` as an alternative to change the dtype.\n",
      "  converted_ds = pd.to_datetime(ds_col, utc=True).view(dtype=np.int64)\n",
      "\n",
      "WARNING - (py.warnings._showwarnmsg) - /Users/devinhopkins/anaconda3/envs/ed-flow-2023/lib/python3.10/site-packages/neuralprophet/df_utils.py:1152: FutureWarning: Series.view is deprecated and will be removed in a future version. Use ``astype`` as an alternative to change the dtype.\n",
      "  converted_ds = pd.to_datetime(ds_col, utc=True).view(dtype=np.int64)\n",
      "\n",
      "INFO - (NP.df_utils._infer_frequency) - Defined frequency is equal to major frequency - h\n",
      "INFO - (NP.data.processing._handle_missing_data) - Added 59 missing dates.\n",
      "WARNING - (NP.data.processing._handle_missing_data) - 59 missing values in column y were detected in total. \n",
      "INFO - (NP.data.processing._handle_missing_data) - 59 NaN values in column y were auto-imputed.\n",
      "WARNING - (NP.data.processing._handle_missing_data) - 59 missing values in column AMBVERT1 were detected in total. \n",
      "INFO - (NP.data.processing._handle_missing_data) - 59 NaN values in column AMBVERT1 were auto-imputed.\n",
      "INFO - (NP.config.init_data_params) - Setting normalization to global as only one dataframe provided for training.\n"
     ]
    },
    {
     "name": "stdout",
     "output_type": "stream",
     "text": [
      "RAZ_WAITINGREZ    train_loss  reg_loss        MAE       RMSE      Loss  RegLoss  epoch\n",
      "0    0.919850       0.0  23.228586  29.556326  0.919304      0.0      0\n",
      "1    0.222249       0.0   9.774992  12.405424  0.222191      0.0      1\n",
      "2    0.121500       0.0   7.002569   8.956379  0.121474      0.0      2\n",
      "3    0.086897       0.0   6.042861   7.791717  0.086887      0.0      3\n",
      "4    0.073603       0.0   5.696390   7.379269  0.073593      0.0      4\n",
      "5    0.068609       0.0   5.575131   7.233848  0.068610      0.0      5\n",
      "6    0.067108       0.0   5.538304   7.191372  0.067102      0.0      6\n",
      "7    0.066214       0.0   5.515096   7.164196  0.066213      0.0      7\n",
      "8    0.065518       0.0   5.499066   7.144234  0.065512      0.0      8\n",
      "9    0.065153       0.0   5.490743   7.133379  0.065151      0.0      9\n"
     ]
    },
    {
     "name": "stderr",
     "output_type": "stream",
     "text": [
      "INFO - (NP.config.set_auto_batch_epoch) - Auto-set batch_size to 128\n"
     ]
    },
    {
     "data": {
      "application/vnd.jupyter.widget-view+json": {
       "model_id": "390bfc240bf247f88bf819def6aefb5a",
       "version_major": 2,
       "version_minor": 0
      },
      "text/plain": [
       "Training: |          | 0/? [00:00<?, ?it/s]"
      ]
     },
     "metadata": {},
     "output_type": "display_data"
    },
    {
     "data": {
      "application/vnd.jupyter.widget-view+json": {
       "model_id": "260a1421fa2b49e7af6526bc9212a12e",
       "version_major": 2,
       "version_minor": 0
      },
      "text/plain": [
       "Finding best initial lr:   0%|          | 0/263 [00:00<?, ?it/s]"
      ]
     },
     "metadata": {},
     "output_type": "display_data"
    },
    {
     "data": {
      "application/vnd.jupyter.widget-view+json": {
       "model_id": "0c2cd6978f3f47a79da3941a8f611ce4",
       "version_major": 2,
       "version_minor": 0
      },
      "text/plain": [
       "Training: |          | 0/? [00:00<?, ?it/s]"
      ]
     },
     "metadata": {},
     "output_type": "display_data"
    },
    {
     "name": "stderr",
     "output_type": "stream",
     "text": [
      "INFO - (NP.forecaster.add_lagged_regressor) - n_lags = 'auto', number of lags for regressor is set to Autoregression number of lags (48)\n",
      "WARNING - (NP.forecaster.fit) - When Global modeling with local normalization, metrics are displayed in normalized scale.\n",
      "WARNING - (py.warnings._showwarnmsg) - /Users/devinhopkins/anaconda3/envs/ed-flow-2023/lib/python3.10/site-packages/neuralprophet/df_utils.py:1152: FutureWarning: Series.view is deprecated and will be removed in a future version. Use ``astype`` as an alternative to change the dtype.\n",
      "  converted_ds = pd.to_datetime(ds_col, utc=True).view(dtype=np.int64)\n",
      "\n",
      "INFO - (NP.df_utils._infer_frequency) - Major frequency h corresponds to 99.895% of the data.\n",
      "WARNING - (py.warnings._showwarnmsg) - /Users/devinhopkins/anaconda3/envs/ed-flow-2023/lib/python3.10/site-packages/neuralprophet/df_utils.py:1152: FutureWarning: Series.view is deprecated and will be removed in a future version. Use ``astype`` as an alternative to change the dtype.\n",
      "  converted_ds = pd.to_datetime(ds_col, utc=True).view(dtype=np.int64)\n",
      "\n",
      "WARNING - (py.warnings._showwarnmsg) - /Users/devinhopkins/anaconda3/envs/ed-flow-2023/lib/python3.10/site-packages/neuralprophet/df_utils.py:1152: FutureWarning: Series.view is deprecated and will be removed in a future version. Use ``astype`` as an alternative to change the dtype.\n",
      "  converted_ds = pd.to_datetime(ds_col, utc=True).view(dtype=np.int64)\n",
      "\n",
      "INFO - (NP.df_utils._infer_frequency) - Defined frequency is equal to major frequency - h\n",
      "INFO - (NP.data.processing._handle_missing_data) - Added 59 missing dates.\n",
      "WARNING - (NP.data.processing._handle_missing_data) - 59 missing values in column y were detected in total. \n",
      "INFO - (NP.data.processing._handle_missing_data) - 59 NaN values in column y were auto-imputed.\n",
      "WARNING - (NP.data.processing._handle_missing_data) - 59 missing values in column AMBVERTTBS were detected in total. \n",
      "INFO - (NP.data.processing._handle_missing_data) - 59 NaN values in column AMBVERTTBS were auto-imputed.\n",
      "INFO - (NP.config.init_data_params) - Setting normalization to global as only one dataframe provided for training.\n"
     ]
    },
    {
     "name": "stdout",
     "output_type": "stream",
     "text": [
      "AMBVERT1    train_loss  reg_loss        MAE       RMSE      Loss  RegLoss  epoch\n",
      "0    0.901853       0.0  22.297506  28.517887  0.901310      0.0      0\n",
      "1    0.199683       0.0   8.997484  11.461098  0.199636      0.0      1\n",
      "2    0.115266       0.0   6.935304   8.892174  0.115250      0.0      2\n",
      "3    0.086393       0.0   6.159962   7.941170  0.086386      0.0      3\n",
      "4    0.075021       0.0   5.826686   7.537568  0.075012      0.0      4\n",
      "5    0.070618       0.0   5.695935   7.385043  0.070618      0.0      5\n",
      "6    0.069220       0.0   5.655135   7.335662  0.069213      0.0      6\n",
      "7    0.068369       0.0   5.626824   7.302661  0.068369      0.0      7\n",
      "8    0.067685       0.0   5.606721   7.278962  0.067680      0.0      8\n",
      "9    0.067346       0.0   5.597460   7.266558  0.067343      0.0      9\n"
     ]
    },
    {
     "name": "stderr",
     "output_type": "stream",
     "text": [
      "INFO - (NP.config.set_auto_batch_epoch) - Auto-set batch_size to 128\n"
     ]
    },
    {
     "data": {
      "application/vnd.jupyter.widget-view+json": {
       "model_id": "44bcb2df9f484768ad58a6c6aa17485b",
       "version_major": 2,
       "version_minor": 0
      },
      "text/plain": [
       "Training: |          | 0/? [00:00<?, ?it/s]"
      ]
     },
     "metadata": {},
     "output_type": "display_data"
    },
    {
     "data": {
      "application/vnd.jupyter.widget-view+json": {
       "model_id": "2807f408dbb04368933af24799e91eac",
       "version_major": 2,
       "version_minor": 0
      },
      "text/plain": [
       "Finding best initial lr:   0%|          | 0/263 [00:00<?, ?it/s]"
      ]
     },
     "metadata": {},
     "output_type": "display_data"
    },
    {
     "data": {
      "application/vnd.jupyter.widget-view+json": {
       "model_id": "40ef2a1f6eac4770ade712dd38cdedb1",
       "version_major": 2,
       "version_minor": 0
      },
      "text/plain": [
       "Training: |          | 0/? [00:00<?, ?it/s]"
      ]
     },
     "metadata": {},
     "output_type": "display_data"
    },
    {
     "name": "stderr",
     "output_type": "stream",
     "text": [
      "INFO - (NP.forecaster.add_lagged_regressor) - n_lags = 'auto', number of lags for regressor is set to Autoregression number of lags (48)\n",
      "WARNING - (NP.forecaster.fit) - When Global modeling with local normalization, metrics are displayed in normalized scale.\n"
     ]
    },
    {
     "name": "stdout",
     "output_type": "stream",
     "text": [
      "AMBVERTTBS    train_loss  reg_loss        MAE       RMSE      Loss  RegLoss  epoch\n",
      "0    0.897007       0.0  22.160236  28.342386  0.896475      0.0      0\n",
      "1    0.203308       0.0   8.986766  11.461280  0.203261      0.0      1\n",
      "2    0.112996       0.0   6.845645   8.795322  0.112978      0.0      2\n",
      "3    0.083371       0.0   6.060694   7.828629  0.083365      0.0      3\n",
      "4    0.072906       0.0   5.750074   7.451223  0.072896      0.0      4\n",
      "5    0.068851       0.0   5.633204   7.313009  0.068851      0.0      5\n",
      "6    0.067577       0.0   5.596529   7.268813  0.067569      0.0      6\n",
      "7    0.066806       0.0   5.572636   7.240150  0.066808      0.0      7\n",
      "8    0.066197       0.0   5.554598   7.219039  0.066193      0.0      8\n",
      "9    0.065893       0.0   5.547043   7.208508  0.065891      0.0      9\n"
     ]
    },
    {
     "name": "stderr",
     "output_type": "stream",
     "text": [
      "WARNING - (py.warnings._showwarnmsg) - /Users/devinhopkins/anaconda3/envs/ed-flow-2023/lib/python3.10/site-packages/neuralprophet/df_utils.py:1152: FutureWarning: Series.view is deprecated and will be removed in a future version. Use ``astype`` as an alternative to change the dtype.\n",
      "  converted_ds = pd.to_datetime(ds_col, utc=True).view(dtype=np.int64)\n",
      "\n",
      "INFO - (NP.df_utils._infer_frequency) - Major frequency h corresponds to 99.895% of the data.\n",
      "WARNING - (py.warnings._showwarnmsg) - /Users/devinhopkins/anaconda3/envs/ed-flow-2023/lib/python3.10/site-packages/neuralprophet/df_utils.py:1152: FutureWarning: Series.view is deprecated and will be removed in a future version. Use ``astype`` as an alternative to change the dtype.\n",
      "  converted_ds = pd.to_datetime(ds_col, utc=True).view(dtype=np.int64)\n",
      "\n",
      "WARNING - (py.warnings._showwarnmsg) - /Users/devinhopkins/anaconda3/envs/ed-flow-2023/lib/python3.10/site-packages/neuralprophet/df_utils.py:1152: FutureWarning: Series.view is deprecated and will be removed in a future version. Use ``astype`` as an alternative to change the dtype.\n",
      "  converted_ds = pd.to_datetime(ds_col, utc=True).view(dtype=np.int64)\n",
      "\n",
      "INFO - (NP.df_utils._infer_frequency) - Defined frequency is equal to major frequency - h\n",
      "INFO - (NP.data.processing._handle_missing_data) - Added 59 missing dates.\n",
      "WARNING - (NP.data.processing._handle_missing_data) - 59 missing values in column y were detected in total. \n",
      "INFO - (NP.data.processing._handle_missing_data) - 59 NaN values in column y were auto-imputed.\n",
      "WARNING - (NP.data.processing._handle_missing_data) - 59 missing values in column QTrack_TBS were detected in total. \n",
      "INFO - (NP.data.processing._handle_missing_data) - 59 NaN values in column QTrack_TBS were auto-imputed.\n",
      "INFO - (NP.config.init_data_params) - Setting normalization to global as only one dataframe provided for training.\n",
      "INFO - (NP.config.set_auto_batch_epoch) - Auto-set batch_size to 128\n"
     ]
    },
    {
     "data": {
      "application/vnd.jupyter.widget-view+json": {
       "model_id": "314ae8beb1194acb91c504d2673b1c8c",
       "version_major": 2,
       "version_minor": 0
      },
      "text/plain": [
       "Training: |          | 0/? [00:00<?, ?it/s]"
      ]
     },
     "metadata": {},
     "output_type": "display_data"
    },
    {
     "data": {
      "application/vnd.jupyter.widget-view+json": {
       "model_id": "ead08a3b3e8446a9b586f2da768665a8",
       "version_major": 2,
       "version_minor": 0
      },
      "text/plain": [
       "Finding best initial lr:   0%|          | 0/263 [00:00<?, ?it/s]"
      ]
     },
     "metadata": {},
     "output_type": "display_data"
    },
    {
     "data": {
      "application/vnd.jupyter.widget-view+json": {
       "model_id": "a6c6229090184b49b3cdd06bc16fcba1",
       "version_major": 2,
       "version_minor": 0
      },
      "text/plain": [
       "Training: |          | 0/? [00:00<?, ?it/s]"
      ]
     },
     "metadata": {},
     "output_type": "display_data"
    },
    {
     "name": "stderr",
     "output_type": "stream",
     "text": [
      "INFO - (NP.forecaster.add_lagged_regressor) - n_lags = 'auto', number of lags for regressor is set to Autoregression number of lags (48)\n",
      "WARNING - (NP.forecaster.fit) - When Global modeling with local normalization, metrics are displayed in normalized scale.\n",
      "WARNING - (py.warnings._showwarnmsg) - /Users/devinhopkins/anaconda3/envs/ed-flow-2023/lib/python3.10/site-packages/neuralprophet/df_utils.py:1152: FutureWarning: Series.view is deprecated and will be removed in a future version. Use ``astype`` as an alternative to change the dtype.\n",
      "  converted_ds = pd.to_datetime(ds_col, utc=True).view(dtype=np.int64)\n",
      "\n",
      "INFO - (NP.df_utils._infer_frequency) - Major frequency h corresponds to 99.895% of the data.\n",
      "WARNING - (py.warnings._showwarnmsg) - /Users/devinhopkins/anaconda3/envs/ed-flow-2023/lib/python3.10/site-packages/neuralprophet/df_utils.py:1152: FutureWarning: Series.view is deprecated and will be removed in a future version. Use ``astype`` as an alternative to change the dtype.\n",
      "  converted_ds = pd.to_datetime(ds_col, utc=True).view(dtype=np.int64)\n",
      "\n",
      "WARNING - (py.warnings._showwarnmsg) - /Users/devinhopkins/anaconda3/envs/ed-flow-2023/lib/python3.10/site-packages/neuralprophet/df_utils.py:1152: FutureWarning: Series.view is deprecated and will be removed in a future version. Use ``astype`` as an alternative to change the dtype.\n",
      "  converted_ds = pd.to_datetime(ds_col, utc=True).view(dtype=np.int64)\n",
      "\n",
      "INFO - (NP.df_utils._infer_frequency) - Defined frequency is equal to major frequency - h\n",
      "INFO - (NP.data.processing._handle_missing_data) - Added 59 missing dates.\n",
      "WARNING - (NP.data.processing._handle_missing_data) - 59 missing values in column y were detected in total. \n",
      "INFO - (NP.data.processing._handle_missing_data) - 59 NaN values in column y were auto-imputed.\n",
      "WARNING - (NP.data.processing._handle_missing_data) - 59 missing values in column Garage_TBS were detected in total. \n",
      "INFO - (NP.data.processing._handle_missing_data) - 59 NaN values in column Garage_TBS were auto-imputed.\n",
      "INFO - (NP.config.init_data_params) - Setting normalization to global as only one dataframe provided for training.\n"
     ]
    },
    {
     "name": "stdout",
     "output_type": "stream",
     "text": [
      "QTrack_TBS    train_loss  reg_loss        MAE       RMSE      Loss  RegLoss  epoch\n",
      "0    0.802630       0.0  19.557169  25.103209  0.802165      0.0      0\n",
      "1    0.184986       0.0   8.239437  10.558389  0.184922      0.0      1\n",
      "2    0.093249       0.0   6.325474   8.146568  0.093241      0.0      2\n",
      "3    0.073840       0.0   5.783565   7.486655  0.073832      0.0      3\n",
      "4    0.066647       0.0   5.589202   7.252306  0.066644      0.0      4\n",
      "5    0.062931       0.0   5.493821   7.141892  0.062934      0.0      5\n",
      "6    0.061757       0.0   5.465850   7.107833  0.061753      0.0      6\n",
      "7    0.061396       0.0   5.451003   7.092757  0.061397      0.0      7\n",
      "8    0.060900       0.0   5.439287   7.076896  0.060895      0.0      8\n",
      "9    0.060670       0.0   5.434374   7.068733  0.060668      0.0      9\n"
     ]
    },
    {
     "name": "stderr",
     "output_type": "stream",
     "text": [
      "INFO - (NP.config.set_auto_batch_epoch) - Auto-set batch_size to 128\n"
     ]
    },
    {
     "data": {
      "application/vnd.jupyter.widget-view+json": {
       "model_id": "a0e88b19a34e4c3691d64f39029f3319",
       "version_major": 2,
       "version_minor": 0
      },
      "text/plain": [
       "Training: |          | 0/? [00:00<?, ?it/s]"
      ]
     },
     "metadata": {},
     "output_type": "display_data"
    },
    {
     "data": {
      "application/vnd.jupyter.widget-view+json": {
       "model_id": "53dafd6e333d49139783a200368e20ea",
       "version_major": 2,
       "version_minor": 0
      },
      "text/plain": [
       "Finding best initial lr:   0%|          | 0/263 [00:00<?, ?it/s]"
      ]
     },
     "metadata": {},
     "output_type": "display_data"
    },
    {
     "data": {
      "application/vnd.jupyter.widget-view+json": {
       "model_id": "e6769ed94f6e473fb1261fdfccb99e7a",
       "version_major": 2,
       "version_minor": 0
      },
      "text/plain": [
       "Training: |          | 0/? [00:00<?, ?it/s]"
      ]
     },
     "metadata": {},
     "output_type": "display_data"
    },
    {
     "name": "stderr",
     "output_type": "stream",
     "text": [
      "INFO - (NP.forecaster.add_lagged_regressor) - n_lags = 'auto', number of lags for regressor is set to Autoregression number of lags (48)\n",
      "WARNING - (NP.forecaster.fit) - When Global modeling with local normalization, metrics are displayed in normalized scale.\n",
      "WARNING - (py.warnings._showwarnmsg) - /Users/devinhopkins/anaconda3/envs/ed-flow-2023/lib/python3.10/site-packages/neuralprophet/df_utils.py:1152: FutureWarning: Series.view is deprecated and will be removed in a future version. Use ``astype`` as an alternative to change the dtype.\n",
      "  converted_ds = pd.to_datetime(ds_col, utc=True).view(dtype=np.int64)\n",
      "\n",
      "INFO - (NP.df_utils._infer_frequency) - Major frequency h corresponds to 99.895% of the data.\n",
      "WARNING - (py.warnings._showwarnmsg) - /Users/devinhopkins/anaconda3/envs/ed-flow-2023/lib/python3.10/site-packages/neuralprophet/df_utils.py:1152: FutureWarning: Series.view is deprecated and will be removed in a future version. Use ``astype`` as an alternative to change the dtype.\n",
      "  converted_ds = pd.to_datetime(ds_col, utc=True).view(dtype=np.int64)\n",
      "\n",
      "WARNING - (py.warnings._showwarnmsg) - /Users/devinhopkins/anaconda3/envs/ed-flow-2023/lib/python3.10/site-packages/neuralprophet/df_utils.py:1152: FutureWarning: Series.view is deprecated and will be removed in a future version. Use ``astype`` as an alternative to change the dtype.\n",
      "  converted_ds = pd.to_datetime(ds_col, utc=True).view(dtype=np.int64)\n",
      "\n",
      "INFO - (NP.df_utils._infer_frequency) - Defined frequency is equal to major frequency - h\n",
      "INFO - (NP.data.processing._handle_missing_data) - Added 59 missing dates.\n",
      "WARNING - (NP.data.processing._handle_missing_data) - 59 missing values in column y were detected in total. \n",
      "INFO - (NP.data.processing._handle_missing_data) - 59 NaN values in column y were auto-imputed.\n",
      "WARNING - (NP.data.processing._handle_missing_data) - 59 missing values in column RAZ_CONS_MORE2H were detected in total. \n",
      "INFO - (NP.data.processing._handle_missing_data) - 59 NaN values in column RAZ_CONS_MORE2H were auto-imputed.\n",
      "INFO - (NP.config.init_data_params) - Setting normalization to global as only one dataframe provided for training.\n"
     ]
    },
    {
     "name": "stdout",
     "output_type": "stream",
     "text": [
      "Garage_TBS    train_loss  reg_loss        MAE       RMSE      Loss  RegLoss  epoch\n",
      "0    0.820927       0.0  20.449289  27.993830  0.820446      0.0      0\n",
      "1    0.180574       0.0   9.035131  12.337688  0.180504      0.0      1\n",
      "2    0.092566       0.0   6.393504   8.230398  0.092552      0.0      2\n",
      "3    0.073140       0.0   5.801711   7.494751  0.073131      0.0      3\n",
      "4    0.066094       0.0   5.603734   7.265584  0.066089      0.0      4\n",
      "5    0.062800       0.0   5.509618   7.158376  0.062802      0.0      5\n",
      "6    0.061824       0.0   5.482607   7.127279  0.061818      0.0      6\n",
      "7    0.061460       0.0   5.466071   7.110714  0.061460      0.0      7\n",
      "8    0.061075       0.0   5.455325   7.096867  0.061069      0.0      8\n",
      "9    0.060832       0.0   5.448841   7.087653  0.060830      0.0      9\n"
     ]
    },
    {
     "name": "stderr",
     "output_type": "stream",
     "text": [
      "INFO - (NP.config.set_auto_batch_epoch) - Auto-set batch_size to 128\n"
     ]
    },
    {
     "data": {
      "application/vnd.jupyter.widget-view+json": {
       "model_id": "05b9097c1a884ad2ae5ae235f192edba",
       "version_major": 2,
       "version_minor": 0
      },
      "text/plain": [
       "Training: |          | 0/? [00:00<?, ?it/s]"
      ]
     },
     "metadata": {},
     "output_type": "display_data"
    },
    {
     "data": {
      "application/vnd.jupyter.widget-view+json": {
       "model_id": "0a4cb62f4023423ab3fa2d682ce2a9b5",
       "version_major": 2,
       "version_minor": 0
      },
      "text/plain": [
       "Finding best initial lr:   0%|          | 0/263 [00:00<?, ?it/s]"
      ]
     },
     "metadata": {},
     "output_type": "display_data"
    },
    {
     "data": {
      "application/vnd.jupyter.widget-view+json": {
       "model_id": "fbcbd78e90af4c43a9a30241e7c6c45f",
       "version_major": 2,
       "version_minor": 0
      },
      "text/plain": [
       "Training: |          | 0/? [00:00<?, ?it/s]"
      ]
     },
     "metadata": {},
     "output_type": "display_data"
    },
    {
     "name": "stderr",
     "output_type": "stream",
     "text": [
      "INFO - (NP.forecaster.add_lagged_regressor) - n_lags = 'auto', number of lags for regressor is set to Autoregression number of lags (48)\n",
      "WARNING - (NP.forecaster.fit) - When Global modeling with local normalization, metrics are displayed in normalized scale.\n",
      "WARNING - (py.warnings._showwarnmsg) - /Users/devinhopkins/anaconda3/envs/ed-flow-2023/lib/python3.10/site-packages/neuralprophet/df_utils.py:1152: FutureWarning: Series.view is deprecated and will be removed in a future version. Use ``astype`` as an alternative to change the dtype.\n",
      "  converted_ds = pd.to_datetime(ds_col, utc=True).view(dtype=np.int64)\n",
      "\n",
      "INFO - (NP.df_utils._infer_frequency) - Major frequency h corresponds to 99.895% of the data.\n",
      "WARNING - (py.warnings._showwarnmsg) - /Users/devinhopkins/anaconda3/envs/ed-flow-2023/lib/python3.10/site-packages/neuralprophet/df_utils.py:1152: FutureWarning: Series.view is deprecated and will be removed in a future version. Use ``astype`` as an alternative to change the dtype.\n",
      "  converted_ds = pd.to_datetime(ds_col, utc=True).view(dtype=np.int64)\n",
      "\n",
      "WARNING - (py.warnings._showwarnmsg) - /Users/devinhopkins/anaconda3/envs/ed-flow-2023/lib/python3.10/site-packages/neuralprophet/df_utils.py:1152: FutureWarning: Series.view is deprecated and will be removed in a future version. Use ``astype`` as an alternative to change the dtype.\n",
      "  converted_ds = pd.to_datetime(ds_col, utc=True).view(dtype=np.int64)\n",
      "\n",
      "INFO - (NP.df_utils._infer_frequency) - Defined frequency is equal to major frequency - h\n",
      "INFO - (NP.data.processing._handle_missing_data) - Added 59 missing dates.\n",
      "WARNING - (NP.data.processing._handle_missing_data) - 59 missing values in column y were detected in total. \n",
      "INFO - (NP.data.processing._handle_missing_data) - 59 NaN values in column y were auto-imputed.\n",
      "WARNING - (NP.data.processing._handle_missing_data) - 59 missing values in column RAZ_IMCONS_MORE4H were detected in total. \n",
      "INFO - (NP.data.processing._handle_missing_data) - 59 NaN values in column RAZ_IMCONS_MORE4H were auto-imputed.\n",
      "INFO - (NP.config.init_data_params) - Setting normalization to global as only one dataframe provided for training.\n"
     ]
    },
    {
     "name": "stdout",
     "output_type": "stream",
     "text": [
      "RAZ_CONS_MORE2H    train_loss  reg_loss        MAE       RMSE      Loss  RegLoss  epoch\n",
      "0    0.858126       0.0  20.960751  26.829226  0.857606      0.0      0\n",
      "1    0.206096       0.0   8.629002  10.977416  0.206033      0.0      1\n",
      "2    0.107803       0.0   6.773141   8.677631  0.107787      0.0      2\n",
      "3    0.083001       0.0   6.104775   7.867808  0.082992      0.0      3\n",
      "4    0.073005       0.0   5.799981   7.504136  0.073000      0.0      4\n",
      "5    0.068511       0.0   5.675100   7.355589  0.068513      0.0      5\n",
      "6    0.067160       0.0   5.636646   7.311503  0.067152      0.0      6\n",
      "7    0.066548       0.0   5.613478   7.285228  0.066547      0.0      7\n",
      "8    0.065910       0.0   5.595197   7.263238  0.065903      0.0      8\n",
      "9    0.065608       0.0   5.587786   7.252839  0.065607      0.0      9\n"
     ]
    },
    {
     "name": "stderr",
     "output_type": "stream",
     "text": [
      "INFO - (NP.config.set_auto_batch_epoch) - Auto-set batch_size to 128\n"
     ]
    },
    {
     "data": {
      "application/vnd.jupyter.widget-view+json": {
       "model_id": "ea6fe1644f0d4392a227797e06c10996",
       "version_major": 2,
       "version_minor": 0
      },
      "text/plain": [
       "Training: |          | 0/? [00:00<?, ?it/s]"
      ]
     },
     "metadata": {},
     "output_type": "display_data"
    },
    {
     "data": {
      "application/vnd.jupyter.widget-view+json": {
       "model_id": "d9f610c38b35488faa62a2adedddbc23",
       "version_major": 2,
       "version_minor": 0
      },
      "text/plain": [
       "Finding best initial lr:   0%|          | 0/263 [00:00<?, ?it/s]"
      ]
     },
     "metadata": {},
     "output_type": "display_data"
    },
    {
     "data": {
      "application/vnd.jupyter.widget-view+json": {
       "model_id": "16ed074bdf0d431095c81c55638934c5",
       "version_major": 2,
       "version_minor": 0
      },
      "text/plain": [
       "Training: |          | 0/? [00:00<?, ?it/s]"
      ]
     },
     "metadata": {},
     "output_type": "display_data"
    },
    {
     "name": "stderr",
     "output_type": "stream",
     "text": [
      "INFO - (NP.forecaster.add_lagged_regressor) - n_lags = 'auto', number of lags for regressor is set to Autoregression number of lags (48)\n",
      "WARNING - (NP.forecaster.fit) - When Global modeling with local normalization, metrics are displayed in normalized scale.\n",
      "WARNING - (py.warnings._showwarnmsg) - /Users/devinhopkins/anaconda3/envs/ed-flow-2023/lib/python3.10/site-packages/neuralprophet/df_utils.py:1152: FutureWarning: Series.view is deprecated and will be removed in a future version. Use ``astype`` as an alternative to change the dtype.\n",
      "  converted_ds = pd.to_datetime(ds_col, utc=True).view(dtype=np.int64)\n",
      "\n",
      "INFO - (NP.df_utils._infer_frequency) - Major frequency h corresponds to 99.895% of the data.\n",
      "WARNING - (py.warnings._showwarnmsg) - /Users/devinhopkins/anaconda3/envs/ed-flow-2023/lib/python3.10/site-packages/neuralprophet/df_utils.py:1152: FutureWarning: Series.view is deprecated and will be removed in a future version. Use ``astype`` as an alternative to change the dtype.\n",
      "  converted_ds = pd.to_datetime(ds_col, utc=True).view(dtype=np.int64)\n",
      "\n",
      "WARNING - (py.warnings._showwarnmsg) - /Users/devinhopkins/anaconda3/envs/ed-flow-2023/lib/python3.10/site-packages/neuralprophet/df_utils.py:1152: FutureWarning: Series.view is deprecated and will be removed in a future version. Use ``astype`` as an alternative to change the dtype.\n",
      "  converted_ds = pd.to_datetime(ds_col, utc=True).view(dtype=np.int64)\n",
      "\n",
      "INFO - (NP.df_utils._infer_frequency) - Defined frequency is equal to major frequency - h\n",
      "INFO - (NP.data.processing._handle_missing_data) - Added 59 missing dates.\n",
      "WARNING - (NP.data.processing._handle_missing_data) - 59 missing values in column y were detected in total. \n",
      "INFO - (NP.data.processing._handle_missing_data) - 59 NaN values in column y were auto-imputed.\n",
      "WARNING - (NP.data.processing._handle_missing_data) - 59 missing values in column RAZ_XRAY_MORE2H were detected in total. \n",
      "INFO - (NP.data.processing._handle_missing_data) - 59 NaN values in column RAZ_XRAY_MORE2H were auto-imputed.\n",
      "INFO - (NP.config.init_data_params) - Setting normalization to global as only one dataframe provided for training.\n"
     ]
    },
    {
     "name": "stdout",
     "output_type": "stream",
     "text": [
      "RAZ_IMCONS_MORE4H    train_loss  reg_loss        MAE       RMSE      Loss  RegLoss  epoch\n",
      "0    0.991994       0.0  24.404348  31.603529  0.991415      0.0      0\n",
      "1    0.229288       0.0   9.470041  12.154557  0.229196      0.0      1\n",
      "2    0.096607       0.0   6.326484   8.140884  0.096601      0.0      2\n",
      "3    0.074596       0.0   5.803659   7.514280  0.074588      0.0      3\n",
      "4    0.067153       0.0   5.613101   7.284088  0.067152      0.0      4\n",
      "5    0.062962       0.0   5.508523   7.160062  0.062964      0.0      5\n",
      "6    0.061742       0.0   5.477233   7.123539  0.061737      0.0      6\n",
      "7    0.061441       0.0   5.462128   7.106601  0.061442      0.0      7\n",
      "8    0.060892       0.0   5.449924   7.090403  0.060886      0.0      8\n",
      "9    0.060625       0.0   5.442761   7.080403  0.060623      0.0      9\n"
     ]
    },
    {
     "name": "stderr",
     "output_type": "stream",
     "text": [
      "INFO - (NP.config.set_auto_batch_epoch) - Auto-set batch_size to 128\n"
     ]
    },
    {
     "data": {
      "application/vnd.jupyter.widget-view+json": {
       "model_id": "acc96eae5543413e95360613f51ccd1f",
       "version_major": 2,
       "version_minor": 0
      },
      "text/plain": [
       "Training: |          | 0/? [00:00<?, ?it/s]"
      ]
     },
     "metadata": {},
     "output_type": "display_data"
    },
    {
     "data": {
      "application/vnd.jupyter.widget-view+json": {
       "model_id": "7f7c259d21c4481a9494dfd0c0a2db76",
       "version_major": 2,
       "version_minor": 0
      },
      "text/plain": [
       "Finding best initial lr:   0%|          | 0/263 [00:00<?, ?it/s]"
      ]
     },
     "metadata": {},
     "output_type": "display_data"
    },
    {
     "data": {
      "application/vnd.jupyter.widget-view+json": {
       "model_id": "c1539a372bb745fd8ea5adadc15ca76c",
       "version_major": 2,
       "version_minor": 0
      },
      "text/plain": [
       "Training: |          | 0/? [00:00<?, ?it/s]"
      ]
     },
     "metadata": {},
     "output_type": "display_data"
    },
    {
     "name": "stderr",
     "output_type": "stream",
     "text": [
      "INFO - (NP.forecaster.add_lagged_regressor) - n_lags = 'auto', number of lags for regressor is set to Autoregression number of lags (48)\n",
      "WARNING - (NP.forecaster.fit) - When Global modeling with local normalization, metrics are displayed in normalized scale.\n",
      "WARNING - (py.warnings._showwarnmsg) - /Users/devinhopkins/anaconda3/envs/ed-flow-2023/lib/python3.10/site-packages/neuralprophet/df_utils.py:1152: FutureWarning: Series.view is deprecated and will be removed in a future version. Use ``astype`` as an alternative to change the dtype.\n",
      "  converted_ds = pd.to_datetime(ds_col, utc=True).view(dtype=np.int64)\n",
      "\n",
      "INFO - (NP.df_utils._infer_frequency) - Major frequency h corresponds to 99.895% of the data.\n",
      "WARNING - (py.warnings._showwarnmsg) - /Users/devinhopkins/anaconda3/envs/ed-flow-2023/lib/python3.10/site-packages/neuralprophet/df_utils.py:1152: FutureWarning: Series.view is deprecated and will be removed in a future version. Use ``astype`` as an alternative to change the dtype.\n",
      "  converted_ds = pd.to_datetime(ds_col, utc=True).view(dtype=np.int64)\n",
      "\n",
      "WARNING - (py.warnings._showwarnmsg) - /Users/devinhopkins/anaconda3/envs/ed-flow-2023/lib/python3.10/site-packages/neuralprophet/df_utils.py:1152: FutureWarning: Series.view is deprecated and will be removed in a future version. Use ``astype`` as an alternative to change the dtype.\n",
      "  converted_ds = pd.to_datetime(ds_col, utc=True).view(dtype=np.int64)\n",
      "\n",
      "INFO - (NP.df_utils._infer_frequency) - Defined frequency is equal to major frequency - h\n",
      "INFO - (NP.data.processing._handle_missing_data) - Added 59 missing dates.\n",
      "WARNING - (NP.data.processing._handle_missing_data) - 59 missing values in column y were detected in total. \n",
      "INFO - (NP.data.processing._handle_missing_data) - 59 NaN values in column y were auto-imputed.\n",
      "WARNING - (NP.data.processing._handle_missing_data) - 59 missing values in column RAZ_CT_MORE2H1 were detected in total. \n",
      "INFO - (NP.data.processing._handle_missing_data) - 59 NaN values in column RAZ_CT_MORE2H1 were auto-imputed.\n",
      "INFO - (NP.config.init_data_params) - Setting normalization to global as only one dataframe provided for training.\n"
     ]
    },
    {
     "name": "stdout",
     "output_type": "stream",
     "text": [
      "RAZ_XRAY_MORE2H    train_loss  reg_loss        MAE       RMSE      Loss  RegLoss  epoch\n",
      "0    0.850711       0.0  21.239489  27.244272  0.850245      0.0      0\n",
      "1    0.205577       0.0   8.662844  11.100012  0.205492      0.0      1\n",
      "2    0.090967       0.0   6.195661   7.973864  0.090959      0.0      2\n",
      "3    0.072559       0.0   5.776323   7.476583  0.072551      0.0      3\n",
      "4    0.065903       0.0   5.590767   7.256151  0.065903      0.0      4\n",
      "5    0.062299       0.0   5.496320   7.142403  0.062302      0.0      5\n",
      "6    0.061358       0.0   5.469834   7.112558  0.061352      0.0      6\n",
      "7    0.061055       0.0   5.454869   7.097293  0.061056      0.0      7\n",
      "8    0.060603       0.0   5.442905   7.081799  0.060597      0.0      8\n",
      "9    0.060369       0.0   5.437611   7.073051  0.060367      0.0      9\n"
     ]
    },
    {
     "name": "stderr",
     "output_type": "stream",
     "text": [
      "INFO - (NP.config.set_auto_batch_epoch) - Auto-set batch_size to 128\n"
     ]
    },
    {
     "data": {
      "application/vnd.jupyter.widget-view+json": {
       "model_id": "74093feb232e41c98fd4400bd3bea842",
       "version_major": 2,
       "version_minor": 0
      },
      "text/plain": [
       "Training: |          | 0/? [00:00<?, ?it/s]"
      ]
     },
     "metadata": {},
     "output_type": "display_data"
    },
    {
     "data": {
      "application/vnd.jupyter.widget-view+json": {
       "model_id": "fc47c17be95e489b9cdf831546574346",
       "version_major": 2,
       "version_minor": 0
      },
      "text/plain": [
       "Finding best initial lr:   0%|          | 0/263 [00:00<?, ?it/s]"
      ]
     },
     "metadata": {},
     "output_type": "display_data"
    },
    {
     "data": {
      "application/vnd.jupyter.widget-view+json": {
       "model_id": "22b3431b87c846f9ab0d6294df367971",
       "version_major": 2,
       "version_minor": 0
      },
      "text/plain": [
       "Training: |          | 0/? [00:00<?, ?it/s]"
      ]
     },
     "metadata": {},
     "output_type": "display_data"
    },
    {
     "name": "stderr",
     "output_type": "stream",
     "text": [
      "INFO - (NP.forecaster.add_lagged_regressor) - n_lags = 'auto', number of lags for regressor is set to Autoregression number of lags (48)\n",
      "WARNING - (NP.forecaster.fit) - When Global modeling with local normalization, metrics are displayed in normalized scale.\n",
      "WARNING - (py.warnings._showwarnmsg) - /Users/devinhopkins/anaconda3/envs/ed-flow-2023/lib/python3.10/site-packages/neuralprophet/df_utils.py:1152: FutureWarning: Series.view is deprecated and will be removed in a future version. Use ``astype`` as an alternative to change the dtype.\n",
      "  converted_ds = pd.to_datetime(ds_col, utc=True).view(dtype=np.int64)\n",
      "\n",
      "INFO - (NP.df_utils._infer_frequency) - Major frequency h corresponds to 99.895% of the data.\n",
      "WARNING - (py.warnings._showwarnmsg) - /Users/devinhopkins/anaconda3/envs/ed-flow-2023/lib/python3.10/site-packages/neuralprophet/df_utils.py:1152: FutureWarning: Series.view is deprecated and will be removed in a future version. Use ``astype`` as an alternative to change the dtype.\n",
      "  converted_ds = pd.to_datetime(ds_col, utc=True).view(dtype=np.int64)\n",
      "\n",
      "WARNING - (py.warnings._showwarnmsg) - /Users/devinhopkins/anaconda3/envs/ed-flow-2023/lib/python3.10/site-packages/neuralprophet/df_utils.py:1152: FutureWarning: Series.view is deprecated and will be removed in a future version. Use ``astype`` as an alternative to change the dtype.\n",
      "  converted_ds = pd.to_datetime(ds_col, utc=True).view(dtype=np.int64)\n",
      "\n",
      "INFO - (NP.df_utils._infer_frequency) - Defined frequency is equal to major frequency - h\n",
      "INFO - (NP.data.processing._handle_missing_data) - Added 59 missing dates.\n",
      "WARNING - (NP.data.processing._handle_missing_data) - 59 missing values in column y were detected in total. \n",
      "INFO - (NP.data.processing._handle_missing_data) - 59 NaN values in column y were auto-imputed.\n",
      "WARNING - (NP.data.processing._handle_missing_data) - 59 missing values in column PSYCH1 were detected in total. \n",
      "INFO - (NP.data.processing._handle_missing_data) - 59 NaN values in column PSYCH1 were auto-imputed.\n",
      "INFO - (NP.config.init_data_params) - Setting normalization to global as only one dataframe provided for training.\n"
     ]
    },
    {
     "name": "stdout",
     "output_type": "stream",
     "text": [
      "RAZ_CT_MORE2H1    train_loss  reg_loss        MAE       RMSE      Loss  RegLoss  epoch\n",
      "0    0.888241       0.0  22.380798  28.560705  0.887740      0.0      0\n",
      "1    0.232289       0.0   9.385875  11.953477  0.232204      0.0      1\n",
      "2    0.104556       0.0   6.475050   8.321133  0.104538      0.0      2\n",
      "3    0.075736       0.0   5.825733   7.532960  0.075726      0.0      3\n",
      "4    0.067275       0.0   5.621172   7.288916  0.067275      0.0      4\n",
      "5    0.063442       0.0   5.526798   7.179023  0.063444      0.0      5\n",
      "6    0.062376       0.0   5.499328   7.147786  0.062371      0.0      6\n",
      "7    0.061974       0.0   5.482769   7.131139  0.061974      0.0      7\n",
      "8    0.061481       0.0   5.471147   7.114871  0.061475      0.0      8\n",
      "9    0.061238       0.0   5.465484   7.106438  0.061238      0.0      9\n"
     ]
    },
    {
     "name": "stderr",
     "output_type": "stream",
     "text": [
      "INFO - (NP.config.set_auto_batch_epoch) - Auto-set batch_size to 128\n"
     ]
    },
    {
     "data": {
      "application/vnd.jupyter.widget-view+json": {
       "model_id": "860e537f65cf4804b365ca9d94a721d9",
       "version_major": 2,
       "version_minor": 0
      },
      "text/plain": [
       "Training: |          | 0/? [00:00<?, ?it/s]"
      ]
     },
     "metadata": {},
     "output_type": "display_data"
    },
    {
     "data": {
      "application/vnd.jupyter.widget-view+json": {
       "model_id": "50c8487f9f524b07b9ad45f0ae09b165",
       "version_major": 2,
       "version_minor": 0
      },
      "text/plain": [
       "Finding best initial lr:   0%|          | 0/263 [00:00<?, ?it/s]"
      ]
     },
     "metadata": {},
     "output_type": "display_data"
    },
    {
     "data": {
      "application/vnd.jupyter.widget-view+json": {
       "model_id": "f89346fc835e4bab8df908e9e98c2407",
       "version_major": 2,
       "version_minor": 0
      },
      "text/plain": [
       "Training: |          | 0/? [00:00<?, ?it/s]"
      ]
     },
     "metadata": {},
     "output_type": "display_data"
    },
    {
     "name": "stderr",
     "output_type": "stream",
     "text": [
      "INFO - (NP.forecaster.add_lagged_regressor) - n_lags = 'auto', number of lags for regressor is set to Autoregression number of lags (48)\n",
      "WARNING - (NP.forecaster.fit) - When Global modeling with local normalization, metrics are displayed in normalized scale.\n",
      "WARNING - (py.warnings._showwarnmsg) - /Users/devinhopkins/anaconda3/envs/ed-flow-2023/lib/python3.10/site-packages/neuralprophet/df_utils.py:1152: FutureWarning: Series.view is deprecated and will be removed in a future version. Use ``astype`` as an alternative to change the dtype.\n",
      "  converted_ds = pd.to_datetime(ds_col, utc=True).view(dtype=np.int64)\n",
      "\n",
      "INFO - (NP.df_utils._infer_frequency) - Major frequency h corresponds to 99.895% of the data.\n",
      "WARNING - (py.warnings._showwarnmsg) - /Users/devinhopkins/anaconda3/envs/ed-flow-2023/lib/python3.10/site-packages/neuralprophet/df_utils.py:1152: FutureWarning: Series.view is deprecated and will be removed in a future version. Use ``astype`` as an alternative to change the dtype.\n",
      "  converted_ds = pd.to_datetime(ds_col, utc=True).view(dtype=np.int64)\n",
      "\n",
      "WARNING - (py.warnings._showwarnmsg) - /Users/devinhopkins/anaconda3/envs/ed-flow-2023/lib/python3.10/site-packages/neuralprophet/df_utils.py:1152: FutureWarning: Series.view is deprecated and will be removed in a future version. Use ``astype`` as an alternative to change the dtype.\n",
      "  converted_ds = pd.to_datetime(ds_col, utc=True).view(dtype=np.int64)\n",
      "\n",
      "INFO - (NP.df_utils._infer_frequency) - Defined frequency is equal to major frequency - h\n",
      "INFO - (NP.data.processing._handle_missing_data) - Added 59 missing dates.\n",
      "WARNING - (NP.data.processing._handle_missing_data) - 59 missing values in column y were detected in total. \n",
      "INFO - (NP.data.processing._handle_missing_data) - 59 NaN values in column y were auto-imputed.\n",
      "WARNING - (NP.data.processing._handle_missing_data) - 59 missing values in column PSYCH_WAITINGADM were detected in total. \n",
      "INFO - (NP.data.processing._handle_missing_data) - 59 NaN values in column PSYCH_WAITINGADM were auto-imputed.\n",
      "INFO - (NP.config.init_data_params) - Setting normalization to global as only one dataframe provided for training.\n"
     ]
    },
    {
     "name": "stdout",
     "output_type": "stream",
     "text": [
      "PSYCH1    train_loss  reg_loss        MAE       RMSE      Loss  RegLoss  epoch\n",
      "0    0.916861       0.0  22.006742  28.217905  0.916257      0.0      0\n",
      "1    0.184287       0.0   8.271411  10.525676  0.184232      0.0      1\n",
      "2    0.103684       0.0   6.673571   8.539678  0.103668      0.0      2\n",
      "3    0.081865       0.0   6.150486   7.905271  0.081855      0.0      3\n",
      "4    0.074021       0.0   5.905822   7.617260  0.074018      0.0      4\n",
      "5    0.070291       0.0   5.802658   7.490770  0.070296      0.0      5\n",
      "6    0.069027       0.0   5.766557   7.449814  0.069022      0.0      6\n",
      "7    0.068539       0.0   5.745641   7.425487  0.068538      0.0      7\n",
      "8    0.067995       0.0   5.729008   7.405971  0.067988      0.0      8\n",
      "9    0.067750       0.0   5.722857   7.397055  0.067749      0.0      9\n"
     ]
    },
    {
     "name": "stderr",
     "output_type": "stream",
     "text": [
      "INFO - (NP.config.set_auto_batch_epoch) - Auto-set batch_size to 128\n"
     ]
    },
    {
     "data": {
      "application/vnd.jupyter.widget-view+json": {
       "model_id": "305cd5ed54bd4f77af01c3462b325ed6",
       "version_major": 2,
       "version_minor": 0
      },
      "text/plain": [
       "Training: |          | 0/? [00:00<?, ?it/s]"
      ]
     },
     "metadata": {},
     "output_type": "display_data"
    },
    {
     "data": {
      "application/vnd.jupyter.widget-view+json": {
       "model_id": "5d866244ff214e8abd15d8dc69ad98cd",
       "version_major": 2,
       "version_minor": 0
      },
      "text/plain": [
       "Finding best initial lr:   0%|          | 0/263 [00:00<?, ?it/s]"
      ]
     },
     "metadata": {},
     "output_type": "display_data"
    },
    {
     "data": {
      "application/vnd.jupyter.widget-view+json": {
       "model_id": "976dc9834b1541b7b8891a677e3dea15",
       "version_major": 2,
       "version_minor": 0
      },
      "text/plain": [
       "Training: |          | 0/? [00:00<?, ?it/s]"
      ]
     },
     "metadata": {},
     "output_type": "display_data"
    },
    {
     "name": "stdout",
     "output_type": "stream",
     "text": [
      "PSYCH_WAITINGADM    train_loss  reg_loss        MAE       RMSE      Loss  RegLoss  epoch\n",
      "0    0.905603       0.0  21.563644  27.717295  0.905020      0.0      0\n",
      "1    0.188008       0.0   8.197437  10.430122  0.187945      0.0      1\n",
      "2    0.098691       0.0   6.601185   8.451581  0.098682      0.0      2\n",
      "3    0.080759       0.0   6.110296   7.856183  0.080750      0.0      3\n",
      "4    0.073400       0.0   5.881519   7.585192  0.073397      0.0      4\n",
      "5    0.069713       0.0   5.779950   7.463051  0.069716      0.0      5\n",
      "6    0.068491       0.0   5.746957   7.424028  0.068484      0.0      6\n",
      "7    0.068000       0.0   5.725520   7.400734  0.067999      0.0      7\n",
      "8    0.067472       0.0   5.710702   7.381945  0.067464      0.0      8\n",
      "9    0.067225       0.0   5.704830   7.373335  0.067223      0.0      9\n"
     ]
    }
   ],
   "source": [
    "\n",
    "params = {\n",
    "    'growth': 'off',\n",
    "    'yearly_seasonality': True,\n",
    "    'weekly_seasonality': True,\n",
    "    'daily_seasonality': True,\n",
    "    'n_lags': 48,\n",
    "    'n_forecasts': 8,\n",
    "    'epochs': 10,\n",
    "    'quantiles': [0.2, 0.5, 0.8]\n",
    "}\n",
    "for regressor in regressors:\n",
    "    # print(regressor)\n",
    "    m = NeuralProphet(**params)\n",
    "    m.add_lagged_regressor(regressor)\n",
    "    set_random_seed(42)\n",
    "    metrics = m.fit(df[['ds','y',regressor]], freq='h')\n",
    "    print(regressor,metrics)\n",
    "\n"
   ]
  },
  {
   "cell_type": "code",
   "execution_count": 15,
   "metadata": {},
   "outputs": [
    {
     "name": "stderr",
     "output_type": "stream",
     "text": [
      "WARNING - (py.warnings._showwarnmsg) - /Users/devinhopkins/anaconda3/envs/ed-flow-2023/lib/python3.10/site-packages/neuralprophet/df_utils.py:1152: FutureWarning: Series.view is deprecated and will be removed in a future version. Use ``astype`` as an alternative to change the dtype.\n",
      "  converted_ds = pd.to_datetime(ds_col, utc=True).view(dtype=np.int64)\n",
      "\n",
      "INFO - (NP.df_utils._infer_frequency) - Major frequency h corresponds to 99.895% of the data.\n",
      "WARNING - (py.warnings._showwarnmsg) - /Users/devinhopkins/anaconda3/envs/ed-flow-2023/lib/python3.10/site-packages/neuralprophet/df_utils.py:1152: FutureWarning: Series.view is deprecated and will be removed in a future version. Use ``astype`` as an alternative to change the dtype.\n",
      "  converted_ds = pd.to_datetime(ds_col, utc=True).view(dtype=np.int64)\n",
      "\n",
      "WARNING - (py.warnings._showwarnmsg) - /Users/devinhopkins/anaconda3/envs/ed-flow-2023/lib/python3.10/site-packages/neuralprophet/df_utils.py:1152: FutureWarning: Series.view is deprecated and will be removed in a future version. Use ``astype`` as an alternative to change the dtype.\n",
      "  converted_ds = pd.to_datetime(ds_col, utc=True).view(dtype=np.int64)\n",
      "\n",
      "INFO - (NP.df_utils._infer_frequency) - Defined frequency is equal to major frequency - h\n",
      "WARNING - (NP.df_utils.check_dataframe) - Encountered lagged regressor with only unique values in training set across all IDs.Automatically removed variable.\n",
      "WARNING - (NP.data.processing._check_dataframe) - Removing lagged regressor Garage_TBS because it is not present in the data.\n",
      "WARNING - (py.warnings._showwarnmsg) - /Users/devinhopkins/anaconda3/envs/ed-flow-2023/lib/python3.10/site-packages/neuralprophet/data/split.py:273: FutureWarning: The behavior of DataFrame concatenation with empty or all-NA entries is deprecated. In a future version, this will no longer exclude empty or all-NA columns when determining the result dtypes. To retain the old behavior, exclude the relevant entries before the concat operation.\n",
      "  df = pd.concat([df, future_df])\n",
      "\n",
      "INFO - (NP.df_utils.return_df_in_original_format) - Returning df with no ID column\n",
      "WARNING - (NP.forecaster.predict) - Raw forecasts are incompatible with plotting utilities\n",
      "WARNING - (py.warnings._showwarnmsg) - /Users/devinhopkins/anaconda3/envs/ed-flow-2023/lib/python3.10/site-packages/neuralprophet/df_utils.py:1152: FutureWarning: Series.view is deprecated and will be removed in a future version. Use ``astype`` as an alternative to change the dtype.\n",
      "  converted_ds = pd.to_datetime(ds_col, utc=True).view(dtype=np.int64)\n",
      "\n",
      "INFO - (NP.df_utils._infer_frequency) - Major frequency h corresponds to 98.214% of the data.\n",
      "WARNING - (py.warnings._showwarnmsg) - /Users/devinhopkins/anaconda3/envs/ed-flow-2023/lib/python3.10/site-packages/neuralprophet/df_utils.py:1152: FutureWarning: Series.view is deprecated and will be removed in a future version. Use ``astype`` as an alternative to change the dtype.\n",
      "  converted_ds = pd.to_datetime(ds_col, utc=True).view(dtype=np.int64)\n",
      "\n",
      "WARNING - (py.warnings._showwarnmsg) - /Users/devinhopkins/anaconda3/envs/ed-flow-2023/lib/python3.10/site-packages/neuralprophet/df_utils.py:1152: FutureWarning: Series.view is deprecated and will be removed in a future version. Use ``astype`` as an alternative to change the dtype.\n",
      "  converted_ds = pd.to_datetime(ds_col, utc=True).view(dtype=np.int64)\n",
      "\n",
      "INFO - (NP.df_utils._infer_frequency) - Defined frequency is equal to major frequency - h\n",
      "WARNING - (py.warnings._showwarnmsg) - /Users/devinhopkins/anaconda3/envs/ed-flow-2023/lib/python3.10/site-packages/neuralprophet/df_utils.py:1152: FutureWarning: Series.view is deprecated and will be removed in a future version. Use ``astype`` as an alternative to change the dtype.\n",
      "  converted_ds = pd.to_datetime(ds_col, utc=True).view(dtype=np.int64)\n",
      "\n",
      "INFO - (NP.df_utils._infer_frequency) - Major frequency h corresponds to 98.214% of the data.\n",
      "WARNING - (py.warnings._showwarnmsg) - /Users/devinhopkins/anaconda3/envs/ed-flow-2023/lib/python3.10/site-packages/neuralprophet/df_utils.py:1152: FutureWarning: Series.view is deprecated and will be removed in a future version. Use ``astype`` as an alternative to change the dtype.\n",
      "  converted_ds = pd.to_datetime(ds_col, utc=True).view(dtype=np.int64)\n",
      "\n",
      "WARNING - (py.warnings._showwarnmsg) - /Users/devinhopkins/anaconda3/envs/ed-flow-2023/lib/python3.10/site-packages/neuralprophet/df_utils.py:1152: FutureWarning: Series.view is deprecated and will be removed in a future version. Use ``astype`` as an alternative to change the dtype.\n",
      "  converted_ds = pd.to_datetime(ds_col, utc=True).view(dtype=np.int64)\n",
      "\n",
      "INFO - (NP.df_utils._infer_frequency) - Defined frequency is equal to major frequency - h\n",
      "INFO - (NP.data.processing._handle_missing_data) - Dropped 8 rows at the end with NaNs in 'y' column.\n"
     ]
    },
    {
     "data": {
      "application/vnd.jupyter.widget-view+json": {
       "model_id": "a01cdb67661541abafe39ef2f62cda1c",
       "version_major": 2,
       "version_minor": 0
      },
      "text/plain": [
       "Predicting: |          | 0/? [00:00<?, ?it/s]"
      ]
     },
     "metadata": {},
     "output_type": "display_data"
    },
    {
     "ename": "RuntimeError",
     "evalue": "mat1 and mat2 shapes cannot be multiplied (1x2112 and 2160x24)",
     "output_type": "error",
     "traceback": [
      "\u001b[0;31m---------------------------------------------------------------------------\u001b[0m",
      "\u001b[0;31mRuntimeError\u001b[0m                              Traceback (most recent call last)",
      "Cell \u001b[0;32mIn[15], line 2\u001b[0m\n\u001b[1;32m      1\u001b[0m df_future \u001b[38;5;241m=\u001b[39m m\u001b[38;5;241m.\u001b[39mmake_future_dataframe(df, periods\u001b[38;5;241m=\u001b[39m\u001b[38;5;241m8\u001b[39m)\n\u001b[0;32m----> 2\u001b[0m forecast \u001b[38;5;241m=\u001b[39m \u001b[43mm\u001b[49m\u001b[38;5;241;43m.\u001b[39;49m\u001b[43mpredict\u001b[49m\u001b[43m(\u001b[49m\u001b[43mdf_future\u001b[49m\u001b[43m,\u001b[49m\u001b[43m \u001b[49m\u001b[43mdecompose\u001b[49m\u001b[38;5;241;43m=\u001b[39;49m\u001b[38;5;28;43;01mFalse\u001b[39;49;00m\u001b[43m,\u001b[49m\u001b[43m \u001b[49m\u001b[43mraw\u001b[49m\u001b[38;5;241;43m=\u001b[39;49m\u001b[38;5;28;43;01mTrue\u001b[39;49;00m\u001b[43m)\u001b[49m\n\u001b[1;32m      4\u001b[0m output_df \u001b[38;5;241m=\u001b[39m reformat_forecast(forecast)\n\u001b[1;32m      6\u001b[0m output_df\u001b[38;5;241m.\u001b[39mto_csv(\u001b[38;5;124m'\u001b[39m\u001b[38;5;124mtotal_tbs_np.csv\u001b[39m\u001b[38;5;124m'\u001b[39m, index\u001b[38;5;241m=\u001b[39m\u001b[38;5;28;01mFalse\u001b[39;00m)\n",
      "File \u001b[0;32m~/anaconda3/envs/ed-flow-2023/lib/python3.10/site-packages/neuralprophet/forecaster.py:1168\u001b[0m, in \u001b[0;36mNeuralProphet.predict\u001b[0;34m(self, df, decompose, raw, auto_extend)\u001b[0m\n\u001b[1;32m   1166\u001b[0m forecast \u001b[38;5;241m=\u001b[39m pd\u001b[38;5;241m.\u001b[39mDataFrame()\n\u001b[1;32m   1167\u001b[0m \u001b[38;5;28;01mfor\u001b[39;00m df_name, df_i \u001b[38;5;129;01min\u001b[39;00m df\u001b[38;5;241m.\u001b[39mgroupby(\u001b[38;5;124m\"\u001b[39m\u001b[38;5;124mID\u001b[39m\u001b[38;5;124m\"\u001b[39m):\n\u001b[0;32m-> 1168\u001b[0m     dates, predicted, components \u001b[38;5;241m=\u001b[39m \u001b[38;5;28;43mself\u001b[39;49m\u001b[38;5;241;43m.\u001b[39;49m\u001b[43m_predict_raw\u001b[49m\u001b[43m(\u001b[49m\n\u001b[1;32m   1169\u001b[0m \u001b[43m        \u001b[49m\u001b[43mdf_i\u001b[49m\u001b[43m,\u001b[49m\u001b[43m \u001b[49m\u001b[43mdf_name\u001b[49m\u001b[43m,\u001b[49m\u001b[43m \u001b[49m\u001b[43minclude_components\u001b[49m\u001b[38;5;241;43m=\u001b[39;49m\u001b[43mdecompose\u001b[49m\u001b[43m,\u001b[49m\u001b[43m \u001b[49m\u001b[43mprediction_frequency\u001b[49m\u001b[38;5;241;43m=\u001b[39;49m\u001b[38;5;28;43mself\u001b[39;49m\u001b[38;5;241;43m.\u001b[39;49m\u001b[43mprediction_frequency\u001b[49m\n\u001b[1;32m   1170\u001b[0m \u001b[43m    \u001b[49m\u001b[43m)\u001b[49m\n\u001b[1;32m   1171\u001b[0m     df_i \u001b[38;5;241m=\u001b[39m df_utils\u001b[38;5;241m.\u001b[39mdrop_missing_from_df(\n\u001b[1;32m   1172\u001b[0m         df_i, \u001b[38;5;28mself\u001b[39m\u001b[38;5;241m.\u001b[39mconfig_missing\u001b[38;5;241m.\u001b[39mdrop_missing, \u001b[38;5;28mself\u001b[39m\u001b[38;5;241m.\u001b[39mpredict_steps, \u001b[38;5;28mself\u001b[39m\u001b[38;5;241m.\u001b[39mn_lags\n\u001b[1;32m   1173\u001b[0m     )\n\u001b[1;32m   1174\u001b[0m     \u001b[38;5;28;01mif\u001b[39;00m raw:\n",
      "File \u001b[0;32m~/anaconda3/envs/ed-flow-2023/lib/python3.10/site-packages/neuralprophet/forecaster.py:2929\u001b[0m, in \u001b[0;36mNeuralProphet._predict_raw\u001b[0;34m(self, df, df_name, include_components, prediction_frequency)\u001b[0m\n\u001b[1;32m   2927\u001b[0m     \u001b[38;5;28mself\u001b[39m\u001b[38;5;241m.\u001b[39mmodel\u001b[38;5;241m.\u001b[39mset_covar_weights(\u001b[38;5;28mself\u001b[39m\u001b[38;5;241m.\u001b[39mmodel\u001b[38;5;241m.\u001b[39mget_covar_weights())\n\u001b[1;32m   2928\u001b[0m \u001b[38;5;66;03m# Compute the predictions and components (if requested)\u001b[39;00m\n\u001b[0;32m-> 2929\u001b[0m result \u001b[38;5;241m=\u001b[39m \u001b[38;5;28;43mself\u001b[39;49m\u001b[38;5;241;43m.\u001b[39;49m\u001b[43mtrainer\u001b[49m\u001b[38;5;241;43m.\u001b[39;49m\u001b[43mpredict\u001b[49m\u001b[43m(\u001b[49m\u001b[38;5;28;43mself\u001b[39;49m\u001b[38;5;241;43m.\u001b[39;49m\u001b[43mmodel\u001b[49m\u001b[43m,\u001b[49m\u001b[43m \u001b[49m\u001b[43mloader\u001b[49m\u001b[43m)\u001b[49m\n\u001b[1;32m   2930\u001b[0m \u001b[38;5;66;03m# Extract the prediction and components\u001b[39;00m\n\u001b[1;32m   2931\u001b[0m predicted, component_vectors \u001b[38;5;241m=\u001b[39m \u001b[38;5;28mzip\u001b[39m(\u001b[38;5;241m*\u001b[39mresult)\n",
      "File \u001b[0;32m~/anaconda3/envs/ed-flow-2023/lib/python3.10/site-packages/pytorch_lightning/trainer/trainer.py:859\u001b[0m, in \u001b[0;36mTrainer.predict\u001b[0;34m(self, model, dataloaders, datamodule, return_predictions, ckpt_path)\u001b[0m\n\u001b[1;32m    857\u001b[0m \u001b[38;5;28mself\u001b[39m\u001b[38;5;241m.\u001b[39mstate\u001b[38;5;241m.\u001b[39mstatus \u001b[38;5;241m=\u001b[39m TrainerStatus\u001b[38;5;241m.\u001b[39mRUNNING\n\u001b[1;32m    858\u001b[0m \u001b[38;5;28mself\u001b[39m\u001b[38;5;241m.\u001b[39mpredicting \u001b[38;5;241m=\u001b[39m \u001b[38;5;28;01mTrue\u001b[39;00m\n\u001b[0;32m--> 859\u001b[0m \u001b[38;5;28;01mreturn\u001b[39;00m \u001b[43mcall\u001b[49m\u001b[38;5;241;43m.\u001b[39;49m\u001b[43m_call_and_handle_interrupt\u001b[49m\u001b[43m(\u001b[49m\n\u001b[1;32m    860\u001b[0m \u001b[43m    \u001b[49m\u001b[38;5;28;43mself\u001b[39;49m\u001b[43m,\u001b[49m\u001b[43m \u001b[49m\u001b[38;5;28;43mself\u001b[39;49m\u001b[38;5;241;43m.\u001b[39;49m\u001b[43m_predict_impl\u001b[49m\u001b[43m,\u001b[49m\u001b[43m \u001b[49m\u001b[43mmodel\u001b[49m\u001b[43m,\u001b[49m\u001b[43m \u001b[49m\u001b[43mdataloaders\u001b[49m\u001b[43m,\u001b[49m\u001b[43m \u001b[49m\u001b[43mdatamodule\u001b[49m\u001b[43m,\u001b[49m\u001b[43m \u001b[49m\u001b[43mreturn_predictions\u001b[49m\u001b[43m,\u001b[49m\u001b[43m \u001b[49m\u001b[43mckpt_path\u001b[49m\n\u001b[1;32m    861\u001b[0m \u001b[43m\u001b[49m\u001b[43m)\u001b[49m\n",
      "File \u001b[0;32m~/anaconda3/envs/ed-flow-2023/lib/python3.10/site-packages/pytorch_lightning/trainer/call.py:47\u001b[0m, in \u001b[0;36m_call_and_handle_interrupt\u001b[0;34m(trainer, trainer_fn, *args, **kwargs)\u001b[0m\n\u001b[1;32m     45\u001b[0m     \u001b[38;5;28;01mif\u001b[39;00m trainer\u001b[38;5;241m.\u001b[39mstrategy\u001b[38;5;241m.\u001b[39mlauncher \u001b[38;5;129;01mis\u001b[39;00m \u001b[38;5;129;01mnot\u001b[39;00m \u001b[38;5;28;01mNone\u001b[39;00m:\n\u001b[1;32m     46\u001b[0m         \u001b[38;5;28;01mreturn\u001b[39;00m trainer\u001b[38;5;241m.\u001b[39mstrategy\u001b[38;5;241m.\u001b[39mlauncher\u001b[38;5;241m.\u001b[39mlaunch(trainer_fn, \u001b[38;5;241m*\u001b[39margs, trainer\u001b[38;5;241m=\u001b[39mtrainer, \u001b[38;5;241m*\u001b[39m\u001b[38;5;241m*\u001b[39mkwargs)\n\u001b[0;32m---> 47\u001b[0m     \u001b[38;5;28;01mreturn\u001b[39;00m \u001b[43mtrainer_fn\u001b[49m\u001b[43m(\u001b[49m\u001b[38;5;241;43m*\u001b[39;49m\u001b[43margs\u001b[49m\u001b[43m,\u001b[49m\u001b[43m \u001b[49m\u001b[38;5;241;43m*\u001b[39;49m\u001b[38;5;241;43m*\u001b[39;49m\u001b[43mkwargs\u001b[49m\u001b[43m)\u001b[49m\n\u001b[1;32m     49\u001b[0m \u001b[38;5;28;01mexcept\u001b[39;00m _TunerExitException:\n\u001b[1;32m     50\u001b[0m     _call_teardown_hook(trainer)\n",
      "File \u001b[0;32m~/anaconda3/envs/ed-flow-2023/lib/python3.10/site-packages/pytorch_lightning/trainer/trainer.py:898\u001b[0m, in \u001b[0;36mTrainer._predict_impl\u001b[0;34m(self, model, dataloaders, datamodule, return_predictions, ckpt_path)\u001b[0m\n\u001b[1;32m    894\u001b[0m \u001b[38;5;28;01massert\u001b[39;00m \u001b[38;5;28mself\u001b[39m\u001b[38;5;241m.\u001b[39mstate\u001b[38;5;241m.\u001b[39mfn \u001b[38;5;129;01mis\u001b[39;00m \u001b[38;5;129;01mnot\u001b[39;00m \u001b[38;5;28;01mNone\u001b[39;00m\n\u001b[1;32m    895\u001b[0m ckpt_path \u001b[38;5;241m=\u001b[39m \u001b[38;5;28mself\u001b[39m\u001b[38;5;241m.\u001b[39m_checkpoint_connector\u001b[38;5;241m.\u001b[39m_select_ckpt_path(\n\u001b[1;32m    896\u001b[0m     \u001b[38;5;28mself\u001b[39m\u001b[38;5;241m.\u001b[39mstate\u001b[38;5;241m.\u001b[39mfn, ckpt_path, model_provided\u001b[38;5;241m=\u001b[39mmodel_provided, model_connected\u001b[38;5;241m=\u001b[39m\u001b[38;5;28mself\u001b[39m\u001b[38;5;241m.\u001b[39mlightning_module \u001b[38;5;129;01mis\u001b[39;00m \u001b[38;5;129;01mnot\u001b[39;00m \u001b[38;5;28;01mNone\u001b[39;00m\n\u001b[1;32m    897\u001b[0m )\n\u001b[0;32m--> 898\u001b[0m results \u001b[38;5;241m=\u001b[39m \u001b[38;5;28;43mself\u001b[39;49m\u001b[38;5;241;43m.\u001b[39;49m\u001b[43m_run\u001b[49m\u001b[43m(\u001b[49m\u001b[43mmodel\u001b[49m\u001b[43m,\u001b[49m\u001b[43m \u001b[49m\u001b[43mckpt_path\u001b[49m\u001b[38;5;241;43m=\u001b[39;49m\u001b[43mckpt_path\u001b[49m\u001b[43m)\u001b[49m\n\u001b[1;32m    900\u001b[0m \u001b[38;5;28;01massert\u001b[39;00m \u001b[38;5;28mself\u001b[39m\u001b[38;5;241m.\u001b[39mstate\u001b[38;5;241m.\u001b[39mstopped\n\u001b[1;32m    901\u001b[0m \u001b[38;5;28mself\u001b[39m\u001b[38;5;241m.\u001b[39mpredicting \u001b[38;5;241m=\u001b[39m \u001b[38;5;28;01mFalse\u001b[39;00m\n",
      "File \u001b[0;32m~/anaconda3/envs/ed-flow-2023/lib/python3.10/site-packages/pytorch_lightning/trainer/trainer.py:982\u001b[0m, in \u001b[0;36mTrainer._run\u001b[0;34m(self, model, ckpt_path)\u001b[0m\n\u001b[1;32m    977\u001b[0m \u001b[38;5;28mself\u001b[39m\u001b[38;5;241m.\u001b[39m_signal_connector\u001b[38;5;241m.\u001b[39mregister_signal_handlers()\n\u001b[1;32m    979\u001b[0m \u001b[38;5;66;03m# ----------------------------\u001b[39;00m\n\u001b[1;32m    980\u001b[0m \u001b[38;5;66;03m# RUN THE TRAINER\u001b[39;00m\n\u001b[1;32m    981\u001b[0m \u001b[38;5;66;03m# ----------------------------\u001b[39;00m\n\u001b[0;32m--> 982\u001b[0m results \u001b[38;5;241m=\u001b[39m \u001b[38;5;28;43mself\u001b[39;49m\u001b[38;5;241;43m.\u001b[39;49m\u001b[43m_run_stage\u001b[49m\u001b[43m(\u001b[49m\u001b[43m)\u001b[49m\n\u001b[1;32m    984\u001b[0m \u001b[38;5;66;03m# ----------------------------\u001b[39;00m\n\u001b[1;32m    985\u001b[0m \u001b[38;5;66;03m# POST-Training CLEAN UP\u001b[39;00m\n\u001b[1;32m    986\u001b[0m \u001b[38;5;66;03m# ----------------------------\u001b[39;00m\n\u001b[1;32m    987\u001b[0m log\u001b[38;5;241m.\u001b[39mdebug(\u001b[38;5;124mf\u001b[39m\u001b[38;5;124m\"\u001b[39m\u001b[38;5;132;01m{\u001b[39;00m\u001b[38;5;28mself\u001b[39m\u001b[38;5;241m.\u001b[39m\u001b[38;5;18m__class__\u001b[39m\u001b[38;5;241m.\u001b[39m\u001b[38;5;18m__name__\u001b[39m\u001b[38;5;132;01m}\u001b[39;00m\u001b[38;5;124m: trainer tearing down\u001b[39m\u001b[38;5;124m\"\u001b[39m)\n",
      "File \u001b[0;32m~/anaconda3/envs/ed-flow-2023/lib/python3.10/site-packages/pytorch_lightning/trainer/trainer.py:1021\u001b[0m, in \u001b[0;36mTrainer._run_stage\u001b[0;34m(self)\u001b[0m\n\u001b[1;32m   1019\u001b[0m     \u001b[38;5;28;01mreturn\u001b[39;00m \u001b[38;5;28mself\u001b[39m\u001b[38;5;241m.\u001b[39m_evaluation_loop\u001b[38;5;241m.\u001b[39mrun()\n\u001b[1;32m   1020\u001b[0m \u001b[38;5;28;01mif\u001b[39;00m \u001b[38;5;28mself\u001b[39m\u001b[38;5;241m.\u001b[39mpredicting:\n\u001b[0;32m-> 1021\u001b[0m     \u001b[38;5;28;01mreturn\u001b[39;00m \u001b[38;5;28;43mself\u001b[39;49m\u001b[38;5;241;43m.\u001b[39;49m\u001b[43mpredict_loop\u001b[49m\u001b[38;5;241;43m.\u001b[39;49m\u001b[43mrun\u001b[49m\u001b[43m(\u001b[49m\u001b[43m)\u001b[49m\n\u001b[1;32m   1022\u001b[0m \u001b[38;5;28;01mif\u001b[39;00m \u001b[38;5;28mself\u001b[39m\u001b[38;5;241m.\u001b[39mtraining:\n\u001b[1;32m   1023\u001b[0m     \u001b[38;5;28;01mwith\u001b[39;00m isolate_rng():\n",
      "File \u001b[0;32m~/anaconda3/envs/ed-flow-2023/lib/python3.10/site-packages/pytorch_lightning/loops/utilities.py:179\u001b[0m, in \u001b[0;36m_no_grad_context.<locals>._decorator\u001b[0;34m(self, *args, **kwargs)\u001b[0m\n\u001b[1;32m    177\u001b[0m     context_manager \u001b[38;5;241m=\u001b[39m torch\u001b[38;5;241m.\u001b[39mno_grad\n\u001b[1;32m    178\u001b[0m \u001b[38;5;28;01mwith\u001b[39;00m context_manager():\n\u001b[0;32m--> 179\u001b[0m     \u001b[38;5;28;01mreturn\u001b[39;00m \u001b[43mloop_run\u001b[49m\u001b[43m(\u001b[49m\u001b[38;5;28;43mself\u001b[39;49m\u001b[43m,\u001b[49m\u001b[43m \u001b[49m\u001b[38;5;241;43m*\u001b[39;49m\u001b[43margs\u001b[49m\u001b[43m,\u001b[49m\u001b[43m \u001b[49m\u001b[38;5;241;43m*\u001b[39;49m\u001b[38;5;241;43m*\u001b[39;49m\u001b[43mkwargs\u001b[49m\u001b[43m)\u001b[49m\n",
      "File \u001b[0;32m~/anaconda3/envs/ed-flow-2023/lib/python3.10/site-packages/pytorch_lightning/loops/prediction_loop.py:125\u001b[0m, in \u001b[0;36m_PredictionLoop.run\u001b[0;34m(self)\u001b[0m\n\u001b[1;32m    123\u001b[0m     \u001b[38;5;28mself\u001b[39m\u001b[38;5;241m.\u001b[39mbatch_progress\u001b[38;5;241m.\u001b[39mis_last_batch \u001b[38;5;241m=\u001b[39m data_fetcher\u001b[38;5;241m.\u001b[39mdone\n\u001b[1;32m    124\u001b[0m     \u001b[38;5;66;03m# run step hooks\u001b[39;00m\n\u001b[0;32m--> 125\u001b[0m     \u001b[38;5;28;43mself\u001b[39;49m\u001b[38;5;241;43m.\u001b[39;49m\u001b[43m_predict_step\u001b[49m\u001b[43m(\u001b[49m\u001b[43mbatch\u001b[49m\u001b[43m,\u001b[49m\u001b[43m \u001b[49m\u001b[43mbatch_idx\u001b[49m\u001b[43m,\u001b[49m\u001b[43m \u001b[49m\u001b[43mdataloader_idx\u001b[49m\u001b[43m,\u001b[49m\u001b[43m \u001b[49m\u001b[43mdataloader_iter\u001b[49m\u001b[43m)\u001b[49m\n\u001b[1;32m    126\u001b[0m \u001b[38;5;28;01mexcept\u001b[39;00m \u001b[38;5;167;01mStopIteration\u001b[39;00m:\n\u001b[1;32m    127\u001b[0m     \u001b[38;5;66;03m# this needs to wrap the `*_step` call too (not just `next`) for `dataloader_iter` support\u001b[39;00m\n\u001b[1;32m    128\u001b[0m     \u001b[38;5;28;01mbreak\u001b[39;00m\n",
      "File \u001b[0;32m~/anaconda3/envs/ed-flow-2023/lib/python3.10/site-packages/pytorch_lightning/loops/prediction_loop.py:255\u001b[0m, in \u001b[0;36m_PredictionLoop._predict_step\u001b[0;34m(self, batch, batch_idx, dataloader_idx, dataloader_iter)\u001b[0m\n\u001b[1;32m    249\u001b[0m \u001b[38;5;66;03m# configure step_kwargs\u001b[39;00m\n\u001b[1;32m    250\u001b[0m step_args \u001b[38;5;241m=\u001b[39m (\n\u001b[1;32m    251\u001b[0m     \u001b[38;5;28mself\u001b[39m\u001b[38;5;241m.\u001b[39m_build_step_args_from_hook_kwargs(hook_kwargs, \u001b[38;5;124m\"\u001b[39m\u001b[38;5;124mpredict_step\u001b[39m\u001b[38;5;124m\"\u001b[39m)\n\u001b[1;32m    252\u001b[0m     \u001b[38;5;28;01mif\u001b[39;00m \u001b[38;5;129;01mnot\u001b[39;00m using_dataloader_iter\n\u001b[1;32m    253\u001b[0m     \u001b[38;5;28;01melse\u001b[39;00m (dataloader_iter,)\n\u001b[1;32m    254\u001b[0m )\n\u001b[0;32m--> 255\u001b[0m predictions \u001b[38;5;241m=\u001b[39m \u001b[43mcall\u001b[49m\u001b[38;5;241;43m.\u001b[39;49m\u001b[43m_call_strategy_hook\u001b[49m\u001b[43m(\u001b[49m\u001b[43mtrainer\u001b[49m\u001b[43m,\u001b[49m\u001b[43m \u001b[49m\u001b[38;5;124;43m\"\u001b[39;49m\u001b[38;5;124;43mpredict_step\u001b[39;49m\u001b[38;5;124;43m\"\u001b[39;49m\u001b[43m,\u001b[49m\u001b[43m \u001b[49m\u001b[38;5;241;43m*\u001b[39;49m\u001b[43mstep_args\u001b[49m\u001b[43m)\u001b[49m\n\u001b[1;32m    256\u001b[0m \u001b[38;5;28;01mif\u001b[39;00m predictions \u001b[38;5;129;01mis\u001b[39;00m \u001b[38;5;28;01mNone\u001b[39;00m:\n\u001b[1;32m    257\u001b[0m     \u001b[38;5;28mself\u001b[39m\u001b[38;5;241m.\u001b[39m_warning_cache\u001b[38;5;241m.\u001b[39mwarn(\u001b[38;5;124m\"\u001b[39m\u001b[38;5;124mpredict returned None if it was on purpose, ignore this warning...\u001b[39m\u001b[38;5;124m\"\u001b[39m)\n",
      "File \u001b[0;32m~/anaconda3/envs/ed-flow-2023/lib/python3.10/site-packages/pytorch_lightning/trainer/call.py:323\u001b[0m, in \u001b[0;36m_call_strategy_hook\u001b[0;34m(trainer, hook_name, *args, **kwargs)\u001b[0m\n\u001b[1;32m    320\u001b[0m     \u001b[38;5;28;01mreturn\u001b[39;00m \u001b[38;5;28;01mNone\u001b[39;00m\n\u001b[1;32m    322\u001b[0m \u001b[38;5;28;01mwith\u001b[39;00m trainer\u001b[38;5;241m.\u001b[39mprofiler\u001b[38;5;241m.\u001b[39mprofile(\u001b[38;5;124mf\u001b[39m\u001b[38;5;124m\"\u001b[39m\u001b[38;5;124m[Strategy]\u001b[39m\u001b[38;5;132;01m{\u001b[39;00mtrainer\u001b[38;5;241m.\u001b[39mstrategy\u001b[38;5;241m.\u001b[39m\u001b[38;5;18m__class__\u001b[39m\u001b[38;5;241m.\u001b[39m\u001b[38;5;18m__name__\u001b[39m\u001b[38;5;132;01m}\u001b[39;00m\u001b[38;5;124m.\u001b[39m\u001b[38;5;132;01m{\u001b[39;00mhook_name\u001b[38;5;132;01m}\u001b[39;00m\u001b[38;5;124m\"\u001b[39m):\n\u001b[0;32m--> 323\u001b[0m     output \u001b[38;5;241m=\u001b[39m \u001b[43mfn\u001b[49m\u001b[43m(\u001b[49m\u001b[38;5;241;43m*\u001b[39;49m\u001b[43margs\u001b[49m\u001b[43m,\u001b[49m\u001b[43m \u001b[49m\u001b[38;5;241;43m*\u001b[39;49m\u001b[38;5;241;43m*\u001b[39;49m\u001b[43mkwargs\u001b[49m\u001b[43m)\u001b[49m\n\u001b[1;32m    325\u001b[0m \u001b[38;5;66;03m# restore current_fx when nested context\u001b[39;00m\n\u001b[1;32m    326\u001b[0m pl_module\u001b[38;5;241m.\u001b[39m_current_fx_name \u001b[38;5;241m=\u001b[39m prev_fx_name\n",
      "File \u001b[0;32m~/anaconda3/envs/ed-flow-2023/lib/python3.10/site-packages/pytorch_lightning/strategies/strategy.py:438\u001b[0m, in \u001b[0;36mStrategy.predict_step\u001b[0;34m(self, *args, **kwargs)\u001b[0m\n\u001b[1;32m    436\u001b[0m \u001b[38;5;28;01mif\u001b[39;00m \u001b[38;5;28mself\u001b[39m\u001b[38;5;241m.\u001b[39mmodel \u001b[38;5;241m!=\u001b[39m \u001b[38;5;28mself\u001b[39m\u001b[38;5;241m.\u001b[39mlightning_module:\n\u001b[1;32m    437\u001b[0m     \u001b[38;5;28;01mreturn\u001b[39;00m \u001b[38;5;28mself\u001b[39m\u001b[38;5;241m.\u001b[39m_forward_redirection(\u001b[38;5;28mself\u001b[39m\u001b[38;5;241m.\u001b[39mmodel, \u001b[38;5;28mself\u001b[39m\u001b[38;5;241m.\u001b[39mlightning_module, \u001b[38;5;124m\"\u001b[39m\u001b[38;5;124mpredict_step\u001b[39m\u001b[38;5;124m\"\u001b[39m, \u001b[38;5;241m*\u001b[39margs, \u001b[38;5;241m*\u001b[39m\u001b[38;5;241m*\u001b[39mkwargs)\n\u001b[0;32m--> 438\u001b[0m \u001b[38;5;28;01mreturn\u001b[39;00m \u001b[38;5;28;43mself\u001b[39;49m\u001b[38;5;241;43m.\u001b[39;49m\u001b[43mlightning_module\u001b[49m\u001b[38;5;241;43m.\u001b[39;49m\u001b[43mpredict_step\u001b[49m\u001b[43m(\u001b[49m\u001b[38;5;241;43m*\u001b[39;49m\u001b[43margs\u001b[49m\u001b[43m,\u001b[49m\u001b[43m \u001b[49m\u001b[38;5;241;43m*\u001b[39;49m\u001b[38;5;241;43m*\u001b[39;49m\u001b[43mkwargs\u001b[49m\u001b[43m)\u001b[49m\n",
      "File \u001b[0;32m~/anaconda3/envs/ed-flow-2023/lib/python3.10/site-packages/neuralprophet/time_net.py:858\u001b[0m, in \u001b[0;36mTimeNet.predict_step\u001b[0;34m(self, batch, batch_idx, dataloader_idx)\u001b[0m\n\u001b[1;32m    856\u001b[0m inputs[\u001b[38;5;124m\"\u001b[39m\u001b[38;5;124mpredict_mode\u001b[39m\u001b[38;5;124m\"\u001b[39m] \u001b[38;5;241m=\u001b[39m \u001b[38;5;28;01mTrue\u001b[39;00m\n\u001b[1;32m    857\u001b[0m \u001b[38;5;66;03m# Run forward calculation\u001b[39;00m\n\u001b[0;32m--> 858\u001b[0m prediction, components \u001b[38;5;241m=\u001b[39m \u001b[38;5;28;43mself\u001b[39;49m\u001b[38;5;241;43m.\u001b[39;49m\u001b[43mforward\u001b[49m\u001b[43m(\u001b[49m\u001b[43minputs\u001b[49m\u001b[43m,\u001b[49m\u001b[43m \u001b[49m\u001b[43mmeta_name_tensor\u001b[49m\u001b[43m,\u001b[49m\u001b[43m \u001b[49m\u001b[38;5;28;43mself\u001b[39;49m\u001b[38;5;241;43m.\u001b[39;49m\u001b[43mcompute_components_flag\u001b[49m\u001b[43m)\u001b[49m\n\u001b[1;32m    859\u001b[0m \u001b[38;5;28;01mreturn\u001b[39;00m prediction, components\n",
      "File \u001b[0;32m~/anaconda3/envs/ed-flow-2023/lib/python3.10/site-packages/neuralprophet/time_net.py:627\u001b[0m, in \u001b[0;36mTimeNet.forward\u001b[0;34m(self, inputs, meta, compute_components_flag)\u001b[0m\n\u001b[1;32m    624\u001b[0m     components[\u001b[38;5;124m\"\u001b[39m\u001b[38;5;124mlags\u001b[39m\u001b[38;5;124m\"\u001b[39m] \u001b[38;5;241m=\u001b[39m lags\n\u001b[1;32m    626\u001b[0m \u001b[38;5;28;01mif\u001b[39;00m \u001b[38;5;124m\"\u001b[39m\u001b[38;5;124mcovariates\u001b[39m\u001b[38;5;124m\"\u001b[39m \u001b[38;5;129;01min\u001b[39;00m inputs:\n\u001b[0;32m--> 627\u001b[0m     covariates \u001b[38;5;241m=\u001b[39m \u001b[38;5;28;43mself\u001b[39;49m\u001b[38;5;241;43m.\u001b[39;49m\u001b[43mforward_covar_net\u001b[49m\u001b[43m(\u001b[49m\u001b[43mcovariates\u001b[49m\u001b[38;5;241;43m=\u001b[39;49m\u001b[43minputs\u001b[49m\u001b[43m[\u001b[49m\u001b[38;5;124;43m\"\u001b[39;49m\u001b[38;5;124;43mcovariates\u001b[39;49m\u001b[38;5;124;43m\"\u001b[39;49m\u001b[43m]\u001b[49m\u001b[43m)\u001b[49m\n\u001b[1;32m    628\u001b[0m     additive_components \u001b[38;5;241m+\u001b[39m\u001b[38;5;241m=\u001b[39m covariates\n\u001b[1;32m    629\u001b[0m     components[\u001b[38;5;124m\"\u001b[39m\u001b[38;5;124mcovariates\u001b[39m\u001b[38;5;124m\"\u001b[39m] \u001b[38;5;241m=\u001b[39m covariates\n",
      "File \u001b[0;32m~/anaconda3/envs/ed-flow-2023/lib/python3.10/site-packages/neuralprophet/time_net.py:505\u001b[0m, in \u001b[0;36mTimeNet.forward_covar_net\u001b[0;34m(self, covariates)\u001b[0m\n\u001b[1;32m    503\u001b[0m     \u001b[38;5;28;01mif\u001b[39;00m i \u001b[38;5;241m>\u001b[39m \u001b[38;5;241m0\u001b[39m:\n\u001b[1;32m    504\u001b[0m         x \u001b[38;5;241m=\u001b[39m nn\u001b[38;5;241m.\u001b[39mfunctional\u001b[38;5;241m.\u001b[39mrelu(x)\n\u001b[0;32m--> 505\u001b[0m     x \u001b[38;5;241m=\u001b[39m \u001b[38;5;28;43mself\u001b[39;49m\u001b[38;5;241;43m.\u001b[39;49m\u001b[43mcovar_net\u001b[49m\u001b[43m[\u001b[49m\u001b[43mi\u001b[49m\u001b[43m]\u001b[49m\u001b[43m(\u001b[49m\u001b[43mx\u001b[49m\u001b[43m)\u001b[49m\n\u001b[1;32m    507\u001b[0m \u001b[38;5;66;03m# segment the last dimension to match the quantiles\u001b[39;00m\n\u001b[1;32m    508\u001b[0m x \u001b[38;5;241m=\u001b[39m x\u001b[38;5;241m.\u001b[39mreshape(x\u001b[38;5;241m.\u001b[39mshape[\u001b[38;5;241m0\u001b[39m], \u001b[38;5;28mself\u001b[39m\u001b[38;5;241m.\u001b[39mn_forecasts, \u001b[38;5;28mlen\u001b[39m(\u001b[38;5;28mself\u001b[39m\u001b[38;5;241m.\u001b[39mquantiles))\n",
      "File \u001b[0;32m~/anaconda3/envs/ed-flow-2023/lib/python3.10/site-packages/torch/nn/modules/module.py:1511\u001b[0m, in \u001b[0;36mModule._wrapped_call_impl\u001b[0;34m(self, *args, **kwargs)\u001b[0m\n\u001b[1;32m   1509\u001b[0m     \u001b[38;5;28;01mreturn\u001b[39;00m \u001b[38;5;28mself\u001b[39m\u001b[38;5;241m.\u001b[39m_compiled_call_impl(\u001b[38;5;241m*\u001b[39margs, \u001b[38;5;241m*\u001b[39m\u001b[38;5;241m*\u001b[39mkwargs)  \u001b[38;5;66;03m# type: ignore[misc]\u001b[39;00m\n\u001b[1;32m   1510\u001b[0m \u001b[38;5;28;01melse\u001b[39;00m:\n\u001b[0;32m-> 1511\u001b[0m     \u001b[38;5;28;01mreturn\u001b[39;00m \u001b[38;5;28;43mself\u001b[39;49m\u001b[38;5;241;43m.\u001b[39;49m\u001b[43m_call_impl\u001b[49m\u001b[43m(\u001b[49m\u001b[38;5;241;43m*\u001b[39;49m\u001b[43margs\u001b[49m\u001b[43m,\u001b[49m\u001b[43m \u001b[49m\u001b[38;5;241;43m*\u001b[39;49m\u001b[38;5;241;43m*\u001b[39;49m\u001b[43mkwargs\u001b[49m\u001b[43m)\u001b[49m\n",
      "File \u001b[0;32m~/anaconda3/envs/ed-flow-2023/lib/python3.10/site-packages/torch/nn/modules/module.py:1520\u001b[0m, in \u001b[0;36mModule._call_impl\u001b[0;34m(self, *args, **kwargs)\u001b[0m\n\u001b[1;32m   1515\u001b[0m \u001b[38;5;66;03m# If we don't have any hooks, we want to skip the rest of the logic in\u001b[39;00m\n\u001b[1;32m   1516\u001b[0m \u001b[38;5;66;03m# this function, and just call forward.\u001b[39;00m\n\u001b[1;32m   1517\u001b[0m \u001b[38;5;28;01mif\u001b[39;00m \u001b[38;5;129;01mnot\u001b[39;00m (\u001b[38;5;28mself\u001b[39m\u001b[38;5;241m.\u001b[39m_backward_hooks \u001b[38;5;129;01mor\u001b[39;00m \u001b[38;5;28mself\u001b[39m\u001b[38;5;241m.\u001b[39m_backward_pre_hooks \u001b[38;5;129;01mor\u001b[39;00m \u001b[38;5;28mself\u001b[39m\u001b[38;5;241m.\u001b[39m_forward_hooks \u001b[38;5;129;01mor\u001b[39;00m \u001b[38;5;28mself\u001b[39m\u001b[38;5;241m.\u001b[39m_forward_pre_hooks\n\u001b[1;32m   1518\u001b[0m         \u001b[38;5;129;01mor\u001b[39;00m _global_backward_pre_hooks \u001b[38;5;129;01mor\u001b[39;00m _global_backward_hooks\n\u001b[1;32m   1519\u001b[0m         \u001b[38;5;129;01mor\u001b[39;00m _global_forward_hooks \u001b[38;5;129;01mor\u001b[39;00m _global_forward_pre_hooks):\n\u001b[0;32m-> 1520\u001b[0m     \u001b[38;5;28;01mreturn\u001b[39;00m \u001b[43mforward_call\u001b[49m\u001b[43m(\u001b[49m\u001b[38;5;241;43m*\u001b[39;49m\u001b[43margs\u001b[49m\u001b[43m,\u001b[49m\u001b[43m \u001b[49m\u001b[38;5;241;43m*\u001b[39;49m\u001b[38;5;241;43m*\u001b[39;49m\u001b[43mkwargs\u001b[49m\u001b[43m)\u001b[49m\n\u001b[1;32m   1522\u001b[0m \u001b[38;5;28;01mtry\u001b[39;00m:\n\u001b[1;32m   1523\u001b[0m     result \u001b[38;5;241m=\u001b[39m \u001b[38;5;28;01mNone\u001b[39;00m\n",
      "File \u001b[0;32m~/anaconda3/envs/ed-flow-2023/lib/python3.10/site-packages/torch/nn/modules/linear.py:116\u001b[0m, in \u001b[0;36mLinear.forward\u001b[0;34m(self, input)\u001b[0m\n\u001b[1;32m    115\u001b[0m \u001b[38;5;28;01mdef\u001b[39;00m \u001b[38;5;21mforward\u001b[39m(\u001b[38;5;28mself\u001b[39m, \u001b[38;5;28minput\u001b[39m: Tensor) \u001b[38;5;241m-\u001b[39m\u001b[38;5;241m>\u001b[39m Tensor:\n\u001b[0;32m--> 116\u001b[0m     \u001b[38;5;28;01mreturn\u001b[39;00m \u001b[43mF\u001b[49m\u001b[38;5;241;43m.\u001b[39;49m\u001b[43mlinear\u001b[49m\u001b[43m(\u001b[49m\u001b[38;5;28;43minput\u001b[39;49m\u001b[43m,\u001b[49m\u001b[43m \u001b[49m\u001b[38;5;28;43mself\u001b[39;49m\u001b[38;5;241;43m.\u001b[39;49m\u001b[43mweight\u001b[49m\u001b[43m,\u001b[49m\u001b[43m \u001b[49m\u001b[38;5;28;43mself\u001b[39;49m\u001b[38;5;241;43m.\u001b[39;49m\u001b[43mbias\u001b[49m\u001b[43m)\u001b[49m\n",
      "\u001b[0;31mRuntimeError\u001b[0m: mat1 and mat2 shapes cannot be multiplied (1x2112 and 2160x24)"
     ]
    }
   ],
   "source": [
    "\n",
    "df_future = m.make_future_dataframe(df, periods=8)\n",
    "forecast = m.predict(df_future, decompose=False, raw=True)\n",
    "\n",
    "output_df = reformat_forecast(forecast)\n",
    "\n",
    "output_df.to_csv('total_tbs_np.csv', index=False)\n",
    "\n",
    "dropbox_app_key = os.environ.get(\"DROPBOX_APP_KEY\")\n",
    "dropbox_app_secret = os.environ.get(\"DROPBOX_APP_SECRET\")\n",
    "dropbox_refresh_token = os.environ.get(\"DROPBOX_REFRESH_TOKEN\")\n",
    "\n",
    "# exchange the authorization code for an access token:\n",
    "token_url = \"https://api.dropboxapi.com/oauth2/token\"\n",
    "params = {\n",
    "    \"grant_type\": \"refresh_token\",\n",
    "    \"refresh_token\": dropbox_refresh_token,\n",
    "    \"client_id\": dropbox_app_key,\n",
    "    \"client_secret\": dropbox_app_secret\n",
    "}\n",
    "r = requests.post(token_url, data=params)\n",
    "# print(r.text)\n",
    "\n",
    "dropbox_access_token = r.json()['access_token']\n",
    "\n",
    "dbx = dropbox.Dropbox(dropbox_access_token)\n",
    "\n",
    "upload(dbx, 'total_tbs_np.csv', '', '',\n",
    "            'total_tbs_np.csv', overwrite=True)\n",
    "\n",
    "print(output_df)"
   ]
  },
  {
   "cell_type": "code",
   "execution_count": 6,
   "metadata": {},
   "outputs": [
    {
     "name": "stderr",
     "output_type": "stream",
     "text": [
      "WARNING - (NP.forecaster.fit) - When Global modeling with local normalization, metrics are displayed in normalized scale.\n",
      "WARNING - (py.warnings._showwarnmsg) - /Users/devinhopkins/anaconda3/envs/ed-flow-2023/lib/python3.10/site-packages/neuralprophet/df_utils.py:1152: FutureWarning: Series.view is deprecated and will be removed in a future version. Use ``astype`` as an alternative to change the dtype.\n",
      "  converted_ds = pd.to_datetime(ds_col, utc=True).view(dtype=np.int64)\n",
      "\n",
      "INFO - (NP.df_utils._infer_frequency) - Major frequency h corresponds to 99.892% of the data.\n",
      "WARNING - (py.warnings._showwarnmsg) - /Users/devinhopkins/anaconda3/envs/ed-flow-2023/lib/python3.10/site-packages/neuralprophet/df_utils.py:1152: FutureWarning: Series.view is deprecated and will be removed in a future version. Use ``astype`` as an alternative to change the dtype.\n",
      "  converted_ds = pd.to_datetime(ds_col, utc=True).view(dtype=np.int64)\n",
      "\n",
      "WARNING - (py.warnings._showwarnmsg) - /Users/devinhopkins/anaconda3/envs/ed-flow-2023/lib/python3.10/site-packages/neuralprophet/df_utils.py:1152: FutureWarning: Series.view is deprecated and will be removed in a future version. Use ``astype`` as an alternative to change the dtype.\n",
      "  converted_ds = pd.to_datetime(ds_col, utc=True).view(dtype=np.int64)\n",
      "\n",
      "INFO - (NP.df_utils._infer_frequency) - Defined frequency is equal to major frequency - h\n",
      "INFO - (NP.data.processing._handle_missing_data) - Added 65 missing dates.\n",
      "WARNING - (NP.data.processing._handle_missing_data) - 65 missing values in column y were detected in total. \n",
      "INFO - (NP.data.processing._handle_missing_data) - 65 NaN values in column y were auto-imputed.\n",
      "INFO - (NP.config.init_data_params) - Setting normalization to global as only one dataframe provided for training.\n",
      "INFO - (NP.config.set_auto_batch_epoch) - Auto-set batch_size to 128\n"
     ]
    },
    {
     "data": {
      "application/vnd.jupyter.widget-view+json": {
       "model_id": "4663082d3c87450a963ff41e5028c229",
       "version_major": 2,
       "version_minor": 0
      },
      "text/plain": [
       "Training: |          | 0/? [00:00<?, ?it/s]"
      ]
     },
     "metadata": {},
     "output_type": "display_data"
    },
    {
     "data": {
      "application/vnd.jupyter.widget-view+json": {
       "model_id": "1a2a7b3f3a254c5eab35a9a57ff96a71",
       "version_major": 2,
       "version_minor": 0
      },
      "text/plain": [
       "Finding best initial lr:   0%|          | 0/263 [00:00<?, ?it/s]"
      ]
     },
     "metadata": {},
     "output_type": "display_data"
    },
    {
     "data": {
      "application/vnd.jupyter.widget-view+json": {
       "model_id": "eae08dc316bb464c8521e2f91b5d465a",
       "version_major": 2,
       "version_minor": 0
      },
      "text/plain": [
       "Training: |          | 0/? [00:00<?, ?it/s]"
      ]
     },
     "metadata": {},
     "output_type": "display_data"
    },
    {
     "name": "stdout",
     "output_type": "stream",
     "text": [
      "    train_loss  reg_loss        MAE       RMSE      Loss  RegLoss  epoch\n",
      "0     0.422548       0.0  11.587409  14.771971  0.422409      0.0      0\n",
      "1     0.095270       0.0   6.513811   8.362106  0.095259      0.0      1\n",
      "2     0.074441       0.0   5.842206   7.545600  0.074438      0.0      2\n",
      "3     0.067161       0.0   5.570193   7.237640  0.067160      0.0      3\n",
      "4     0.062264       0.0   5.406718   7.055072  0.062261      0.0      4\n",
      "5     0.058913       0.0   5.287559   6.908538  0.058916      0.0      5\n",
      "6     0.058202       0.0   5.262602   6.869322  0.058204      0.0      6\n",
      "7     0.057825       0.0   5.262011   6.865791  0.057825      0.0      7\n",
      "8     0.057176       0.0   5.241456   6.845469  0.057177      0.0      8\n",
      "9     0.056325       0.0   5.224310   6.822224  0.056323      0.0      9\n",
      "10    0.055562       0.0   5.208122   6.801084  0.055561      0.0     10\n",
      "11    0.055096       0.0   5.195384   6.786657  0.055103      0.0     11\n",
      "12    0.055049       0.0   5.194047   6.784097  0.055049      0.0     12\n",
      "13    0.055052       0.0   5.195963   6.787134  0.055052      0.0     13\n",
      "14    0.054995       0.0   5.195057   6.785251  0.054993      0.0     14\n",
      "15    0.054949       0.0   5.189706   6.781067  0.054949      0.0     15\n",
      "16    0.054854       0.0   5.189592   6.779397  0.054856      0.0     16\n",
      "17    0.054757       0.0   5.187099   6.774063  0.054752      0.0     17\n",
      "18    0.054670       0.0   5.183268   6.770459  0.054669      0.0     18\n",
      "19    0.054646       0.0   5.184093   6.770702  0.054647      0.0     19\n"
     ]
    }
   ],
   "source": [
    "\n",
    "params = {\n",
    "    'growth': 'off',\n",
    "    'yearly_seasonality': True,\n",
    "    'weekly_seasonality': True,\n",
    "    'daily_seasonality': True,\n",
    "    'n_lags': 48,\n",
    "    'n_forecasts': 8,\n",
    "    'epochs': 20,\n",
    "    'quantiles': [0.2, 0.5, 0.8]\n",
    "}\n",
    "m = NeuralProphet(**params)\n",
    "set_random_seed(42)\n",
    "metrics = m.fit(df[['ds','y']], freq='h')\n",
    "print(metrics)\n",
    "\n"
   ]
  },
  {
   "cell_type": "code",
   "execution_count": 7,
   "metadata": {},
   "outputs": [
    {
     "name": "stderr",
     "output_type": "stream",
     "text": [
      "WARNING - (py.warnings._showwarnmsg) - /Users/devinhopkins/anaconda3/envs/ed-flow-2023/lib/python3.10/site-packages/neuralprophet/df_utils.py:1152: FutureWarning: Series.view is deprecated and will be removed in a future version. Use ``astype`` as an alternative to change the dtype.\n",
      "  converted_ds = pd.to_datetime(ds_col, utc=True).view(dtype=np.int64)\n",
      "\n",
      "INFO - (NP.df_utils._infer_frequency) - Major frequency h corresponds to 99.892% of the data.\n",
      "WARNING - (py.warnings._showwarnmsg) - /Users/devinhopkins/anaconda3/envs/ed-flow-2023/lib/python3.10/site-packages/neuralprophet/df_utils.py:1152: FutureWarning: Series.view is deprecated and will be removed in a future version. Use ``astype`` as an alternative to change the dtype.\n",
      "  converted_ds = pd.to_datetime(ds_col, utc=True).view(dtype=np.int64)\n",
      "\n",
      "WARNING - (py.warnings._showwarnmsg) - /Users/devinhopkins/anaconda3/envs/ed-flow-2023/lib/python3.10/site-packages/neuralprophet/df_utils.py:1152: FutureWarning: Series.view is deprecated and will be removed in a future version. Use ``astype`` as an alternative to change the dtype.\n",
      "  converted_ds = pd.to_datetime(ds_col, utc=True).view(dtype=np.int64)\n",
      "\n",
      "INFO - (NP.df_utils._infer_frequency) - Defined frequency is equal to major frequency - h\n",
      "WARNING - (py.warnings._showwarnmsg) - /Users/devinhopkins/anaconda3/envs/ed-flow-2023/lib/python3.10/site-packages/neuralprophet/data/split.py:273: FutureWarning: The behavior of DataFrame concatenation with empty or all-NA entries is deprecated. In a future version, this will no longer exclude empty or all-NA columns when determining the result dtypes. To retain the old behavior, exclude the relevant entries before the concat operation.\n",
      "  df = pd.concat([df, future_df])\n",
      "\n",
      "INFO - (NP.df_utils.return_df_in_original_format) - Returning df with no ID column\n",
      "WARNING - (NP.forecaster.predict) - Raw forecasts are incompatible with plotting utilities\n",
      "WARNING - (py.warnings._showwarnmsg) - /Users/devinhopkins/anaconda3/envs/ed-flow-2023/lib/python3.10/site-packages/neuralprophet/df_utils.py:1152: FutureWarning: Series.view is deprecated and will be removed in a future version. Use ``astype`` as an alternative to change the dtype.\n",
      "  converted_ds = pd.to_datetime(ds_col, utc=True).view(dtype=np.int64)\n",
      "\n",
      "INFO - (NP.df_utils._infer_frequency) - Major frequency h corresponds to 96.429% of the data.\n",
      "WARNING - (py.warnings._showwarnmsg) - /Users/devinhopkins/anaconda3/envs/ed-flow-2023/lib/python3.10/site-packages/neuralprophet/df_utils.py:1152: FutureWarning: Series.view is deprecated and will be removed in a future version. Use ``astype`` as an alternative to change the dtype.\n",
      "  converted_ds = pd.to_datetime(ds_col, utc=True).view(dtype=np.int64)\n",
      "\n",
      "WARNING - (py.warnings._showwarnmsg) - /Users/devinhopkins/anaconda3/envs/ed-flow-2023/lib/python3.10/site-packages/neuralprophet/df_utils.py:1152: FutureWarning: Series.view is deprecated and will be removed in a future version. Use ``astype`` as an alternative to change the dtype.\n",
      "  converted_ds = pd.to_datetime(ds_col, utc=True).view(dtype=np.int64)\n",
      "\n",
      "INFO - (NP.df_utils._infer_frequency) - Defined frequency is equal to major frequency - h\n",
      "WARNING - (py.warnings._showwarnmsg) - /Users/devinhopkins/anaconda3/envs/ed-flow-2023/lib/python3.10/site-packages/neuralprophet/df_utils.py:1152: FutureWarning: Series.view is deprecated and will be removed in a future version. Use ``astype`` as an alternative to change the dtype.\n",
      "  converted_ds = pd.to_datetime(ds_col, utc=True).view(dtype=np.int64)\n",
      "\n",
      "INFO - (NP.df_utils._infer_frequency) - Major frequency h corresponds to 96.429% of the data.\n",
      "WARNING - (py.warnings._showwarnmsg) - /Users/devinhopkins/anaconda3/envs/ed-flow-2023/lib/python3.10/site-packages/neuralprophet/df_utils.py:1152: FutureWarning: Series.view is deprecated and will be removed in a future version. Use ``astype`` as an alternative to change the dtype.\n",
      "  converted_ds = pd.to_datetime(ds_col, utc=True).view(dtype=np.int64)\n",
      "\n",
      "WARNING - (py.warnings._showwarnmsg) - /Users/devinhopkins/anaconda3/envs/ed-flow-2023/lib/python3.10/site-packages/neuralprophet/df_utils.py:1152: FutureWarning: Series.view is deprecated and will be removed in a future version. Use ``astype`` as an alternative to change the dtype.\n",
      "  converted_ds = pd.to_datetime(ds_col, utc=True).view(dtype=np.int64)\n",
      "\n",
      "INFO - (NP.df_utils._infer_frequency) - Defined frequency is equal to major frequency - h\n",
      "INFO - (NP.data.processing._handle_missing_data) - Added 6 missing dates.\n",
      "INFO - (NP.data.processing._handle_missing_data) - Dropped 8 rows at the end with NaNs in 'y' column.\n",
      "WARNING - (NP.data.processing._handle_missing_data) - 6 missing values in column y were detected in total. \n",
      "INFO - (NP.data.processing._handle_missing_data) - 6 NaN values in column y were auto-imputed.\n"
     ]
    },
    {
     "data": {
      "application/vnd.jupyter.widget-view+json": {
       "model_id": "73a168a1c176472f84d6c768a3480378",
       "version_major": 2,
       "version_minor": 0
      },
      "text/plain": [
       "Predicting: |          | 0/? [00:00<?, ?it/s]"
      ]
     },
     "metadata": {},
     "output_type": "display_data"
    },
    {
     "name": "stderr",
     "output_type": "stream",
     "text": [
      "INFO - (NP.df_utils.return_df_in_original_format) - Returning df with no ID column\n"
     ]
    },
    {
     "name": "stdout",
     "output_type": "stream",
     "text": [
      "                   ds       yhat  yhat_lower  yhat_upper\n",
      "0 2025-02-14 09:00:00  10.068016    7.630710   12.632497\n",
      "1 2025-02-14 10:00:00  13.380965   10.698642   16.102781\n",
      "2 2025-02-14 11:00:00  16.532358   13.059581   19.845911\n",
      "3 2025-02-14 12:00:00  21.068089   17.599720   25.140837\n",
      "4 2025-02-14 13:00:00  26.141987   21.976856   30.338787\n",
      "5 2025-02-14 14:00:00  28.455517   24.572857   33.114147\n",
      "6 2025-02-14 15:00:00  30.958015   26.626717   35.936363\n",
      "7 2025-02-14 16:00:00  34.713673   30.409586   39.647045\n"
     ]
    }
   ],
   "source": [
    "\n",
    "df_future = m.make_future_dataframe(df, periods=8)\n",
    "forecast = m.predict(df_future, decompose=False, raw=True)\n",
    "\n",
    "output_df = reformat_forecast(forecast)\n",
    "\n",
    "# output_df.to_csv('total_tbs_np.csv', index=False)\n",
    "\n",
    "# dropbox_app_key = os.environ.get(\"DROPBOX_APP_KEY\")\n",
    "# dropbox_app_secret = os.environ.get(\"DROPBOX_APP_SECRET\")\n",
    "# dropbox_refresh_token = os.environ.get(\"DROPBOX_REFRESH_TOKEN\")\n",
    "\n",
    "# # exchange the authorization code for an access token:\n",
    "# token_url = \"https://api.dropboxapi.com/oauth2/token\"\n",
    "# params = {\n",
    "#     \"grant_type\": \"refresh_token\",\n",
    "#     \"refresh_token\": dropbox_refresh_token,\n",
    "#     \"client_id\": dropbox_app_key,\n",
    "#     \"client_secret\": dropbox_app_secret\n",
    "# }\n",
    "# r = requests.post(token_url, data=params)\n",
    "# # print(r.text)\n",
    "\n",
    "# dropbox_access_token = r.json()['access_token']\n",
    "\n",
    "# dbx = dropbox.Dropbox(dropbox_access_token)\n",
    "\n",
    "# upload(dbx, 'total_tbs_np.csv', '', '',\n",
    "#             'total_tbs_np.csv', overwrite=True)\n",
    "\n",
    "print(output_df)"
   ]
  },
  {
   "cell_type": "code",
   "execution_count": 8,
   "metadata": {},
   "outputs": [
    {
     "data": {
      "text/html": [
       "<div>\n",
       "<style scoped>\n",
       "    .dataframe tbody tr th:only-of-type {\n",
       "        vertical-align: middle;\n",
       "    }\n",
       "\n",
       "    .dataframe tbody tr th {\n",
       "        vertical-align: top;\n",
       "    }\n",
       "\n",
       "    .dataframe thead th {\n",
       "        text-align: right;\n",
       "    }\n",
       "</style>\n",
       "<table border=\"1\" class=\"dataframe\">\n",
       "  <thead>\n",
       "    <tr style=\"text-align: right;\">\n",
       "      <th></th>\n",
       "      <th>ds</th>\n",
       "      <th>y</th>\n",
       "    </tr>\n",
       "  </thead>\n",
       "  <tbody>\n",
       "    <tr>\n",
       "      <th>0</th>\n",
       "      <td>2025-02-12 09:00:00</td>\n",
       "      <td>9.0</td>\n",
       "    </tr>\n",
       "    <tr>\n",
       "      <th>1</th>\n",
       "      <td>2025-02-12 10:00:00</td>\n",
       "      <td>20.0</td>\n",
       "    </tr>\n",
       "    <tr>\n",
       "      <th>2</th>\n",
       "      <td>2025-02-12 11:00:00</td>\n",
       "      <td>21.0</td>\n",
       "    </tr>\n",
       "    <tr>\n",
       "      <th>3</th>\n",
       "      <td>2025-02-12 12:00:00</td>\n",
       "      <td>27.0</td>\n",
       "    </tr>\n",
       "    <tr>\n",
       "      <th>4</th>\n",
       "      <td>2025-02-12 13:00:00</td>\n",
       "      <td>35.0</td>\n",
       "    </tr>\n",
       "    <tr>\n",
       "      <th>5</th>\n",
       "      <td>2025-02-12 14:00:00</td>\n",
       "      <td>42.0</td>\n",
       "    </tr>\n",
       "    <tr>\n",
       "      <th>6</th>\n",
       "      <td>2025-02-12 15:00:00</td>\n",
       "      <td>47.0</td>\n",
       "    </tr>\n",
       "    <tr>\n",
       "      <th>7</th>\n",
       "      <td>2025-02-12 16:00:00</td>\n",
       "      <td>52.0</td>\n",
       "    </tr>\n",
       "    <tr>\n",
       "      <th>8</th>\n",
       "      <td>2025-02-12 17:00:00</td>\n",
       "      <td>45.0</td>\n",
       "    </tr>\n",
       "    <tr>\n",
       "      <th>9</th>\n",
       "      <td>2025-02-12 18:00:00</td>\n",
       "      <td>45.0</td>\n",
       "    </tr>\n",
       "    <tr>\n",
       "      <th>10</th>\n",
       "      <td>2025-02-12 19:00:00</td>\n",
       "      <td>36.0</td>\n",
       "    </tr>\n",
       "    <tr>\n",
       "      <th>11</th>\n",
       "      <td>2025-02-12 20:00:00</td>\n",
       "      <td>29.0</td>\n",
       "    </tr>\n",
       "    <tr>\n",
       "      <th>12</th>\n",
       "      <td>2025-02-12 21:00:00</td>\n",
       "      <td>28.0</td>\n",
       "    </tr>\n",
       "    <tr>\n",
       "      <th>13</th>\n",
       "      <td>2025-02-12 22:00:00</td>\n",
       "      <td>23.0</td>\n",
       "    </tr>\n",
       "    <tr>\n",
       "      <th>14</th>\n",
       "      <td>2025-02-12 23:00:00</td>\n",
       "      <td>26.0</td>\n",
       "    </tr>\n",
       "    <tr>\n",
       "      <th>15</th>\n",
       "      <td>2025-02-13 00:00:00</td>\n",
       "      <td>25.0</td>\n",
       "    </tr>\n",
       "    <tr>\n",
       "      <th>16</th>\n",
       "      <td>2025-02-13 01:00:00</td>\n",
       "      <td>23.0</td>\n",
       "    </tr>\n",
       "    <tr>\n",
       "      <th>17</th>\n",
       "      <td>2025-02-13 02:00:00</td>\n",
       "      <td>20.0</td>\n",
       "    </tr>\n",
       "    <tr>\n",
       "      <th>18</th>\n",
       "      <td>2025-02-13 03:00:00</td>\n",
       "      <td>19.0</td>\n",
       "    </tr>\n",
       "    <tr>\n",
       "      <th>19</th>\n",
       "      <td>2025-02-13 04:00:00</td>\n",
       "      <td>19.0</td>\n",
       "    </tr>\n",
       "    <tr>\n",
       "      <th>20</th>\n",
       "      <td>2025-02-13 05:00:00</td>\n",
       "      <td>16.0</td>\n",
       "    </tr>\n",
       "    <tr>\n",
       "      <th>21</th>\n",
       "      <td>2025-02-13 06:00:00</td>\n",
       "      <td>13.0</td>\n",
       "    </tr>\n",
       "    <tr>\n",
       "      <th>22</th>\n",
       "      <td>2025-02-13 07:00:00</td>\n",
       "      <td>11.0</td>\n",
       "    </tr>\n",
       "    <tr>\n",
       "      <th>23</th>\n",
       "      <td>2025-02-13 08:00:00</td>\n",
       "      <td>12.0</td>\n",
       "    </tr>\n",
       "    <tr>\n",
       "      <th>24</th>\n",
       "      <td>2025-02-13 09:00:00</td>\n",
       "      <td>7.0</td>\n",
       "    </tr>\n",
       "    <tr>\n",
       "      <th>25</th>\n",
       "      <td>2025-02-13 10:00:00</td>\n",
       "      <td>11.0</td>\n",
       "    </tr>\n",
       "    <tr>\n",
       "      <th>26</th>\n",
       "      <td>2025-02-13 11:00:00</td>\n",
       "      <td>13.0</td>\n",
       "    </tr>\n",
       "    <tr>\n",
       "      <th>27</th>\n",
       "      <td>2025-02-13 12:00:00</td>\n",
       "      <td>19.0</td>\n",
       "    </tr>\n",
       "    <tr>\n",
       "      <th>28</th>\n",
       "      <td>2025-02-13 13:00:00</td>\n",
       "      <td>27.0</td>\n",
       "    </tr>\n",
       "    <tr>\n",
       "      <th>29</th>\n",
       "      <td>2025-02-13 14:00:00</td>\n",
       "      <td>31.0</td>\n",
       "    </tr>\n",
       "    <tr>\n",
       "      <th>30</th>\n",
       "      <td>2025-02-13 15:00:00</td>\n",
       "      <td>22.0</td>\n",
       "    </tr>\n",
       "    <tr>\n",
       "      <th>31</th>\n",
       "      <td>2025-02-13 16:00:00</td>\n",
       "      <td>33.0</td>\n",
       "    </tr>\n",
       "    <tr>\n",
       "      <th>32</th>\n",
       "      <td>2025-02-13 17:00:00</td>\n",
       "      <td>23.0</td>\n",
       "    </tr>\n",
       "    <tr>\n",
       "      <th>33</th>\n",
       "      <td>2025-02-13 18:00:00</td>\n",
       "      <td>24.0</td>\n",
       "    </tr>\n",
       "    <tr>\n",
       "      <th>34</th>\n",
       "      <td>2025-02-13 19:00:00</td>\n",
       "      <td>18.0</td>\n",
       "    </tr>\n",
       "    <tr>\n",
       "      <th>35</th>\n",
       "      <td>2025-02-13 20:00:00</td>\n",
       "      <td>10.0</td>\n",
       "    </tr>\n",
       "    <tr>\n",
       "      <th>36</th>\n",
       "      <td>2025-02-13 21:00:00</td>\n",
       "      <td>8.0</td>\n",
       "    </tr>\n",
       "    <tr>\n",
       "      <th>37</th>\n",
       "      <td>2025-02-13 22:00:00</td>\n",
       "      <td>7.0</td>\n",
       "    </tr>\n",
       "    <tr>\n",
       "      <th>38</th>\n",
       "      <td>2025-02-13 23:00:00</td>\n",
       "      <td>3.0</td>\n",
       "    </tr>\n",
       "    <tr>\n",
       "      <th>39</th>\n",
       "      <td>2025-02-14 00:00:00</td>\n",
       "      <td>2.0</td>\n",
       "    </tr>\n",
       "    <tr>\n",
       "      <th>40</th>\n",
       "      <td>2025-02-14 01:00:00</td>\n",
       "      <td>4.0</td>\n",
       "    </tr>\n",
       "    <tr>\n",
       "      <th>41</th>\n",
       "      <td>2025-02-14 02:00:00</td>\n",
       "      <td>3.0</td>\n",
       "    </tr>\n",
       "    <tr>\n",
       "      <th>42</th>\n",
       "      <td>2025-02-14 09:00:00</td>\n",
       "      <td>12.0</td>\n",
       "    </tr>\n",
       "    <tr>\n",
       "      <th>43</th>\n",
       "      <td>2025-02-14 10:00:00</td>\n",
       "      <td>5.0</td>\n",
       "    </tr>\n",
       "    <tr>\n",
       "      <th>44</th>\n",
       "      <td>2025-02-14 11:00:00</td>\n",
       "      <td>11.0</td>\n",
       "    </tr>\n",
       "    <tr>\n",
       "      <th>45</th>\n",
       "      <td>2025-02-14 12:00:00</td>\n",
       "      <td>13.0</td>\n",
       "    </tr>\n",
       "    <tr>\n",
       "      <th>46</th>\n",
       "      <td>2025-02-14 13:00:00</td>\n",
       "      <td>23.0</td>\n",
       "    </tr>\n",
       "    <tr>\n",
       "      <th>47</th>\n",
       "      <td>2025-02-14 14:00:00</td>\n",
       "      <td>21.0</td>\n",
       "    </tr>\n",
       "    <tr>\n",
       "      <th>48</th>\n",
       "      <td>2025-02-14 15:00:00</td>\n",
       "      <td>NaN</td>\n",
       "    </tr>\n",
       "    <tr>\n",
       "      <th>49</th>\n",
       "      <td>2025-02-14 16:00:00</td>\n",
       "      <td>NaN</td>\n",
       "    </tr>\n",
       "    <tr>\n",
       "      <th>50</th>\n",
       "      <td>2025-02-14 17:00:00</td>\n",
       "      <td>NaN</td>\n",
       "    </tr>\n",
       "    <tr>\n",
       "      <th>51</th>\n",
       "      <td>2025-02-14 18:00:00</td>\n",
       "      <td>NaN</td>\n",
       "    </tr>\n",
       "    <tr>\n",
       "      <th>52</th>\n",
       "      <td>2025-02-14 19:00:00</td>\n",
       "      <td>NaN</td>\n",
       "    </tr>\n",
       "    <tr>\n",
       "      <th>53</th>\n",
       "      <td>2025-02-14 20:00:00</td>\n",
       "      <td>NaN</td>\n",
       "    </tr>\n",
       "    <tr>\n",
       "      <th>54</th>\n",
       "      <td>2025-02-14 21:00:00</td>\n",
       "      <td>NaN</td>\n",
       "    </tr>\n",
       "    <tr>\n",
       "      <th>55</th>\n",
       "      <td>2025-02-14 22:00:00</td>\n",
       "      <td>NaN</td>\n",
       "    </tr>\n",
       "  </tbody>\n",
       "</table>\n",
       "</div>"
      ],
      "text/plain": [
       "                    ds     y\n",
       "0  2025-02-12 09:00:00   9.0\n",
       "1  2025-02-12 10:00:00  20.0\n",
       "2  2025-02-12 11:00:00  21.0\n",
       "3  2025-02-12 12:00:00  27.0\n",
       "4  2025-02-12 13:00:00  35.0\n",
       "5  2025-02-12 14:00:00  42.0\n",
       "6  2025-02-12 15:00:00  47.0\n",
       "7  2025-02-12 16:00:00  52.0\n",
       "8  2025-02-12 17:00:00  45.0\n",
       "9  2025-02-12 18:00:00  45.0\n",
       "10 2025-02-12 19:00:00  36.0\n",
       "11 2025-02-12 20:00:00  29.0\n",
       "12 2025-02-12 21:00:00  28.0\n",
       "13 2025-02-12 22:00:00  23.0\n",
       "14 2025-02-12 23:00:00  26.0\n",
       "15 2025-02-13 00:00:00  25.0\n",
       "16 2025-02-13 01:00:00  23.0\n",
       "17 2025-02-13 02:00:00  20.0\n",
       "18 2025-02-13 03:00:00  19.0\n",
       "19 2025-02-13 04:00:00  19.0\n",
       "20 2025-02-13 05:00:00  16.0\n",
       "21 2025-02-13 06:00:00  13.0\n",
       "22 2025-02-13 07:00:00  11.0\n",
       "23 2025-02-13 08:00:00  12.0\n",
       "24 2025-02-13 09:00:00   7.0\n",
       "25 2025-02-13 10:00:00  11.0\n",
       "26 2025-02-13 11:00:00  13.0\n",
       "27 2025-02-13 12:00:00  19.0\n",
       "28 2025-02-13 13:00:00  27.0\n",
       "29 2025-02-13 14:00:00  31.0\n",
       "30 2025-02-13 15:00:00  22.0\n",
       "31 2025-02-13 16:00:00  33.0\n",
       "32 2025-02-13 17:00:00  23.0\n",
       "33 2025-02-13 18:00:00  24.0\n",
       "34 2025-02-13 19:00:00  18.0\n",
       "35 2025-02-13 20:00:00  10.0\n",
       "36 2025-02-13 21:00:00   8.0\n",
       "37 2025-02-13 22:00:00   7.0\n",
       "38 2025-02-13 23:00:00   3.0\n",
       "39 2025-02-14 00:00:00   2.0\n",
       "40 2025-02-14 01:00:00   4.0\n",
       "41 2025-02-14 02:00:00   3.0\n",
       "42 2025-02-14 09:00:00  12.0\n",
       "43 2025-02-14 10:00:00   5.0\n",
       "44 2025-02-14 11:00:00  11.0\n",
       "45 2025-02-14 12:00:00  13.0\n",
       "46 2025-02-14 13:00:00  23.0\n",
       "47 2025-02-14 14:00:00  21.0\n",
       "48 2025-02-14 15:00:00   NaN\n",
       "49 2025-02-14 16:00:00   NaN\n",
       "50 2025-02-14 17:00:00   NaN\n",
       "51 2025-02-14 18:00:00   NaN\n",
       "52 2025-02-14 19:00:00   NaN\n",
       "53 2025-02-14 20:00:00   NaN\n",
       "54 2025-02-14 21:00:00   NaN\n",
       "55 2025-02-14 22:00:00   NaN"
      ]
     },
     "execution_count": 8,
     "metadata": {},
     "output_type": "execute_result"
    }
   ],
   "source": [
    "df_future"
   ]
  },
  {
   "cell_type": "code",
   "execution_count": 9,
   "metadata": {},
   "outputs": [
    {
     "data": {
      "text/html": [
       "<div>\n",
       "<style scoped>\n",
       "    .dataframe tbody tr th:only-of-type {\n",
       "        vertical-align: middle;\n",
       "    }\n",
       "\n",
       "    .dataframe tbody tr th {\n",
       "        vertical-align: top;\n",
       "    }\n",
       "\n",
       "    .dataframe thead th {\n",
       "        text-align: right;\n",
       "    }\n",
       "</style>\n",
       "<table border=\"1\" class=\"dataframe\">\n",
       "  <thead>\n",
       "    <tr style=\"text-align: right;\">\n",
       "      <th></th>\n",
       "      <th>ds</th>\n",
       "      <th>step0</th>\n",
       "      <th>step0 20.0%</th>\n",
       "      <th>step0 80.0%</th>\n",
       "      <th>step1</th>\n",
       "      <th>step1 20.0%</th>\n",
       "      <th>step1 80.0%</th>\n",
       "      <th>step2</th>\n",
       "      <th>step2 20.0%</th>\n",
       "      <th>step2 80.0%</th>\n",
       "      <th>...</th>\n",
       "      <th>step4 80.0%</th>\n",
       "      <th>step5</th>\n",
       "      <th>step5 20.0%</th>\n",
       "      <th>step5 80.0%</th>\n",
       "      <th>step6</th>\n",
       "      <th>step6 20.0%</th>\n",
       "      <th>step6 80.0%</th>\n",
       "      <th>step7</th>\n",
       "      <th>step7 20.0%</th>\n",
       "      <th>step7 80.0%</th>\n",
       "    </tr>\n",
       "  </thead>\n",
       "  <tbody>\n",
       "    <tr>\n",
       "      <th>0</th>\n",
       "      <td>2025-02-14 09:00:00</td>\n",
       "      <td>10.068016</td>\n",
       "      <td>7.630710</td>\n",
       "      <td>12.632497</td>\n",
       "      <td>13.380965</td>\n",
       "      <td>10.698642</td>\n",
       "      <td>16.102781</td>\n",
       "      <td>16.532358</td>\n",
       "      <td>13.059581</td>\n",
       "      <td>19.845911</td>\n",
       "      <td>...</td>\n",
       "      <td>30.338787</td>\n",
       "      <td>28.455517</td>\n",
       "      <td>24.572857</td>\n",
       "      <td>33.114147</td>\n",
       "      <td>30.958015</td>\n",
       "      <td>26.626717</td>\n",
       "      <td>35.936363</td>\n",
       "      <td>34.713673</td>\n",
       "      <td>30.409586</td>\n",
       "      <td>39.647045</td>\n",
       "    </tr>\n",
       "    <tr>\n",
       "      <th>1</th>\n",
       "      <td>2025-02-14 10:00:00</td>\n",
       "      <td>14.276589</td>\n",
       "      <td>11.649502</td>\n",
       "      <td>17.153530</td>\n",
       "      <td>17.600025</td>\n",
       "      <td>14.600632</td>\n",
       "      <td>21.445171</td>\n",
       "      <td>22.145241</td>\n",
       "      <td>18.831219</td>\n",
       "      <td>26.837095</td>\n",
       "      <td>...</td>\n",
       "      <td>34.190331</td>\n",
       "      <td>31.877697</td>\n",
       "      <td>27.187386</td>\n",
       "      <td>36.719158</td>\n",
       "      <td>35.540882</td>\n",
       "      <td>31.247871</td>\n",
       "      <td>40.535683</td>\n",
       "      <td>30.916977</td>\n",
       "      <td>26.498934</td>\n",
       "      <td>35.498569</td>\n",
       "    </tr>\n",
       "    <tr>\n",
       "      <th>2</th>\n",
       "      <td>2025-02-14 11:00:00</td>\n",
       "      <td>9.800261</td>\n",
       "      <td>6.738299</td>\n",
       "      <td>13.464458</td>\n",
       "      <td>14.874308</td>\n",
       "      <td>11.239412</td>\n",
       "      <td>18.650829</td>\n",
       "      <td>20.370113</td>\n",
       "      <td>15.903036</td>\n",
       "      <td>23.959936</td>\n",
       "      <td>...</td>\n",
       "      <td>31.357994</td>\n",
       "      <td>30.999384</td>\n",
       "      <td>26.994108</td>\n",
       "      <td>35.654846</td>\n",
       "      <td>27.161476</td>\n",
       "      <td>22.899399</td>\n",
       "      <td>31.369753</td>\n",
       "      <td>24.366755</td>\n",
       "      <td>20.121973</td>\n",
       "      <td>28.221754</td>\n",
       "    </tr>\n",
       "    <tr>\n",
       "      <th>3</th>\n",
       "      <td>2025-02-14 12:00:00</td>\n",
       "      <td>15.703953</td>\n",
       "      <td>11.895148</td>\n",
       "      <td>19.571209</td>\n",
       "      <td>21.123354</td>\n",
       "      <td>17.098917</td>\n",
       "      <td>25.214832</td>\n",
       "      <td>24.328043</td>\n",
       "      <td>20.728416</td>\n",
       "      <td>29.111145</td>\n",
       "      <td>...</td>\n",
       "      <td>36.097820</td>\n",
       "      <td>27.715290</td>\n",
       "      <td>23.440998</td>\n",
       "      <td>31.861280</td>\n",
       "      <td>24.877886</td>\n",
       "      <td>20.834827</td>\n",
       "      <td>29.021091</td>\n",
       "      <td>23.002672</td>\n",
       "      <td>19.061331</td>\n",
       "      <td>27.043165</td>\n",
       "    </tr>\n",
       "    <tr>\n",
       "      <th>4</th>\n",
       "      <td>2025-02-14 13:00:00</td>\n",
       "      <td>18.520569</td>\n",
       "      <td>14.399103</td>\n",
       "      <td>22.685526</td>\n",
       "      <td>22.038666</td>\n",
       "      <td>18.147249</td>\n",
       "      <td>26.577795</td>\n",
       "      <td>25.317553</td>\n",
       "      <td>20.924141</td>\n",
       "      <td>29.979158</td>\n",
       "      <td>...</td>\n",
       "      <td>30.575108</td>\n",
       "      <td>23.510010</td>\n",
       "      <td>19.356779</td>\n",
       "      <td>27.544096</td>\n",
       "      <td>21.858780</td>\n",
       "      <td>18.118147</td>\n",
       "      <td>25.772263</td>\n",
       "      <td>20.208477</td>\n",
       "      <td>16.490715</td>\n",
       "      <td>24.590559</td>\n",
       "    </tr>\n",
       "    <tr>\n",
       "      <th>5</th>\n",
       "      <td>2025-02-14 14:00:00</td>\n",
       "      <td>25.472080</td>\n",
       "      <td>21.456884</td>\n",
       "      <td>29.952667</td>\n",
       "      <td>28.568628</td>\n",
       "      <td>24.171028</td>\n",
       "      <td>32.978916</td>\n",
       "      <td>32.789524</td>\n",
       "      <td>28.682045</td>\n",
       "      <td>37.231213</td>\n",
       "      <td>...</td>\n",
       "      <td>29.822470</td>\n",
       "      <td>24.031328</td>\n",
       "      <td>20.056955</td>\n",
       "      <td>28.239107</td>\n",
       "      <td>22.092533</td>\n",
       "      <td>17.728489</td>\n",
       "      <td>26.654118</td>\n",
       "      <td>21.123177</td>\n",
       "      <td>16.734415</td>\n",
       "      <td>25.098757</td>\n",
       "    </tr>\n",
       "    <tr>\n",
       "      <th>6</th>\n",
       "      <td>2025-02-14 15:00:00</td>\n",
       "      <td>24.551563</td>\n",
       "      <td>20.214811</td>\n",
       "      <td>29.225599</td>\n",
       "      <td>29.126873</td>\n",
       "      <td>25.131115</td>\n",
       "      <td>33.868992</td>\n",
       "      <td>25.544039</td>\n",
       "      <td>21.185181</td>\n",
       "      <td>30.025583</td>\n",
       "      <td>...</td>\n",
       "      <td>25.600353</td>\n",
       "      <td>19.864237</td>\n",
       "      <td>15.646545</td>\n",
       "      <td>24.082916</td>\n",
       "      <td>19.239283</td>\n",
       "      <td>15.477976</td>\n",
       "      <td>23.505707</td>\n",
       "      <td>16.765371</td>\n",
       "      <td>12.938387</td>\n",
       "      <td>21.275837</td>\n",
       "    </tr>\n",
       "  </tbody>\n",
       "</table>\n",
       "<p>7 rows × 25 columns</p>\n",
       "</div>"
      ],
      "text/plain": [
       "                   ds      step0  step0 20.0%  step0 80.0%      step1  \\\n",
       "0 2025-02-14 09:00:00  10.068016     7.630710    12.632497  13.380965   \n",
       "1 2025-02-14 10:00:00  14.276589    11.649502    17.153530  17.600025   \n",
       "2 2025-02-14 11:00:00   9.800261     6.738299    13.464458  14.874308   \n",
       "3 2025-02-14 12:00:00  15.703953    11.895148    19.571209  21.123354   \n",
       "4 2025-02-14 13:00:00  18.520569    14.399103    22.685526  22.038666   \n",
       "5 2025-02-14 14:00:00  25.472080    21.456884    29.952667  28.568628   \n",
       "6 2025-02-14 15:00:00  24.551563    20.214811    29.225599  29.126873   \n",
       "\n",
       "   step1 20.0%  step1 80.0%      step2  step2 20.0%  step2 80.0%  ...  \\\n",
       "0    10.698642    16.102781  16.532358    13.059581    19.845911  ...   \n",
       "1    14.600632    21.445171  22.145241    18.831219    26.837095  ...   \n",
       "2    11.239412    18.650829  20.370113    15.903036    23.959936  ...   \n",
       "3    17.098917    25.214832  24.328043    20.728416    29.111145  ...   \n",
       "4    18.147249    26.577795  25.317553    20.924141    29.979158  ...   \n",
       "5    24.171028    32.978916  32.789524    28.682045    37.231213  ...   \n",
       "6    25.131115    33.868992  25.544039    21.185181    30.025583  ...   \n",
       "\n",
       "   step4 80.0%      step5  step5 20.0%  step5 80.0%      step6  step6 20.0%  \\\n",
       "0    30.338787  28.455517    24.572857    33.114147  30.958015    26.626717   \n",
       "1    34.190331  31.877697    27.187386    36.719158  35.540882    31.247871   \n",
       "2    31.357994  30.999384    26.994108    35.654846  27.161476    22.899399   \n",
       "3    36.097820  27.715290    23.440998    31.861280  24.877886    20.834827   \n",
       "4    30.575108  23.510010    19.356779    27.544096  21.858780    18.118147   \n",
       "5    29.822470  24.031328    20.056955    28.239107  22.092533    17.728489   \n",
       "6    25.600353  19.864237    15.646545    24.082916  19.239283    15.477976   \n",
       "\n",
       "   step6 80.0%      step7  step7 20.0%  step7 80.0%  \n",
       "0    35.936363  34.713673    30.409586    39.647045  \n",
       "1    40.535683  30.916977    26.498934    35.498569  \n",
       "2    31.369753  24.366755    20.121973    28.221754  \n",
       "3    29.021091  23.002672    19.061331    27.043165  \n",
       "4    25.772263  20.208477    16.490715    24.590559  \n",
       "5    26.654118  21.123177    16.734415    25.098757  \n",
       "6    23.505707  16.765371    12.938387    21.275837  \n",
       "\n",
       "[7 rows x 25 columns]"
      ]
     },
     "execution_count": 9,
     "metadata": {},
     "output_type": "execute_result"
    }
   ],
   "source": [
    "forecast"
   ]
  },
  {
   "cell_type": "code",
   "execution_count": null,
   "metadata": {},
   "outputs": [],
   "source": []
  }
 ],
 "metadata": {
  "kernelspec": {
   "display_name": "ed-flow-2023",
   "language": "python",
   "name": "python3"
  },
  "language_info": {
   "codemirror_mode": {
    "name": "ipython",
    "version": 3
   },
   "file_extension": ".py",
   "mimetype": "text/x-python",
   "name": "python",
   "nbconvert_exporter": "python",
   "pygments_lexer": "ipython3",
   "version": "3.10.13"
  }
 },
 "nbformat": 4,
 "nbformat_minor": 2
}
